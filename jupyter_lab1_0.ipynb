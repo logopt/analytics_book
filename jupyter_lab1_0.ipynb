{
  "nbformat": 4,
  "nbformat_minor": 0,
  "metadata": {
    "colab": {
      "name": "jupyter_lab1_0.ipynb",
      "provenance": [],
      "collapsed_sections": [],
      "toc_visible": true,
      "include_colab_link": true
    },
    "kernelspec": {
      "display_name": "Python 3",
      "language": "python",
      "name": "python3"
    },
    "language_info": {
      "codemirror_mode": {
        "name": "ipython",
        "version": 3
      },
      "file_extension": ".py",
      "mimetype": "text/x-python",
      "name": "python",
      "nbconvert_exporter": "python",
      "pygments_lexer": "ipython3",
      "version": "3.7.3"
    }
  },
  "cells": [
    {
      "cell_type": "markdown",
      "metadata": {
        "id": "view-in-github",
        "colab_type": "text"
      },
      "source": [
        "<a href=\"https://colab.research.google.com/github/mickeykubo/analytics_book/blob/master/jupyter_lab1_0.ipynb\" target=\"_parent\"><img src=\"https://colab.research.google.com/assets/colab-badge.svg\" alt=\"Open In Colab\"/></a>"
      ]
    },
    {
      "cell_type": "markdown",
      "metadata": {
        "colab_type": "text",
        "id": "rluUao6d5LLg"
      },
      "source": [
        "# Jupyter Lab 入門\n",
        "\n",
        "### ファイル操作\n",
        "\n",
        "* Lancherから作成\n",
        "\n",
        "* 左上にあるメニューから， **File => New => Notebook (Console, Terminal, Text)** を選択すると新しいノートブック(コンソール，ターミナル，テキスト）を作成\n",
        "\n",
        "* 保存は上部メニューアイコンのディスクを押す．"
      ]
    },
    {
      "cell_type": "markdown",
      "metadata": {
        "colab_type": "text",
        "id": "_O0eIfvc5LLi"
      },
      "source": [
        "### 問題\n",
        "\n",
        "新しいノートを起動させてから，保存してみよう．"
      ]
    },
    {
      "cell_type": "code",
      "metadata": {
        "colab_type": "code",
        "id": "7WcUo8OX5LLl",
        "colab": {}
      },
      "source": [
        ""
      ],
      "execution_count": 0,
      "outputs": []
    },
    {
      "cell_type": "markdown",
      "metadata": {
        "colab_type": "text",
        "id": "An-nf6hb5LLr"
      },
      "source": [
        "## ノートブックの利用法\n",
        "\n",
        "1. 入力画面(セル）\n",
        " - **Shift + Enter**（もしくは上部メニューアイコンの三角のボタンを押す）: 実行してから，下にセルを追加\n",
        "2. 上部メニューアイコン\n",
        " - ディスク：保存\n",
        " - +：セルを追加 (右端のCode，Markdownで，プログラムとテキスト-MarkDown言語で記述するテキスト書き込み-を変更可能）\n",
        " - セル移動：ドラッグ&ドロップで移動可能\n",
        "3.  上部メニュー　\n",
        " - File：ファイル関係（新しいノートを開く、保存など）\n",
        " - Edit：セルの切り取り、削除、検索、置換など\n",
        " - View：ファイル一覧の表示・非表示（左側のフォルダボタンを押しても良い）や文番号の有無などのセッティング\n",
        " - Run：セルの実行、中断など\n",
        " - Kernel：カーネルの停止，再起動など\n",
        " - Tabs: 複数タブの間の切り替え\n",
        " - Settings: 設定の変更\n",
        " - Help：ヘルプ\n",
        "4. セルの左にある**[ ]**\n",
        " - セルの番号；$[*]$は実行中を表すので，このときに何度も**Shift + Enter**をして再実行しない！**(重要！）**\n",
        "5. 左側メニューアイコン\n",
        "　- ファイル\n",
        "  - 実行中カーネル（演習終了時には、ここで全てのカーネルをシャットダウンせよ！\n",
        "  - コマンドパレット\n",
        "  - 設定\n",
        "  - 開いているタブ\n",
        "6. セルは、左にある棒をクリックすると折りたためる。また、マウスで他の場所に移動できる。\n",
        "  \n",
        "### 問題\n",
        "以下のセルを実行せよ。また折りたたみ、移動を試してみよ。"
      ]
    },
    {
      "cell_type": "code",
      "metadata": {
        "colab_type": "code",
        "id": "MRD6s1S-5LLt",
        "outputId": "fca63e63-b676-4dfa-9b99-d9d75adba31f",
        "colab": {
          "base_uri": "https://localhost:8080/",
          "height": 34
        }
      },
      "source": [
        "# Shiftキーを押しながらEnterキーを押して実行\n",
        "a = 2\n",
        "b = 100\n",
        "c = a**b\n",
        "c"
      ],
      "execution_count": 0,
      "outputs": [
        {
          "output_type": "execute_result",
          "data": {
            "text/plain": [
              "1267650600228229401496703205376"
            ]
          },
          "metadata": {
            "tags": []
          },
          "execution_count": 1
        }
      ]
    },
    {
      "cell_type": "markdown",
      "metadata": {
        "colab_type": "text",
        "id": "CpcHyHu05LL0"
      },
      "source": [
        "## ヒント\n",
        "\n",
        "1.  **pr**と押してからTabキーを押す（Google Colabでは途中まで書くと）と候補が出てくるので，**print**を選択してEnterを押す．（Shift+Tabキーで説明が表示される．）\n",
        "2. **print?** と?を後ろに入れて，Shift+Enterで説明が表示される．（??と２つうつとソースが表示される．）\n",
        "4.  !{コマンド}でシェルコマンド（linuxのコマンド）がうてる．たとえば，何かをインストールしたいときには，「!pip install 何か」とすれば良い．\n",
        "5.  %{マジックコマンド} を使う場合もある．たとえば，%cd でディレクトを変更できる．\n"
      ]
    },
    {
      "cell_type": "markdown",
      "metadata": {
        "colab_type": "text",
        "id": "uV8QvDWZ5LL2"
      },
      "source": [
        "### 問題\n",
        "\n",
        "上の操作で候補を出してから，printと打ち込んで，'Hello'を表示してみよう．またprint関数の説明を表示させてみよう．\n",
        "\n",
        "```python\n",
        "print('Hello')\n",
        "```"
      ]
    },
    {
      "cell_type": "code",
      "metadata": {
        "colab_type": "code",
        "id": "01YCDlc-_9By",
        "colab": {}
      },
      "source": [
        ""
      ],
      "execution_count": 0,
      "outputs": []
    },
    {
      "cell_type": "markdown",
      "metadata": {
        "colab_type": "text",
        "id": "VJCFM_F05LL3"
      },
      "source": [
        "## Markdown言語\n",
        "\n",
        "上部でセルの種類を切り替えて**Markdown**にしてみよう．\n",
        "（Google Colabだとテキストセルを追加する．）\n",
        "\n",
        "するとコードではなく，文章が書けるようになる．\n",
        "\n",
        "実際には，[Markdown言語](http://qiita.com/Blueman81/items/72ca43681d16d44e21ad)という簡易言語で記述でき，Shift$+$Enterで表示され，ダブルクリックで再びMarkdown言語の入力ができるようになる．\n",
        "\n",
        "言語の詳細は上のリンク先を参照．\n",
        "\n",
        "LaTeXという論文を書くための言語の書式で，ドルマークで挟むことによって，数式も記述できる．\n",
        "\n",
        "たとえば，\n",
        "```\n",
        "$$ x^2 - 6x + 1 = 0 $$\n",
        "```\n",
        "と書くと，\n",
        "$$x^2 - 6x + 1 = 0$$\n",
        "と表示される．\n",
        "\n",
        "LaTeXについては，[こちら](http://www.latex-cmd.com/equation/equation.html)を参照．\n",
        "\n",
        "\n",
        "### 問題\n",
        "\n",
        "下の例をダブルクリックしてMarkdown言語を表示させて読んでみよう．"
      ]
    },
    {
      "cell_type": "markdown",
      "metadata": {
        "colab_type": "text",
        "id": "cI1C8faN5LL5"
      },
      "source": [
        "## Markdown言語のサンプル(見出しは\\#の個数で) [](見出し1，行の途中でもOK)\n",
        "文章は普通に書けばよい． 行頭にタブやスペースは入れない．\n",
        "\n",
        "パラグラフを変える場合は１行あける． 強制的に改行  \n",
        "する場合は行末にスペースを2 つ入れる． *斜体で強調*，**太文字で強調**．\n",
        "### 箇条書き (見出し1)\n",
        "* その1\n",
        "    * その1.1 入れ子は4 つのスペースでインデント\n",
        "* その2\n",
        "\n",
        "### 数式\n",
        "インライン数式: $f(x_1 , x_2 , \\ldots , x_n) =\n",
        "\\sum_{i=1}^{n-1} \\{ 100(x_i^2 - x_{i+1})^2 + (1-x_i)^2 \\}$\n",
        "\n",
        "ディスプレイ数式: $$f(x_1, x_2, \\ldots, x_n) = \n",
        "\\sum_{i=1}^{n-1} \\{ 100(x_i^2 - x_{i+1})^2 + (1-x_i)^2 \\}$$\n",
        "### 作表\n",
        "|左寄せ|右寄せ|中央|\n",
        "|:-----------|------------:|:------------:|\n",
        "|ここに|何かを|書く|\n",
        "|文字位置が|自動的に|定まる|\n",
        "\n",
        "### インデント\n",
        "    import numpy as np # 行頭にスペース4 つ入れるとインデントされる\n",
        "    # 文章中のコードなどに使える．\n",
        "### リンク\n",
        "リンクはこのように[ipython.org](http://ipython.org /)\n",
        "### 水平線\n",
        "***\n",
        "### 箇条書き( 番号付)\n",
        "1. その１\n",
        "2. その２"
      ]
    },
    {
      "cell_type": "markdown",
      "metadata": {
        "colab_type": "text",
        "id": "wLuMxcaRsILQ"
      },
      "source": [
        "# ウィジェットによる対話\n",
        "\n",
        "**ipywidgets**パッケージの**interact**を使うと，ユーザーとの対話が簡単に追加できる．\n",
        "\n",
        "```python\n",
        "interact(関数, 関数の引数名= 入力値 )\n",
        "```\n",
        "\n",
        "たとえば，引数 $x$ を3倍にする関数 $f$ を準備し，関数の入力値に0から10までの整数をスライダーで入力できるようにするには，入力値に，最小値，最大値，刻み幅のタプル(min,max,step)を与えれば良い．\n"
      ]
    },
    {
      "cell_type": "code",
      "metadata": {
        "colab_type": "code",
        "id": "uqfHz84F5LL5",
        "outputId": "b27914ff-2263-426b-d619-0d1a767d9664",
        "colab": {
          "base_uri": "https://localhost:8080/",
          "height": 17
        }
      },
      "source": [
        "import ipywidgets\n",
        "def f(x):\n",
        "  return x*3\n",
        "ipywidgets.interact(f, x=(0,10,1) );"
      ],
      "execution_count": 0,
      "outputs": [
        {
          "output_type": "display_data",
          "data": {
            "text/plain": [
              "15"
            ]
          },
          "metadata": {
            "tags": []
          }
        }
      ]
    },
    {
      "cell_type": "markdown",
      "metadata": {
        "colab_type": "text",
        "id": "bjAaQf70tLqj"
      },
      "source": [
        "## 練習問題\n",
        "\n",
        "1.  入力値を $0.1$ から $100.0$ まで $5.0$ の刻み幅で変更するように変えてみよ．\n",
        "2.  入力値を文字列 (たとえば \"Hello\") に変えてみよ．入力値を変更すると何が起きるか？\n",
        "1. 入力値を論理値**True**に変えてみよ．入力値を変更すると何が起きるか？\n",
        "1. 入力値を辞書**{\"one\":1, \"two\":2, \"Kitty\":\"3 apples\"}**に変えてみよ．入力値を変更すると何が起きるか？"
      ]
    },
    {
      "cell_type": "code",
      "metadata": {
        "id": "dn0YXSZKBDbq",
        "colab_type": "code",
        "colab": {}
      },
      "source": [
        ""
      ],
      "execution_count": 0,
      "outputs": []
    }
  ]
}