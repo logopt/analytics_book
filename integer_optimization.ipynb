{
  "nbformat": 4,
  "nbformat_minor": 0,
  "metadata": {
    "colab": {
      "name": "integer_optimization.ipynb",
      "version": "0.3.2",
      "provenance": [],
      "collapsed_sections": [],
      "include_colab_link": true
    },
    "kernelspec": {
      "display_name": "Python 3",
      "language": "python",
      "name": "python3"
    }
  },
  "cells": [
    {
      "cell_type": "markdown",
      "metadata": {
        "id": "view-in-github",
        "colab_type": "text"
      },
      "source": [
        "<a href=\"https://colab.research.google.com/github/mickeykubo/analytics_book/blob/master/integer_optimization.ipynb\" target=\"_parent\"><img src=\"https://colab.research.google.com/assets/colab-badge.svg\" alt=\"Open In Colab\"/></a>"
      ]
    },
    {
      "metadata": {
        "id": "lPfQamXV1m3R",
        "colab_type": "text"
      },
      "cell_type": "markdown",
      "source": [
        "# Python言語によるビジネスアナリティクス\n",
        "\n",
        "## 実務家のための最適化，統計分析，機械学習（近代科学社）\n",
        "\n",
        "## PuLPとGurobi/Pythonによる混合整数最適化問題\n",
        "\n",
        "* 簡単な例題\n",
        "* 多制約ナップサック問題\n"
      ]
    },
    {
      "metadata": {
        "id": "x_ONuN371z8Z",
        "colab_type": "code",
        "colab": {
          "base_uri": "https://localhost:8080/",
          "height": 70
        },
        "outputId": "3d4beca5-87f5-436a-f94f-52e4a9563b16"
      },
      "cell_type": "code",
      "source": [
        "!pip install mypulp"
      ],
      "execution_count": 1,
      "outputs": [
        {
          "output_type": "stream",
          "text": [
            "Requirement already satisfied: mypulp in /usr/local/lib/python3.6/dist-packages (0.0.9)\n",
            "Requirement already satisfied: pulp in /usr/local/lib/python3.6/dist-packages (from mypulp) (1.6.9)\n",
            "Requirement already satisfied: pyparsing>=2.0.1 in /usr/local/lib/python3.6/dist-packages (from pulp->mypulp) (2.3.0)\n"
          ],
          "name": "stdout"
        }
      ]
    },
    {
      "metadata": {
        "id": "DBUsmC-R1m3T",
        "colab_type": "text"
      },
      "cell_type": "markdown",
      "source": [
        "## 例題 パズル（整数最適化）\n",
        "\n",
        "鶴と亀と蛸が何匹かずついる\n",
        "頭の数を足すと $32$，足の数を足すと $80$ になる．\n",
        "亀と蛸の数の和を一番小さくするような匹数を求めよ．\n",
        "\n",
        "\\begin{array}{l c c }\n",
        "  \\mbox{minimize}    &  y + z          \\\\\n",
        "  \\mbox{subject to}  & x + y + z  = 32 \\\\\n",
        "                     & 2x +4y +8z = 80 \\\\\n",
        "               & x,y,z  \\mbox{ は非負の整数} \n",
        "\\end{array}\n",
        "\n"
      ]
    },
    {
      "metadata": {
        "id": "zauAcKtv1m3V",
        "colab_type": "code",
        "colab": {
          "base_uri": "https://localhost:8080/",
          "height": 52
        },
        "outputId": "523ac1d3-a68a-4c50-bcc7-e189f45fa929"
      },
      "cell_type": "code",
      "source": [
        "#from gurobipy import *\n",
        "from mypulp import *\n",
        "model = Model(\"puzzle\")\n",
        "x = model.addVar(vtype=\"I\", name=\"x\")\n",
        "y = model.addVar(vtype=\"I\", name=\"y\")\n",
        "z = model.addVar(vtype=\"I\", name=\"z\")\n",
        "model.update()\n",
        "\n",
        "model.addConstr(x + y + z == 32, \"Heads\")\n",
        "model.addConstr(2*x + 4*y + 8*z == 80, \"Legs\")\n",
        "\n",
        "model.setObjective(y + z, GRB.MINIMIZE)\n",
        "\n",
        "model.optimize()\n",
        "\n",
        "print(\"Opt. Val.=\",model.ObjVal)\n",
        "print(\"(x,y,z)=\",(x.X,y.X,z.X))"
      ],
      "execution_count": 2,
      "outputs": [
        {
          "output_type": "stream",
          "text": [
            "Opt. Val.= 4.0\n",
            "(x,y,z)= (28.0, 2.0, 2.0)\n"
          ],
          "name": "stdout"
        }
      ]
    },
    {
      "metadata": {
        "id": "WRjKUmnp1m3f",
        "colab_type": "text"
      },
      "cell_type": "markdown",
      "source": [
        "## 例題 多制約ナップサック問題（0-1整数最適化）\n",
        "\n",
        "* $n$ 個のアイテム，$m$本の制約\n",
        "* 各々のアイテム $j=1,2,\\ldots,n$ の価値 $v_j ~(\\geq 0)$，\n",
        "* アイテム $j$ の制約 $i=1,2,\\ldots,m$ に対する重み $a_{ij}~(\\geq 0)$\n",
        "* 制約 $i$ に対する制約の上限値 $b_i~(\\geq 0)$ \n",
        "\n"
      ]
    },
    {
      "metadata": {
        "id": "wfcZz2Q31m3g",
        "colab_type": "text"
      },
      "cell_type": "markdown",
      "source": [
        "* アイテムの番号の集合 $I =\\{1,2,\\ldots,n \\}$\n",
        "* 制約の番号の集合 $J =\\{1,2,\\ldots,m\\}$ \n",
        "* アイテム $j$ をナップサックに詰めるとき $1$，\n",
        "それ以外のとき $0$ になる $0$-$1$ 変数 $x_j$\n",
        "\n",
        "定式化\n",
        "\n",
        "\\begin{array}{l l l}\n",
        "   \\mbox{maximize}     & \\displaystyle\\sum_{j \\in J} v_j x_j          &  \\\\\n",
        "   \\mbox{subject to}  &  \\displaystyle\\sum_{j \\in J} a_{ij} x_j \\leq b_i & \\forall i \\in I    \\\\\n",
        "                       & x_j \\in \\{0,1\\} &     \\forall j \\in J\n",
        "\\end{array}"
      ]
    },
    {
      "metadata": {
        "id": "6Bs9aS9t1m3i",
        "colab_type": "code",
        "colab": {
          "base_uri": "https://localhost:8080/",
          "height": 70
        },
        "outputId": "813f1b07-be0a-4d27-df3a-63b6db17fd9d"
      },
      "cell_type": "code",
      "source": [
        "#from gurobipy import *\n",
        "from mypulp import *\n",
        "\n",
        "J,v = multidict({1:16, 2:19, 3:23, 4:28})\n",
        "a = {(1,1):2,    (1,2):3,    (1,3):4,    (1,4):5,\n",
        "     (2,1):3000, (2,2):3500, (2,3):5100, (2,4):7200,\n",
        "    }\n",
        "I,b = multidict({1:7, 2:10000})\n",
        "    \n",
        "model = Model('mkp')\n",
        "x = {}\n",
        "for j in J:\n",
        "    x[j] = model.addVar(vtype='B', name='x({0})'.format(j))\n",
        "model.update()\n",
        "     \n",
        "for i in I:\n",
        "    model.addConstr(quicksum(a[i,j]*x[j] for j in J) <= b[i], 'Capacity({0})'.format(i))\n",
        "\n",
        "model.setObjective(quicksum(v[j]*x[j] for j in J), GRB.MAXIMIZE)\n",
        "\n",
        "model.optimize()\n",
        "print('Optimal value=',model.ObjVal)\n",
        "\n",
        "EPS = 1.e-6\n",
        "for v in model.getVars():\n",
        "    if v.X > EPS:\n",
        "        print( v.VarName,v.X)"
      ],
      "execution_count": 3,
      "outputs": [
        {
          "output_type": "stream",
          "text": [
            "Optimal value= 42.0\n",
            "x(2) 1.0\n",
            "x(3) 1.0\n"
          ],
          "name": "stdout"
        }
      ]
    },
    {
      "metadata": {
        "id": "nJl2OLlA15WR",
        "colab_type": "code",
        "colab": {}
      },
      "cell_type": "code",
      "source": [
        ""
      ],
      "execution_count": 0,
      "outputs": []
    }
  ]
}