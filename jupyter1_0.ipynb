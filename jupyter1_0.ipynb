{
  "nbformat": 4,
  "nbformat_minor": 0,
  "metadata": {
    "colab": {
      "name": "jupyter1.0.ipynb",
      "provenance": [],
      "collapsed_sections": [],
      "toc_visible": true,
      "include_colab_link": true
    },
    "kernelspec": {
      "display_name": "Python [default]",
      "language": "python",
      "name": "python3"
    }
  },
  "cells": [
    {
      "cell_type": "markdown",
      "metadata": {
        "id": "view-in-github",
        "colab_type": "text"
      },
      "source": [
        "<a href=\"https://colab.research.google.com/github/mickeykubo/analytics_book/blob/master/jupyter1_0.ipynb\" target=\"_parent\"><img src=\"https://colab.research.google.com/assets/colab-badge.svg\" alt=\"Open In Colab\"/></a>"
      ]
    },
    {
      "cell_type": "markdown",
      "metadata": {
        "id": "rluUao6d5LLg",
        "colab_type": "text"
      },
      "source": [
        "# Jupyter入門\n",
        "\n",
        "### ファイル操作\n",
        "\n",
        "1. Files画面：左上にある**ファイル**⇒**Python3の新しいノートブック**を選択すると新しいノートブックを作成\n",
        "2. ファイルの**保存**で，Google Cloudに保存\n",
        "3. ファイルの**GitHubにコピーを保存**でGitHubを登録してあれば保存\n"
      ]
    },
    {
      "cell_type": "markdown",
      "metadata": {
        "id": "_O0eIfvc5LLi",
        "colab_type": "text"
      },
      "source": [
        "### 問題\n",
        "\n",
        "新しいノートを起動させてから，保存してみよう．"
      ]
    },
    {
      "cell_type": "code",
      "metadata": {
        "id": "7WcUo8OX5LLl",
        "colab_type": "code",
        "colab": {}
      },
      "source": [
        ""
      ],
      "execution_count": 0,
      "outputs": []
    },
    {
      "cell_type": "markdown",
      "metadata": {
        "id": "An-nf6hb5LLr",
        "colab_type": "text"
      },
      "source": [
        "## ノートブックの利用法\n",
        "\n",
        "1. 入力画面(セル）\n",
        " - **Shift + Enter**（もしくは三角のボタンを押す）: 実行してから，下にセルを追加\n",
        "2. 上部メニューアイコン(左から順に）\n",
        " - +コード：コード入力のセルを追加\n",
        " - ＋テキスト：MarkDown言語で記述するテキスト書き込みセルを追加\n",
        " - セルの上部への移動（Google Colabではセルの上部に）\n",
        " - セルの下部への移動（Google Colabではセルの上部に）\n",
        " \n",
        "3.  上部メニュー　\n",
        " - ファイル：ファイル関係（新しいノートを開く、保存など）\n",
        " - 編集：セルの切り取り、削除、検索、置換など\n",
        " - 表示：目次（左側の＞を押しても良い）やセッションの折りたたみなど\n",
        " - 挿入：セルの挿入やスクラッチコードセルの表示など\n",
        " - ランタイム：全てのセルの実行、中断、再起動やランタイムの種類をGPU,TPUに変更\n",
        " - ツール：コマンドパレットの表示やショートカット一覧の表示\n",
        " - ヘルプ\n",
        "4. セルの左にある**[ ]**\n",
        " - セルの番号；$[*]$は実行中を表すので，このときに何度も**Shift + Enter**をして再実行しない！**(重要！）**\n",
        " \n",
        "### 問題\n",
        "以下のセルを実行し，コピーして貼り付けて，上に移動させてから，下に移動させ元に戻せ．"
      ]
    },
    {
      "cell_type": "code",
      "metadata": {
        "id": "MRD6s1S-5LLt",
        "colab_type": "code",
        "outputId": "fca63e63-b676-4dfa-9b99-d9d75adba31f",
        "colab": {
          "base_uri": "https://localhost:8080/",
          "height": 34
        }
      },
      "source": [
        "# Shiftキーを押しながらEnterキーを押して実行\n",
        "a = 2\n",
        "b = 100\n",
        "c = a**b\n",
        "c"
      ],
      "execution_count": 1,
      "outputs": [
        {
          "output_type": "execute_result",
          "data": {
            "text/plain": [
              "1267650600228229401496703205376"
            ]
          },
          "metadata": {
            "tags": []
          },
          "execution_count": 1
        }
      ]
    },
    {
      "cell_type": "markdown",
      "metadata": {
        "id": "uV8QvDWZ5LL2",
        "colab_type": "text"
      },
      "source": [
        "### 問題\n",
        "\n",
        "上の操作でヒントを出してから，以下のように打ち込んで，'Hello'を表示してみよう\n",
        "\n",
        "```python\n",
        "print('Hello')\n",
        "```"
      ]
    },
    {
      "cell_type": "code",
      "metadata": {
        "id": "01YCDlc-_9By",
        "colab_type": "code",
        "colab": {}
      },
      "source": [
        ""
      ],
      "execution_count": 0,
      "outputs": []
    },
    {
      "cell_type": "markdown",
      "metadata": {
        "id": "CpcHyHu05LL0",
        "colab_type": "text"
      },
      "source": [
        "## ヒント\n",
        "\n",
        "1.  **pr **と押してからTabキーを押す（Google Colabでは途中まで書くと）と候補が出てくるので，**print**を選択してEnterを押す．\n",
        "2.  print? と?を後ろに入れて，Shift+Enterで説明が表示される．\n",
        "3.  !{コマンド}でシェルコマンド（linuxのコマンド）がうてる．たとえば，何かをインストールしたいときには，「!pip install 何か」とすれば良い．\n",
        "4.  %{マジックコマンド} を使う場合もある．たとえば，%cd でディレクトを変更できる．\n",
        "\n",
        "\n",
        "## 注意\n",
        "- アイドル状態が90分続くと停止\n",
        "- 連続使用は最大12時間\n",
        "- Notebookサイズは最大20MB"
      ]
    },
    {
      "cell_type": "markdown",
      "metadata": {
        "id": "VJCFM_F05LL3",
        "colab_type": "text"
      },
      "source": [
        "## Markdown言語\n",
        "\n",
        "上部でセルの種類を切り替えて**Markdown**にしてみよう．\n",
        "（Google Colabだとテキストセルを追加する．）\n",
        "\n",
        "するとコードではなく，文章が書けるようになる．\n",
        "\n",
        "実際には，[Markdown言語](http://qiita.com/Blueman81/items/72ca43681d16d44e21ad)という簡易言語で記述でき，Shift$+$Enterで表示され，ダブルクリックで再びMarkdown言語の入力ができるようになる．\n",
        "\n",
        "言語の詳細は上のリンク先を参照．\n",
        "\n",
        "LaTeXという論文を書くための言語の書式で，ドルマークで挟むことによって，数式も記述できる．\n",
        "\n",
        "たとえば，\n",
        "```\n",
        "$$ x^2 - 6x + 1 = 0 $$\n",
        "```\n",
        "と書くと，\n",
        "$$x^2 - 6x + 1 = 0$$\n",
        "と表示される．\n",
        "\n",
        "LaTeXについては，[こちら](http://www.latex-cmd.com/equation/equation.html)を参照．\n",
        "\n",
        "\n",
        "### 問題\n",
        "\n",
        "下の例をダブルクリックしてMarkdown言語を表示させて読んでみよう．"
      ]
    },
    {
      "cell_type": "markdown",
      "metadata": {
        "id": "cI1C8faN5LL5",
        "colab_type": "text"
      },
      "source": [
        "# Markdown言語のサンプル(見出しは\\#の個数で) [](見出し1，行の途中でもOK)\n",
        "文章は普通に書けばよい． 行頭にタブやスペースは入れない．\n",
        "\n",
        "パラグラフを変える場合は１行あける． 強制的に改行  \n",
        "する場合は行末にスペースを2 つ入れる． *斜体で強調*，**太文字で強調**．\n",
        "### 箇条書き (見出し1)\n",
        "* その1\n",
        "    * その1.1 入れ子は4 つのスペースでインデント\n",
        "* その2\n",
        "\n",
        "### 数式\n",
        "インライン数式: $f(x_1 , x_2 , \\ldots , x_n) =\n",
        "\\sum_{i=1}^{n-1} \\{ 100(x_i^2 - x_{i+1})^2 + (1-x_i)^2 \\}$\n",
        "\n",
        "ディスプレイ数式: $$f(x_1, x_2, \\ldots, x_n) = \n",
        "\\sum_{i=1}^{n-1} \\{ 100(x_i^2 - x_{i+1})^2 + (1-x_i)^2 \\}$$\n",
        "### 作表\n",
        "|左寄せ|右寄せ|中央|\n",
        "|:-----------|------------:|:------------:|\n",
        "|ここに|何かを|書く|\n",
        "|文字位置が|自動的に|定まる|\n",
        "### インデント\n",
        "    import numpy as np # 行頭にスペース4 つ入れるとインデントされる\n",
        "    # 文章中のコードなどに使える．\n",
        "### リンク\n",
        "リンクはこのように[ipython.org](http://ipython.org /)\n",
        "### 水平線\n",
        "***\n",
        "### 箇条書き( 番号付)\n",
        "1. その１\n",
        "2. その２"
      ]
    },
    {
      "cell_type": "markdown",
      "metadata": {
        "id": "wLuMxcaRsILQ",
        "colab_type": "text"
      },
      "source": [
        "# ウィジェットによる対話\n",
        "\n",
        "**ipywidgets**パッケージの**interact**を使うと，ユーザーとの対話が簡単に追加できる．\n",
        "\n",
        "```python\n",
        "interact(関数, 関数の引数名= 入力値 )\n",
        "```\n",
        "\n",
        "たとえば，引数 $x$ を3倍にする関数 $f$ を準備し，関数の入力値に0から10までの整数をスライダーで入力できるようにするには，入力値に，最小値，最大値，刻み幅のタプル(min,max,step)を与えれば良い．\n"
      ]
    },
    {
      "cell_type": "code",
      "metadata": {
        "id": "uqfHz84F5LL5",
        "colab_type": "code",
        "colab": {
          "base_uri": "https://localhost:8080/",
          "height": 17
        },
        "outputId": "b27914ff-2263-426b-d619-0d1a767d9664"
      },
      "source": [
        "import ipywidgets\n",
        "def f(x):\n",
        "  return x*3\n",
        "ipywidgets.interact(f, x=(0,10,1) );"
      ],
      "execution_count": 12,
      "outputs": [
        {
          "output_type": "display_data",
          "data": {
            "application/vnd.jupyter.widget-view+json": {
              "model_id": "5b053efb668242d5bb636fa5a9e08ab2",
              "version_minor": 0,
              "version_major": 2
            },
            "text/plain": [
              "interactive(children=(IntSlider(value=5, description='x', max=10), Output()), _dom_classes=('widget-interact',…"
            ]
          },
          "metadata": {
            "tags": []
          }
        }
      ]
    },
    {
      "cell_type": "markdown",
      "metadata": {
        "id": "bjAaQf70tLqj",
        "colab_type": "text"
      },
      "source": [
        "## 練習問題\n",
        "\n",
        "1.  入力値を $0.1$ から $100.0$ まで $5.0$ の刻み幅で変更するように変えてみよ．\n",
        "2.  入力値を文字列 (たとえば \"Hello\") に変えてみよ．入力値を変更すると何が起きるか？\n",
        "1. 入力値を論理値**True**に変えてみよ．入力値を変更すると何が起きるか？\n",
        "1. 入力値を辞書**{\"one\":1, \"two\":2, \"Kitty\":\"3 apples\"}**に変えてみよ．入力値を変更すると何が起きるか？"
      ]
    },
    {
      "cell_type": "code",
      "metadata": {
        "id": "z0k8ZfavumHa",
        "colab_type": "code",
        "colab": {}
      },
      "source": [
        ""
      ],
      "execution_count": 0,
      "outputs": []
    }
  ]
}