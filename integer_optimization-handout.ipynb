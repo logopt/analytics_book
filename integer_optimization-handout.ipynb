{
 "cells": [
  {
   "cell_type": "markdown",
   "metadata": {
    "slideshow": {
     "slide_type": "slide"
    }
   },
   "source": [
    "## PuLPとGurobi/Pythonによる混合整数最適化問題のモデリングのテクニック\n",
    "\n",
    "久保幹雄　(東京海洋大学）\n",
    "\n",
    "* 混合整数最適化ソルバー（モデラー）Gurobi, PuLP\n",
    "* 混合整数最適化ラッパー mypulp\n",
    "* 簡単な例題\n",
    "* 論理制約の定式化のテクニック\n",
    "* 具体例\n",
    "* 定式化のコツ\n",
    "* ベンチマーク比較"
   ]
  },
  {
   "cell_type": "markdown",
   "metadata": {
    "slideshow": {
     "slide_type": "slide"
    }
   },
   "source": [
    "### (混合）整数最適化ソルバー(モデラー）\n",
    "-----------\n",
    "* ### Gurobi（商用，アカデミックフリー）のソルバー\n",
    "  * 独自のPythonインターフェイス（「あたらしい数理最適化」（近代科学社）で採用）\n",
    " * 凸2次（制約）整数，2次錐最適化\n",
    "* ### PuLP （MITライセンス）のモデラー\n",
    "  * メインソルバーはCBC(COIN Branch & Cut; EPLライセンス），その他様々なソルバーと連携(MPSフォーマット経由）"
   ]
  },
  {
   "cell_type": "markdown",
   "metadata": {
    "slideshow": {
     "slide_type": "slide"
    }
   },
   "source": [
    "### 共通Model $\\Rightarrow$ Wrapper $\\Rightarrow$ Modeler  $\\Rightarrow$ Solver\n",
    "\n",
    " <div align=\"center\">\n",
    "<img src=\"wrapper.jpg\" alt=\"Drawing\" style=\"width: 700px;\"/>\n",
    "\n",
    "\n"
   ]
  },
  {
   "cell_type": "markdown",
   "metadata": {},
   "source": [
    "     "
   ]
  },
  {
   "cell_type": "markdown",
   "metadata": {},
   "source": [
    "     "
   ]
  },
  {
   "cell_type": "markdown",
   "metadata": {
    "slideshow": {
     "slide_type": "slide"
    }
   },
   "source": [
    "基本クラスと主要メソッド\n",
    "\n",
    " <div align=\"center\">\n",
    "<img src=\"solver.jpg\" alt=\"Drawing\" style=\"width: 500px;\"/>\n"
   ]
  },
  {
   "cell_type": "markdown",
   "metadata": {
    "slideshow": {
     "slide_type": "slide"
    }
   },
   "source": [
    "## 例題 パズル（整数最適化）\n",
    "\n",
    "鶴と亀と蛸が何匹かずついる\n",
    "頭の数を足すと $32$，足の数を足すと $80$ になる．\n",
    "亀と蛸の数の和を一番小さくするような匹数を求めよ．\n",
    "\n",
    "\\begin{array}{l c c }\n",
    "  \\mbox{minimize}    &  y + z          \\\\\n",
    "  \\mbox{subject to}  & x + y + z  = 32 \\\\\n",
    "                     & 2x +4y +8z = 80 \\\\\n",
    "               & x,y,z  \\mbox{ は非負の整数} \n",
    "\\end{array}\n",
    "\n"
   ]
  },
  {
   "cell_type": "code",
   "execution_count": 4,
   "metadata": {
    "slideshow": {
     "slide_type": "slide"
    }
   },
   "outputs": [
    {
     "name": "stdout",
     "output_type": "stream",
     "text": [
      "Opt. Val.= 4.0\n",
      "(x,y,z)= (28.0, 2.0, 2.0)\n"
     ]
    }
   ],
   "source": [
    "#from gurobipy import *\n",
    "from mypulp import *\n",
    "model = Model(\"puzzle\")\n",
    "x = model.addVar(vtype=\"I\", name=\"x\")\n",
    "y = model.addVar(vtype=\"I\", name=\"y\")\n",
    "z = model.addVar(vtype=\"I\", name=\"z\")\n",
    "model.update()\n",
    "\n",
    "model.addConstr(x + y + z == 32, \"Heads\")\n",
    "model.addConstr(2*x + 4*y + 8*z == 80, \"Legs\")\n",
    "\n",
    "model.setObjective(y + z, GRB.MINIMIZE)\n",
    "\n",
    "model.optimize()\n",
    "\n",
    "print(\"Opt. Val.=\",model.ObjVal)\n",
    "print(\"(x,y,z)=\",(x.X,y.X,z.X))"
   ]
  },
  {
   "cell_type": "code",
   "execution_count": 6,
   "metadata": {},
   "outputs": [
    {
     "name": "stdout",
     "output_type": "stream",
     "text": [
      "Opt. Val.= 6.0\n",
      "(x,y,z,zz)= (24.0, 0.0, 6.0, 1.0)\n"
     ]
    }
   ],
   "source": [
    "#鶴亀蛸キメラ算\n",
    "#from gurobipy import *\n",
    "from mypulp import *\n",
    "model = Model(\"puzzle\")\n",
    "x = model.addVar(vtype=\"I\", name=\"x\")\n",
    "y = model.addVar(vtype=\"I\", name=\"y\")\n",
    "z = model.addVar(vtype=\"I\", name=\"z\")\n",
    "zz = model.addVar(vtype=\"I\", name=\"zz\")\n",
    "model.update()\n",
    "\n",
    "model.addConstr(x + y + z + 2*zz == 32, \"Heads\")\n",
    "model.addConstr(2*x + 4*y + 8*z + 3*zz == 99, \"Legs\")\n",
    "\n",
    "model.setObjective(y + z, GRB.MINIMIZE)\n",
    "\n",
    "model.optimize()\n",
    "\n",
    "print(\"Opt. Val.=\",model.ObjVal)\n",
    "print(\"(x,y,z,zz)=\",(x.X,y.X,z.X,zz.X))"
   ]
  },
  {
   "cell_type": "markdown",
   "metadata": {
    "slideshow": {
     "slide_type": "slide"
    }
   },
   "source": [
    "## 例題 多制約ナップサック問題（0-1整数最適化）\n",
    "\n",
    "* $n$ 個のアイテム，$m$本の制約\n",
    "* 各々のアイテム $j=1,2,\\ldots,n$ の価値 $v_j ~(\\geq 0)$，\n",
    "* アイテム $j$ の制約 $i=1,2,\\ldots,m$ に対する重み $a_{ij}~(\\geq 0)$\n",
    "* 制約 $i$ に対する制約の上限値 $b_i~(\\geq 0)$ \n",
    "\n",
    "<div align=\"center\">\n",
    "<img src=\"mkp1.jpg\" alt=\"Drawing\" style=\"width: 600px;\"/>\n",
    "\n"
   ]
  },
  {
   "cell_type": "markdown",
   "metadata": {},
   "source": [
    "    "
   ]
  },
  {
   "cell_type": "markdown",
   "metadata": {
    "slideshow": {
     "slide_type": "slide"
    }
   },
   "source": [
    "* アイテムの番号の集合 $I =\\{1,2,\\ldots,n \\}$\n",
    "* 制約の番号の集合 $J =\\{1,2,\\ldots,m\\}$ \n",
    "* アイテム $j$ をナップサックに詰めるとき $1$，\n",
    "それ以外のとき $0$ になる $0$-$1$ 変数 $x_j$\n",
    "\n",
    "定式化\n",
    "\n",
    "\\begin{array}{l l l}\n",
    "   \\mbox{maximize}     & \\displaystyle\\sum_{j \\in J} v_j x_j          &  \\\\\n",
    "   \\mbox{subject to}  &  \\displaystyle\\sum_{j \\in J} a_{ij} x_j \\leq b_i & \\forall i \\in I    \\\\\n",
    "                       & x_j \\in \\{0,1\\} &     \\forall j \\in J\n",
    "\\end{array}"
   ]
  },
  {
   "cell_type": "code",
   "execution_count": 2,
   "metadata": {
    "slideshow": {
     "slide_type": "slide"
    }
   },
   "outputs": [
    {
     "name": "stdout",
     "output_type": "stream",
     "text": [
      "Optimal value= 42.0\n",
      "x(2) 1.0\n",
      "x(3) 1.0\n"
     ]
    }
   ],
   "source": [
    "#from gurobipy import *\n",
    "from mypulp import *\n",
    "\n",
    "J,v = multidict({1:16, 2:19, 3:23, 4:28})\n",
    "a = {(1,1):2,    (1,2):3,    (1,3):4,    (1,4):5,\n",
    "     (2,1):3000, (2,2):3500, (2,3):5100, (2,4):7200,\n",
    "    }\n",
    "I,b = multidict({1:7, 2:10000})\n",
    "    \n",
    "model = Model('mkp')\n",
    "x = {}\n",
    "for j in J:\n",
    "    x[j] = model.addVar(vtype='B', name='x({0})'.format(j))\n",
    "model.update()\n",
    "     \n",
    "for i in I:\n",
    "    model.addConstr(quicksum(a[i,j]*x[j] for j in J) <= b[i], 'Capacity({0})'.format(i))\n",
    "\n",
    "model.setObjective(quicksum(v[j]*x[j] for j in J), GRB.MAXIMIZE)\n",
    "\n",
    "model.optimize()\n",
    "print('Optimal value=',model.ObjVal)\n",
    "\n",
    "EPS = 1.e-6\n",
    "for v in model.getVars():\n",
    "    if v.X > EPS:\n",
    "        print( v.VarName,v.X)"
   ]
  },
  {
   "cell_type": "markdown",
   "metadata": {
    "slideshow": {
     "slide_type": "skip"
    }
   },
   "source": [
    "## 論理条件の例\n",
    "-----------\n",
    "\n",
    "上の多制約 $0$-$1$ ナップサック問題の例題に対する付加条件：\n",
    "\n",
    "*  極小クマ $x_1$ と大クマ $x_4$ は仲が悪いので，同時に持って逃げてはいけない．\n",
    "\n",
    "$$x_1 +x_4 \\leq 1$$ \n",
    "\n",
    "*  極小クマ $x_1$ は小クマ $x_2$ が好きなので，極小クマを持って逃げるときには必ず小クマももって逃げなければならない．\n",
    "\n",
    "$$x_1 \\leq x_2$$  \n",
    "\n",
    "*  極小クマ $x_1$，小クマ $x_2$，中クマ $x_3$ のうち，少なくとも2つは持って逃げなければならない．\n",
    "\n",
    "$$ x_1 +x_2+x_3 \\geq 2$$ "
   ]
  },
  {
   "cell_type": "markdown",
   "metadata": {},
   "source": [
    "       "
   ]
  },
  {
   "cell_type": "markdown",
   "metadata": {},
   "source": [
    "   "
   ]
  },
  {
   "cell_type": "markdown",
   "metadata": {
    "slideshow": {
     "slide_type": "slide"
    }
   },
   "source": [
    "# 離接制約\n",
    "--------\n",
    "\n",
    "** either or の条件** : 何れか1つが満たされていなければならない\n",
    "\n",
    "* $2x_1 + x_2  \\leq 30, x_1 + 2x_2  \\leq 30$ の2 本の制約の何れか1つが成立する\n",
    "\n",
    "* 大きな数 $M$ と $0$-$1$変数 $y$ を用いて，\n",
    "\n",
    "$$2x_1 + x_2  \\leq 30 +My, \\ \\ \\  x_1 + 2x_2  \\leq 30+M(1-y)$$\n"
   ]
  },
  {
   "cell_type": "markdown",
   "metadata": {
    "slideshow": {
     "slide_type": "slide"
    }
   },
   "source": [
    "\n",
    "* $2x_1 + x_2  \\leq 30, \\ \\ \\  x_1 + 2x_2  \\leq 30, \\ \\ \\ 5x_1+x_2 \\leq 50$\n",
    "の3 本の制約の何れかが成立するという条件\n",
    "\n",
    "  * 3 つの$0$-$1$変数 $y_1, y_2, y_3$ を用いて，\n",
    "\n",
    "$$2x_1 + x_2  \\leq 30 +M(1-y_1)$$\n",
    "$$x_1 + 2x_2  \\leq 30+M(1-y_2)$$\n",
    "$$5x_1+x_2 \\leq 50+M(1-y_3)$$\n",
    "\n",
    "$$y_1 +y_2 + y_3 \\geq 1$$\n"
   ]
  },
  {
   "cell_type": "markdown",
   "metadata": {
    "slideshow": {
     "slide_type": "slide"
    }
   },
   "source": [
    "## if A then B 条件\n",
    "-------------\n",
    "\n",
    "「制約Aが成立している場合には，制約Bも成立しなければならない」という条件\n",
    "\n",
    "\n",
    "「if A then B」は「NOT A or B」と同値\n",
    "\n",
    "\n",
    "|   A  |  B |   if A then B |  NOT A |  NOT A or B |\n",
    "|:----:|:----:|:----:|:---:|:---:\n",
    "|   偽 |  偽  |     真    |     真  |       真 |\n",
    "|   偽 |  真  |     真    |     真  |       真 |\n",
    "|   真 |  偽  |     偽    |     偽  |       偽 |\n",
    "|   真 |  真  |     真    |     偽  |       真 |\n"
   ]
  },
  {
   "cell_type": "markdown",
   "metadata": {
    "slideshow": {
     "slide_type": "slide"
    }
   },
   "source": [
    "* if A then B の条件： \n",
    "\n",
    "$$\\mbox{if  $x_1 +x_2  \\leq 10$  then  $x_1 \\leq 5$ }$$\n",
    "\n",
    "* NOT A or B を離接制約で表現：\n",
    "\n",
    "$$x_1 + x_2 > 10 - My, \\ \\ \\ x_1 \\leq 5 + M(1-y)$$ \n"
   ]
  },
  {
   "cell_type": "markdown",
   "metadata": {
    "slideshow": {
     "slide_type": "slide"
    }
   },
   "source": [
    "問題点：数理最適化ソルバーでは，より大きい（$>$）と以上（$\\geq$）の制約を区別しない\n",
    "\n",
    "* $x_1 + x_2 > 10$ は $x_1 + x_2 \\geq 10$ と同値\n",
    "\n",
    "微少な値 $\\epsilon >0$ を用いて，\n",
    "\n",
    "$$x_1 + x_2 \\geq 10 +\\epsilon - My$$ \n",
    "\n",
    "* $x_1, x_2$ が整数の値なら $\\epsilon=1$: \n",
    "\n",
    "$$x_1 + x_2 \\geq 11- My$$\n"
   ]
  },
  {
   "cell_type": "markdown",
   "metadata": {
    "slideshow": {
     "slide_type": "slide"
    }
   },
   "source": [
    "## 半連続変数\n",
    "--------------\n",
    "\n",
    "\n",
    " $0$ もしくはある範囲内の連続変数\n",
    "\n",
    "* 変数 $x$ が半連続変数で $[LB, UB]$ の範囲\n",
    "\n",
    "* $\\Rightarrow$ $0$-$1$ 変数 $y$ を用いて \n",
    "\n",
    " $$LB y \\leq x \\leq UB y$$ \n"
   ]
  },
  {
   "cell_type": "markdown",
   "metadata": {
    "slideshow": {
     "slide_type": "slide"
    }
   },
   "source": [
    "## 最小値の最小化\n",
    "------------------\n",
    "\n",
    "* 最大値の最小化は線形最適化で解説；最小値の最小化\n",
    "  * 新しい実数変数 $z$ と $0$-$1$ 変数 $y$ を導入\n",
    "\n",
    "$$3x_1 + 4x_2  \\geq z, \\ \\   2x_1 + 7x_2  \\geq z$$\n",
    "\n",
    "$$3x_1 + 4x_2  \\leq z- My, \\ \\   2x_1 + 7x_2  \\leq z - M(1-y)$$\n"
   ]
  },
  {
   "cell_type": "markdown",
   "metadata": {
    "slideshow": {
     "slide_type": "slide"
    }
   },
   "source": [
    "* 線形関数 $\\displaystyle\\sum_{j} a_{ij} x_j  (i=1,2,\\ldots,m)$ の最小値を最小化\n",
    "  * $0$-$1$ 変数 $y_i (i=1,2,\\ldots,m)$ を導入\n",
    "\n",
    "$$\\displaystyle\\sum_{j} a_{ij} x_j \\geq z \\ \\ \\ i=1,2,\\ldots,m$$\n",
    "\n",
    "$$\\displaystyle\\sum_{j} a_{ij} x_j \\leq z - M(1-y_i)\\ \\ \\ i=1,2,\\ldots,m$$\n",
    "\n",
    "$$\\displaystyle\\sum_{i} y_i =1$$"
   ]
  },
  {
   "cell_type": "markdown",
   "metadata": {},
   "source": [
    "  \n",
    "\n",
    "\n",
    "\n"
   ]
  },
  {
   "cell_type": "markdown",
   "metadata": {},
   "source": [
    "    "
   ]
  },
  {
   "cell_type": "markdown",
   "metadata": {
    "slideshow": {
     "slide_type": "subslide"
    }
   },
   "source": [
    "* 例：線形最適化問題の最初の例\n",
    "* 最も儲かる売値の設定は？\n",
    "\n",
    "|丼 | トンコケ  |  コケトン  | ミックス   | \n",
    "|:--:|:----:|:----:|:---:|\n",
    "|1   | 1500 | 1800| 3000 |\n",
    "|2   | 1800 | 2200| 2900 |\n",
    "|3   | 1300 | 1700| 3300 |"
   ]
  },
  {
   "cell_type": "code",
   "execution_count": 3,
   "metadata": {
    "slideshow": {
     "slide_type": "subslide"
    }
   },
   "outputs": [
    {
     "name": "stdout",
     "output_type": "stream",
     "text": [
      "Opt. Value= 2147.0\n",
      "x1 16.0\n",
      "x2 17.0\n",
      "x3 50.0\n",
      "y1 0.0\n",
      "y2 0.0\n",
      "y3 1.0\n",
      "z 2147.0\n"
     ]
    }
   ],
   "source": [
    "from mypulp import *\n",
    "model = Model('max-max')\n",
    "M=999999\n",
    "x, y ={}, {}\n",
    "for i in range(1,4):\n",
    "    x[i]=model.addVar(vtype='I', name='x{0}'.format(i))\n",
    "    y[i]=model.addVar(vtype='B', name='y{0}'.format(i))\n",
    "z  = model.addVar(name='z')\n",
    "model.update()      \n",
    "model.addConstr(2*x[1] +   x[2] + x[3] <= 100)\n",
    "model.addConstr(  x[1] + 2*x[2] + x[3] <= 100)\n",
    "model.addConstr(                  x[3] <= 50)\n",
    "model.addConstr(15*x[1] + 18*x[2] + 30*x[3] <= z )\n",
    "model.addConstr(18*x[1] + 22*x[2] + 29*x[3] <= z )\n",
    "model.addConstr(13*x[1] + 17*x[2] + 33*x[3] <= z )\n",
    "model.addConstr(15*x[1] + 18*x[2] + 30*x[3] >= z -M*(1-y[1]))\n",
    "model.addConstr(18*x[1] + 22*x[2] + 29*x[3] >= z -M*(1-y[2]))\n",
    "model.addConstr(13*x[1] + 17*x[2] + 33*x[3] >= z -M*(1-y[3]))\n",
    "model.addConstr( y[1] + y[2] + y[3] == 1 )\n",
    "model.setObjective(z, GRB.MAXIMIZE)\n",
    "model.optimize()\n",
    "if model.Status == GRB.Status.OPTIMAL:\n",
    "    print('Opt. Value=',model.ObjVal)\n",
    "    for v in model.getVars():\n",
    "        print(v.VarName,v.X)"
   ]
  },
  {
   "cell_type": "markdown",
   "metadata": {
    "slideshow": {
     "slide_type": "slide"
    }
   },
   "source": [
    "## 絶対値の最大化\n",
    "\n",
    "* 実数変数 $x$ の絶対値 $|x|$ を最大化（最小化は線形最適化で解説）\n",
    "    * 2 つの新しい非負の実数変数 $y$ と $z$ を導入\n",
    "    * $x=y-z$ を追加\n",
    "    * $|x|$ をすべて $y+z$ で置き換え\n",
    "    * $y$ と $z$ が同時に正にならない（大きな数 $M$ と $0$-$1$ 変数 $\\xi$ を使う）\n",
    "  \n",
    "  $$y \\leq M \\xi$$\n",
    "  \n",
    "  $$z \\leq M (1-\\xi)$$\n",
    "    "
   ]
  },
  {
   "cell_type": "code",
   "execution_count": 2,
   "metadata": {},
   "outputs": [
    {
     "name": "stdout",
     "output_type": "stream",
     "text": [
      "0.0 0.0\n",
      "0.0 0.0\n",
      "1.0 1.0\n"
     ]
    }
   ],
   "source": [
    "# Ansewr of Practice Problem  (werewolf 1)\n",
    "# 正直族，嘘つき族と狼男 1\n",
    "from mypulp import *\n",
    "\n",
    "m=Model()\n",
    "x, w = {}, {} \n",
    "for i in range(3):\n",
    "    x[i]=m.addVar(name=\"x({0})\".format(i), vtype=\"B\" )\n",
    "    w[i]=m.addVar(name=\"w({0})\".format(i), vtype=\"B\" )\n",
    "m.addConstr(x[0] == w[0] ) #A: I'm a werewolf. \n",
    "m.addConstr(x[1] == w[1] ) #B: Me, too. \n",
    "#c: At most one person is honest. \n",
    "m.addConstr(quicksum( w[i] for i in range(3)) <= 1+ 3*(1-x[2]) ) #True => at most one.\n",
    "m.addConstr(quicksum( w[i] for i in range(3)) >= 2- 3*x[2] )     #False => at least two.\n",
    "m.addConstr(quicksum( w[i] for i in range(3)) == 1 ) #One is a werewolf.\n",
    "m.optimize()\n",
    "for i in range(3):\n",
    "    print(x[i].X, w[i].X)"
   ]
  },
  {
   "cell_type": "code",
   "execution_count": 3,
   "metadata": {},
   "outputs": [
    {
     "name": "stdout",
     "output_type": "stream",
     "text": [
      "1.0 1.0\n",
      "0.0 0.0\n",
      "0.0 0.0\n"
     ]
    }
   ],
   "source": [
    "# Ansewr of Practice Problem  (werewolf 2)\n",
    "# 正直族，嘘つき族と狼男 2\n",
    "m=Model()\n",
    "x, w = {}, {} \n",
    "for i in range(3):\n",
    "    x[i]=m.addVar(name=\"x({0})\".format(i), vtype=\"B\" )\n",
    "    w[i]=m.addVar(name=\"w({0})\".format(i), vtype=\"B\" )\n",
    "#A: At least one is a liar, i.e., at most two person are honest.  \n",
    "m.addConstr(quicksum( x[i] for i in range(3)) <= 2+ 1*(1-x[0]) )\n",
    "#If A tells a lie, all are honest. \n",
    "m.addConstr(quicksum( x[i] for i in range(3)) >= 3 - 3*x[0] )\n",
    "#B: C is honest. \n",
    "m.addConstr(x[1]==x[2] )\n",
    "#At least one is a werewolf and he is honest. \n",
    "m.addConstr(quicksum( w[i] for i in range(3)) >= 1)\n",
    "for i in range(3):\n",
    "    m.addConstr(w[i] <= x[i]) \n",
    "m.optimize()\n",
    "for i in range(3):\n",
    "    print(x[i].X, w[i].X)"
   ]
  },
  {
   "cell_type": "code",
   "execution_count": null,
   "metadata": {
    "collapsed": true
   },
   "outputs": [],
   "source": [
    "# 座席割り当て問題\n",
    "from mypulp import *\n",
    "# = 0 means Male, =1 means female\n",
    "Family={ \"Isono\":[0,1,0,1], \"Bakabon\": [0,1,0,0], \"Nohara\":[0,1,0,1],\n",
    "        \"Nobi\":[0,1,0], \"Hoshi\":[0,1,0], \"Rei\": [0,1,0], \"Zabi\":[0,1,0,1,0,0,0]}\n",
    "\n",
    "n=7 #number of tables\n",
    "Table =list(range(n))\n",
    "\n",
    "m=Model()\n",
    "\n",
    "x={}    #assignment variable of the member of the families to the tables\n",
    "deviation ={} #deviation of the number of females from the average \n",
    "male, female ={}, {}\n",
    "total_female=0\n",
    "total_male=0\n",
    "for f in Family:\n",
    "    for i,j in enumerate(Family[f]):\n",
    "        for k in Table:\n",
    "            x[f,i,k]=m.addVar(name=\"x({0},{1},{2})\".format(f,i,k), vtype=\"B\")\n",
    "        male[f,i]= 1-j\n",
    "        female[f,i] =j\n",
    "        total_male+=1-j\n",
    "        total_female+=j\n",
    "       # print(x[f,i,0], \"=\", female[f,i])\n",
    "print(\"num of females=\",total_female)\n",
    "print(\"num of males=\",total_male)\n",
    "total=total_female+total_male\n",
    "\n",
    "for k in range(n):\n",
    "    deviation[k]=m.addVar(name=\"dev({0})\".format(k) )\n",
    "    \n",
    "m.update()\n",
    "\n",
    "for f in Family:\n",
    "    for i,j in enumerate(Family[f]):\n",
    "        m.addConstr( quicksum( x[f,i,k] for k in range(n)) == 1 )\n",
    "\n",
    "for f in Family:\n",
    "    for i1,j1 in enumerate(Family[f]):\n",
    "        for i2,j2 in enumerate(Family[f]):\n",
    "            if i1 < i2:\n",
    "                for k in range(n):\n",
    "                    m.addConstr(x[f,i1,k]+x[f,i2,k]<=1)\n",
    "average= total_female / n\n",
    "print(\"average number of females per table=\",average)\n",
    "\n",
    "for k in range(n):\n",
    "   m.addConstr(deviation[k]>=average- quicksum(female[f,i]*x[f,i,k] for f in Family for i in range(len(Family[f]))) ) \n",
    "   m.addConstr(deviation[k]>=quicksum(female[f,i]*x[f,i,k] for f in Family for i in range(len(Family[f]))) -average)    \n",
    "   \n",
    "m.setObjective( quicksum( deviation[k] for k in Table),GRB.MINIMIZE)\n",
    "m.optimize()\n",
    "\n",
    "for f in Family:\n",
    "    for i,j in enumerate(Family[f]):\n",
    "        for k in Table:\n",
    "            if x[f,i,k].X >0.01:\n",
    "                print(f,i,k)\n",
    "for k in Table:\n",
    "    print(deviation[k].X)"
   ]
  },
  {
   "cell_type": "code",
   "execution_count": null,
   "metadata": {
    "collapsed": true
   },
   "outputs": [],
   "source": []
  },
  {
   "cell_type": "markdown",
   "metadata": {
    "slideshow": {
     "slide_type": "slide"
    }
   },
   "source": [
    "## 具体例\n",
    "------------\n",
    "\n",
    "* 起動停止問題（生産スケジューリング，スタッフスケジューリング）\n",
    "* その他の代表的な最適化問題（時間があれば．．．）"
   ]
  },
  {
   "cell_type": "markdown",
   "metadata": {
    "slideshow": {
     "slide_type": "slide"
    }
   },
   "source": [
    "## 起動停止問題\n",
    "\n",
    "* 各日の電力需要を満たすように．．．\n",
    "* 時間ごとの発電量の決定\n",
    "* 一度火を入れると $\\alpha$ 時間は停止できない\n",
    "* 一度停止すると $\\beta$ 時間は再稼働できない\n",
    "* 稼働費用は非線形（2次）関数\n",
    "* 稼働中の発電量の上下限 $U_i, L_i$ \n"
   ]
  },
  {
   "cell_type": "markdown",
   "metadata": {
    "slideshow": {
     "slide_type": "slide"
    }
   },
   "source": [
    "### 集合\n",
    "\n",
    "* $P$: 発電所（ユニット）の集合\n",
    "\n",
    "### 変数\n",
    "\n",
    "* $y_t^p$: 期 $t$ に発電所 $p$ が稼働するとき $1$ \n",
    "    \n",
    "### 新しい変数を導入\n",
    "\n",
    "* $z_t^p$: 期 $t$ に発電所 $p$ が稼働を開始(switch-on)するとき $1$\n",
    "\n",
    "* $w_t^p$:  期 $t$ に発電所 $p$ が停止を開始(switch-off)するとき $1$"
   ]
  },
  {
   "cell_type": "markdown",
   "metadata": {
    "slideshow": {
     "slide_type": "slide"
    }
   },
   "source": [
    "* 基本構造：発電所の起動停止問題 \n",
    "\n",
    "= スタッフスケジューリング問題 \n",
    "\n",
    "= 生産計画の小バケットロットサイズ決定問題\n",
    "\n",
    "\\begin{array}{l l } \n",
    "  %z_t^p \\leq y_t^p               &  \\forall p \\in P, t=1,2, \\ldots,T \\\\\n",
    "  z_t^p -w_{t}^p = y_t^p -y_{t-1}^p &  \\forall p \\in P, t=1,2, \\ldots,T \n",
    "\\end{array}\n",
    "    \n",
    "|  変数  | 　t-3　 | t-2  |  t-1 |　t　 | t+1 | t+2 | t+3 |\n",
    "|:----:  |:------:|:------:|:-----:|:-----:|:---:|:---:|:---:|:---:|\n",
    "|   $y_t$ |  0  |     0    |    0  |     1 |  1    |  1 |  0  | \n",
    "|  $z_t$  | 0  |     0    |    0  |     1 |  0    |  0 |  0  |  \n",
    "|  $w_t$ |  0  |     0    |    0  |     0 |  0    |  0 |  1  |  "
   ]
  },
  {
   "cell_type": "markdown",
   "metadata": {
    "slideshow": {
     "slide_type": "slide"
    }
   },
   "source": [
    "### 開始したら最低でも $\\alpha$ 期 は連続稼働：\n",
    "\n",
    "$\\Rightarrow$ 「期 $t$ に稼働していない」　 **ならば**　 「$t-\\alpha+1$ から $t$ までは開始できない」\n",
    "\n",
    "$\\Rightarrow$ $y_t^p$ ならば $z_{s}^p=0$ ($\\forall s=t-\\alpha+1,\\ldots,t$)  \n",
    "\n",
    "$$\n",
    "\\displaystyle\\sum_{s=t-\\alpha+1}^t z_{s}^p \\leq y_t^p  \\ \\ \\  \\forall t=\\alpha,\\alpha+1, \\ldots,T\n",
    "$$\n",
    "\n",
    "#### 弱い定式化：\n",
    "\n",
    "$\\Rightarrow$ 「期 $t$ に開始した」 **ならば** 「$t$ から$t+\\alpha+1$ までは稼働」\n",
    "\n",
    "$$\n",
    "\\alpha z_{t}^p \\leq \\displaystyle\\sum_{s=t}^{t+\\alpha-1} y_t^p \\ \\ \\  \\forall t=1,2, \\ldots,T+1-\\alpha\n",
    "$$\n",
    "\n"
   ]
  },
  {
   "cell_type": "markdown",
   "metadata": {
    "slideshow": {
     "slide_type": "slide"
    }
   },
   "source": [
    "### 稼働を終了したら，再び稼働を開始するためには，$\\beta$ 期以上：\n",
    "\n",
    "$\\Rightarrow$ 「期 $t$ に稼働した」　 **ならば** 「$t-\\beta+1$ から $t$ までは終了できない」\n",
    "\n",
    "$\\Rightarrow$ $y_t^p=1$ ならば $w_{s}^p=0$ ($\\forall s=t-\\beta+1,\\ldots,t$)\n",
    "\n",
    "$$\n",
    "\\displaystyle\\sum_{s=t-\\beta+1}^{t} w_{s}^p \\leq 1-y_t^p  \\ \\ \\  \\forall t=\\beta,\\beta+1, \\ldots,T\n",
    "$$\n",
    "\n",
    "#### 弱い定式化：\n",
    "\n",
    "$\\Rightarrow$ 「期 $t$ に停止した」　**ならば**  「$t$から $t+\\beta-1$ までは稼働しない」\n",
    "\n",
    "$$\n",
    "\\beta w_{t}^p \\leq \\displaystyle\\sum_{s=t}^{t+\\beta-1} (1-y_t^p) \\ \\ \\  \\forall t=1,2, \\ldots,T+1-\\beta\n",
    "$$\n",
    "\n"
   ]
  },
  {
   "cell_type": "markdown",
   "metadata": {},
   "source": [
    "    "
   ]
  },
  {
   "cell_type": "markdown",
   "metadata": {
    "slideshow": {
     "slide_type": "subslide"
    }
   },
   "source": [
    "## 生産スケジューリング\n",
    "\n",
    "\n",
    "### 集合\n",
    "\n",
    "* $P$: 品目の集合\n",
    "\n",
    "### 変数\n",
    "\n",
    "* $y_t^p$: 期 $t$ に品目 $p$ が段取りを行うとき $1$ \n",
    "    \n",
    "### 新しい変数を導入\n",
    "\n",
    "* $z_t^p$: 期 $t$ に品目 $p$ に対する生産を開始するとき $1$\n",
    "\n",
    "* $w_t^p$:  期 $t-1$ に品目 $p$ に対する生産を終了するとき $1$\n"
   ]
  },
  {
   "cell_type": "markdown",
   "metadata": {
    "slideshow": {
     "slide_type": "subslide"
    }
   },
   "source": [
    "### 各期における段取りが高々1回のときの最も強い定式化：\n",
    "\n",
    "\\begin{array}{l l } \n",
    "  \\displaystyle\\sum_{p \\in P} y_{t}^p \\leq 1  & \\forall t=1,2, \\ldots,T \\\\\n",
    "  z_t^p \\leq y_t^p               &  \\forall p \\in P, t=1,2, \\ldots,T \\\\\n",
    "  z_t^p -w_{t-1}^p = y_t^p -y_{t-1}^p &  \\forall p \\in P, t=1,2, \\ldots,T \\\\\n",
    "  y_{t-1}^p +z_{t}^p + \\displaystyle\\sum_{q: q \\neq p} (y_t^q-z_t^q) \\leq 1 &  \\forall p \\in P, t=1,2,\\ldots,T \n",
    "\\end{array}\n",
    "\n",
    "* 最後の式は理論的な側面定義不等式（なくても良いし，実験的にはない方が良い）\n",
    " "
   ]
  },
  {
   "cell_type": "markdown",
   "metadata": {},
   "source": [
    "    "
   ]
  },
  {
   "cell_type": "markdown",
   "metadata": {
    "slideshow": {
     "slide_type": "slide"
    }
   },
   "source": [
    "### 実験結果（スタッフスケジューリング）\n",
    "\n",
    "* 総スタッフ数は91 名\n",
    "* 平日約35 名（ピーク時間帯勤務約20 名）程度\n",
    "* 土日祝日約40 名（ピーク時間帯勤務約25 名）程度\n",
    "* 1 日の期数は33 期（7 時～23 時30 分までを30 分刻み）\n",
    "* 業務は5 種類＋休憩\n",
    "* スタッフ数の過不足に対するペナルティ費用\n",
    "* 休憩に関する詳細な設定あり\n",
    "\n",
    "$\\Rightarrow$ 3600秒で最適解\n",
    "\n",
    "「スケジューリング問題に関する諸研究」，田頭弘光（海洋大学修士論文）\n"
   ]
  },
  {
   "cell_type": "markdown",
   "metadata": {
    "slideshow": {
     "slide_type": "slide"
    }
   },
   "source": [
    "### 実験結果（起動停止問題）\n",
    "\n",
    "* 100ユニットのベンチマーク問題（Kazarlis benchmarks）\n",
    "* 2次費用は（逐次）区分的線形近似\n",
    "* 15000秒で最適解\n",
    "* 付加条件にも対応（非凸型の費用関数：バルブ効果）\n",
    "\n",
    "\"Unit commitment with valve-point loading effect,\"\n",
    "Joao Pedro Pedroso, Mikio Kubo, and  Ana Viana,\n",
    "INESC Porto and Instituto Superior de Engenharia, \n",
    "Technical Report Series: DCC-2014-05"
   ]
  },
  {
   "cell_type": "markdown",
   "metadata": {
    "collapsed": true,
    "slideshow": {
     "slide_type": "skip"
    }
   },
   "source": [
    "### ベンチマーク比較\n",
    "\n",
    "Benchmarks for Optimization Software by Hans Mittelmann\n",
    "\n",
    "http://plato.la.asu.edu/bench.html\n",
    "\n",
    "ベンチマーク問題 MIPLIB2010 http://miplib.zib.de/miplib2010.php\n",
    "\n",
    "* CBC-2.8.10: CBC\n",
    "* CPLEX-12.6.1: CPLEX\n",
    "* SCIP/cplex, spx-3.1.1: Parallel development version of SCIP (FSCIP+CPLEX/SOPLEX)\n",
    "* GUROBI-6.0.0 GUROBI\n",
    "* XPRESS-7.8.0: XPRESS"
   ]
  },
  {
   "cell_type": "markdown",
   "metadata": {
    "collapsed": true,
    "slideshow": {
     "slide_type": "skip"
    }
   },
   "source": [
    "\n",
    "### 比較\n",
    "\n",
    "|    4スレッド | CBC |   CPLEX |   FSCIPC |  FSCIPS |  GUROBI |  XPRESS|\n",
    "|--:|----:|----:|----:|----:|----:|----:|\n",
    "| 幾何平均   | 19.4 |   1.05  |   8.19  |   12.7   |    1  |     1.30 |  \n",
    "| 87問中解けた問題 |   58  |    86  |     72  |     67  |     86  |     86 |\n",
    "  \n"
   ]
  },
  {
   "cell_type": "markdown",
   "metadata": {
    "slideshow": {
     "slide_type": "slide"
    }
   },
   "source": [
    "## Questions, Comments, Suggestions?"
   ]
  }
 ],
 "metadata": {
  "celltoolbar": "Slideshow",
  "kernelspec": {
   "display_name": "Python 3",
   "language": "python",
   "name": "python3"
  },
  "language_info": {
   "codemirror_mode": {
    "name": "ipython",
    "version": 3
   },
   "file_extension": ".py",
   "mimetype": "text/x-python",
   "name": "python",
   "nbconvert_exporter": "python",
   "pygments_lexer": "ipython3",
   "version": "3.6.7"
  }
 },
 "nbformat": 4,
 "nbformat_minor": 1
}
