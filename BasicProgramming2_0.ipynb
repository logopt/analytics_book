{
  "nbformat": 4,
  "nbformat_minor": 0,
  "metadata": {
    "colab": {
      "name": "BasicProgramming2.0.ipynb",
      "version": "0.3.2",
      "provenance": [],
      "collapsed_sections": [],
      "toc_visible": true,
      "include_colab_link": true
    },
    "kernelspec": {
      "display_name": "Python [default]",
      "language": "python",
      "name": "python3"
    }
  },
  "cells": [
    {
      "cell_type": "markdown",
      "metadata": {
        "id": "view-in-github",
        "colab_type": "text"
      },
      "source": [
        "<a href=\"https://colab.research.google.com/github/mickeykubo/analytics_book/blob/master/BasicProgramming2_0.ipynb\" target=\"_parent\"><img src=\"https://colab.research.google.com/assets/colab-badge.svg\" alt=\"Open In Colab\"/></a>"
      ]
    },
    {
      "metadata": {
        "id": "V4iPMiQdGAQ0",
        "colab_type": "text"
      },
      "cell_type": "markdown",
      "source": [
        "# 関数\n",
        "\n",
        "\n",
        "\n",
        "プログラムが長くなると，部品を作って何度も再利用したくなります．\n",
        "\n",
        "Pythonでは，そのようなプログラムの部品のことを*関数*とよび，def で定義します．\n",
        "\n",
        "基本的な構文は以下の通りです．\n",
        "\n",
        "```python\n",
        "def 関数名(引数）:\n",
        "\n",
        "　　関数本体\n",
        "  \n",
        "　　return 返値\n",
        "```\n",
        "関数は入力を出力に変換します．\n",
        "\n",
        "   入力  => 関数   => 出力 \n",
        " \n",
        "入力を「引数（ひきすう）」，出力を「返値（かえりち）」と呼びます．return文はなくても大丈夫です．その場合には返値はありません（Noneという特別なオブジェクトが返されます）．\n",
        "\n",
        "\n",
        "● 例題７－１\n",
        "\n",
        "整数nを引数として受け取り，print “#”; を n回繰り返し，長さnの#でできた棒を表示し，その後改行をする関数を作りなさい．\n",
        "\n",
        "例えば，10 を渡すと\n",
        "```python\n",
        "##########\n",
        "```\n",
        "が表示され，25を渡すと，\n",
        "```python\n",
        "#########################\n",
        "```\n",
        "が表示されるような関数を作る，ということです．\n"
      ]
    },
    {
      "metadata": {
        "id": "FjUnspAjGAQ4",
        "colab_type": "code",
        "outputId": "0cacb6ae-5cb4-4c2b-efe8-8e86961eed34",
        "colab": {}
      },
      "cell_type": "code",
      "source": [
        "def sub(n):\n",
        "    for i in range(n):\n",
        "        print('#',end='')\n",
        "\n",
        "n = int(input('n='))\n",
        "sub(n)"
      ],
      "execution_count": 0,
      "outputs": [
        {
          "output_type": "stream",
          "text": [
            "n=10\n",
            "##########"
          ],
          "name": "stdout"
        }
      ]
    },
    {
      "metadata": {
        "id": "CkdfcWAcGARG",
        "colab_type": "text"
      },
      "cell_type": "markdown",
      "source": [
        "● 例題７－２\n",
        "\n",
        "２つの数字を引数とし，その和を返値として返す関数を記述し，その関数を用いて 3と5の和を計算せよ．また，100と200の和も計算せよ．\n",
        "\n",
        "複数の引数はカンマで区切って関数に渡します．\n",
        "\n",
        "関数の値は返値になります．\n"
      ]
    },
    {
      "metadata": {
        "id": "uQBChnd8GARI",
        "colab_type": "code",
        "outputId": "72c21a8a-6591-4342-f358-5af17e3a9a68",
        "colab": {}
      },
      "cell_type": "code",
      "source": [
        "def computeSum(x,y):\n",
        "      return x+y \n",
        "    \n",
        "print( computeSum(3,5) )\n",
        "print( computeSum(100,200) )"
      ],
      "execution_count": 0,
      "outputs": [
        {
          "output_type": "stream",
          "text": [
            "8\n",
            "300\n"
          ],
          "name": "stdout"
        }
      ]
    },
    {
      "metadata": {
        "id": "2SktfbwoGARR",
        "colab_type": "text"
      },
      "cell_type": "markdown",
      "source": [
        "● 例題７－３（再帰）\n",
        "\n",
        "フィボナッチ数 $F_n$ は\n",
        "\n",
        "$\n",
        "F_1 =1  \\\\\n",
        "F_2 =1  \\\\\n",
        "F_n= F_{n-1} +F_{n-2}\n",
        "$\n",
        "\n",
        "と再帰的に定義される数列です．$F_5$ を計算してください．\n",
        "\n",
        "これは関数 F の中で同じ関数 F を呼び出す再帰的なプログラムで記述します．"
      ]
    },
    {
      "metadata": {
        "id": "cB0EZNxZGARS",
        "colab_type": "code",
        "outputId": "b7da07dd-f10d-4f43-a991-37a103031975",
        "colab": {}
      },
      "cell_type": "code",
      "source": [
        "def F(n):\n",
        "    if n==1 or n==2:\n",
        "        return 1\n",
        "    else:\n",
        "        return F(n-1)+F(n-2)\n",
        "print(F(5))"
      ],
      "execution_count": 0,
      "outputs": [
        {
          "output_type": "stream",
          "text": [
            "5\n"
          ],
          "name": "stdout"
        }
      ]
    },
    {
      "metadata": {
        "id": "7sT-jyEyGARa",
        "colab_type": "text"
      },
      "cell_type": "markdown",
      "source": [
        "● 問題 7-1\n",
        "\n",
        "3つの整数を引数として渡すと，その積を返す関数を記述せよ．その関数を用いて，$2*5*7$ と $123*456*234$ を計算せよ．"
      ]
    },
    {
      "metadata": {
        "id": "LsY3kaT-GARc",
        "colab_type": "code",
        "colab": {}
      },
      "cell_type": "code",
      "source": [
        ""
      ],
      "execution_count": 0,
      "outputs": []
    },
    {
      "metadata": {
        "id": "-VISEXXeGARj",
        "colab_type": "text"
      },
      "cell_type": "markdown",
      "source": [
        "●問題 7-2\n",
        "\n",
        "例題7-1の関数を，入力した3つの数を引数として3回呼び出しなさい．例えば8,13,4と入力したら，\n",
        "\n",
        "```\n",
        "########\n",
        "\n",
        "#############\n",
        "\n",
        "####\n",
        "```\n",
        "と，棒グラフのような表示をする，ということです．"
      ]
    },
    {
      "metadata": {
        "id": "BEwj8G7oGARm",
        "colab_type": "code",
        "colab": {}
      },
      "cell_type": "code",
      "source": [
        ""
      ],
      "execution_count": 0,
      "outputs": []
    },
    {
      "metadata": {
        "id": "If-4ODknGARr",
        "colab_type": "text"
      },
      "cell_type": "markdown",
      "source": [
        "●問題 7-3\n",
        "\n",
        "例題7-1の関数を使って，#でできた三角形を表示するプログラムを作りなさい．\n",
        "例えば，このようなものを表示するプログラムです．\n",
        "\n",
        "```\n",
        "#\n",
        "##\n",
        "###\n",
        "####\n",
        "#####\n",
        "######\n",
        "```"
      ]
    },
    {
      "metadata": {
        "id": "biRwNjDAGARu",
        "colab_type": "code",
        "colab": {}
      },
      "cell_type": "code",
      "source": [
        ""
      ],
      "execution_count": 0,
      "outputs": []
    },
    {
      "metadata": {
        "id": "nko4tzZeGAR1",
        "colab_type": "text"
      },
      "cell_type": "markdown",
      "source": [
        "●問題7-4\n",
        "\n",
        "\n",
        "数aを渡すと，aが正なら1を，負なら -1を，0ならば0を返す関数を作りなさい．"
      ]
    },
    {
      "metadata": {
        "id": "pvSjt-o1GAR4",
        "colab_type": "code",
        "colab": {}
      },
      "cell_type": "code",
      "source": [
        ""
      ],
      "execution_count": 0,
      "outputs": []
    },
    {
      "metadata": {
        "id": "pa6a0mweGAR-",
        "colab_type": "text"
      },
      "cell_type": "markdown",
      "source": [
        "●問題7-5\n",
        "\n",
        "数aを受け取り，数bをキーボードから入力し，a+bの値を返す関数を作りなさい．\n",
        "\n",
        "次に，この関数を使って，数を10個入力してその合計を表示するプログラムを作りなさい．"
      ]
    },
    {
      "metadata": {
        "id": "mddHH2UVGASA",
        "colab_type": "code",
        "colab": {}
      },
      "cell_type": "code",
      "source": [
        ""
      ],
      "execution_count": 0,
      "outputs": []
    },
    {
      "metadata": {
        "id": "CE9CEsXbGASG",
        "colab_type": "text"
      },
      "cell_type": "markdown",
      "source": [
        "●問題7-6\n",
        "\n",
        "$n$ の階乗 $n!$ は\n",
        "\n",
        "$\n",
        "1! =1 \\\\\n",
        "n!= n \\times (n-1)! \n",
        "$\n",
        "\n",
        "と再帰的に定義されます．$n!$ を再帰的に計算する関数 Factorial(n) を記述し，$5!$ を計算しなさい．\n"
      ]
    },
    {
      "metadata": {
        "id": "x62umK6sGASJ",
        "colab_type": "code",
        "colab": {}
      },
      "cell_type": "code",
      "source": [
        ""
      ],
      "execution_count": 0,
      "outputs": []
    },
    {
      "metadata": {
        "id": "Vv7n_QrfGASP",
        "colab_type": "text"
      },
      "cell_type": "markdown",
      "source": [
        "# 文字列の操作\n",
        "\n",
        "\n",
        "文字列についてはすでに ' ' もしくは \"  \"で挟むと生成できることを知っていると思います．\n",
        "\n",
        "文字列は s ='Hello'は H e l l o が順番に箱に入ってしまわれています．前から順番に 0,1,2, ... と番号付け（添え字とかインデックスといいます）がされています．添え字は range関数と同じように操作できます．\n",
        "\n",
        "文字 'H'を取り出すには，s[0] とします．\n",
        "\n",
        "文字 'o' を取り出すには s[4] とします．\n",
        "\n",
        "文字の範囲はスライス表記 [開始番号: 終了番号 -1] で取り出すことができます．たとえば，\n",
        "\n",
        "文字列 'He' を取り出すには，s[0:2] とします．\n",
        "\n",
        "\n",
        "スライス表記の開始番号と終了番号は省略できます．省略すると開始番号は 0 ，終了番号は文字列の長さ（これは len(文字列) で計算できます）になります．\n",
        "\n",
        "また後ろから番号付けも可能で，最後の文字列の番号は -1，その前の文字列は -2 となります．\n",
        "\n",
        "\n",
        "$0,2,4$ の添え字の部分から成る文字列 'Hlo' を取り出すには，スライス表記のステップに $2$ を使って s[::2] とします．\n",
        "開始番号と終了番号を省略したので，最初から最後まで $2$ つ跳びで取り出していることに注意してください．\n",
        "\n",
        "●例題８－１\n",
        "\n",
        "文字列 s = 'Hello World' から'World'を取り出してください．"
      ]
    },
    {
      "metadata": {
        "id": "Pef7O59-GASQ",
        "colab_type": "code",
        "outputId": "ca6592f6-d82b-40e2-98c9-4ccdd44c6934",
        "colab": {}
      },
      "cell_type": "code",
      "source": [
        "s = 'Hello World'\n",
        "s[6:]"
      ],
      "execution_count": 0,
      "outputs": [
        {
          "output_type": "execute_result",
          "data": {
            "text/plain": [
              "'World'"
            ]
          },
          "metadata": {
            "tags": []
          },
          "execution_count": 8
        }
      ]
    },
    {
      "metadata": {
        "id": "RlYWgORfGASY",
        "colab_type": "text"
      },
      "cell_type": "markdown",
      "source": [
        "文字列は加算演算子 $+$ で結合することができます．たとえば，\n",
        "\n",
        "'Hello' + 'World' は 'HelloWorld' になります（空白は挿入されません）．\n",
        "\n",
        "また乗算演算子 $*$ も使うことができます．たとえば， $3*$ 'Hello' とすると 'Hello' +'Hello' +'Hello'  と同じ結果が得られます．\n",
        "\n",
        "●例題８－２\n",
        "\n",
        "5回 \"I'm sorry!\" と出力してみましょう．（文字列の中に'記号を入れたいときには，\" \"で囲みます．）"
      ]
    },
    {
      "metadata": {
        "id": "fPE14WFxGASa",
        "colab_type": "code",
        "outputId": "01c359ec-cd12-4464-9f5b-da6ad1c4679d",
        "colab": {}
      },
      "cell_type": "code",
      "source": [
        "print( 5 *\"I'm sorry!\")"
      ],
      "execution_count": 0,
      "outputs": [
        {
          "output_type": "stream",
          "text": [
            "I'm sorry!I'm sorry!I'm sorry!I'm sorry!I'm sorry!\n"
          ],
          "name": "stdout"
        }
      ]
    },
    {
      "metadata": {
        "id": "0KYxwd2GGASh",
        "colab_type": "text"
      },
      "cell_type": "markdown",
      "source": [
        "for文を用いた反復はrange関数によって生成された数列だけでなく，文字列に対しても使えます．\n",
        "\n",
        "たとえば，\n",
        "\n",
        "```python\n",
        "for x in 'Hello': \n",
        "   print( x )\n",
        "``` \n",
        "\n",
        "と書くと，H, e, l, l, o が順番に変数 x に代入されて，print関数で出力されます．\n",
        "\n",
        "●例題８－３\n",
        "\n",
        "文字列 s='Kitty' の各文字の後ろに '!' を入れた文字列 x を出力しなさい．\n"
      ]
    },
    {
      "metadata": {
        "id": "_I5YeQ8LGASj",
        "colab_type": "code",
        "outputId": "aa5f35f6-786c-4d64-b792-d1a8b2fba9a8",
        "colab": {
          "base_uri": "https://localhost:8080/",
          "height": 34
        }
      },
      "cell_type": "code",
      "source": [
        "s = 'Kitty'\n",
        "x = ''\n",
        "for i in s:\n",
        "    x = x + i + '!'\n",
        "print(x)"
      ],
      "execution_count": 0,
      "outputs": [
        {
          "output_type": "stream",
          "text": [
            "K!i!t!t!y!\n"
          ],
          "name": "stdout"
        }
      ]
    },
    {
      "metadata": {
        "id": "Ub584fBzGASu",
        "colab_type": "text"
      },
      "cell_type": "markdown",
      "source": [
        "●問題８－１\n",
        "\n",
        "文字列を入力し，最初と最後が同じ文字なら 'Same!' と出力するプログラムを作りなさい．"
      ]
    },
    {
      "metadata": {
        "id": "XGvJW3i7GASx",
        "colab_type": "code",
        "colab": {}
      },
      "cell_type": "code",
      "source": [
        ""
      ],
      "execution_count": 0,
      "outputs": []
    },
    {
      "metadata": {
        "id": "CFS8n4WKGAS4",
        "colab_type": "text"
      },
      "cell_type": "markdown",
      "source": [
        "●問題８－２\n",
        "\n",
        "文字列を入力し，その中に 'a' が含まれているときに 'In!' と出力するプログラムを作りなさい．\n",
        "（実は  *in* という演算子があるので「 'a' in 文字列」で簡単に 'a'を含むかどうかの判定はできるのですが，ここでは反復を用いて作って下さい．） \n"
      ]
    },
    {
      "metadata": {
        "id": "2k8nAf2yGAS6",
        "colab_type": "code",
        "colab": {}
      },
      "cell_type": "code",
      "source": [
        ""
      ],
      "execution_count": 0,
      "outputs": []
    },
    {
      "metadata": {
        "id": "eqzVig6hGAS_",
        "colab_type": "text"
      },
      "cell_type": "markdown",
      "source": [
        "●問題８－３\n",
        "\n",
        "文字列を引数とすると，各文字の間と最後に空白を入れた文字列を返値として返する関数を作って下さい．\n",
        "さらに，文字列を入力し，その関数を呼び出して空白を入れた文字を出力するプログラムを書いて下さい．\n"
      ]
    },
    {
      "metadata": {
        "id": "iSPZKqF7GATA",
        "colab_type": "code",
        "colab": {}
      },
      "cell_type": "code",
      "source": [
        ""
      ],
      "execution_count": 0,
      "outputs": []
    },
    {
      "metadata": {
        "id": "tygAx4RdGATG",
        "colab_type": "text"
      },
      "cell_type": "markdown",
      "source": [
        "● 問題８－４\n",
        "\n",
        "p='Pen', P='Pineapple', a='Apple' を用いて 'PenPineappleApplePen'という文字列を作れ．\n",
        "また，それを逆から並べた'nePelppAelppaeniPneP'とう文字列を作るプログラムを作成せよ．\n",
        "\n",
        "また，文字列 p, P, a, p の最初の文字（たとえばpなら'P'）を連結した文字列を生成せよ．"
      ]
    },
    {
      "metadata": {
        "id": "dB7ilb7oGATI",
        "colab_type": "code",
        "colab": {}
      },
      "cell_type": "code",
      "source": [
        "p='Pen'\n",
        "P='Pineapple'\n",
        "a='Apple' "
      ],
      "execution_count": 0,
      "outputs": []
    },
    {
      "metadata": {
        "id": "9XVD6AqGGATN",
        "colab_type": "code",
        "colab": {}
      },
      "cell_type": "code",
      "source": [
        ""
      ],
      "execution_count": 0,
      "outputs": []
    },
    {
      "metadata": {
        "id": "QIwYntGkGATR",
        "colab_type": "code",
        "colab": {}
      },
      "cell_type": "code",
      "source": [
        ""
      ],
      "execution_count": 0,
      "outputs": []
    },
    {
      "metadata": {
        "id": "BYO489nwGATW",
        "colab_type": "text"
      },
      "cell_type": "markdown",
      "source": [
        "# リスト\n",
        "\n",
        "\n",
        "Pythonではオブジェクトを保管するための幾つかの便利な機能が（最初から）準備されています．\n",
        "\n",
        "ここではその代表であるリストの使い方を説明します．\n",
        "\n",
        "文字列が文字を箱に順番にしまっていたのと同じように，リストは何でも（Pythonではオブジェクトといいます）箱にしまっておくことができます．\n",
        "\n",
        "リストは[ ]の中に *,*（カンマ）で区切ってものをしまいます．\n",
        "\n",
        "```python\n",
        "L = [ 1, 2, 3, 4]               # range(1,5)と同じように数列を保管\n",
        "L = ['H', 'e', 'l', 'l', 'o']   # 文字列 'Hello' 同じようにう文字を保管\n",
        "L = [ 'AAA', 235, ['BBB',1.3] ] # 文字列，整数，リストを保管\n",
        "\n",
        "```\n",
        "\n",
        "リストに対しても文字列と同じように，足し算，乗算，添え字（インデックス）による抽出や切り出し，for文による反復を行うことができます．\n",
        "\n",
        "リストは文字列と違って可変(mutable)です（文字列は不変(immutable)です）．つまり中身を変えることができます．\n",
        "\n",
        "\n",
        "●例題９－１\n",
        "\n",
        "リスト L=[6, 5, 4, 3] の3番目の数字（Pythonでは0番から始まるので添え字2の数字）を'Hello'に変えて下さい．\n"
      ]
    },
    {
      "metadata": {
        "id": "fSyqQixNGATY",
        "colab_type": "code",
        "outputId": "c4b2e54f-2a1e-479f-8510-3ec0b100beef",
        "colab": {}
      },
      "cell_type": "code",
      "source": [
        "L=[6, 5, 4, 3] \n",
        "L[2] ='Hello'\n",
        "print(L)"
      ],
      "execution_count": 0,
      "outputs": [
        {
          "output_type": "stream",
          "text": [
            "[6, 5, 'Hello', 3]\n"
          ],
          "name": "stdout"
        }
      ]
    },
    {
      "metadata": {
        "id": "4pqBCfq-GATg",
        "colab_type": "text"
      },
      "cell_type": "markdown",
      "source": [
        "●例題９－２\n",
        "\n",
        "大きさが100の変数のリストaを用意し，0番目に0，1番目に10，2番目に20，…と代入し，最後にそれらを表示する，というプログラムを作りましょう．\n",
        "\n",
        "aの0番目から9番目までに代入するには，iが0から9まで１ずつ大きくなるfor ループを作り，a[i]に順々に数値を代入すればよいですね．\n",
        "\n",
        "a[0]には0，a[1]には10，a[2]には20，．．．と代入したいので，a[i]に $i*10$ を代入します．\n",
        "\n",
        "たとえば，以下のプログラムは，最初に0を入れたリストを10倍することによって，[0,0,0,0,0,0,0,0,0,0]というリストを準備をし，\n",
        "次のforループで数字の代入を行います．"
      ]
    },
    {
      "metadata": {
        "id": "D9fB-0rTGATi",
        "colab_type": "code",
        "outputId": "43a33f6e-0d9b-4d8c-ce79-54a216cbf996",
        "colab": {}
      },
      "cell_type": "code",
      "source": [
        "a=10 * [0]\n",
        "for i in range(10):\n",
        "    a[i]=i*10\n",
        "a"
      ],
      "execution_count": 0,
      "outputs": [
        {
          "output_type": "execute_result",
          "data": {
            "text/plain": [
              "[0, 10, 20, 30, 40, 50, 60, 70, 80, 90]"
            ]
          },
          "metadata": {
            "tags": []
          },
          "execution_count": 10
        }
      ]
    },
    {
      "metadata": {
        "id": "N7IP2yROGATn",
        "colab_type": "text"
      },
      "cell_type": "markdown",
      "source": [
        "リストはいろいろな *メソッド* を適用できます．ここで，メソッドというのはリストに適用される関数のことです．\n",
        "\n",
        "リストの後に *.* （ピリオド）を打った後に，「メソッド名(引数)」と書くと，関数のように出力が返ってきます．\n",
        "\n",
        "たとえば，リストの最後に要素を追加するための append メソッドがあります．L.append( 'a' ) と書くと，リスト L の最後に文字列 'a' が追加されます．\n",
        "\n",
        "\n",
        "上の例題９．２は，最初に空のリストを準備して，1つずつ数字をappendメソッドで追加していく方法でも解くことができます．\n"
      ]
    },
    {
      "metadata": {
        "id": "jJt8pujwGATr",
        "colab_type": "code",
        "outputId": "774a64e1-b4ca-4d3a-93bc-579d527fbc6d",
        "colab": {}
      },
      "cell_type": "code",
      "source": [
        "a=[]\n",
        "for i in range(10):\n",
        "    a.append(i*10)\n",
        "a"
      ],
      "execution_count": 0,
      "outputs": [
        {
          "output_type": "execute_result",
          "data": {
            "text/plain": [
              "[0, 10, 20, 30, 40, 50, 60, 70, 80, 90]"
            ]
          },
          "metadata": {
            "tags": []
          },
          "execution_count": 18
        }
      ]
    },
    {
      "metadata": {
        "id": "fG8jWraBGATx",
        "colab_type": "text"
      },
      "cell_type": "markdown",
      "source": [
        "例題９．２では，[0,0,...,0] のリストを準備するために $10 *[0]$ と乗算を使いました．\n",
        "\n",
        "これは以下の *リスト内包表記* と同じですが，リスト内包表記の方が一般的なので推奨される書き方です．\n",
        "\n",
        "```python\n",
        "a=[0 for i in range(10)]\n",
        "```\n",
        "\n",
        "これは for i in range(10) で iを0から9まで変えた反復を行い，反復ごとに 0 を入れたリストを生成する，という意味です．\n",
        "\n",
        "0 のかわりに $i*10$ と書けば問題は 1行で解けます．"
      ]
    },
    {
      "metadata": {
        "id": "mklz11oEGATz",
        "colab_type": "code",
        "outputId": "1d897938-b5e7-4639-9a22-6cd1a06030f4",
        "colab": {}
      },
      "cell_type": "code",
      "source": [
        "a=[i*10 for i in range(10)]\n",
        "a"
      ],
      "execution_count": 0,
      "outputs": [
        {
          "output_type": "execute_result",
          "data": {
            "text/plain": [
              "[0, 10, 20, 30, 40, 50, 60, 70, 80, 90]"
            ]
          },
          "metadata": {
            "tags": []
          },
          "execution_count": 17
        }
      ]
    },
    {
      "metadata": {
        "collapsed": true,
        "id": "fh0hsS_3GAT7",
        "colab_type": "text"
      },
      "cell_type": "markdown",
      "source": [
        "\n",
        "リストの要素を小さい順に並べ替えたいときには，sort()メソッドを使います．\n",
        "たとえば，\n",
        "```python\n",
        "L =[ 6, 8, 3, 1] \n",
        "L.sort()\n",
        "``` \n",
        "とすると，Lは [1, 3, 6, 8] と小さい順に並べ変わります．\n",
        "\n",
        "逆順（大きい順）に並べ替えたいときには，sort()メソッドを使った後に，reverse()メソッドを使います．\n",
        "\n",
        "●例題９－３\n",
        "\n",
        "最初の行にimport randomと宣言した上で，x=random.randint(a,b)と書くことで，xにaからbまでのランダムな整数を代入してくれます．\n",
        "\n",
        "ランダムに生成した1から100までの整数から成る長さ 10 のリストを作り，それを小さい順，大きい順に並べ替えたリストを出力しなさい．\n"
      ]
    },
    {
      "metadata": {
        "id": "eelykRoHGAT9",
        "colab_type": "code",
        "outputId": "af99025d-977d-49f1-f500-aaf6157abba8",
        "colab": {}
      },
      "cell_type": "code",
      "source": [
        "import random\n",
        "L = [ ]\n",
        "for i in range(10):\n",
        "    L.append( random.randint(1,100))\n",
        "print('元のリスト ', L)\n",
        "L.sort()\n",
        "print( '小さい順 ', L)\n",
        "L.reverse()\n",
        "print('大きい順 ', L)"
      ],
      "execution_count": 0,
      "outputs": [
        {
          "output_type": "stream",
          "text": [
            "元のリスト  [43, 75, 46, 71, 93, 23, 96, 19, 77, 57]\n",
            "小さい順  [19, 23, 43, 46, 57, 71, 75, 77, 93, 96]\n",
            "大きい順  [96, 93, 77, 75, 71, 57, 46, 43, 23, 19]\n"
          ],
          "name": "stdout"
        }
      ]
    },
    {
      "metadata": {
        "id": "0ZDyr6sbGAUD",
        "colab_type": "text"
      },
      "cell_type": "markdown",
      "source": [
        "●問題９－１\n",
        "\n",
        "キーボードから10個の数を入力し，それらを入力された順番と逆の順番で表示するプログラムを作りなさい．"
      ]
    },
    {
      "metadata": {
        "id": "O8WCcV2iGAUE",
        "colab_type": "code",
        "colab": {}
      },
      "cell_type": "code",
      "source": [
        ""
      ],
      "execution_count": 0,
      "outputs": []
    },
    {
      "metadata": {
        "id": "0zgu0gyQGAUI",
        "colab_type": "text"
      },
      "cell_type": "markdown",
      "source": [
        "●問題９－２\n",
        "\n",
        "まず，長さ10に全部 0 が入ったリストを作りなさい．\n",
        "\n",
        "次に，0から9までの整数 a1,a2を入力し，リストxのa1番目からa2番目までを1大きくする，という作業を繰り返すプログラムを作りなさい．\n",
        "\n",
        "このとき，毎回リストの0番目から9番目までを表示するようにしなさい．\n",
        "\n",
        "（ヒント： iをa1からa2までの１ずつ大きくするforループを使い，リストのi番目を1大きくするようにしましょう．）"
      ]
    },
    {
      "metadata": {
        "id": "4hLNDHWAGAUJ",
        "colab_type": "code",
        "colab": {}
      },
      "cell_type": "code",
      "source": [
        ""
      ],
      "execution_count": 0,
      "outputs": []
    },
    {
      "metadata": {
        "id": "5MUuZKFxGAUO",
        "colab_type": "text"
      },
      "cell_type": "markdown",
      "source": [
        "●問題９－３\n",
        "\n",
        "リストと整数iを受け取り，リストのi番目の値を１大きくする関数を作りなさい．また，この関数を試すプログラムを作りなさい．\n"
      ]
    },
    {
      "metadata": {
        "id": "GzjcJD3XGAUP",
        "colab_type": "code",
        "colab": {}
      },
      "cell_type": "code",
      "source": [
        ""
      ],
      "execution_count": 0,
      "outputs": []
    },
    {
      "metadata": {
        "id": "hh6K-sEuGAUT",
        "colab_type": "text"
      },
      "cell_type": "markdown",
      "source": [
        "●問題９－４\n",
        "\n",
        "“Taro”, “Jiro”,”Saburo”,”Shiro”,”Goro” がこの順番で座っている．\n",
        "この4人を名前を入れたリスト L は\n",
        "\n",
        "```\n",
        "L=[“Taro”, “Jiro”,”Saburo”, ”Shiro”, ”Goro”]\n",
        "```\n",
        "となる．これを参考にして，自分の座っている列にいる友人の名前のリストを作成せよ．"
      ]
    },
    {
      "metadata": {
        "id": "LQWqmEmDGAUU",
        "colab_type": "code",
        "colab": {}
      },
      "cell_type": "code",
      "source": [
        ""
      ],
      "execution_count": 0,
      "outputs": []
    },
    {
      "metadata": {
        "id": "TDFkSZvOGAUZ",
        "colab_type": "text"
      },
      "cell_type": "markdown",
      "source": [
        "●問題９－５\n",
        "\n",
        "上で作成したリストに対して，最初に座っている人と最後に座っている人を表示せよ．\n",
        "\n",
        "また，名前の昇順のリストを作成せよ．\n"
      ]
    },
    {
      "metadata": {
        "id": "-uypVIEbGAUa",
        "colab_type": "code",
        "colab": {}
      },
      "cell_type": "code",
      "source": [
        ""
      ],
      "execution_count": 0,
      "outputs": []
    },
    {
      "metadata": {
        "id": "N0jMcd0vGAUg",
        "colab_type": "text"
      },
      "cell_type": "markdown",
      "source": [
        "●問題９－６\n",
        "\n",
        "100個の1以上10000以下の整数から成るの一様整数乱数のリストを作成し，次にそれらの和と平均を求めよ．\n",
        "\n",
        "（ヒント：リスト L の和は関数 sum(L) で，要素数は関数 len(L) で求めることができます．）\n",
        "\n",
        "また，平均に最も近い数を求め，それが何番目の数字（最初の数字を0番目とする）なのかを計算するプログラムを作成せよ．"
      ]
    },
    {
      "metadata": {
        "id": "wppN7CvMbKhY",
        "colab_type": "code",
        "colab": {}
      },
      "cell_type": "code",
      "source": [
        ""
      ],
      "execution_count": 0,
      "outputs": []
    },
    {
      "metadata": {
        "id": "LoA7Rno4GAUh",
        "colab_type": "text"
      },
      "cell_type": "markdown",
      "source": [
        "# タプル\n",
        "\n",
        "#  \n",
        "\n",
        "タプルはリストとほとんど同じものですが，リストと違って中身が変更できない不変型(immutable)です．\n",
        "文字列と同様に（不変型なので）以下で説明する辞書のキーとして使うことができます．\n",
        "\n",
        "タプルを生成するには () の中に *,* で区切って入力します．\n",
        "\n",
        "```python\n",
        "  T =(6,4,7,'Hello')\n",
        " ```\n",
        " \n",
        "タプルはリストと同様に添え字（インデックス）や切り出しができますが，中身を変えることができません．\n",
        "\n",
        "例題１０－１\n",
        "\n",
        "上のタプルTの4番目の要素（Pythonの添え字は0から始まるので添え字3の要素）を出力せよ．\n",
        "\n",
        "また，4番目の要素を数字の6に変更してみよ．（エラーが発生するはずです．）\n"
      ]
    },
    {
      "metadata": {
        "id": "XmrJJLysGAUl",
        "colab_type": "code",
        "outputId": "2de14454-e365-4749-d938-e79432e6276a",
        "colab": {}
      },
      "cell_type": "code",
      "source": [
        "T =(6,4,7,'Hello')\n",
        "print( T[3])\n",
        "T[3]=6"
      ],
      "execution_count": 0,
      "outputs": [
        {
          "output_type": "stream",
          "text": [
            "Hello\n"
          ],
          "name": "stdout"
        },
        {
          "output_type": "error",
          "ename": "TypeError",
          "evalue": "'tuple' object does not support item assignment",
          "traceback": [
            "\u001b[0;31m---------------------------------------------------------------------------\u001b[0m",
            "\u001b[0;31mTypeError\u001b[0m                                 Traceback (most recent call last)",
            "\u001b[0;32m<ipython-input-31-5ef517c60d35>\u001b[0m in \u001b[0;36m<module>\u001b[0;34m()\u001b[0m\n\u001b[1;32m      1\u001b[0m \u001b[0mT\u001b[0m \u001b[1;33m=\u001b[0m\u001b[1;33m(\u001b[0m\u001b[1;36m6\u001b[0m\u001b[1;33m,\u001b[0m\u001b[1;36m4\u001b[0m\u001b[1;33m,\u001b[0m\u001b[1;36m7\u001b[0m\u001b[1;33m,\u001b[0m\u001b[1;34m'Hello'\u001b[0m\u001b[1;33m)\u001b[0m\u001b[1;33m\u001b[0m\u001b[0m\n\u001b[1;32m      2\u001b[0m \u001b[0mprint\u001b[0m\u001b[1;33m(\u001b[0m \u001b[0mT\u001b[0m\u001b[1;33m[\u001b[0m\u001b[1;36m3\u001b[0m\u001b[1;33m]\u001b[0m\u001b[1;33m)\u001b[0m\u001b[1;33m\u001b[0m\u001b[0m\n\u001b[0;32m----> 3\u001b[0;31m \u001b[0mT\u001b[0m\u001b[1;33m[\u001b[0m\u001b[1;36m3\u001b[0m\u001b[1;33m]\u001b[0m\u001b[1;33m=\u001b[0m\u001b[1;36m6\u001b[0m\u001b[1;33m\u001b[0m\u001b[0m\n\u001b[0m",
            "\u001b[0;31mTypeError\u001b[0m: 'tuple' object does not support item assignment"
          ]
        }
      ]
    },
    {
      "metadata": {
        "id": "bEspHkM6GAUs",
        "colab_type": "text"
      },
      "cell_type": "markdown",
      "source": [
        "例題１０－２\n",
        "\n",
        "a = 'Hello' と b='World' の2つの変数の中身を1行で取り替えよ．\n",
        "\n",
        "（aとbから成るタプル (a,b) に (b,a)を代入すると1行で取り替えることができます．\n",
        "\n",
        "また，() は省略して書くこともできます．\n",
        "\n",
        "ただし1つの要素から成るタプルの場合には省略できず，*(a,)* とカンマ *,* を入れて書きます． ）\n"
      ]
    },
    {
      "metadata": {
        "id": "3WjYKrDcGAUt",
        "colab_type": "code",
        "outputId": "940a24c1-bab5-48df-ed63-7e704ec38aaa",
        "colab": {}
      },
      "cell_type": "code",
      "source": [
        "a = 'Hello'\n",
        "b = 'World'\n",
        "a,b = b, a\n",
        "print(a,b)"
      ],
      "execution_count": 0,
      "outputs": [
        {
          "output_type": "stream",
          "text": [
            "World Hello\n"
          ],
          "name": "stdout"
        }
      ]
    },
    {
      "metadata": {
        "id": "_imXbtc3GAU2",
        "colab_type": "code",
        "colab": {}
      },
      "cell_type": "code",
      "source": [
        ""
      ],
      "execution_count": 0,
      "outputs": []
    },
    {
      "metadata": {
        "id": "T0keilIMGAU6",
        "colab_type": "text"
      },
      "cell_type": "markdown",
      "source": [
        "問題１０－１\n",
        "\n",
        "変数 a,b,c に代入された文字列を変数 x,y,z に代入せよ（ただし1行で）．\n",
        "```python\n",
        "a = 'Mickey' \n",
        "b = 'Minny'\n",
        "c = 'Kitty' \n",
        "```"
      ]
    },
    {
      "metadata": {
        "id": "kAoJvrbqGAU7",
        "colab_type": "code",
        "colab": {}
      },
      "cell_type": "code",
      "source": [
        ""
      ],
      "execution_count": 0,
      "outputs": []
    },
    {
      "metadata": {
        "id": "uk-B90S3GAU_",
        "colab_type": "text"
      },
      "cell_type": "markdown",
      "source": [
        "変数 a,b,c に代入された文字列を a=>b, b=>c, c=>a になるように交換せよ（ただし1行で）．\n",
        "```python\n",
        "a = 'Mickey' \n",
        "b = 'Minny'\n",
        "c = 'Kitty' \n",
        "```"
      ]
    },
    {
      "metadata": {
        "id": "Zx_Njy-vGAVA",
        "colab_type": "code",
        "colab": {}
      },
      "cell_type": "code",
      "source": [
        ""
      ],
      "execution_count": 0,
      "outputs": []
    },
    {
      "metadata": {
        "id": "GuG0KoALGAVG",
        "colab_type": "text"
      },
      "cell_type": "markdown",
      "source": [
        "# 辞書\n",
        "\n",
        "#  \n",
        "\n",
        "リストの他に辞書という便利な機能もあります．辞書は，*キー* を入れると *値*（あたい）が返ってくる写像(マップ）のようなものです．\n",
        "順番は任意なのでマップ型と呼ばれます．\n",
        "\n",
        "これは通常の辞書で，\"Hello\" をひくと「こんにちわ」が書いてあるのと似ています．\n",
        "\n",
        "辞書は {} をの中に「キー：値」を *,* （カンマ）で区切って入れます．英語を日本語に変換する辞書を作ってみましょう．\n",
        "\n",
        "```python\n",
        "D ={ 'Hello' : 'こんにちわ',  'Good Morning': 'おはよう', 'Good Night': 'おやすみ' }\n",
        "\n",
        "D['Good Morning'] \n",
        "```\n",
        "\n",
        "最初の行で辞書 D を作り，次の行で辞書Dからキー'Good Morning'を引きます．これは対応する値 'おはよう' を返します．\n",
        "\n",
        "---\n",
        "3人の女の子の身長を入れた辞書は以下のようになります．\n",
        "\n",
        "```python\n",
        "D={ 'Mary': 126, 'Jane': 156, 'Sara': 170} \n",
        "```\n",
        "\n",
        "キーのリストは D.keys() で値のリストは D.values() で得ることができます．\n",
        "\n",
        "キーになれるのは不変型(immutable)だけです．したがって，リストや辞書などの可変型(mutable)のオブジェクトはキーにはなれません．\n",
        "\n",
        "キーには数字，文字列，タプルなどを使ってください．\n",
        "\n",
        "値は任意のオブジェクトを入れることができます．リストや辞書でも大丈夫です．\n",
        "\n",
        "たとえば，値に身長と体重のリストを入れた辞書は以下のようになります．\n",
        "\n",
        "```python\n",
        "D={ 'Mary': [126,30], 'Jane': [156,55], 'Sara': [170,60]} \n",
        "```\n",
        "\n",
        "辞書 D の中にキーがあるかどうかは「キー in D」と*in* 演算子を用いて判定することができます．\n",
        "\n",
        "たとえば，上で作った身長の辞書Dに対して\n",
        "```\n",
        "  'Kitty' in D \n",
        "```\n",
        "は False を返し，\n",
        "```\n",
        "  'Mary' in D \n",
        "```\n",
        "は True を返します．\n",
        "\n",
        "\n",
        "辞書に新しい要素を追加したり，値を変更したいときは，単に「D[キー]=値」と書きます．\n",
        "たとえば，身長が 10cmの'Kitty'を追加するには\n",
        "```python\n",
        " D['Kitty'] =10 \n",
        "```\n",
        "と書き，'Jane'の身長を180に変更したいときには，\n",
        "```python\n",
        " D['Jane'] =180 \n",
        "```\n",
        "と書きます．\n",
        "\n",
        "\n",
        "辞書 D に対してもfor文を使うことができます．構文は for x in D: です．このとき x に代入されるのはキーですが，順番は入力した順ではありません．\n",
        "（リストや文字列は順序をもつ型（順序型）なので順番が保たれますが，辞書はマップ（写像）型なので順番はばらばらになります．）\n",
        "\n",
        "●例題１１－１\n",
        "\n",
        "上で作成した身長の辞書から身長が160cm以上の人の名前を出力せよ．\n"
      ]
    },
    {
      "metadata": {
        "id": "lYUk9A8RGAVI",
        "colab_type": "code",
        "outputId": "3d524e40-941e-414e-cdf6-93f32ad45352",
        "colab": {}
      },
      "cell_type": "code",
      "source": [
        "D={ 'Mary': 126, 'Jane': 156, 'Sara': 170} \n",
        "for i in D:\n",
        "    if D[i] >=160:\n",
        "        print (i)"
      ],
      "execution_count": 0,
      "outputs": [
        {
          "output_type": "stream",
          "text": [
            "Sara\n"
          ],
          "name": "stdout"
        }
      ]
    },
    {
      "metadata": {
        "id": "R09bzgW2GAVO",
        "colab_type": "text"
      },
      "cell_type": "markdown",
      "source": [
        "●例題１１－２\n",
        "\n",
        "上で作成した身長の辞書を，小さい順に並べたときの名前を出力せよ．\n",
        "\n",
        "まず，身長と名前のタプルを入れたリストをfor文を用いて作ります(この時点では並び順は任意です）．\n",
        "\n",
        "次にそれを sort()メソッドで小さい順に並べ替えます（並べ替えはタプルの前の要素（この場合には身長）が優先されます）．\n",
        "\n",
        "並べ替えた後のリストをfor文を用いて反復し，名前を順に出力します．\n"
      ]
    },
    {
      "metadata": {
        "id": "pdBpj9AiGAVP",
        "colab_type": "code",
        "outputId": "5c50ff2c-0d61-40fa-d131-8b037abb369b",
        "colab": {
          "base_uri": "https://localhost:8080/",
          "height": 102
        }
      },
      "cell_type": "code",
      "source": [
        "D={ 'Mary': 126, 'Jane': 156, 'Sara': 170} \n",
        "L = []   #空のリストを準備しておく\n",
        "for i in D:\n",
        "    L.append( (D[i], i) ) #（身長，名前）のタプルをリストに追加\n",
        "print('並べる前のリスト ' , L)\n",
        "L.sort()\n",
        "print('身長順のリスト ' , L)\n",
        "for (height,name) in L:\n",
        "    print( name )"
      ],
      "execution_count": 0,
      "outputs": [
        {
          "output_type": "stream",
          "text": [
            "並べる前のリスト  [(126, 'Mary'), (156, 'Jane'), (170, 'Sara')]\n",
            "身長順のリスト  [(126, 'Mary'), (156, 'Jane'), (170, 'Sara')]\n",
            "Mary\n",
            "Jane\n",
            "Sara\n"
          ],
          "name": "stdout"
        }
      ]
    },
    {
      "metadata": {
        "id": "MGWExz4HW9CB",
        "colab_type": "text"
      },
      "cell_type": "markdown",
      "source": [
        "●例題１１－3\n",
        "\n",
        "辞書に対する**for**文はキーを返しますが，**辞書.items()** とすると，キーと値のタプルを返します．\n",
        "\n",
        "これを用いて，辞書D={ 'Mary': 126, 'Jane': 156, 'Sara': 170} のキーと値を入れ替えた辞書（身長を入れると名前を返す辞書）を作成しなさい．\n",
        "\n"
      ]
    },
    {
      "metadata": {
        "id": "UjHkKQqTXqqB",
        "colab_type": "code",
        "outputId": "f514fd23-9067-4cbc-d43a-f1e6fb17e5cd",
        "colab": {
          "base_uri": "https://localhost:8080/",
          "height": 34
        }
      },
      "cell_type": "code",
      "source": [
        "D={ 'Mary': 126, 'Jane': 156, 'Sara': 170} \n",
        "Reverse = {}\n",
        "for key, value in D.items():\n",
        "  Reverse[value] = key \n",
        "print(Reverse)"
      ],
      "execution_count": 0,
      "outputs": [
        {
          "output_type": "stream",
          "text": [
            "{126: 'Mary', 156: 'Jane', 170: 'Sara'}\n"
          ],
          "name": "stdout"
        }
      ]
    },
    {
      "metadata": {
        "id": "0BFeXAmIGAVY",
        "colab_type": "text"
      },
      "cell_type": "markdown",
      "source": [
        "●問題１１－１\n",
        "\n",
        "名前をキー，体重を値とした辞書 D を作成せよ．ただし，友人は3人以上記入し，\n",
        "名前には友人の名前を文字列として，体重には友人の理想体重を整数値として入力せよ．"
      ]
    },
    {
      "metadata": {
        "id": "zmkqKbwKGAVY",
        "colab_type": "code",
        "colab": {}
      },
      "cell_type": "code",
      "source": [
        ""
      ],
      "execution_count": 0,
      "outputs": []
    },
    {
      "metadata": {
        "id": "YTieNumQGAVf",
        "colab_type": "text"
      },
      "cell_type": "markdown",
      "source": [
        "●問題１１－２\n",
        "\n",
        "起動すると，友人の名前の入力を求め，上で作成した辞書Dから体重を調べて画面上に表示するプログラムを作成せよ．"
      ]
    },
    {
      "metadata": {
        "id": "OdK5PAZBGAVh",
        "colab_type": "code",
        "colab": {}
      },
      "cell_type": "code",
      "source": [
        ""
      ],
      "execution_count": 0,
      "outputs": []
    },
    {
      "metadata": {
        "id": "29XTUmF0GAVp",
        "colab_type": "text"
      },
      "cell_type": "markdown",
      "source": [
        "●問題１１－３\n",
        "\n",
        "上のプログラムを，何度も友人の名前の入力を求めるように変更せよ．ただし，辞書にない名前を入力すると終了するものとする．"
      ]
    },
    {
      "metadata": {
        "id": "lykaaNI9GAVq",
        "colab_type": "code",
        "colab": {}
      },
      "cell_type": "code",
      "source": [
        ""
      ],
      "execution_count": 0,
      "outputs": []
    },
    {
      "metadata": {
        "id": "x668lTmnGAVu",
        "colab_type": "text"
      },
      "cell_type": "markdown",
      "source": [
        "●問題１１－４\n",
        "\n",
        "空の辞書Dを準備し，その後で名前と体重の入力を何度もユーザーに要求して，\n",
        "名前をキー，体重を値としてDに保管していくプログラムを作成せよ．\n",
        "ただし，ユーザー名に空白 ”” を入力すると，画面に作成した辞書Dを表示してから，終了するものとする．\n"
      ]
    },
    {
      "metadata": {
        "id": "k6T06GBlGAVv",
        "colab_type": "code",
        "colab": {}
      },
      "cell_type": "code",
      "source": [
        ""
      ],
      "execution_count": 0,
      "outputs": []
    },
    {
      "metadata": {
        "id": "ceuSb3P4GAV1",
        "colab_type": "text"
      },
      "cell_type": "markdown",
      "source": [
        "●問題１１－５\n",
        "\n",
        "友人の名前と体重を保管した辞書Dを準備し，その後で，友人の名前と体重の入力を求め，名前が一致する友人がいたならば，\n",
        "体重を新しい値に変更し，いなければ辞書に追加するプログラムを作成せよ．\n",
        "ただし，ユーザー名に空白 ”” を入力すると，画面に作成した辞書Dを表示してから，終了するものとする．"
      ]
    },
    {
      "metadata": {
        "id": "w6yWvQErGAV2",
        "colab_type": "code",
        "colab": {}
      },
      "cell_type": "code",
      "source": [
        ""
      ],
      "execution_count": 0,
      "outputs": []
    },
    {
      "metadata": {
        "collapsed": true,
        "id": "nQZZn7WJGAV6",
        "colab_type": "text"
      },
      "cell_type": "markdown",
      "source": [
        "●問題１１－６\n",
        "\n",
        "問題１１－１で作成した友人の名前と体重を保管した辞書Dの名前を体重を名前のアルファベット順に画面に出力するプログラムを作成せよ．"
      ]
    },
    {
      "metadata": {
        "id": "tfGL5VDMGAV7",
        "colab_type": "code",
        "colab": {}
      },
      "cell_type": "code",
      "source": [
        ""
      ],
      "execution_count": 0,
      "outputs": []
    },
    {
      "metadata": {
        "collapsed": true,
        "id": "YrfnBkbsGAWA",
        "colab_type": "text"
      },
      "cell_type": "markdown",
      "source": [
        "●問題１１－７\n",
        "\n",
        "好きな都道府県を5つ選択した後，都道府県名をキーとし，その名産品（1つ以上入力する）のリストを値とした辞書Dを作成せよ．\n",
        "\n",
        "また，作成した辞書に対して，名産品の多い順に並べるプログラムを作成せよ．\n",
        "\n",
        "(ヒント：リストLの長さ(要素数）は関数len(L)で計算できます．）"
      ]
    },
    {
      "metadata": {
        "id": "jnr3E7tSGAWC",
        "colab_type": "code",
        "colab": {}
      },
      "cell_type": "code",
      "source": [
        ""
      ],
      "execution_count": 0,
      "outputs": []
    },
    {
      "metadata": {
        "id": "cUp1aXrLGAWG",
        "colab_type": "text"
      },
      "cell_type": "markdown",
      "source": [
        "# クラス\n",
        "\n",
        "#  \n",
        "\n",
        "Pythonでは，数やリストや辞書などはすべてオブジェクトと呼ばれます．これらのオブジェクトは元から準備されたものなので組み込みオブジェクトと呼ばれます．\n",
        "\n",
        "Pythonでは，自分で新しいオブジェクトを作ることができます．それがクラス(class)です．\n",
        "\n",
        "構文は関数と似ています．関数を定義するキーワード def の代わりに class と書きます．\n",
        "\n",
        "```python\n",
        "class クラス名():\n",
        "    クラス本体\n",
        "```\n",
        "\n",
        "クラスとは，オブジェクトの属性やオブジェクトに対する操作（これをメソッドと呼びます）をまとめたものです．\n",
        "\n",
        "たとえば，ピカチュウというクラスは，「ほっぺた」や「しっぽ」などの属性と，「しっぽを振る」とか「リンゴを食べる」といったメソッドをもちます．\n",
        "\n",
        "例として「点」を表すクラス Point を作ってみましょう．\n",
        "\n",
        "```python\n",
        "class Point():\n",
        "    pass\n",
        "\n",
        "p1=Point()\n",
        "```\n",
        "\n",
        "pass は何もしないことを表します（何も入れないとエラーします）．クラス名は Point で，```p1=Point()```でp1というクラスの実体（インスタンスと言います）を生成しています．\n",
        "\n",
        "p1 という点を表すインスタンスには，x座標とy座標という**属性** (attribute)をもたせることができます．\n",
        "\n",
        "属性はインスタンスの後ろに **.** を書いた後に記述します．\n",
        "\n",
        "```python\n",
        "p1.x = 100\n",
        "p1.y = 200\n",
        "```\n",
        "これで点p1にx,y座標の属性100,200をもたせることに成功しました．\n",
        "\n",
        "次に，点を移動させるとか，座標をまとめて出力するといった**メソッド** (method) を記述しましょう．\n",
        "\n",
        "メソッドは，クラス定義の**中**で関数と同様に def と書くことで定義できます．\n",
        "\n",
        "ただし，メソッドの最初の引数には必ず自分自身を表す**self**を入れます．クラス内でx属性にアクセスするときには，**self.x**と記述します．\n",
        "\n",
        "●例題１２－１\n",
        "\n",
        "点を表すクラス Point を作成し，x座標とy座標を表す属性に100,200を代入してください．\n",
        "\n",
        "次に，座標の出力を行うメソッドprintMeを用いて座標の出力を行ってください．\n",
        "\n",
        "また，座標の移動を行うメソッドmoveを定義し，座標を右に10，上に20移動させてから座標の出力を行ってください．\n"
      ]
    },
    {
      "metadata": {
        "id": "FjxnlGR9GAWI",
        "colab_type": "code",
        "outputId": "6131be96-f5a2-4f37-ee4e-ca38464096cc",
        "colab": {}
      },
      "cell_type": "code",
      "source": [
        "class Point():\n",
        "    def printMe(self):\n",
        "        print( \"<\", self.x, \",\", self.y, \">\" )\n",
        "    def move(self,right,up):\n",
        "        self.x+=right\n",
        "        self.y+=up\n",
        "p1=Point()\n",
        "p1.x = 100\n",
        "p1.y = 200\n",
        "p1.printMe()\n",
        "p1.move(10,20)\n",
        "p1.printMe()"
      ],
      "execution_count": 0,
      "outputs": [
        {
          "output_type": "stream",
          "text": [
            "< 100 , 200 >\n",
            "< 110 , 220 >\n"
          ],
          "name": "stdout"
        }
      ]
    },
    {
      "metadata": {
        "id": "lCG4b0CQGAWM",
        "colab_type": "text"
      },
      "cell_type": "markdown",
      "source": [
        "クラスには```__``` (アンダースコア2つ）で挟んだ特殊メソッドを定義することができます．\n",
        "\n",
        "たとえば文字列を返す**__str__**を定義すると，クラスのインスタンスをprintしたときに，その文字列が表示されるようになります．\n",
        "\n",
        "クラスの初期化を行うメソッド**__init__**を定義すると，インスタンスを最初に生成したときに「自動的に」呼ばれ，インスタンスの初期化を行うことができます．\n",
        "\n",
        "たとえば，点のインスタンスを生成するときに「必ず」x,y座標を与えて，x,y属性に代入するには，\n",
        "\n",
        "```python\n",
        "    def __init__(self, x, y):\n",
        "        self.x=x\n",
        "        self.y=y\n",
        "```\n",
        "と記述します（最初の引数に**self**を入れるのを忘れないようにしてください）．\n",
        "\n",
        "ただし，点クラスのインスタンスを生成するときには，**self**は書かずに，以下のように記述します．\n",
        "\n",
        "```python\n",
        "p1=Point(100,200)\n",
        "```\n",
        "\n",
        "●例題１２－２\n",
        "\n",
        "初期化をするためのメソッド```__init__```を用いて点を表すクラス Point を作成し，x座標とy座標を表す属性に100,200を代入してください．\n",
        "\n",
        "また，文字列を返す```__str__```を用いて座標の出力を行ってください．\n",
        "\n",
        "さらに，他の点インスタンスの座標を加える特殊メソッド```__add__```（これは + 演算子を適用したときに呼ばれます）を\n",
        "使って座標 (10，20) をもつ点インスタンスとの足し算をしなさい．\n",
        "        "
      ]
    },
    {
      "metadata": {
        "id": "jRYkm8VBGAWN",
        "colab_type": "code",
        "outputId": "100339d9-7849-4b36-9f4f-1057ba627cb6",
        "colab": {}
      },
      "cell_type": "code",
      "source": [
        "class Point:\n",
        "    def __init__(self, x, y):\n",
        "        self.x=x\n",
        "        self.y=y\n",
        "        \n",
        "    def __str__(self):\n",
        "        return \"<\"+ str(self.x) + \", \" + str(self.y) +\">\"\n",
        "    \n",
        "    def __add__(self, other):\n",
        "        return Point( self.x+other.x, self.y+other.y )\n",
        "    \n",
        "p1=Point(100,200)\n",
        "print( p1)\n",
        "p2=Point(10,20)\n",
        "print( p1+p2 )"
      ],
      "execution_count": 0,
      "outputs": [
        {
          "output_type": "stream",
          "text": [
            "<100, 200>\n",
            "<110, 220>\n"
          ],
          "name": "stdout"
        }
      ]
    },
    {
      "metadata": {
        "id": "jAMQ2dhgGAWU",
        "colab_type": "text"
      },
      "cell_type": "markdown",
      "source": [
        "●問題１２－１\n",
        "\n",
        "身長と体重の2つの属性をもつHumanクラスを作成してください．\n",
        "\n",
        "その後に，「体重/身長の2乗」で定義されるボディマス指数を計算するメソッド bmi を追加してください．\n",
        "（ただし，体重はキログラム，身長はメートルで入れます．）\n",
        "\n",
        "次に，以下の表に基づいて，痩せ型から肥満(4度）までのいずれに属するかを文字列として返すメソッド am_i_fat を追加してください． \n",
        "\n",
        "                     BMI値\n",
        "    痩せ型     \t18.5未満\n",
        "    普通体重\t   18.5以上、25未満\n",
        "    肥満（1度）\t25以上、30未満\n",
        "    肥満（2度）\t30以上、35未満\n",
        "    肥満（3度）\t35以上、40未満\n",
        "    肥満（4度）\t40以上\n",
        "    \n",
        "自分の身長と体重（公表するのが嫌な場合には，友人の身長と体重）を属性としたHumanのインスタンス me を作成して，am_i_fatを呼んでみましょう．\n",
        "\n"
      ]
    },
    {
      "metadata": {
        "id": "YscOF6yaGAWV",
        "colab_type": "code",
        "colab": {}
      },
      "cell_type": "code",
      "source": [
        ""
      ],
      "execution_count": 0,
      "outputs": []
    },
    {
      "metadata": {
        "id": "B4VEgGyAGAWY",
        "colab_type": "text"
      },
      "cell_type": "markdown",
      "source": [
        "●問題１２－２\n",
        "\n",
        "例題で作った点を表すクラスを参考にして，ベクトルを表すクラスを定義し，2つのベクトルの内積を乗算 $*$ で行うようなメソッド\n",
        "```__mult__```を書いてみましょう．"
      ]
    },
    {
      "metadata": {
        "id": "EZl75WmdGAWZ",
        "colab_type": "code",
        "colab": {}
      },
      "cell_type": "code",
      "source": [
        ""
      ],
      "execution_count": 0,
      "outputs": []
    },
    {
      "metadata": {
        "id": "B7S9emRkbrqG",
        "colab_type": "text"
      },
      "cell_type": "markdown",
      "source": [
        "#  内包表記\n",
        "\n",
        "\n",
        "リストのところで内包表記 (comprehension) について簡単に触れました．\n",
        "ここでは，内包表記を一般的に説明します．\n",
        "\n",
        "* リスト内包\n",
        "* 辞書内包\n",
        "* ジェネレータ内包\n",
        "\n",
        "\n"
      ]
    },
    {
      "metadata": {
        "id": "0z8O8Bj7YnUA",
        "colab_type": "text"
      },
      "cell_type": "markdown",
      "source": [
        "##  リスト内包\n",
        "\n",
        "ｰ 1から9までの奇数のリストを生成するには，リスト[ ] の中にfor文を入れて，以下のように記述します．\n",
        "\n",
        "```python\n",
        "a = [0 for i in range(1,10,2)]\n",
        "print(a) \n",
        ">>> \n",
        "[1, 3, 5, 7, 9]\n",
        "```\n",
        "\n",
        "if文をfor文の後ろに入れて条件付きで反復することもできます．\n",
        "```python\n",
        "a = [i for i in range(10) if i%2==1]\n",
        "print(a)\n",
        ">>>\n",
        "[1, 3, 5, 7, 9]\n",
        "```\n"
      ]
    },
    {
      "metadata": {
        "id": "YAGwYHIyd-MT",
        "colab_type": "text"
      },
      "cell_type": "markdown",
      "source": [
        "●問題 \n",
        "\n",
        "20から100の整数で3で割り切れるものだけから成るリストを，リスト内包で生成せよ．\n"
      ]
    },
    {
      "metadata": {
        "id": "g-nOpLg1brAt",
        "colab_type": "code",
        "colab": {}
      },
      "cell_type": "code",
      "source": [
        ""
      ],
      "execution_count": 0,
      "outputs": []
    },
    {
      "metadata": {
        "id": "mkd1uL7lek6O",
        "colab_type": "text"
      },
      "cell_type": "markdown",
      "source": [
        "●問題\n",
        "\n",
        "\"aa\", \"bb\", \"cc\", \"dd\", \"ee\" から成るリストを，文字列 s= \"abcde\" からリスト内包を用いて生成せよ．"
      ]
    },
    {
      "metadata": {
        "id": "69zyMwegdBFY",
        "colab_type": "code",
        "colab": {}
      },
      "cell_type": "code",
      "source": [
        " s= \"abcde\" \n",
        " #ここにコードを記述せよ．"
      ],
      "execution_count": 0,
      "outputs": []
    },
    {
      "metadata": {
        "id": "GHzi_IZifcfn",
        "colab_type": "text"
      },
      "cell_type": "markdown",
      "source": [
        "## 集合内包\n",
        "\n",
        "リストの[ ] のかわりに{ }を用いることによって，集合を生成する集合内包ができます．\n",
        "\n",
        "●問題\n",
        "\n",
        "上でリストを生成したかわりに集合を生成せよ．\n"
      ]
    },
    {
      "metadata": {
        "id": "w-6tUduTge6z",
        "colab_type": "code",
        "colab": {}
      },
      "cell_type": "code",
      "source": [
        ""
      ],
      "execution_count": 0,
      "outputs": []
    },
    {
      "metadata": {
        "id": "KXgE559wgfEx",
        "colab_type": "code",
        "colab": {}
      },
      "cell_type": "code",
      "source": [
        ""
      ],
      "execution_count": 0,
      "outputs": []
    },
    {
      "metadata": {
        "id": "xccArRCigUhe",
        "colab_type": "text"
      },
      "cell_type": "markdown",
      "source": [
        "## 辞書内包\n",
        "\n",
        "\n",
        "{  } 内でfor文を書いて，キー:値を入れることによって辞書を生成できます．これを辞書内包とよびます．\n",
        "\n",
        "1から10の整数をキーとし，その2乗を値とした辞書は，以下のように辞書内包を用いて生成できます\n",
        "\n",
        "```python\n",
        "{i:i**2  for i in range(1,11)}\n",
        ">>>\n",
        "{1: 1, 2: 4, 3: 9, 4: 16, 5: 25, 6: 36, 7: 49, 8: 64, 9: 81, 10: 100}\n",
        "```"
      ]
    },
    {
      "metadata": {
        "id": "kvqpn6J2iSIF",
        "colab_type": "text"
      },
      "cell_type": "markdown",
      "source": [
        "●問題\n",
        "1から10までの整数をキーとし，\"#\"をキー個並べた文字列を値とした辞書を，辞書内包を用いて生成せよ．"
      ]
    },
    {
      "metadata": {
        "id": "CfgNuDmTdBl0",
        "colab_type": "code",
        "colab": {}
      },
      "cell_type": "code",
      "source": [
        ""
      ],
      "execution_count": 0,
      "outputs": []
    },
    {
      "metadata": {
        "id": "sttwhxhghfSB",
        "colab_type": "text"
      },
      "cell_type": "markdown",
      "source": [
        "●問題\n",
        "\n",
        "辞書  D= {1:\"one\", 2:\"two\",3:\"three\",4:\"four\" } から，英字の数字文字列(\"one\"とか\"two\"とか)をキーとし，数字(1とか2とか)を値とした辞書を辞書内包を用いて生成せよ．"
      ]
    },
    {
      "metadata": {
        "id": "28Lnpb76hsKa",
        "colab_type": "code",
        "colab": {}
      },
      "cell_type": "code",
      "source": [
        "D= {1:\"one\", 2:\"two\",3:\"three\",4:\"four\" } "
      ],
      "execution_count": 0,
      "outputs": []
    },
    {
      "metadata": {
        "id": "cBB9rJLyfgHl",
        "colab_type": "text"
      },
      "cell_type": "markdown",
      "source": [
        "## ジェネレータ内包\n",
        "\n",
        "リストの[]，集合や辞書の{}のかわりに( ) を用いると，要素を順に「生成する」オブジェクトが得られる．これをジェネレータ内包と呼ぶ．\n",
        "()の前にsum関数などを書くと，内包で要素をすべて生成せずに，順に生成しながら合計がとれる．\n",
        "\n",
        "たとえば，1から10までの数字の和は以下のようにジェネレータ内包で記述できます．\n",
        "```python\n",
        "\n",
        "sum( i for i in range(1,11))\n",
        ">>>\n",
        "55\n",
        "```\n",
        "\n",
        "●問題\n",
        "\n",
        "1から100までの奇数の和を計算せよ．\n"
      ]
    },
    {
      "metadata": {
        "id": "yp6BDXXjjcp2",
        "colab_type": "code",
        "colab": {}
      },
      "cell_type": "code",
      "source": [
        ""
      ],
      "execution_count": 0,
      "outputs": []
    },
    {
      "metadata": {
        "id": "6KvlCgiuYrmz",
        "colab_type": "text"
      },
      "cell_type": "markdown",
      "source": [
        "\n",
        "●問題\n",
        "\n",
        "$x$ を -100から100まで1づつ増やしたとき，$x^2 + 2x -5 $ の最小値の値を，ジェネレータ内包を用いて計算せよ． \n"
      ]
    },
    {
      "metadata": {
        "id": "zhhBCYHLY2Wy",
        "colab_type": "code",
        "colab": {}
      },
      "cell_type": "code",
      "source": [
        ""
      ],
      "execution_count": 0,
      "outputs": []
    },
    {
      "metadata": {
        "id": "0Bm4Je9vbAGG",
        "colab_type": "text"
      },
      "cell_type": "markdown",
      "source": [
        "# zip の使い方\n",
        "\n",
        "2つ以上のリストの要素を**for**文で順に1つずつ取り出したいときには，**zip**関数が便利です．\n",
        "\n",
        "**zip** はzipper（ジッパー）のように，2つのものを1つにまとめてくれます．\n",
        "\n",
        "たとえば，体重のリストweightと名前のリストnameがあったとき，順に取り出して出力するには，以下のようにします．\n",
        "\n",
        "```python \n",
        "weight = [50,60,70]\n",
        "name =[ \"Taro\", \"Hanako\", \"Jimmy\"]\n",
        "for w,n in zip(weight,name):\n",
        "     print(w,n)\n",
        " \n",
        " >>>\n",
        "50 Taro\n",
        "60 Hanako\n",
        "70 Jimmy\n",
        "    ```\n",
        "\n",
        "●問題\n",
        "\n",
        "身長と名前を入れた2つのリストがあったとき，これらを順に反復して，名前をキーとし身長を値とした辞書を生成せよ．できれば，辞書内包を用いて1行で記述せよ．"
      ]
    },
    {
      "metadata": {
        "id": "8RW6avnbbZLy",
        "colab_type": "code",
        "colab": {}
      },
      "cell_type": "code",
      "source": [
        "height = [150,160,170]\n",
        "name =[ \"Taro\", \"Hanako\", \"Jimmy\"]\n",
        "#以下に1行で書く：\n"
      ],
      "execution_count": 0,
      "outputs": []
    },
    {
      "metadata": {
        "id": "vFXBpkoAdOzP",
        "colab_type": "text"
      },
      "cell_type": "markdown",
      "source": [
        "●問題\n",
        "\n",
        "身長，体重，名前の3つのリストがあったとき，**zip**関数を用いて出力せよ．"
      ]
    },
    {
      "metadata": {
        "id": "tHrPijBmdL-m",
        "colab_type": "code",
        "colab": {}
      },
      "cell_type": "code",
      "source": [
        "height = [150,160,170]\n",
        "weight = [50,60,70]\n",
        "name =[ \"Taro\", \"Hanako\", \"Jimmy\"]\n",
        "\n"
      ],
      "execution_count": 0,
      "outputs": []
    },
    {
      "metadata": {
        "id": "SzeXzb_dYQu7",
        "colab_type": "text"
      },
      "cell_type": "markdown",
      "source": [
        "# エラー\n",
        "\n",
        "\n",
        "プログラムにはエラーがつきものです．エラーが発生したときに，どのような処理をするかは**例外処理**とよばれ，これをあらかじめ組み込んでおくことによって，頑強なプログラムを作成することができます．\n",
        "\n",
        "\n",
        "構文は**if**文と類似していて，以下のように書きます．\n",
        "\n",
        "```python\n",
        "try:\n",
        "    エラーが試される文\n",
        "except エラー名:\n",
        "    エラー発生時の例外処理\n",
        "else: \n",
        "    エラーが発生しないときの処理    \n",
        "\n",
        "```\n",
        "\n",
        "●例題\n",
        "\n",
        "10/xを計算しyに代入してから出力するプログラムを xが0のときに発生するエラー(ZeroDivisionError)の処理を入れて記述せよ．"
      ]
    },
    {
      "metadata": {
        "id": "3L_c5fhGZ6FK",
        "colab_type": "code",
        "colab": {
          "base_uri": "https://localhost:8080/",
          "height": 34
        },
        "outputId": "5c5336d3-ae30-4a99-9a7d-b60388aeb801"
      },
      "cell_type": "code",
      "source": [
        "x = 0\n",
        "#x = 1\n",
        "try:\n",
        "  y = 10/x\n",
        "except ZeroDivisionError:\n",
        "  print(\"0では割れないよ!\")\n",
        "else:\n",
        "  print(y)"
      ],
      "execution_count": 3,
      "outputs": [
        {
          "output_type": "stream",
          "text": [
            "0では割れないよ!\n"
          ],
          "name": "stdout"
        }
      ]
    },
    {
      "metadata": {
        "id": "CHuMEp_taVtE",
        "colab_type": "text"
      },
      "cell_type": "markdown",
      "source": [
        "●問題 \n",
        "\n",
        "どのようなエラー名なのかは，実際にエラーを発生させてみると分かります．\n",
        "\n",
        "```python\n",
        "\n",
        "x = [1,2,3]\n",
        "print(x[3])\n",
        "```\n",
        "と入力してみましょう．\n",
        "**IndexError** と出力されるはずです．\n",
        "\n",
        "このエラー名を使って，iを0から5まで１づつ増やしながら反復させてx[i]を出力させたとき，\n",
        "対応するインデックスがない場合には，「そんな添え字はないよ」と出力するプログラムを作れ．\n",
        "\n"
      ]
    },
    {
      "metadata": {
        "id": "t2UHu-szaQfb",
        "colab_type": "code",
        "colab": {}
      },
      "cell_type": "code",
      "source": [
        "x = [1,2,3]\n"
      ],
      "execution_count": 0,
      "outputs": []
    },
    {
      "metadata": {
        "id": "snb62dxBbMML",
        "colab_type": "code",
        "colab": {}
      },
      "cell_type": "code",
      "source": [
        ""
      ],
      "execution_count": 0,
      "outputs": []
    }
  ]
}