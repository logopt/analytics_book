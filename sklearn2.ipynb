{
  "nbformat": 4,
  "nbformat_minor": 0,
  "metadata": {
    "colab": {
      "name": "sklearn2.ipynb",
      "version": "0.3.2",
      "provenance": [],
      "collapsed_sections": [],
      "include_colab_link": true
    },
    "kernelspec": {
      "display_name": "Python 3",
      "language": "python",
      "name": "python3"
    }
  },
  "cells": [
    {
      "cell_type": "markdown",
      "metadata": {
        "id": "view-in-github",
        "colab_type": "text"
      },
      "source": [
        "<a href=\"https://colab.research.google.com/github/mickeykubo/analytics_book/blob/master/sklearn2.ipynb\" target=\"_parent\"><img src=\"https://colab.research.google.com/assets/colab-badge.svg\" alt=\"Open In Colab\"/></a>"
      ]
    },
    {
      "metadata": {
        "id": "ERsJ8Yi52JiQ",
        "colab_type": "text"
      },
      "cell_type": "markdown",
      "source": [
        "# Python言語によるビジネスアナリティクス\n",
        "\n",
        "## 実務家のための最適化，統計分析，機械学習（近代科学社）\n",
        "\n",
        "\n",
        "## scikit-learn を用いた 機械学習の例題と練習問題 \n",
        "\n",
        "\n",
        "## 教科書 付録 B参照\n",
        "\n",
        "### B.2 線形回帰\n",
        "\n",
        "広告のデータ http://logopt.com/data/Advertising.csv を用いる．\n",
        "\n",
        "テレビ(TV)，ラジオ(Radio)，新聞(Newspaper)への広告から売り上げ(Sales)を予測する．\n"
      ]
    },
    {
      "metadata": {
        "id": "hUWqw92Q2JiS",
        "colab_type": "code",
        "colab": {}
      },
      "cell_type": "code",
      "source": [
        "import pandas as pd #まずはpandasモジュールを準備する．"
      ],
      "execution_count": 0,
      "outputs": []
    },
    {
      "metadata": {
        "id": "iJlco2-I2JiY",
        "colab_type": "code",
        "colab": {
          "base_uri": "https://localhost:8080/",
          "height": 203
        },
        "outputId": "cfc1e8ae-e450-415e-8817-1d95b0faebd1"
      },
      "cell_type": "code",
      "source": [
        "#csvファイルからデータ読み込み\n",
        "data = pd.read_csv('http://logopt.com/data/Advertising.csv', index_col =0) #0行目をインデックスにする．\n",
        "data.head()"
      ],
      "execution_count": 2,
      "outputs": [
        {
          "output_type": "execute_result",
          "data": {
            "text/html": [
              "<div>\n",
              "<style scoped>\n",
              "    .dataframe tbody tr th:only-of-type {\n",
              "        vertical-align: middle;\n",
              "    }\n",
              "\n",
              "    .dataframe tbody tr th {\n",
              "        vertical-align: top;\n",
              "    }\n",
              "\n",
              "    .dataframe thead th {\n",
              "        text-align: right;\n",
              "    }\n",
              "</style>\n",
              "<table border=\"1\" class=\"dataframe\">\n",
              "  <thead>\n",
              "    <tr style=\"text-align: right;\">\n",
              "      <th></th>\n",
              "      <th>TV</th>\n",
              "      <th>Radio</th>\n",
              "      <th>Newspaper</th>\n",
              "      <th>Sales</th>\n",
              "    </tr>\n",
              "  </thead>\n",
              "  <tbody>\n",
              "    <tr>\n",
              "      <th>1</th>\n",
              "      <td>230.1</td>\n",
              "      <td>37.8</td>\n",
              "      <td>69.2</td>\n",
              "      <td>22.1</td>\n",
              "    </tr>\n",
              "    <tr>\n",
              "      <th>2</th>\n",
              "      <td>44.5</td>\n",
              "      <td>39.3</td>\n",
              "      <td>45.1</td>\n",
              "      <td>10.4</td>\n",
              "    </tr>\n",
              "    <tr>\n",
              "      <th>3</th>\n",
              "      <td>17.2</td>\n",
              "      <td>45.9</td>\n",
              "      <td>69.3</td>\n",
              "      <td>9.3</td>\n",
              "    </tr>\n",
              "    <tr>\n",
              "      <th>4</th>\n",
              "      <td>151.5</td>\n",
              "      <td>41.3</td>\n",
              "      <td>58.5</td>\n",
              "      <td>18.5</td>\n",
              "    </tr>\n",
              "    <tr>\n",
              "      <th>5</th>\n",
              "      <td>180.8</td>\n",
              "      <td>10.8</td>\n",
              "      <td>58.4</td>\n",
              "      <td>12.9</td>\n",
              "    </tr>\n",
              "  </tbody>\n",
              "</table>\n",
              "</div>"
            ],
            "text/plain": [
              "      TV  Radio  Newspaper  Sales\n",
              "1  230.1   37.8       69.2   22.1\n",
              "2   44.5   39.3       45.1   10.4\n",
              "3   17.2   45.9       69.3    9.3\n",
              "4  151.5   41.3       58.5   18.5\n",
              "5  180.8   10.8       58.4   12.9"
            ]
          },
          "metadata": {
            "tags": []
          },
          "execution_count": 2
        }
      ]
    },
    {
      "metadata": {
        "id": "OJ01sSbn2Jif",
        "colab_type": "text"
      },
      "cell_type": "markdown",
      "source": [
        "独立変数（特徴ベクトル）$X$ は TV, Ratio, Newspaperの列，従属変数 $y$ は Salesの列\n"
      ]
    },
    {
      "metadata": {
        "id": "x0dx0vJd2Jig",
        "colab_type": "code",
        "colab": {
          "base_uri": "https://localhost:8080/",
          "height": 203
        },
        "outputId": "b98a2ced-a2ab-4da9-c9ac-c63d2e5bdf66"
      },
      "cell_type": "code",
      "source": [
        "X = data[['TV', 'Radio', 'Newspaper']]\n",
        "y = data['Sales']\n",
        "X.head()"
      ],
      "execution_count": 3,
      "outputs": [
        {
          "output_type": "execute_result",
          "data": {
            "text/html": [
              "<div>\n",
              "<style scoped>\n",
              "    .dataframe tbody tr th:only-of-type {\n",
              "        vertical-align: middle;\n",
              "    }\n",
              "\n",
              "    .dataframe tbody tr th {\n",
              "        vertical-align: top;\n",
              "    }\n",
              "\n",
              "    .dataframe thead th {\n",
              "        text-align: right;\n",
              "    }\n",
              "</style>\n",
              "<table border=\"1\" class=\"dataframe\">\n",
              "  <thead>\n",
              "    <tr style=\"text-align: right;\">\n",
              "      <th></th>\n",
              "      <th>TV</th>\n",
              "      <th>Radio</th>\n",
              "      <th>Newspaper</th>\n",
              "    </tr>\n",
              "  </thead>\n",
              "  <tbody>\n",
              "    <tr>\n",
              "      <th>1</th>\n",
              "      <td>230.1</td>\n",
              "      <td>37.8</td>\n",
              "      <td>69.2</td>\n",
              "    </tr>\n",
              "    <tr>\n",
              "      <th>2</th>\n",
              "      <td>44.5</td>\n",
              "      <td>39.3</td>\n",
              "      <td>45.1</td>\n",
              "    </tr>\n",
              "    <tr>\n",
              "      <th>3</th>\n",
              "      <td>17.2</td>\n",
              "      <td>45.9</td>\n",
              "      <td>69.3</td>\n",
              "    </tr>\n",
              "    <tr>\n",
              "      <th>4</th>\n",
              "      <td>151.5</td>\n",
              "      <td>41.3</td>\n",
              "      <td>58.5</td>\n",
              "    </tr>\n",
              "    <tr>\n",
              "      <th>5</th>\n",
              "      <td>180.8</td>\n",
              "      <td>10.8</td>\n",
              "      <td>58.4</td>\n",
              "    </tr>\n",
              "  </tbody>\n",
              "</table>\n",
              "</div>"
            ],
            "text/plain": [
              "      TV  Radio  Newspaper\n",
              "1  230.1   37.8       69.2\n",
              "2   44.5   39.3       45.1\n",
              "3   17.2   45.9       69.3\n",
              "4  151.5   41.3       58.5\n",
              "5  180.8   10.8       58.4"
            ]
          },
          "metadata": {
            "tags": []
          },
          "execution_count": 3
        }
      ]
    },
    {
      "metadata": {
        "id": "uazJr1JN2Jil",
        "colab_type": "text"
      },
      "cell_type": "markdown",
      "source": [
        "## scikit-learnの基本手順\n",
        "\n",
        "### 手順１：クラスをインポートして，インスタンスを生成する．\n",
        "\n",
        "### 手順２：fitメソッドを用いて，データから学習する．\n",
        "\n",
        "### 手順３：predictメソッドを用いて予測を行う．\n"
      ]
    },
    {
      "metadata": {
        "id": "z_GGKlrP2Jin",
        "colab_type": "code",
        "colab": {}
      },
      "cell_type": "code",
      "source": [
        "from sklearn.linear_model import LinearRegression #線形回帰クラス LinearRegression のインポート\n",
        "reg = LinearRegression() # 線形回帰クラスのインスタンス reg 生成\n",
        "reg.fit(X, y)           # fitによる学習\n",
        "yhat = reg.predict(X)   # predictによる予測"
      ],
      "execution_count": 0,
      "outputs": []
    },
    {
      "metadata": {
        "id": "_f9AcIoD2Jio",
        "colab_type": "code",
        "colab": {
          "base_uri": "https://localhost:8080/",
          "height": 52
        },
        "outputId": "d762f703-9e1e-4d57-8b64-e422e261325a"
      },
      "cell_type": "code",
      "source": [
        "print(\"y-切片= \",reg.intercept_)\n",
        "print(\"係数 = \",reg.coef_)"
      ],
      "execution_count": 5,
      "outputs": [
        {
          "output_type": "stream",
          "text": [
            "y-切片=  2.938889369459412\n",
            "係数 =  [ 0.04576465  0.18853002 -0.00103749]\n"
          ],
          "name": "stdout"
        }
      ]
    },
    {
      "metadata": {
        "id": "ixXIZEV12Jir",
        "colab_type": "code",
        "colab": {
          "base_uri": "https://localhost:8080/",
          "height": 34
        },
        "outputId": "61b084ef-41ec-4341-a4c9-d2bad96f4043"
      },
      "cell_type": "code",
      "source": [
        "SSE = ((yhat-y)**2).sum()      # Sum of Square Error\n",
        "SST = ((y.mean()-y)**2).sum()  # Total Sum of Square\n",
        "print(\"R2 =\", 1-SSE/SST)       # 決定係数 R^2"
      ],
      "execution_count": 6,
      "outputs": [
        {
          "output_type": "stream",
          "text": [
            "R2 = 0.8972106381789522\n"
          ],
          "name": "stdout"
        }
      ]
    },
    {
      "metadata": {
        "id": "M60HO8hL2Jit",
        "colab_type": "code",
        "colab": {
          "base_uri": "https://localhost:8080/",
          "height": 34
        },
        "outputId": "0d9d3ec8-8627-47fb-efd4-7f29adda4468"
      },
      "cell_type": "code",
      "source": [
        "print(reg.score(X,y)) #決定係数の別計算"
      ],
      "execution_count": 7,
      "outputs": [
        {
          "output_type": "stream",
          "text": [
            "0.8972106381789521\n"
          ],
          "name": "stdout"
        }
      ]
    },
    {
      "metadata": {
        "id": "8RDDcZ1t2Jiv",
        "colab_type": "text"
      },
      "cell_type": "markdown",
      "source": [
        "## 問題\n",
        "\n",
        "http://logopt.com/data/SATGPA.csv データを用いて，2種類のSATの成績からGPAを予測せよ．"
      ]
    },
    {
      "metadata": {
        "id": "JSudnnMV2Jix",
        "colab_type": "code",
        "colab": {}
      },
      "cell_type": "code",
      "source": [
        ""
      ],
      "execution_count": 0,
      "outputs": []
    },
    {
      "metadata": {
        "id": "cdfpLCfj2Jiy",
        "colab_type": "text"
      },
      "cell_type": "markdown",
      "source": [
        "### 問題\n",
        "\n",
        "http://logopt.com/data/Boston.csv のBostonの住宅データを用いて回帰分析を行え．\n",
        "\n",
        "medvが住宅の価格で，他のデータ（犯罪率や人口など）から予測する．\n"
      ]
    },
    {
      "metadata": {
        "id": "X1uZu5Y-2Jiz",
        "colab_type": "code",
        "colab": {}
      },
      "cell_type": "code",
      "source": [
        ""
      ],
      "execution_count": 0,
      "outputs": []
    },
    {
      "metadata": {
        "id": "r9PQDqfD2Ji0",
        "colab_type": "text"
      },
      "cell_type": "markdown",
      "source": [
        "### 問題\n",
        "\n",
        "http://logopt.com/data/Auto.csv の車の燃費のデータを用いて回帰分析を行え．\n",
        "\n",
        "データの詳細については，\n",
        "\n",
        "https://vincentarelbundock.github.io/Rdatasets/doc/ISLR/Auto.html\n",
        "\n",
        "を参照せよ．\n",
        "\n",
        "最初の列が燃費（mpg: Mile Per Gallon)であり，これを他の列の情報を用いて予測する．最後の列は車名なので無視して良い．"
      ]
    },
    {
      "metadata": {
        "id": "5wLGQ14j2Ji1",
        "colab_type": "code",
        "colab": {}
      },
      "cell_type": "code",
      "source": [
        ""
      ],
      "execution_count": 0,
      "outputs": []
    },
    {
      "metadata": {
        "id": "vBkD8GlG2Ji3",
        "colab_type": "text"
      },
      "cell_type": "markdown",
      "source": [
        "### 例題２\n",
        "\n",
        "http://logopt.com/data/Diamond.csv からダイアモンドの価格データを読み込み，線形回帰による予測を行う．\n",
        "\n",
        "列は [\"carat\",\"colour\",\"clarity\",\"certification\",\"price\"] であり，他の情報から価格(price)の予測を行え．\n",
        "\n",
        "カラット(carat)以外の列は情報が文字列として保管されている．\n",
        "\n",
        "これはカテゴリー変数とよばれ，sciki-learnで扱うには，数値に変換してあげる必要がある．\n",
        "\n",
        "pandasの**get_dummies関数**で数値情報（ダミー変数）に変換してから，線形回帰を行う．\n",
        "\n",
        "たとえば，色を表すcolour列はD,E,F,G,H,Iの文字列が入っている．これを各値が入っているとき1，それ以外のとき0の数値に変換したものが**ダミー変数**になる．\n",
        "\n",
        "色はいずれかの値をとるので，ダミー変数は独立でない（1つが1になると，他のすべては0になる）．\n",
        "\n",
        "最初のダミー変数を除くには，get_dummies関数の引数の**drop_first**をTrueに設定すれば良い．"
      ]
    },
    {
      "metadata": {
        "id": "bvC5mQJ82Ji5",
        "colab_type": "code",
        "colab": {
          "base_uri": "https://localhost:8080/",
          "height": 203
        },
        "outputId": "71333080-13b3-4f46-9f8c-169334e053b1"
      },
      "cell_type": "code",
      "source": [
        "diamond = pd.read_csv('http://logopt.com/data/Diamond.csv', index_col=0)\n",
        "diamond.head()"
      ],
      "execution_count": 8,
      "outputs": [
        {
          "output_type": "execute_result",
          "data": {
            "text/html": [
              "<div>\n",
              "<style scoped>\n",
              "    .dataframe tbody tr th:only-of-type {\n",
              "        vertical-align: middle;\n",
              "    }\n",
              "\n",
              "    .dataframe tbody tr th {\n",
              "        vertical-align: top;\n",
              "    }\n",
              "\n",
              "    .dataframe thead th {\n",
              "        text-align: right;\n",
              "    }\n",
              "</style>\n",
              "<table border=\"1\" class=\"dataframe\">\n",
              "  <thead>\n",
              "    <tr style=\"text-align: right;\">\n",
              "      <th></th>\n",
              "      <th>carat</th>\n",
              "      <th>colour</th>\n",
              "      <th>clarity</th>\n",
              "      <th>certification</th>\n",
              "      <th>price</th>\n",
              "    </tr>\n",
              "  </thead>\n",
              "  <tbody>\n",
              "    <tr>\n",
              "      <th>1</th>\n",
              "      <td>0.30</td>\n",
              "      <td>D</td>\n",
              "      <td>VS2</td>\n",
              "      <td>GIA</td>\n",
              "      <td>1302</td>\n",
              "    </tr>\n",
              "    <tr>\n",
              "      <th>2</th>\n",
              "      <td>0.30</td>\n",
              "      <td>E</td>\n",
              "      <td>VS1</td>\n",
              "      <td>GIA</td>\n",
              "      <td>1510</td>\n",
              "    </tr>\n",
              "    <tr>\n",
              "      <th>3</th>\n",
              "      <td>0.30</td>\n",
              "      <td>G</td>\n",
              "      <td>VVS1</td>\n",
              "      <td>GIA</td>\n",
              "      <td>1510</td>\n",
              "    </tr>\n",
              "    <tr>\n",
              "      <th>4</th>\n",
              "      <td>0.30</td>\n",
              "      <td>G</td>\n",
              "      <td>VS1</td>\n",
              "      <td>GIA</td>\n",
              "      <td>1260</td>\n",
              "    </tr>\n",
              "    <tr>\n",
              "      <th>5</th>\n",
              "      <td>0.31</td>\n",
              "      <td>D</td>\n",
              "      <td>VS1</td>\n",
              "      <td>GIA</td>\n",
              "      <td>1641</td>\n",
              "    </tr>\n",
              "  </tbody>\n",
              "</table>\n",
              "</div>"
            ],
            "text/plain": [
              "   carat colour clarity certification  price\n",
              "1   0.30      D     VS2           GIA   1302\n",
              "2   0.30      E     VS1           GIA   1510\n",
              "3   0.30      G    VVS1           GIA   1510\n",
              "4   0.30      G     VS1           GIA   1260\n",
              "5   0.31      D     VS1           GIA   1641"
            ]
          },
          "metadata": {
            "tags": []
          },
          "execution_count": 8
        }
      ]
    },
    {
      "metadata": {
        "id": "XzLot1sB2Ji8",
        "colab_type": "code",
        "colab": {
          "base_uri": "https://localhost:8080/",
          "height": 203
        },
        "outputId": "5024ea00-71fc-454d-ce69-3acbcca11936"
      },
      "cell_type": "code",
      "source": [
        "diamond = pd.get_dummies(diamond, drop_first=True) #ダミー変数の最初のものを除く\n",
        "#diamond = pd.get_dummies(diamond) # 除かなくても結果は同じ\n",
        "diamond.head()"
      ],
      "execution_count": 9,
      "outputs": [
        {
          "output_type": "execute_result",
          "data": {
            "text/html": [
              "<div>\n",
              "<style scoped>\n",
              "    .dataframe tbody tr th:only-of-type {\n",
              "        vertical-align: middle;\n",
              "    }\n",
              "\n",
              "    .dataframe tbody tr th {\n",
              "        vertical-align: top;\n",
              "    }\n",
              "\n",
              "    .dataframe thead th {\n",
              "        text-align: right;\n",
              "    }\n",
              "</style>\n",
              "<table border=\"1\" class=\"dataframe\">\n",
              "  <thead>\n",
              "    <tr style=\"text-align: right;\">\n",
              "      <th></th>\n",
              "      <th>carat</th>\n",
              "      <th>price</th>\n",
              "      <th>colour_E</th>\n",
              "      <th>colour_F</th>\n",
              "      <th>colour_G</th>\n",
              "      <th>colour_H</th>\n",
              "      <th>colour_I</th>\n",
              "      <th>clarity_VS1</th>\n",
              "      <th>clarity_VS2</th>\n",
              "      <th>clarity_VVS1</th>\n",
              "      <th>clarity_VVS2</th>\n",
              "      <th>certification_HRD</th>\n",
              "      <th>certification_IGI</th>\n",
              "    </tr>\n",
              "  </thead>\n",
              "  <tbody>\n",
              "    <tr>\n",
              "      <th>1</th>\n",
              "      <td>0.30</td>\n",
              "      <td>1302</td>\n",
              "      <td>0</td>\n",
              "      <td>0</td>\n",
              "      <td>0</td>\n",
              "      <td>0</td>\n",
              "      <td>0</td>\n",
              "      <td>0</td>\n",
              "      <td>1</td>\n",
              "      <td>0</td>\n",
              "      <td>0</td>\n",
              "      <td>0</td>\n",
              "      <td>0</td>\n",
              "    </tr>\n",
              "    <tr>\n",
              "      <th>2</th>\n",
              "      <td>0.30</td>\n",
              "      <td>1510</td>\n",
              "      <td>1</td>\n",
              "      <td>0</td>\n",
              "      <td>0</td>\n",
              "      <td>0</td>\n",
              "      <td>0</td>\n",
              "      <td>1</td>\n",
              "      <td>0</td>\n",
              "      <td>0</td>\n",
              "      <td>0</td>\n",
              "      <td>0</td>\n",
              "      <td>0</td>\n",
              "    </tr>\n",
              "    <tr>\n",
              "      <th>3</th>\n",
              "      <td>0.30</td>\n",
              "      <td>1510</td>\n",
              "      <td>0</td>\n",
              "      <td>0</td>\n",
              "      <td>1</td>\n",
              "      <td>0</td>\n",
              "      <td>0</td>\n",
              "      <td>0</td>\n",
              "      <td>0</td>\n",
              "      <td>1</td>\n",
              "      <td>0</td>\n",
              "      <td>0</td>\n",
              "      <td>0</td>\n",
              "    </tr>\n",
              "    <tr>\n",
              "      <th>4</th>\n",
              "      <td>0.30</td>\n",
              "      <td>1260</td>\n",
              "      <td>0</td>\n",
              "      <td>0</td>\n",
              "      <td>1</td>\n",
              "      <td>0</td>\n",
              "      <td>0</td>\n",
              "      <td>1</td>\n",
              "      <td>0</td>\n",
              "      <td>0</td>\n",
              "      <td>0</td>\n",
              "      <td>0</td>\n",
              "      <td>0</td>\n",
              "    </tr>\n",
              "    <tr>\n",
              "      <th>5</th>\n",
              "      <td>0.31</td>\n",
              "      <td>1641</td>\n",
              "      <td>0</td>\n",
              "      <td>0</td>\n",
              "      <td>0</td>\n",
              "      <td>0</td>\n",
              "      <td>0</td>\n",
              "      <td>1</td>\n",
              "      <td>0</td>\n",
              "      <td>0</td>\n",
              "      <td>0</td>\n",
              "      <td>0</td>\n",
              "      <td>0</td>\n",
              "    </tr>\n",
              "  </tbody>\n",
              "</table>\n",
              "</div>"
            ],
            "text/plain": [
              "   carat  price  colour_E  colour_F  colour_G  colour_H  colour_I  \\\n",
              "1   0.30   1302         0         0         0         0         0   \n",
              "2   0.30   1510         1         0         0         0         0   \n",
              "3   0.30   1510         0         0         1         0         0   \n",
              "4   0.30   1260         0         0         1         0         0   \n",
              "5   0.31   1641         0         0         0         0         0   \n",
              "\n",
              "   clarity_VS1  clarity_VS2  clarity_VVS1  clarity_VVS2  certification_HRD  \\\n",
              "1            0            1             0             0                  0   \n",
              "2            1            0             0             0                  0   \n",
              "3            0            0             1             0                  0   \n",
              "4            1            0             0             0                  0   \n",
              "5            1            0             0             0                  0   \n",
              "\n",
              "   certification_IGI  \n",
              "1                  0  \n",
              "2                  0  \n",
              "3                  0  \n",
              "4                  0  \n",
              "5                  0  "
            ]
          },
          "metadata": {
            "tags": []
          },
          "execution_count": 9
        }
      ]
    },
    {
      "metadata": {
        "id": "cOiDa0Rc2Ji-",
        "colab_type": "code",
        "colab": {
          "base_uri": "https://localhost:8080/",
          "height": 203
        },
        "outputId": "1cef682f-7a74-404b-cd0f-00b4dcaa91f2"
      },
      "cell_type": "code",
      "source": [
        "y = diamond.price                # 従属変数(price)の抽出\n",
        "X = diamond.drop('price',axis=1) # 独立変数（特徴ベクトル）をpriceの列を除くことによって生成\n",
        "X.head()"
      ],
      "execution_count": 10,
      "outputs": [
        {
          "output_type": "execute_result",
          "data": {
            "text/html": [
              "<div>\n",
              "<style scoped>\n",
              "    .dataframe tbody tr th:only-of-type {\n",
              "        vertical-align: middle;\n",
              "    }\n",
              "\n",
              "    .dataframe tbody tr th {\n",
              "        vertical-align: top;\n",
              "    }\n",
              "\n",
              "    .dataframe thead th {\n",
              "        text-align: right;\n",
              "    }\n",
              "</style>\n",
              "<table border=\"1\" class=\"dataframe\">\n",
              "  <thead>\n",
              "    <tr style=\"text-align: right;\">\n",
              "      <th></th>\n",
              "      <th>carat</th>\n",
              "      <th>colour_E</th>\n",
              "      <th>colour_F</th>\n",
              "      <th>colour_G</th>\n",
              "      <th>colour_H</th>\n",
              "      <th>colour_I</th>\n",
              "      <th>clarity_VS1</th>\n",
              "      <th>clarity_VS2</th>\n",
              "      <th>clarity_VVS1</th>\n",
              "      <th>clarity_VVS2</th>\n",
              "      <th>certification_HRD</th>\n",
              "      <th>certification_IGI</th>\n",
              "    </tr>\n",
              "  </thead>\n",
              "  <tbody>\n",
              "    <tr>\n",
              "      <th>1</th>\n",
              "      <td>0.30</td>\n",
              "      <td>0</td>\n",
              "      <td>0</td>\n",
              "      <td>0</td>\n",
              "      <td>0</td>\n",
              "      <td>0</td>\n",
              "      <td>0</td>\n",
              "      <td>1</td>\n",
              "      <td>0</td>\n",
              "      <td>0</td>\n",
              "      <td>0</td>\n",
              "      <td>0</td>\n",
              "    </tr>\n",
              "    <tr>\n",
              "      <th>2</th>\n",
              "      <td>0.30</td>\n",
              "      <td>1</td>\n",
              "      <td>0</td>\n",
              "      <td>0</td>\n",
              "      <td>0</td>\n",
              "      <td>0</td>\n",
              "      <td>1</td>\n",
              "      <td>0</td>\n",
              "      <td>0</td>\n",
              "      <td>0</td>\n",
              "      <td>0</td>\n",
              "      <td>0</td>\n",
              "    </tr>\n",
              "    <tr>\n",
              "      <th>3</th>\n",
              "      <td>0.30</td>\n",
              "      <td>0</td>\n",
              "      <td>0</td>\n",
              "      <td>1</td>\n",
              "      <td>0</td>\n",
              "      <td>0</td>\n",
              "      <td>0</td>\n",
              "      <td>0</td>\n",
              "      <td>1</td>\n",
              "      <td>0</td>\n",
              "      <td>0</td>\n",
              "      <td>0</td>\n",
              "    </tr>\n",
              "    <tr>\n",
              "      <th>4</th>\n",
              "      <td>0.30</td>\n",
              "      <td>0</td>\n",
              "      <td>0</td>\n",
              "      <td>1</td>\n",
              "      <td>0</td>\n",
              "      <td>0</td>\n",
              "      <td>1</td>\n",
              "      <td>0</td>\n",
              "      <td>0</td>\n",
              "      <td>0</td>\n",
              "      <td>0</td>\n",
              "      <td>0</td>\n",
              "    </tr>\n",
              "    <tr>\n",
              "      <th>5</th>\n",
              "      <td>0.31</td>\n",
              "      <td>0</td>\n",
              "      <td>0</td>\n",
              "      <td>0</td>\n",
              "      <td>0</td>\n",
              "      <td>0</td>\n",
              "      <td>1</td>\n",
              "      <td>0</td>\n",
              "      <td>0</td>\n",
              "      <td>0</td>\n",
              "      <td>0</td>\n",
              "      <td>0</td>\n",
              "    </tr>\n",
              "  </tbody>\n",
              "</table>\n",
              "</div>"
            ],
            "text/plain": [
              "   carat  colour_E  colour_F  colour_G  colour_H  colour_I  clarity_VS1  \\\n",
              "1   0.30         0         0         0         0         0            0   \n",
              "2   0.30         1         0         0         0         0            1   \n",
              "3   0.30         0         0         1         0         0            0   \n",
              "4   0.30         0         0         1         0         0            1   \n",
              "5   0.31         0         0         0         0         0            1   \n",
              "\n",
              "   clarity_VS2  clarity_VVS1  clarity_VVS2  certification_HRD  \\\n",
              "1            1             0             0                  0   \n",
              "2            0             0             0                  0   \n",
              "3            0             1             0                  0   \n",
              "4            0             0             0                  0   \n",
              "5            0             0             0                  0   \n",
              "\n",
              "   certification_IGI  \n",
              "1                  0  \n",
              "2                  0  \n",
              "3                  0  \n",
              "4                  0  \n",
              "5                  0  "
            ]
          },
          "metadata": {
            "tags": []
          },
          "execution_count": 10
        }
      ]
    },
    {
      "metadata": {
        "id": "TVRRFRGe2JjB",
        "colab_type": "code",
        "colab": {}
      },
      "cell_type": "code",
      "source": [
        "from sklearn.linear_model import LinearRegression #線形回帰クラスのインポート\n",
        "reg = LinearRegression() # 線形回帰クラスのインスタンス生成\n",
        "reg.fit(X, y)           # 学習\n",
        "yhat = reg.predict(X)   # 予測"
      ],
      "execution_count": 0,
      "outputs": []
    },
    {
      "metadata": {
        "id": "TZCqAFzK2JjE",
        "colab_type": "code",
        "colab": {
          "base_uri": "https://localhost:8080/",
          "height": 105
        },
        "outputId": "5f79c969-4db8-4d89-97a7-7a1a8602adb9"
      },
      "cell_type": "code",
      "source": [
        "print(\"y-切片= \",reg.intercept_)\n",
        "print(\"係数 = \",reg.coef_)\n",
        "print(\"決定変数= \",reg.score(X,y)) #決定係数の別計算"
      ],
      "execution_count": 12,
      "outputs": [
        {
          "output_type": "stream",
          "text": [
            "y-切片=  169.17604383492744\n",
            "係数 =  [12766.39597047 -1439.0853427  -1841.69054716 -2176.67218633\n",
            " -2747.14998002 -3313.1023993  -1474.56614749 -1792.01092358\n",
            "  -689.29043537 -1191.16426364    15.22672874   141.2624469 ]\n",
            "決定変数=  0.9581280577870392\n"
          ],
          "name": "stdout"
        }
      ]
    },
    {
      "metadata": {
        "id": "yeSu2IbB2JjI",
        "colab_type": "text"
      },
      "cell_type": "markdown",
      "source": [
        "### 問題\n",
        "\n",
        "http://logopt.com/data/carprice.csv から車の価格データを読み込み，線形回帰による予測を行え．\n",
        "\n",
        "データの詳細は\n",
        "https://vincentarelbundock.github.io/Rdatasets/doc/DAAG/carprice.html\n",
        "にある．\n",
        "\n",
        "車種(Type)，100マイル走る際のガロン数（gpm100），都市部での1ガロンあたりの走行距離（MPG.city），高速道路での１ガロン当たりの走行距離（MPG.highway）から，価格(Price)を予測せよ．"
      ]
    },
    {
      "metadata": {
        "id": "24xC5f3j2JjJ",
        "colab_type": "code",
        "colab": {}
      },
      "cell_type": "code",
      "source": [
        ""
      ],
      "execution_count": 0,
      "outputs": []
    },
    {
      "metadata": {
        "id": "c1ai4iQC2JjL",
        "colab_type": "text"
      },
      "cell_type": "markdown",
      "source": [
        "### 問題\n",
        "\n",
        "教科書79ページのtipsデータに対して線形回帰を用いてもらえるチップの額を予測せよ．"
      ]
    },
    {
      "metadata": {
        "id": "LJBzBiIa2JjL",
        "colab_type": "code",
        "colab": {
          "base_uri": "https://localhost:8080/",
          "height": 203
        },
        "outputId": "146cb413-9696-419a-a88f-af3be2e24552"
      },
      "cell_type": "code",
      "source": [
        "import seaborn as sns\n",
        "tips = sns.load_dataset('tips')\n",
        "tips.head()"
      ],
      "execution_count": 13,
      "outputs": [
        {
          "output_type": "execute_result",
          "data": {
            "text/html": [
              "<div>\n",
              "<style scoped>\n",
              "    .dataframe tbody tr th:only-of-type {\n",
              "        vertical-align: middle;\n",
              "    }\n",
              "\n",
              "    .dataframe tbody tr th {\n",
              "        vertical-align: top;\n",
              "    }\n",
              "\n",
              "    .dataframe thead th {\n",
              "        text-align: right;\n",
              "    }\n",
              "</style>\n",
              "<table border=\"1\" class=\"dataframe\">\n",
              "  <thead>\n",
              "    <tr style=\"text-align: right;\">\n",
              "      <th></th>\n",
              "      <th>total_bill</th>\n",
              "      <th>tip</th>\n",
              "      <th>sex</th>\n",
              "      <th>smoker</th>\n",
              "      <th>day</th>\n",
              "      <th>time</th>\n",
              "      <th>size</th>\n",
              "    </tr>\n",
              "  </thead>\n",
              "  <tbody>\n",
              "    <tr>\n",
              "      <th>0</th>\n",
              "      <td>16.99</td>\n",
              "      <td>1.01</td>\n",
              "      <td>Female</td>\n",
              "      <td>No</td>\n",
              "      <td>Sun</td>\n",
              "      <td>Dinner</td>\n",
              "      <td>2</td>\n",
              "    </tr>\n",
              "    <tr>\n",
              "      <th>1</th>\n",
              "      <td>10.34</td>\n",
              "      <td>1.66</td>\n",
              "      <td>Male</td>\n",
              "      <td>No</td>\n",
              "      <td>Sun</td>\n",
              "      <td>Dinner</td>\n",
              "      <td>3</td>\n",
              "    </tr>\n",
              "    <tr>\n",
              "      <th>2</th>\n",
              "      <td>21.01</td>\n",
              "      <td>3.50</td>\n",
              "      <td>Male</td>\n",
              "      <td>No</td>\n",
              "      <td>Sun</td>\n",
              "      <td>Dinner</td>\n",
              "      <td>3</td>\n",
              "    </tr>\n",
              "    <tr>\n",
              "      <th>3</th>\n",
              "      <td>23.68</td>\n",
              "      <td>3.31</td>\n",
              "      <td>Male</td>\n",
              "      <td>No</td>\n",
              "      <td>Sun</td>\n",
              "      <td>Dinner</td>\n",
              "      <td>2</td>\n",
              "    </tr>\n",
              "    <tr>\n",
              "      <th>4</th>\n",
              "      <td>24.59</td>\n",
              "      <td>3.61</td>\n",
              "      <td>Female</td>\n",
              "      <td>No</td>\n",
              "      <td>Sun</td>\n",
              "      <td>Dinner</td>\n",
              "      <td>4</td>\n",
              "    </tr>\n",
              "  </tbody>\n",
              "</table>\n",
              "</div>"
            ],
            "text/plain": [
              "   total_bill   tip     sex smoker  day    time  size\n",
              "0       16.99  1.01  Female     No  Sun  Dinner     2\n",
              "1       10.34  1.66    Male     No  Sun  Dinner     3\n",
              "2       21.01  3.50    Male     No  Sun  Dinner     3\n",
              "3       23.68  3.31    Male     No  Sun  Dinner     2\n",
              "4       24.59  3.61  Female     No  Sun  Dinner     4"
            ]
          },
          "metadata": {
            "tags": []
          },
          "execution_count": 13
        }
      ]
    },
    {
      "metadata": {
        "id": "yCQffAOg2JjN",
        "colab_type": "code",
        "colab": {}
      },
      "cell_type": "code",
      "source": [
        ""
      ],
      "execution_count": 0,
      "outputs": []
    },
    {
      "metadata": {
        "id": "89Y0t3k92JjP",
        "colab_type": "text"
      },
      "cell_type": "markdown",
      "source": [
        "### B.3  ロジスティック回帰\n",
        "\n",
        "iris（アヤメ）のデータを用いてロジスティック回帰（分類）を行う．\n"
      ]
    },
    {
      "metadata": {
        "id": "7irDd0QX2JjQ",
        "colab_type": "code",
        "colab": {}
      },
      "cell_type": "code",
      "source": [
        "import pandas as pd"
      ],
      "execution_count": 0,
      "outputs": []
    },
    {
      "metadata": {
        "id": "4g9zsEHj2JjS",
        "colab_type": "code",
        "colab": {}
      },
      "cell_type": "code",
      "source": [
        "iris = pd.read_csv(\"http://logopt.com/data/iris.data\",\n",
        "                   names=['sepal length','sepal width','petal length','petal width', 'class'])"
      ],
      "execution_count": 0,
      "outputs": []
    },
    {
      "metadata": {
        "id": "U9es_v932JjU",
        "colab_type": "code",
        "colab": {}
      },
      "cell_type": "code",
      "source": [
        "#  独立変数（特徴ベクトル） X \n",
        "X = iris[ ['sepal length','sepal width','petal length','petal width'] ]"
      ],
      "execution_count": 0,
      "outputs": []
    },
    {
      "metadata": {
        "id": "JeffG0PA2JjX",
        "colab_type": "code",
        "colab": {
          "base_uri": "https://localhost:8080/",
          "height": 122
        },
        "outputId": "0af9ae84-ad4c-4ff9-fce5-a35b45a5ecc5"
      },
      "cell_type": "code",
      "source": [
        "#従属変数 y \n",
        "y = iris['class']\n",
        "y.head() "
      ],
      "execution_count": 17,
      "outputs": [
        {
          "output_type": "execute_result",
          "data": {
            "text/plain": [
              "0    Iris-setosa\n",
              "1    Iris-setosa\n",
              "2    Iris-setosa\n",
              "3    Iris-setosa\n",
              "4    Iris-setosa\n",
              "Name: class, dtype: object"
            ]
          },
          "metadata": {
            "tags": []
          },
          "execution_count": 17
        }
      ]
    },
    {
      "metadata": {
        "id": "wcbHO76v2JjY",
        "colab_type": "code",
        "colab": {
          "base_uri": "https://localhost:8080/",
          "height": 203
        },
        "outputId": "b2a40add-5b3c-414e-bb7c-8090b11729e3"
      },
      "cell_type": "code",
      "source": [
        "#特徴ベクトルの抽出\n",
        "X= iris[ ['sepal length','sepal width','petal length','petal width'] ]\n",
        "X .head() "
      ],
      "execution_count": 18,
      "outputs": [
        {
          "output_type": "execute_result",
          "data": {
            "text/html": [
              "<div>\n",
              "<style scoped>\n",
              "    .dataframe tbody tr th:only-of-type {\n",
              "        vertical-align: middle;\n",
              "    }\n",
              "\n",
              "    .dataframe tbody tr th {\n",
              "        vertical-align: top;\n",
              "    }\n",
              "\n",
              "    .dataframe thead th {\n",
              "        text-align: right;\n",
              "    }\n",
              "</style>\n",
              "<table border=\"1\" class=\"dataframe\">\n",
              "  <thead>\n",
              "    <tr style=\"text-align: right;\">\n",
              "      <th></th>\n",
              "      <th>sepal length</th>\n",
              "      <th>sepal width</th>\n",
              "      <th>petal length</th>\n",
              "      <th>petal width</th>\n",
              "    </tr>\n",
              "  </thead>\n",
              "  <tbody>\n",
              "    <tr>\n",
              "      <th>0</th>\n",
              "      <td>5.1</td>\n",
              "      <td>3.5</td>\n",
              "      <td>1.4</td>\n",
              "      <td>0.2</td>\n",
              "    </tr>\n",
              "    <tr>\n",
              "      <th>1</th>\n",
              "      <td>4.9</td>\n",
              "      <td>3.0</td>\n",
              "      <td>1.4</td>\n",
              "      <td>0.2</td>\n",
              "    </tr>\n",
              "    <tr>\n",
              "      <th>2</th>\n",
              "      <td>4.7</td>\n",
              "      <td>3.2</td>\n",
              "      <td>1.3</td>\n",
              "      <td>0.2</td>\n",
              "    </tr>\n",
              "    <tr>\n",
              "      <th>3</th>\n",
              "      <td>4.6</td>\n",
              "      <td>3.1</td>\n",
              "      <td>1.5</td>\n",
              "      <td>0.2</td>\n",
              "    </tr>\n",
              "    <tr>\n",
              "      <th>4</th>\n",
              "      <td>5.0</td>\n",
              "      <td>3.6</td>\n",
              "      <td>1.4</td>\n",
              "      <td>0.2</td>\n",
              "    </tr>\n",
              "  </tbody>\n",
              "</table>\n",
              "</div>"
            ],
            "text/plain": [
              "   sepal length  sepal width  petal length  petal width\n",
              "0           5.1          3.5           1.4          0.2\n",
              "1           4.9          3.0           1.4          0.2\n",
              "2           4.7          3.2           1.3          0.2\n",
              "3           4.6          3.1           1.5          0.2\n",
              "4           5.0          3.6           1.4          0.2"
            ]
          },
          "metadata": {
            "tags": []
          },
          "execution_count": 18
        }
      ]
    },
    {
      "metadata": {
        "id": "eeIJC2L72Jja",
        "colab_type": "text"
      },
      "cell_type": "markdown",
      "source": [
        "## 手順１：分類するためのクラスをインポートして，インスタンスを生成する．\n",
        "\n",
        "> ### 以下の例では，ロジスティック回帰を用いた分類を行う．\n",
        "\n",
        "## 手順２：fitメソッドを用いて，データから学習する．\n",
        "\n",
        "## 手順３：predictメソッドを用いて予測を行う．\n"
      ]
    },
    {
      "metadata": {
        "id": "CNoShEot2Jjb",
        "colab_type": "code",
        "colab": {}
      },
      "cell_type": "code",
      "source": [
        "from sklearn.linear_model import LogisticRegression #ロジスティック回帰クラスの読み込み"
      ],
      "execution_count": 0,
      "outputs": []
    },
    {
      "metadata": {
        "id": "k1PfNvPg2Jjd",
        "colab_type": "code",
        "colab": {
          "base_uri": "https://localhost:8080/",
          "height": 158
        },
        "outputId": "6d11b606-ea49-4842-e610-9eb989d31400"
      },
      "cell_type": "code",
      "source": [
        "logreg =  LogisticRegression() # インスタンスの生成\n",
        "logreg.fit(X, y) # 学習"
      ],
      "execution_count": 20,
      "outputs": [
        {
          "output_type": "stream",
          "text": [
            "/usr/local/lib/python3.6/dist-packages/sklearn/linear_model/logistic.py:433: FutureWarning: Default solver will be changed to 'lbfgs' in 0.22. Specify a solver to silence this warning.\n",
            "  FutureWarning)\n",
            "/usr/local/lib/python3.6/dist-packages/sklearn/linear_model/logistic.py:460: FutureWarning: Default multi_class will be changed to 'auto' in 0.22. Specify the multi_class option to silence this warning.\n",
            "  \"this warning.\", FutureWarning)\n"
          ],
          "name": "stderr"
        },
        {
          "output_type": "execute_result",
          "data": {
            "text/plain": [
              "LogisticRegression(C=1.0, class_weight=None, dual=False, fit_intercept=True,\n",
              "          intercept_scaling=1, max_iter=100, multi_class='warn',\n",
              "          n_jobs=None, penalty='l2', random_state=None, solver='warn',\n",
              "          tol=0.0001, verbose=0, warm_start=False)"
            ]
          },
          "metadata": {
            "tags": []
          },
          "execution_count": 20
        }
      ]
    },
    {
      "metadata": {
        "id": "BAm3qEPt2Jje",
        "colab_type": "code",
        "colab": {
          "base_uri": "https://localhost:8080/",
          "height": 34
        },
        "outputId": "caa166f3-59d2-4f33-ea12-184330c6febc"
      },
      "cell_type": "code",
      "source": [
        "logreg.predict([[3, 5, 4, 2]]) # 試しに予測"
      ],
      "execution_count": 21,
      "outputs": [
        {
          "output_type": "execute_result",
          "data": {
            "text/plain": [
              "array(['Iris-virginica'], dtype=object)"
            ]
          },
          "metadata": {
            "tags": []
          },
          "execution_count": 21
        }
      ]
    },
    {
      "metadata": {
        "id": "Rms5jXSb2Jjg",
        "colab_type": "text"
      },
      "cell_type": "markdown",
      "source": [
        "### 予測と実際の誤差を検証（元データXを入れたときの予測y_predと本当の値yの比較）\n",
        "\n",
        "### metricsにある正確度を計算する関数 accuracy_score を利用"
      ]
    },
    {
      "metadata": {
        "id": "ZHlJLHiy2Jjh",
        "colab_type": "code",
        "colab": {}
      },
      "cell_type": "code",
      "source": [
        "y_pred = logreg.predict(X)"
      ],
      "execution_count": 0,
      "outputs": []
    },
    {
      "metadata": {
        "id": "Xah2OaOz2Jji",
        "colab_type": "code",
        "colab": {
          "base_uri": "https://localhost:8080/",
          "height": 34
        },
        "outputId": "77b5081b-b761-430b-b6e0-e91286ff6caf"
      },
      "cell_type": "code",
      "source": [
        "from sklearn import metrics\n",
        "print(metrics.accuracy_score(y, y_pred))"
      ],
      "execution_count": 23,
      "outputs": [
        {
          "output_type": "stream",
          "text": [
            "0.96\n"
          ],
          "name": "stdout"
        }
      ]
    },
    {
      "metadata": {
        "id": "_Gk7HaYV2Jjl",
        "colab_type": "text"
      },
      "cell_type": "markdown",
      "source": [
        "### 問題\n",
        "\n",
        "教科書81ページのtitanicデータに対してロジスティック回帰を行い，死亡確率の推定を行え．\n",
        "\n",
        "ヒント：このデータは欠損値を含んでいる．pandasのところで学んだ欠損値処理を参照せよ．\n",
        "\n",
        "また，このデータはターゲットとなる**survived**と同じ意味をもつ列を含んでいる．それを入れると正確度は当然100%になる．\n",
        "その行を見つけて除くにはどうしたら良いか考えよ．"
      ]
    },
    {
      "metadata": {
        "id": "d1DN_URv2Jjl",
        "colab_type": "code",
        "colab": {}
      },
      "cell_type": "code",
      "source": [
        ""
      ],
      "execution_count": 0,
      "outputs": []
    },
    {
      "metadata": {
        "id": "e1xz62T22Jjm",
        "colab_type": "text"
      },
      "cell_type": "markdown",
      "source": [
        "### 問題\n",
        " \"http://logopt.com/data/cancer.csv\" にある胸部癌か否かを判定するデータセットを用いて分類を行え．\n",
        "\n",
        "最初の列**diagnosis**が癌か否かを表すものであり，'M'が悪性（malignant），'B'が良性（benign）"
      ]
    },
    {
      "metadata": {
        "id": "pMCcpk172Jjn",
        "colab_type": "code",
        "colab": {
          "base_uri": "https://localhost:8080/",
          "height": 300
        },
        "outputId": "ede236f0-4190-4ba0-c22f-406bd72fa34e"
      },
      "cell_type": "code",
      "source": [
        "cancer = pd.read_csv(\"http://logopt.com/data/cancer.csv\", index_col=0)\n",
        "#従属変数 y \n",
        "y = cancer['diagnosis']\n",
        "#特徴ベクトルの抽出\n",
        "X= cancer.iloc[ : , 1: ]\n",
        "X .head() "
      ],
      "execution_count": 24,
      "outputs": [
        {
          "output_type": "execute_result",
          "data": {
            "text/html": [
              "<div>\n",
              "<style scoped>\n",
              "    .dataframe tbody tr th:only-of-type {\n",
              "        vertical-align: middle;\n",
              "    }\n",
              "\n",
              "    .dataframe tbody tr th {\n",
              "        vertical-align: top;\n",
              "    }\n",
              "\n",
              "    .dataframe thead th {\n",
              "        text-align: right;\n",
              "    }\n",
              "</style>\n",
              "<table border=\"1\" class=\"dataframe\">\n",
              "  <thead>\n",
              "    <tr style=\"text-align: right;\">\n",
              "      <th></th>\n",
              "      <th>radius_mean</th>\n",
              "      <th>texture_mean</th>\n",
              "      <th>perimeter_mean</th>\n",
              "      <th>area_mean</th>\n",
              "      <th>smoothness_mean</th>\n",
              "      <th>compactness_mean</th>\n",
              "      <th>concavity_mean</th>\n",
              "      <th>concave points_mean</th>\n",
              "      <th>symmetry_mean</th>\n",
              "      <th>fractal_dimension_mean</th>\n",
              "      <th>...</th>\n",
              "      <th>radius_worst</th>\n",
              "      <th>texture_worst</th>\n",
              "      <th>perimeter_worst</th>\n",
              "      <th>area_worst</th>\n",
              "      <th>smoothness_worst</th>\n",
              "      <th>compactness_worst</th>\n",
              "      <th>concavity_worst</th>\n",
              "      <th>concave points_worst</th>\n",
              "      <th>symmetry_worst</th>\n",
              "      <th>fractal_dimension_worst</th>\n",
              "    </tr>\n",
              "    <tr>\n",
              "      <th>id</th>\n",
              "      <th></th>\n",
              "      <th></th>\n",
              "      <th></th>\n",
              "      <th></th>\n",
              "      <th></th>\n",
              "      <th></th>\n",
              "      <th></th>\n",
              "      <th></th>\n",
              "      <th></th>\n",
              "      <th></th>\n",
              "      <th></th>\n",
              "      <th></th>\n",
              "      <th></th>\n",
              "      <th></th>\n",
              "      <th></th>\n",
              "      <th></th>\n",
              "      <th></th>\n",
              "      <th></th>\n",
              "      <th></th>\n",
              "      <th></th>\n",
              "      <th></th>\n",
              "    </tr>\n",
              "  </thead>\n",
              "  <tbody>\n",
              "    <tr>\n",
              "      <th>842302</th>\n",
              "      <td>17.99</td>\n",
              "      <td>10.38</td>\n",
              "      <td>122.80</td>\n",
              "      <td>1001.0</td>\n",
              "      <td>0.11840</td>\n",
              "      <td>0.27760</td>\n",
              "      <td>0.3001</td>\n",
              "      <td>0.14710</td>\n",
              "      <td>0.2419</td>\n",
              "      <td>0.07871</td>\n",
              "      <td>...</td>\n",
              "      <td>25.38</td>\n",
              "      <td>17.33</td>\n",
              "      <td>184.60</td>\n",
              "      <td>2019.0</td>\n",
              "      <td>0.1622</td>\n",
              "      <td>0.6656</td>\n",
              "      <td>0.7119</td>\n",
              "      <td>0.2654</td>\n",
              "      <td>0.4601</td>\n",
              "      <td>0.11890</td>\n",
              "    </tr>\n",
              "    <tr>\n",
              "      <th>842517</th>\n",
              "      <td>20.57</td>\n",
              "      <td>17.77</td>\n",
              "      <td>132.90</td>\n",
              "      <td>1326.0</td>\n",
              "      <td>0.08474</td>\n",
              "      <td>0.07864</td>\n",
              "      <td>0.0869</td>\n",
              "      <td>0.07017</td>\n",
              "      <td>0.1812</td>\n",
              "      <td>0.05667</td>\n",
              "      <td>...</td>\n",
              "      <td>24.99</td>\n",
              "      <td>23.41</td>\n",
              "      <td>158.80</td>\n",
              "      <td>1956.0</td>\n",
              "      <td>0.1238</td>\n",
              "      <td>0.1866</td>\n",
              "      <td>0.2416</td>\n",
              "      <td>0.1860</td>\n",
              "      <td>0.2750</td>\n",
              "      <td>0.08902</td>\n",
              "    </tr>\n",
              "    <tr>\n",
              "      <th>84300903</th>\n",
              "      <td>19.69</td>\n",
              "      <td>21.25</td>\n",
              "      <td>130.00</td>\n",
              "      <td>1203.0</td>\n",
              "      <td>0.10960</td>\n",
              "      <td>0.15990</td>\n",
              "      <td>0.1974</td>\n",
              "      <td>0.12790</td>\n",
              "      <td>0.2069</td>\n",
              "      <td>0.05999</td>\n",
              "      <td>...</td>\n",
              "      <td>23.57</td>\n",
              "      <td>25.53</td>\n",
              "      <td>152.50</td>\n",
              "      <td>1709.0</td>\n",
              "      <td>0.1444</td>\n",
              "      <td>0.4245</td>\n",
              "      <td>0.4504</td>\n",
              "      <td>0.2430</td>\n",
              "      <td>0.3613</td>\n",
              "      <td>0.08758</td>\n",
              "    </tr>\n",
              "    <tr>\n",
              "      <th>84348301</th>\n",
              "      <td>11.42</td>\n",
              "      <td>20.38</td>\n",
              "      <td>77.58</td>\n",
              "      <td>386.1</td>\n",
              "      <td>0.14250</td>\n",
              "      <td>0.28390</td>\n",
              "      <td>0.2414</td>\n",
              "      <td>0.10520</td>\n",
              "      <td>0.2597</td>\n",
              "      <td>0.09744</td>\n",
              "      <td>...</td>\n",
              "      <td>14.91</td>\n",
              "      <td>26.50</td>\n",
              "      <td>98.87</td>\n",
              "      <td>567.7</td>\n",
              "      <td>0.2098</td>\n",
              "      <td>0.8663</td>\n",
              "      <td>0.6869</td>\n",
              "      <td>0.2575</td>\n",
              "      <td>0.6638</td>\n",
              "      <td>0.17300</td>\n",
              "    </tr>\n",
              "    <tr>\n",
              "      <th>84358402</th>\n",
              "      <td>20.29</td>\n",
              "      <td>14.34</td>\n",
              "      <td>135.10</td>\n",
              "      <td>1297.0</td>\n",
              "      <td>0.10030</td>\n",
              "      <td>0.13280</td>\n",
              "      <td>0.1980</td>\n",
              "      <td>0.10430</td>\n",
              "      <td>0.1809</td>\n",
              "      <td>0.05883</td>\n",
              "      <td>...</td>\n",
              "      <td>22.54</td>\n",
              "      <td>16.67</td>\n",
              "      <td>152.20</td>\n",
              "      <td>1575.0</td>\n",
              "      <td>0.1374</td>\n",
              "      <td>0.2050</td>\n",
              "      <td>0.4000</td>\n",
              "      <td>0.1625</td>\n",
              "      <td>0.2364</td>\n",
              "      <td>0.07678</td>\n",
              "    </tr>\n",
              "  </tbody>\n",
              "</table>\n",
              "<p>5 rows × 30 columns</p>\n",
              "</div>"
            ],
            "text/plain": [
              "          radius_mean  texture_mean  perimeter_mean  area_mean  \\\n",
              "id                                                               \n",
              "842302          17.99         10.38          122.80     1001.0   \n",
              "842517          20.57         17.77          132.90     1326.0   \n",
              "84300903        19.69         21.25          130.00     1203.0   \n",
              "84348301        11.42         20.38           77.58      386.1   \n",
              "84358402        20.29         14.34          135.10     1297.0   \n",
              "\n",
              "          smoothness_mean  compactness_mean  concavity_mean  \\\n",
              "id                                                            \n",
              "842302            0.11840           0.27760          0.3001   \n",
              "842517            0.08474           0.07864          0.0869   \n",
              "84300903          0.10960           0.15990          0.1974   \n",
              "84348301          0.14250           0.28390          0.2414   \n",
              "84358402          0.10030           0.13280          0.1980   \n",
              "\n",
              "          concave points_mean  symmetry_mean  fractal_dimension_mean  \\\n",
              "id                                                                     \n",
              "842302                0.14710         0.2419                 0.07871   \n",
              "842517                0.07017         0.1812                 0.05667   \n",
              "84300903              0.12790         0.2069                 0.05999   \n",
              "84348301              0.10520         0.2597                 0.09744   \n",
              "84358402              0.10430         0.1809                 0.05883   \n",
              "\n",
              "                   ...             radius_worst  texture_worst  \\\n",
              "id                 ...                                           \n",
              "842302             ...                    25.38          17.33   \n",
              "842517             ...                    24.99          23.41   \n",
              "84300903           ...                    23.57          25.53   \n",
              "84348301           ...                    14.91          26.50   \n",
              "84358402           ...                    22.54          16.67   \n",
              "\n",
              "          perimeter_worst  area_worst  smoothness_worst  compactness_worst  \\\n",
              "id                                                                           \n",
              "842302             184.60      2019.0            0.1622             0.6656   \n",
              "842517             158.80      1956.0            0.1238             0.1866   \n",
              "84300903           152.50      1709.0            0.1444             0.4245   \n",
              "84348301            98.87       567.7            0.2098             0.8663   \n",
              "84358402           152.20      1575.0            0.1374             0.2050   \n",
              "\n",
              "          concavity_worst  concave points_worst  symmetry_worst  \\\n",
              "id                                                                \n",
              "842302             0.7119                0.2654          0.4601   \n",
              "842517             0.2416                0.1860          0.2750   \n",
              "84300903           0.4504                0.2430          0.3613   \n",
              "84348301           0.6869                0.2575          0.6638   \n",
              "84358402           0.4000                0.1625          0.2364   \n",
              "\n",
              "          fractal_dimension_worst  \n",
              "id                                 \n",
              "842302                    0.11890  \n",
              "842517                    0.08902  \n",
              "84300903                  0.08758  \n",
              "84348301                  0.17300  \n",
              "84358402                  0.07678  \n",
              "\n",
              "[5 rows x 30 columns]"
            ]
          },
          "metadata": {
            "tags": []
          },
          "execution_count": 24
        }
      ]
    },
    {
      "metadata": {
        "id": "Htxa0-Ep2Jjp",
        "colab_type": "code",
        "colab": {}
      },
      "cell_type": "code",
      "source": [
        ""
      ],
      "execution_count": 0,
      "outputs": []
    },
    {
      "metadata": {
        "id": "aQyKPD6y2Jjq",
        "colab_type": "text"
      },
      "cell_type": "markdown",
      "source": [
        "## 問題\n",
        "\n",
        "$K$ 近傍法とは，(Xの空間で）データに近い $K$ 個のデータの値(y)の多数決で分類を行う最も簡単な分類手法である．\n",
        "\n",
        "以下のようにしてクラスをインポートできる．\n",
        "```python\n",
        "from sklearn.neighbors import KNeighborsClassifier\n",
        "```\n",
        "\n",
        "クラス **KNeighborsClassifier** は引数 **n_neighbors** でパラメータ $K$ を設定できる．\n",
        "\n",
        "irisデータに対して，$K$ 近傍法で元データを予測したしたときの正確度を計算せよ．パラメータ $K$（近傍の数）が5のときはどうか？また，パラメータ $K$ が 1のときはどうか？"
      ]
    },
    {
      "metadata": {
        "id": "JDQFEX0F2Jjr",
        "colab_type": "code",
        "colab": {}
      },
      "cell_type": "code",
      "source": [
        ""
      ],
      "execution_count": 0,
      "outputs": []
    },
    {
      "metadata": {
        "id": "HTVbcvI92Jju",
        "colab_type": "text"
      },
      "cell_type": "markdown",
      "source": [
        "### B.4  正規化とB.7 仮説の評価\n",
        "\n",
        "### 多項式回帰\n",
        "\n",
        "宣伝の効果のデータを用いて多項式回帰を行う．\n",
        "\n",
        "pandasで2次の項（たとえばテレビとラジオの相乗効果の列 TV*Radio）を生成してから，線形回帰を行う．"
      ]
    },
    {
      "metadata": {
        "id": "nERDlR_A2Jjv",
        "colab_type": "code",
        "colab": {
          "base_uri": "https://localhost:8080/",
          "height": 203
        },
        "outputId": "9042f300-5ee5-4592-9dc0-7be17e107258"
      },
      "cell_type": "code",
      "source": [
        "data = pd.read_csv('http://logopt.com/data/Advertising.csv', index_col =0)\n",
        "data['TV*Radio'] = data.TV * data.Radio\n",
        "data['TV*Newspaper'] = data.TV * data.Newspaper\n",
        "data['Radio*Newspaper'] = data.Radio * data.Newspaper\n",
        "data.head()"
      ],
      "execution_count": 25,
      "outputs": [
        {
          "output_type": "execute_result",
          "data": {
            "text/html": [
              "<div>\n",
              "<style scoped>\n",
              "    .dataframe tbody tr th:only-of-type {\n",
              "        vertical-align: middle;\n",
              "    }\n",
              "\n",
              "    .dataframe tbody tr th {\n",
              "        vertical-align: top;\n",
              "    }\n",
              "\n",
              "    .dataframe thead th {\n",
              "        text-align: right;\n",
              "    }\n",
              "</style>\n",
              "<table border=\"1\" class=\"dataframe\">\n",
              "  <thead>\n",
              "    <tr style=\"text-align: right;\">\n",
              "      <th></th>\n",
              "      <th>TV</th>\n",
              "      <th>Radio</th>\n",
              "      <th>Newspaper</th>\n",
              "      <th>Sales</th>\n",
              "      <th>TV*Radio</th>\n",
              "      <th>TV*Newspaper</th>\n",
              "      <th>Radio*Newspaper</th>\n",
              "    </tr>\n",
              "  </thead>\n",
              "  <tbody>\n",
              "    <tr>\n",
              "      <th>1</th>\n",
              "      <td>230.1</td>\n",
              "      <td>37.8</td>\n",
              "      <td>69.2</td>\n",
              "      <td>22.1</td>\n",
              "      <td>8697.78</td>\n",
              "      <td>15922.92</td>\n",
              "      <td>2615.76</td>\n",
              "    </tr>\n",
              "    <tr>\n",
              "      <th>2</th>\n",
              "      <td>44.5</td>\n",
              "      <td>39.3</td>\n",
              "      <td>45.1</td>\n",
              "      <td>10.4</td>\n",
              "      <td>1748.85</td>\n",
              "      <td>2006.95</td>\n",
              "      <td>1772.43</td>\n",
              "    </tr>\n",
              "    <tr>\n",
              "      <th>3</th>\n",
              "      <td>17.2</td>\n",
              "      <td>45.9</td>\n",
              "      <td>69.3</td>\n",
              "      <td>9.3</td>\n",
              "      <td>789.48</td>\n",
              "      <td>1191.96</td>\n",
              "      <td>3180.87</td>\n",
              "    </tr>\n",
              "    <tr>\n",
              "      <th>4</th>\n",
              "      <td>151.5</td>\n",
              "      <td>41.3</td>\n",
              "      <td>58.5</td>\n",
              "      <td>18.5</td>\n",
              "      <td>6256.95</td>\n",
              "      <td>8862.75</td>\n",
              "      <td>2416.05</td>\n",
              "    </tr>\n",
              "    <tr>\n",
              "      <th>5</th>\n",
              "      <td>180.8</td>\n",
              "      <td>10.8</td>\n",
              "      <td>58.4</td>\n",
              "      <td>12.9</td>\n",
              "      <td>1952.64</td>\n",
              "      <td>10558.72</td>\n",
              "      <td>630.72</td>\n",
              "    </tr>\n",
              "  </tbody>\n",
              "</table>\n",
              "</div>"
            ],
            "text/plain": [
              "      TV  Radio  Newspaper  Sales  TV*Radio  TV*Newspaper  Radio*Newspaper\n",
              "1  230.1   37.8       69.2   22.1   8697.78      15922.92          2615.76\n",
              "2   44.5   39.3       45.1   10.4   1748.85       2006.95          1772.43\n",
              "3   17.2   45.9       69.3    9.3    789.48       1191.96          3180.87\n",
              "4  151.5   41.3       58.5   18.5   6256.95       8862.75          2416.05\n",
              "5  180.8   10.8       58.4   12.9   1952.64      10558.72           630.72"
            ]
          },
          "metadata": {
            "tags": []
          },
          "execution_count": 25
        }
      ]
    },
    {
      "metadata": {
        "id": "Q7urWk4T2Jjw",
        "colab_type": "code",
        "colab": {}
      },
      "cell_type": "code",
      "source": [
        "X = data[['TV', 'Radio', 'Newspaper','TV*Radio','TV*Newspaper','Radio*Newspaper']]\n",
        "y = data['Sales']"
      ],
      "execution_count": 0,
      "outputs": []
    },
    {
      "metadata": {
        "id": "kMF21Neb2Jjz",
        "colab_type": "code",
        "colab": {
          "base_uri": "https://localhost:8080/",
          "height": 34
        },
        "outputId": "b82003fe-12f1-46d1-f3f5-2ce64a4c41b6"
      },
      "cell_type": "code",
      "source": [
        "from sklearn.linear_model import LinearRegression #クラスのインポート\n",
        "lin_reg = LinearRegression()     # 線形回帰クラスのインスタンス生成\n",
        "lin_reg.fit(X, y)    # 学習\n",
        "yhat = lin_reg.predict(X)   # 予測\n",
        "print(lin_reg.score(X,y)) #決定係数　（線形回帰だと R^2は 0.897210638179"
      ],
      "execution_count": 27,
      "outputs": [
        {
          "output_type": "stream",
          "text": [
            "0.9686311066255571\n"
          ],
          "name": "stdout"
        }
      ]
    },
    {
      "metadata": {
        "id": "lE5nyXq02Jj2",
        "colab_type": "code",
        "colab": {
          "base_uri": "https://localhost:8080/",
          "height": 70
        },
        "outputId": "7c29b1f8-a66d-4da6-d5d4-aba0b7e123a9"
      },
      "cell_type": "code",
      "source": [
        "print(\"y-切片= \",lin_reg.intercept_)\n",
        "print(\"係数 = \",lin_reg.coef_)"
      ],
      "execution_count": 28,
      "outputs": [
        {
          "output_type": "stream",
          "text": [
            "y-切片=  6.460158489941875\n",
            "係数 =  [ 2.03270962e-02  2.29291894e-02  1.70339370e-02  1.13928001e-03\n",
            " -7.97143541e-05 -1.09597607e-04]\n"
          ],
          "name": "stdout"
        }
      ]
    },
    {
      "metadata": {
        "id": "oh0s3sF62Jj4",
        "colab_type": "text"
      },
      "cell_type": "markdown",
      "source": [
        "### 過剰適合（過学習）\n",
        "\n",
        "元データを入れてテストをすることは良くない．\n",
        "\n",
        "### irisデータに対してK(=1)近傍法を適用したときのように，過剰適合をしてしまう！\n",
        "\n",
        "### 学習データをテストデータを分ける！ train_test_split関数を使うと簡単．\n",
        "\n",
        "**（最近のバージョンではmodel_selection内にあるが，古いバージョンの場合には,cross_validationの中にあるので注意）**"
      ]
    },
    {
      "metadata": {
        "id": "trE5ckHu2Jj5",
        "colab_type": "text"
      },
      "cell_type": "markdown",
      "source": [
        "例としてBostonの住宅データの予測を線形回帰とリッジ回帰（正規化を入れた回帰）行う．\n",
        "\n",
        "medvが住宅の価格で，他のデータ（犯罪率や人口など）から予測する．"
      ]
    },
    {
      "metadata": {
        "id": "2vHo-qJW2Jj5",
        "colab_type": "code",
        "colab": {
          "base_uri": "https://localhost:8080/",
          "height": 203
        },
        "outputId": "ac200b6c-b7ed-40bb-ee86-4084962bb8a7"
      },
      "cell_type": "code",
      "source": [
        "boston = pd.read_csv('http://logopt.com/data/Boston.csv',index_col=0)\n",
        "boston.head()"
      ],
      "execution_count": 29,
      "outputs": [
        {
          "output_type": "execute_result",
          "data": {
            "text/html": [
              "<div>\n",
              "<style scoped>\n",
              "    .dataframe tbody tr th:only-of-type {\n",
              "        vertical-align: middle;\n",
              "    }\n",
              "\n",
              "    .dataframe tbody tr th {\n",
              "        vertical-align: top;\n",
              "    }\n",
              "\n",
              "    .dataframe thead th {\n",
              "        text-align: right;\n",
              "    }\n",
              "</style>\n",
              "<table border=\"1\" class=\"dataframe\">\n",
              "  <thead>\n",
              "    <tr style=\"text-align: right;\">\n",
              "      <th></th>\n",
              "      <th>crim</th>\n",
              "      <th>zn</th>\n",
              "      <th>indus</th>\n",
              "      <th>chas</th>\n",
              "      <th>nox</th>\n",
              "      <th>rm</th>\n",
              "      <th>age</th>\n",
              "      <th>dis</th>\n",
              "      <th>rad</th>\n",
              "      <th>tax</th>\n",
              "      <th>ptratio</th>\n",
              "      <th>black</th>\n",
              "      <th>lstat</th>\n",
              "      <th>medv</th>\n",
              "    </tr>\n",
              "  </thead>\n",
              "  <tbody>\n",
              "    <tr>\n",
              "      <th>1</th>\n",
              "      <td>0.00632</td>\n",
              "      <td>18.0</td>\n",
              "      <td>2.31</td>\n",
              "      <td>0</td>\n",
              "      <td>0.538</td>\n",
              "      <td>6.575</td>\n",
              "      <td>65.2</td>\n",
              "      <td>4.0900</td>\n",
              "      <td>1</td>\n",
              "      <td>296</td>\n",
              "      <td>15.3</td>\n",
              "      <td>396.90</td>\n",
              "      <td>4.98</td>\n",
              "      <td>24.0</td>\n",
              "    </tr>\n",
              "    <tr>\n",
              "      <th>2</th>\n",
              "      <td>0.02731</td>\n",
              "      <td>0.0</td>\n",
              "      <td>7.07</td>\n",
              "      <td>0</td>\n",
              "      <td>0.469</td>\n",
              "      <td>6.421</td>\n",
              "      <td>78.9</td>\n",
              "      <td>4.9671</td>\n",
              "      <td>2</td>\n",
              "      <td>242</td>\n",
              "      <td>17.8</td>\n",
              "      <td>396.90</td>\n",
              "      <td>9.14</td>\n",
              "      <td>21.6</td>\n",
              "    </tr>\n",
              "    <tr>\n",
              "      <th>3</th>\n",
              "      <td>0.02729</td>\n",
              "      <td>0.0</td>\n",
              "      <td>7.07</td>\n",
              "      <td>0</td>\n",
              "      <td>0.469</td>\n",
              "      <td>7.185</td>\n",
              "      <td>61.1</td>\n",
              "      <td>4.9671</td>\n",
              "      <td>2</td>\n",
              "      <td>242</td>\n",
              "      <td>17.8</td>\n",
              "      <td>392.83</td>\n",
              "      <td>4.03</td>\n",
              "      <td>34.7</td>\n",
              "    </tr>\n",
              "    <tr>\n",
              "      <th>4</th>\n",
              "      <td>0.03237</td>\n",
              "      <td>0.0</td>\n",
              "      <td>2.18</td>\n",
              "      <td>0</td>\n",
              "      <td>0.458</td>\n",
              "      <td>6.998</td>\n",
              "      <td>45.8</td>\n",
              "      <td>6.0622</td>\n",
              "      <td>3</td>\n",
              "      <td>222</td>\n",
              "      <td>18.7</td>\n",
              "      <td>394.63</td>\n",
              "      <td>2.94</td>\n",
              "      <td>33.4</td>\n",
              "    </tr>\n",
              "    <tr>\n",
              "      <th>5</th>\n",
              "      <td>0.06905</td>\n",
              "      <td>0.0</td>\n",
              "      <td>2.18</td>\n",
              "      <td>0</td>\n",
              "      <td>0.458</td>\n",
              "      <td>7.147</td>\n",
              "      <td>54.2</td>\n",
              "      <td>6.0622</td>\n",
              "      <td>3</td>\n",
              "      <td>222</td>\n",
              "      <td>18.7</td>\n",
              "      <td>396.90</td>\n",
              "      <td>5.33</td>\n",
              "      <td>36.2</td>\n",
              "    </tr>\n",
              "  </tbody>\n",
              "</table>\n",
              "</div>"
            ],
            "text/plain": [
              "      crim    zn  indus  chas    nox     rm   age     dis  rad  tax  ptratio  \\\n",
              "1  0.00632  18.0   2.31     0  0.538  6.575  65.2  4.0900    1  296     15.3   \n",
              "2  0.02731   0.0   7.07     0  0.469  6.421  78.9  4.9671    2  242     17.8   \n",
              "3  0.02729   0.0   7.07     0  0.469  7.185  61.1  4.9671    2  242     17.8   \n",
              "4  0.03237   0.0   2.18     0  0.458  6.998  45.8  6.0622    3  222     18.7   \n",
              "5  0.06905   0.0   2.18     0  0.458  7.147  54.2  6.0622    3  222     18.7   \n",
              "\n",
              "    black  lstat  medv  \n",
              "1  396.90   4.98  24.0  \n",
              "2  396.90   9.14  21.6  \n",
              "3  392.83   4.03  34.7  \n",
              "4  394.63   2.94  33.4  \n",
              "5  396.90   5.33  36.2  "
            ]
          },
          "metadata": {
            "tags": []
          },
          "execution_count": 29
        }
      ]
    },
    {
      "metadata": {
        "id": "ASXAHCD12Jj7",
        "colab_type": "code",
        "colab": {}
      },
      "cell_type": "code",
      "source": [
        "X = boston.iloc[:,range(13)] # 最後の列以外のデータを独立変数（特徴ベクトル）として抽出\n",
        "y = boston.medv #最後の列(medv)を従属変数として抽出"
      ],
      "execution_count": 0,
      "outputs": []
    },
    {
      "metadata": {
        "id": "iUoASbyb2Jj9",
        "colab_type": "code",
        "colab": {}
      },
      "cell_type": "code",
      "source": [
        "from sklearn.model_selection import train_test_split #古いバージョンの場合には,cross_validationの中にある．\n",
        "X_train, X_test, y_train, y_test = train_test_split(X, y, test_size=0.3)#30%のデータをテスト用，それ以外を学習用に分離"
      ],
      "execution_count": 0,
      "outputs": []
    },
    {
      "metadata": {
        "id": "ZTk6P5te2Jj_",
        "colab_type": "code",
        "colab": {
          "base_uri": "https://localhost:8080/",
          "height": 34
        },
        "outputId": "94ec1ffa-023a-4dba-8622-2f1fffd3d236"
      },
      "cell_type": "code",
      "source": [
        "from sklearn.linear_model import LinearRegression #クラスのインポート\n",
        "lin_reg = LinearRegression()     # 線形回帰クラスのインスタンス生成\n",
        "lin_reg.fit(X_train, y_train)    # 学習\n",
        "yhat = lin_reg.predict(X_test)   # 予測\n",
        "print(lin_reg.score(X_test,y_test)) #決定係数"
      ],
      "execution_count": 32,
      "outputs": [
        {
          "output_type": "stream",
          "text": [
            "0.7642708521824504\n"
          ],
          "name": "stdout"
        }
      ]
    },
    {
      "metadata": {
        "id": "_mAyC5In2JkC",
        "colab_type": "text"
      },
      "cell_type": "markdown",
      "source": [
        "### リッジ回帰\n",
        "\n",
        "教科書460ページになある正規化を追加した線形回帰は，**リッジ回帰**とよばれる．\n",
        "\n",
        "パラメータ $\\lambda$ はリッジ回帰クラス Ridge では引数 alpha で与える．\n"
      ]
    },
    {
      "metadata": {
        "id": "xVrEJZS02JkC",
        "colab_type": "code",
        "colab": {
          "base_uri": "https://localhost:8080/",
          "height": 34
        },
        "outputId": "79736d6f-fc2c-46cf-c66c-7905b799f33c"
      },
      "cell_type": "code",
      "source": [
        "from sklearn.linear_model import Ridge #クラスのインポート\n",
        "ridge_reg = Ridge(alpha=100.0)     # リッジ回帰クラスのインスタンス生成\n",
        "ridge_reg.fit(X_train, y_train)    # 学習\n",
        "yhat = ridge_reg.predict(X_test)   # 予測\n",
        "print(ridge_reg.score(X_test,y_test)) #決定係数"
      ],
      "execution_count": 33,
      "outputs": [
        {
          "output_type": "stream",
          "text": [
            "0.7130504669155656\n"
          ],
          "name": "stdout"
        }
      ]
    },
    {
      "metadata": {
        "id": "FBWvndI22JkF",
        "colab_type": "text"
      },
      "cell_type": "markdown",
      "source": [
        "### 問題\n",
        "\n",
        "1. irisデータを学習用とテスト用に分けてから，ロジスティック回帰による分類を行い，正確度を計算せよ．\n",
        "2. titanicデータ学習用とテスト用に分けてから，ロジスティック回帰による分類を行い，正確度を計算せよ．\n",
        "3. 例題2で用いた ダイアモンドの価格データhttp://logopt.com/data/Diamond.csv に対して線形回帰とリッジ回帰による予測を行え．また，学習用とテスト用に分けて決定変数を計算し，評価せよ．\n"
      ]
    },
    {
      "metadata": {
        "id": "WM6rBBej2JkF",
        "colab_type": "code",
        "colab": {}
      },
      "cell_type": "code",
      "source": [
        ""
      ],
      "execution_count": 0,
      "outputs": []
    },
    {
      "metadata": {
        "id": "O-quP7pj2JkG",
        "colab_type": "code",
        "colab": {}
      },
      "cell_type": "code",
      "source": [
        ""
      ],
      "execution_count": 0,
      "outputs": []
    },
    {
      "metadata": {
        "id": "nbWaeVNV2JkI",
        "colab_type": "code",
        "colab": {}
      },
      "cell_type": "code",
      "source": [
        ""
      ],
      "execution_count": 0,
      "outputs": []
    },
    {
      "metadata": {
        "id": "M5BcytXb2JkJ",
        "colab_type": "text"
      },
      "cell_type": "markdown",
      "source": [
        "### B.5 カーネルとSVM (Support Vector Machine) \n",
        "\n",
        "カーネルはクラス **SVC** (Support Vector Classifier) の引数 **kernel**で与える．\n",
        "\n",
        "Gaussカーネル（引数は'rbf'）を用いると非線形な境界をもつ問題に対しても，精度良く分類が可能になる．\n",
        "\n",
        "irisデータで試してみよう．"
      ]
    },
    {
      "metadata": {
        "id": "brPGEfZn2JkJ",
        "colab_type": "code",
        "colab": {}
      },
      "cell_type": "code",
      "source": [
        "import pandas as pd\n",
        "iris = pd.read_csv(\"http://logopt.com/data/iris.data\",\n",
        "                   names=['sepal length','sepal width','petal length','petal width', 'class'])\n",
        "X = iris[ ['sepal length','sepal width','petal length','petal width'] ]\n",
        "y = iris['class']\n",
        "from sklearn.model_selection import train_test_split  #古いバージョンの場合には,cross_validationの中にある．\n",
        "X_train, X_test, y_train, y_test = train_test_split(X, y, test_size=0.3)"
      ],
      "execution_count": 0,
      "outputs": []
    },
    {
      "metadata": {
        "id": "J__UDR6a2JkK",
        "colab_type": "code",
        "colab": {
          "base_uri": "https://localhost:8080/",
          "height": 34
        },
        "outputId": "01d6ba05-384d-43d9-d43c-bd69daf96994"
      },
      "cell_type": "code",
      "source": [
        "from sklearn.svm import SVC      #クラスのインポート\n",
        "svc = SVC(kernel='rbf', gamma=\"scale\")        # インスタンス生成\n",
        "#svc = SVC(kernel='linear') \n",
        "svc.fit(X_train, y_train)    # 学習\n",
        "yhat = svc.predict(X_test)   # 予測\n",
        "from sklearn import metrics\n",
        "print(metrics.accuracy_score(y_test, yhat)) # 精度"
      ],
      "execution_count": 40,
      "outputs": [
        {
          "output_type": "stream",
          "text": [
            "0.9555555555555556\n"
          ],
          "name": "stdout"
        }
      ]
    },
    {
      "metadata": {
        "id": "oD6KF7-O2JkL",
        "colab_type": "text"
      },
      "cell_type": "markdown",
      "source": [
        "### B.7 仮説の評価\n",
        "\n",
        "###  １つのテストデータだけではばらつきが大きすぎて信用できない！\n",
        "\n",
        "### 交差検証を行えば良い！cross_val_scoreを用いる．\n",
        "\n",
        "上で用いたサポートベクトル分類 svcのインスタンスで試してみる．\n",
        "\n",
        "引数の*cv*は交差検証(cross validiation)の分割数．\n",
        "\n",
        "引数の**scoring='accuracy'**は分類の正確度を表す指標を指定している．\n",
        "\n",
        "（回帰分析のときには，引数を決定変数'r2'などに設定する．）\n"
      ]
    },
    {
      "metadata": {
        "id": "uNNRS9-a2JkM",
        "colab_type": "code",
        "colab": {
          "base_uri": "https://localhost:8080/",
          "height": 70
        },
        "outputId": "89792fc7-6120-46c8-c18c-799567246598"
      },
      "cell_type": "code",
      "source": [
        "from sklearn.model_selection import cross_val_score #古いバージョンの場合には,cross_validationの中にある．\n",
        "scores = cross_val_score(svc, X, y, cv=10, scoring='accuracy')\n",
        "print(scores)\n",
        "print(scores.mean())"
      ],
      "execution_count": 41,
      "outputs": [
        {
          "output_type": "stream",
          "text": [
            "[1.         0.93333333 1.         1.         1.         0.93333333\n",
            " 0.93333333 1.         1.         1.        ]\n",
            "0.9800000000000001\n"
          ],
          "name": "stdout"
        }
      ]
    },
    {
      "metadata": {
        "id": "ilrTsVGp2JkP",
        "colab_type": "text"
      },
      "cell_type": "markdown",
      "source": [
        "### B.8 ニューラルネット，B.9 単純Bayes，B.10 決定木，B.11 アンサンブル法（ランダム森）\n",
        "\n",
        "他の手法も，scikit-learnでは同じ手順で分析を行うことができる．\n",
        "\n",
        "上の続きとしてirisデータで色々試してみよう．\n",
        "\n",
        "ニューラルネットは旧バージョンでは動かないが，\n",
        "http://playground.tensorflow.org/\n",
        "で深層学習（多階層のニューラルネット）を体験することができる．\n"
      ]
    },
    {
      "metadata": {
        "id": "02nSSfjZ2JkP",
        "colab_type": "code",
        "colab": {
          "base_uri": "https://localhost:8080/",
          "height": 87
        },
        "outputId": "d431126b-9e01-4c35-f1ba-d7e857d230bc"
      },
      "cell_type": "code",
      "source": [
        "from sklearn.neural_network import MLPClassifier #ニューラルネット（旧バージョンでは実装されていないので，跳ばして良い．）\n",
        "neural = MLPClassifier(solver='lbfgs', alpha=1e-5, hidden_layer_sizes=(10, 3), random_state=1)\n",
        "neural.fit(X_train, y_train)    # 学習\n",
        "yhat = neural.predict(X_test)   # 予測\n",
        "from sklearn import metrics\n",
        "print(metrics.accuracy_score(y_test, yhat)) # 精度　\n",
        "scores = cross_val_score(neural, X, y, cv=10, scoring='accuracy')\n",
        "print(scores)\n",
        "print(scores.mean())"
      ],
      "execution_count": 42,
      "outputs": [
        {
          "output_type": "stream",
          "text": [
            "0.9555555555555556\n",
            "[1.         0.93333333 1.         1.         0.93333333 0.93333333\n",
            " 0.93333333 0.93333333 1.         1.        ]\n",
            "0.9666666666666668\n"
          ],
          "name": "stdout"
        }
      ]
    },
    {
      "metadata": {
        "id": "dPabavZ_2JkQ",
        "colab_type": "code",
        "colab": {
          "base_uri": "https://localhost:8080/",
          "height": 87
        },
        "outputId": "b1fcaa25-c2cf-43bf-8507-5664efda383e"
      },
      "cell_type": "code",
      "source": [
        "from sklearn.naive_bayes import GaussianNB #単純Bayes\n",
        "bayes = GaussianNB()\n",
        "bayes.fit(X_train, y_train)    # 学習\n",
        "yhat = bayes.predict(X_test)   # 予測\n",
        "from sklearn import metrics\n",
        "print(metrics.accuracy_score(y_test, yhat)) # 精度　\n",
        "scores = cross_val_score(bayes, X, y, cv=10, scoring='accuracy')\n",
        "print(scores)\n",
        "print(scores.mean())"
      ],
      "execution_count": 43,
      "outputs": [
        {
          "output_type": "stream",
          "text": [
            "0.9555555555555556\n",
            "[0.93333333 0.93333333 1.         0.93333333 0.93333333 0.93333333\n",
            " 0.86666667 1.         1.         1.        ]\n",
            "0.9533333333333334\n"
          ],
          "name": "stdout"
        }
      ]
    },
    {
      "metadata": {
        "id": "U9olHxvV2JkR",
        "colab_type": "code",
        "colab": {
          "base_uri": "https://localhost:8080/",
          "height": 87
        },
        "outputId": "f8a50452-dc37-4720-81bf-47815d601c54"
      },
      "cell_type": "code",
      "source": [
        "from sklearn import tree\n",
        "tree_class = tree.DecisionTreeClassifier() #決定木\n",
        "tree_class.fit(X_train, y_train)    # 学習\n",
        "yhat = tree_class.predict(X_test)   # 予測\n",
        "from sklearn import metrics\n",
        "print(metrics.accuracy_score(y_test, yhat)) # 精度　\n",
        "scores = cross_val_score(tree_class, X, y, cv=10, scoring='accuracy')\n",
        "print(scores)\n",
        "print(scores.mean())"
      ],
      "execution_count": 44,
      "outputs": [
        {
          "output_type": "stream",
          "text": [
            "0.9333333333333333\n",
            "[1.         0.93333333 1.         0.93333333 0.93333333 0.86666667\n",
            " 0.93333333 0.93333333 1.         1.        ]\n",
            "0.9533333333333334\n"
          ],
          "name": "stdout"
        }
      ]
    },
    {
      "metadata": {
        "id": "z98rnoAJ2JkT",
        "colab_type": "code",
        "colab": {
          "base_uri": "https://localhost:8080/",
          "height": 122
        },
        "outputId": "a5c19c49-8839-4515-eeb6-e9404c48e71a"
      },
      "cell_type": "code",
      "source": [
        "from sklearn.ensemble import RandomForestClassifier #ランダム森\n",
        "forest = RandomForestClassifier()\n",
        "forest.fit(X_train, y_train)    # 学習\n",
        "yhat = forest.predict(X_test)   # 予測\n",
        "from sklearn import metrics\n",
        "print(metrics.accuracy_score(y_test, yhat)) # 精度　\n",
        "scores = cross_val_score(forest , X, y, cv=10, scoring='accuracy')\n",
        "print(scores)\n",
        "print(scores.mean())\n"
      ],
      "execution_count": 45,
      "outputs": [
        {
          "output_type": "stream",
          "text": [
            "0.9111111111111111\n",
            "[1.         0.93333333 1.         0.93333333 0.93333333 0.86666667\n",
            " 0.93333333 1.         1.         1.        ]\n",
            "0.96\n"
          ],
          "name": "stdout"
        },
        {
          "output_type": "stream",
          "text": [
            "/usr/local/lib/python3.6/dist-packages/sklearn/ensemble/forest.py:246: FutureWarning: The default value of n_estimators will change from 10 in version 0.20 to 100 in 0.22.\n",
            "  \"10 in version 0.20 to 100 in 0.22.\", FutureWarning)\n"
          ],
          "name": "stderr"
        }
      ]
    },
    {
      "metadata": {
        "id": "7Vy_cbD92JkV",
        "colab_type": "text"
      },
      "cell_type": "markdown",
      "source": [
        "### 問題\n",
        "\n",
        "titanicデータ学習用とテスト用に分けてから，ニューラルネット（旧バージョンでは実装されていないので，跳ばして良い．），単純Bayes，決定木，ランダム森による分類を行い，交差検証を行え．"
      ]
    },
    {
      "metadata": {
        "id": "gMGeA0nx2JkV",
        "colab_type": "code",
        "colab": {}
      },
      "cell_type": "code",
      "source": [
        ""
      ],
      "execution_count": 0,
      "outputs": []
    },
    {
      "metadata": {
        "id": "gXphezqr2JkV",
        "colab_type": "text"
      },
      "cell_type": "markdown",
      "source": [
        "### B.12 クラスタリング\n",
        "\n",
        "UCI機械学習レポジトリのワインに関するデータセットを用いてクラスタリングを解説する．\n",
        "\n",
        "使用するのは**KMeans**クラスで実装されている $k$-平均法である．\n",
        "\n",
        "元データはこちらに格納されている．\n",
        "\n",
        "http://logopt.com/data/wine.data\n",
        "\n",
        "列名は https://archive.ics.uci.edu/ml/datasets/Wine で解説されているが，必要ならば以下のリストを用いて，列名を設定して読み込め．\n",
        "\n",
        "L = [ 'Alcohol', 'Malic','Ash', 'Alcalinity', 'Magnesium', 'Phenols', 'Flavanoids', 'Nonflavanoid', 'Proanthocyanins', 'Color', 'Hue', 'OD280', 'OD315', 'Proline']"
      ]
    },
    {
      "metadata": {
        "id": "V3HpU0pq2JkV",
        "colab_type": "code",
        "colab": {
          "base_uri": "https://localhost:8080/",
          "height": 203
        },
        "outputId": "c7a9a10f-6afc-43ba-8b47-8a9b8c217b67"
      },
      "cell_type": "code",
      "source": [
        "import pandas as pd\n",
        "L = [ 'Alcohol', 'Malic','Ash', 'Alcalinity', 'Magnesium', 'Phenols', 'Flavanoids', 'Nonflavanoid',\n",
        "     'Proanthocyanins', 'Color', 'Hue', 'OD280', 'OD315', 'Proline']\n",
        "wine = pd.read_csv('http://logopt.com/data/wine.data',names=L)\n",
        "wine.head()"
      ],
      "execution_count": 46,
      "outputs": [
        {
          "output_type": "execute_result",
          "data": {
            "text/html": [
              "<div>\n",
              "<style scoped>\n",
              "    .dataframe tbody tr th:only-of-type {\n",
              "        vertical-align: middle;\n",
              "    }\n",
              "\n",
              "    .dataframe tbody tr th {\n",
              "        vertical-align: top;\n",
              "    }\n",
              "\n",
              "    .dataframe thead th {\n",
              "        text-align: right;\n",
              "    }\n",
              "</style>\n",
              "<table border=\"1\" class=\"dataframe\">\n",
              "  <thead>\n",
              "    <tr style=\"text-align: right;\">\n",
              "      <th></th>\n",
              "      <th>Alcohol</th>\n",
              "      <th>Malic</th>\n",
              "      <th>Ash</th>\n",
              "      <th>Alcalinity</th>\n",
              "      <th>Magnesium</th>\n",
              "      <th>Phenols</th>\n",
              "      <th>Flavanoids</th>\n",
              "      <th>Nonflavanoid</th>\n",
              "      <th>Proanthocyanins</th>\n",
              "      <th>Color</th>\n",
              "      <th>Hue</th>\n",
              "      <th>OD280</th>\n",
              "      <th>OD315</th>\n",
              "      <th>Proline</th>\n",
              "    </tr>\n",
              "  </thead>\n",
              "  <tbody>\n",
              "    <tr>\n",
              "      <th>0</th>\n",
              "      <td>1</td>\n",
              "      <td>14.23</td>\n",
              "      <td>1.71</td>\n",
              "      <td>2.43</td>\n",
              "      <td>15.6</td>\n",
              "      <td>127</td>\n",
              "      <td>2.80</td>\n",
              "      <td>3.06</td>\n",
              "      <td>0.28</td>\n",
              "      <td>2.29</td>\n",
              "      <td>5.64</td>\n",
              "      <td>1.04</td>\n",
              "      <td>3.92</td>\n",
              "      <td>1065</td>\n",
              "    </tr>\n",
              "    <tr>\n",
              "      <th>1</th>\n",
              "      <td>1</td>\n",
              "      <td>13.20</td>\n",
              "      <td>1.78</td>\n",
              "      <td>2.14</td>\n",
              "      <td>11.2</td>\n",
              "      <td>100</td>\n",
              "      <td>2.65</td>\n",
              "      <td>2.76</td>\n",
              "      <td>0.26</td>\n",
              "      <td>1.28</td>\n",
              "      <td>4.38</td>\n",
              "      <td>1.05</td>\n",
              "      <td>3.40</td>\n",
              "      <td>1050</td>\n",
              "    </tr>\n",
              "    <tr>\n",
              "      <th>2</th>\n",
              "      <td>1</td>\n",
              "      <td>13.16</td>\n",
              "      <td>2.36</td>\n",
              "      <td>2.67</td>\n",
              "      <td>18.6</td>\n",
              "      <td>101</td>\n",
              "      <td>2.80</td>\n",
              "      <td>3.24</td>\n",
              "      <td>0.30</td>\n",
              "      <td>2.81</td>\n",
              "      <td>5.68</td>\n",
              "      <td>1.03</td>\n",
              "      <td>3.17</td>\n",
              "      <td>1185</td>\n",
              "    </tr>\n",
              "    <tr>\n",
              "      <th>3</th>\n",
              "      <td>1</td>\n",
              "      <td>14.37</td>\n",
              "      <td>1.95</td>\n",
              "      <td>2.50</td>\n",
              "      <td>16.8</td>\n",
              "      <td>113</td>\n",
              "      <td>3.85</td>\n",
              "      <td>3.49</td>\n",
              "      <td>0.24</td>\n",
              "      <td>2.18</td>\n",
              "      <td>7.80</td>\n",
              "      <td>0.86</td>\n",
              "      <td>3.45</td>\n",
              "      <td>1480</td>\n",
              "    </tr>\n",
              "    <tr>\n",
              "      <th>4</th>\n",
              "      <td>1</td>\n",
              "      <td>13.24</td>\n",
              "      <td>2.59</td>\n",
              "      <td>2.87</td>\n",
              "      <td>21.0</td>\n",
              "      <td>118</td>\n",
              "      <td>2.80</td>\n",
              "      <td>2.69</td>\n",
              "      <td>0.39</td>\n",
              "      <td>1.82</td>\n",
              "      <td>4.32</td>\n",
              "      <td>1.04</td>\n",
              "      <td>2.93</td>\n",
              "      <td>735</td>\n",
              "    </tr>\n",
              "  </tbody>\n",
              "</table>\n",
              "</div>"
            ],
            "text/plain": [
              "   Alcohol  Malic   Ash  Alcalinity  Magnesium  Phenols  Flavanoids  \\\n",
              "0        1  14.23  1.71        2.43       15.6      127        2.80   \n",
              "1        1  13.20  1.78        2.14       11.2      100        2.65   \n",
              "2        1  13.16  2.36        2.67       18.6      101        2.80   \n",
              "3        1  14.37  1.95        2.50       16.8      113        3.85   \n",
              "4        1  13.24  2.59        2.87       21.0      118        2.80   \n",
              "\n",
              "   Nonflavanoid  Proanthocyanins  Color   Hue  OD280  OD315  Proline  \n",
              "0          3.06             0.28   2.29  5.64   1.04   3.92     1065  \n",
              "1          2.76             0.26   1.28  4.38   1.05   3.40     1050  \n",
              "2          3.24             0.30   2.81  5.68   1.03   3.17     1185  \n",
              "3          3.49             0.24   2.18  7.80   0.86   3.45     1480  \n",
              "4          2.69             0.39   1.82  4.32   1.04   2.93      735  "
            ]
          },
          "metadata": {
            "tags": []
          },
          "execution_count": 46
        }
      ]
    },
    {
      "metadata": {
        "id": "56ZfMv2U2JkX",
        "colab_type": "code",
        "colab": {
          "base_uri": "https://localhost:8080/",
          "height": 70
        },
        "outputId": "c1cff5f7-5bbd-4174-84be-cbe7d6eeab8f"
      },
      "cell_type": "code",
      "source": [
        "from sklearn.cluster import KMeans  # クラスをインポート\n",
        "kmeans = KMeans(n_clusters=8)       # インスタンス生成\n",
        "kmeans.fit(wine)                    # 学習"
      ],
      "execution_count": 47,
      "outputs": [
        {
          "output_type": "execute_result",
          "data": {
            "text/plain": [
              "KMeans(algorithm='auto', copy_x=True, init='k-means++', max_iter=300,\n",
              "    n_clusters=8, n_init=10, n_jobs=None, precompute_distances='auto',\n",
              "    random_state=None, tol=0.0001, verbose=0)"
            ]
          },
          "metadata": {
            "tags": []
          },
          "execution_count": 47
        }
      ]
    },
    {
      "metadata": {
        "id": "WAmH2Uok2JkY",
        "colab_type": "code",
        "colab": {
          "base_uri": "https://localhost:8080/",
          "height": 203
        },
        "outputId": "4982d78c-8e64-4089-f6cd-9bb8c1642f43"
      },
      "cell_type": "code",
      "source": [
        "wine['label'] = kmeans.labels_\n",
        "wine.head()"
      ],
      "execution_count": 48,
      "outputs": [
        {
          "output_type": "execute_result",
          "data": {
            "text/html": [
              "<div>\n",
              "<style scoped>\n",
              "    .dataframe tbody tr th:only-of-type {\n",
              "        vertical-align: middle;\n",
              "    }\n",
              "\n",
              "    .dataframe tbody tr th {\n",
              "        vertical-align: top;\n",
              "    }\n",
              "\n",
              "    .dataframe thead th {\n",
              "        text-align: right;\n",
              "    }\n",
              "</style>\n",
              "<table border=\"1\" class=\"dataframe\">\n",
              "  <thead>\n",
              "    <tr style=\"text-align: right;\">\n",
              "      <th></th>\n",
              "      <th>Alcohol</th>\n",
              "      <th>Malic</th>\n",
              "      <th>Ash</th>\n",
              "      <th>Alcalinity</th>\n",
              "      <th>Magnesium</th>\n",
              "      <th>Phenols</th>\n",
              "      <th>Flavanoids</th>\n",
              "      <th>Nonflavanoid</th>\n",
              "      <th>Proanthocyanins</th>\n",
              "      <th>Color</th>\n",
              "      <th>Hue</th>\n",
              "      <th>OD280</th>\n",
              "      <th>OD315</th>\n",
              "      <th>Proline</th>\n",
              "      <th>label</th>\n",
              "    </tr>\n",
              "  </thead>\n",
              "  <tbody>\n",
              "    <tr>\n",
              "      <th>0</th>\n",
              "      <td>1</td>\n",
              "      <td>14.23</td>\n",
              "      <td>1.71</td>\n",
              "      <td>2.43</td>\n",
              "      <td>15.6</td>\n",
              "      <td>127</td>\n",
              "      <td>2.80</td>\n",
              "      <td>3.06</td>\n",
              "      <td>0.28</td>\n",
              "      <td>2.29</td>\n",
              "      <td>5.64</td>\n",
              "      <td>1.04</td>\n",
              "      <td>3.92</td>\n",
              "      <td>1065</td>\n",
              "      <td>0</td>\n",
              "    </tr>\n",
              "    <tr>\n",
              "      <th>1</th>\n",
              "      <td>1</td>\n",
              "      <td>13.20</td>\n",
              "      <td>1.78</td>\n",
              "      <td>2.14</td>\n",
              "      <td>11.2</td>\n",
              "      <td>100</td>\n",
              "      <td>2.65</td>\n",
              "      <td>2.76</td>\n",
              "      <td>0.26</td>\n",
              "      <td>1.28</td>\n",
              "      <td>4.38</td>\n",
              "      <td>1.05</td>\n",
              "      <td>3.40</td>\n",
              "      <td>1050</td>\n",
              "      <td>0</td>\n",
              "    </tr>\n",
              "    <tr>\n",
              "      <th>2</th>\n",
              "      <td>1</td>\n",
              "      <td>13.16</td>\n",
              "      <td>2.36</td>\n",
              "      <td>2.67</td>\n",
              "      <td>18.6</td>\n",
              "      <td>101</td>\n",
              "      <td>2.80</td>\n",
              "      <td>3.24</td>\n",
              "      <td>0.30</td>\n",
              "      <td>2.81</td>\n",
              "      <td>5.68</td>\n",
              "      <td>1.03</td>\n",
              "      <td>3.17</td>\n",
              "      <td>1185</td>\n",
              "      <td>4</td>\n",
              "    </tr>\n",
              "    <tr>\n",
              "      <th>3</th>\n",
              "      <td>1</td>\n",
              "      <td>14.37</td>\n",
              "      <td>1.95</td>\n",
              "      <td>2.50</td>\n",
              "      <td>16.8</td>\n",
              "      <td>113</td>\n",
              "      <td>3.85</td>\n",
              "      <td>3.49</td>\n",
              "      <td>0.24</td>\n",
              "      <td>2.18</td>\n",
              "      <td>7.80</td>\n",
              "      <td>0.86</td>\n",
              "      <td>3.45</td>\n",
              "      <td>1480</td>\n",
              "      <td>3</td>\n",
              "    </tr>\n",
              "    <tr>\n",
              "      <th>4</th>\n",
              "      <td>1</td>\n",
              "      <td>13.24</td>\n",
              "      <td>2.59</td>\n",
              "      <td>2.87</td>\n",
              "      <td>21.0</td>\n",
              "      <td>118</td>\n",
              "      <td>2.80</td>\n",
              "      <td>2.69</td>\n",
              "      <td>0.39</td>\n",
              "      <td>1.82</td>\n",
              "      <td>4.32</td>\n",
              "      <td>1.04</td>\n",
              "      <td>2.93</td>\n",
              "      <td>735</td>\n",
              "      <td>2</td>\n",
              "    </tr>\n",
              "  </tbody>\n",
              "</table>\n",
              "</div>"
            ],
            "text/plain": [
              "   Alcohol  Malic   Ash  Alcalinity  Magnesium  Phenols  Flavanoids  \\\n",
              "0        1  14.23  1.71        2.43       15.6      127        2.80   \n",
              "1        1  13.20  1.78        2.14       11.2      100        2.65   \n",
              "2        1  13.16  2.36        2.67       18.6      101        2.80   \n",
              "3        1  14.37  1.95        2.50       16.8      113        3.85   \n",
              "4        1  13.24  2.59        2.87       21.0      118        2.80   \n",
              "\n",
              "   Nonflavanoid  Proanthocyanins  Color   Hue  OD280  OD315  Proline  label  \n",
              "0          3.06             0.28   2.29  5.64   1.04   3.92     1065      0  \n",
              "1          2.76             0.26   1.28  4.38   1.05   3.40     1050      0  \n",
              "2          3.24             0.30   2.81  5.68   1.03   3.17     1185      4  \n",
              "3          3.49             0.24   2.18  7.80   0.86   3.45     1480      3  \n",
              "4          2.69             0.39   1.82  4.32   1.04   2.93      735      2  "
            ]
          },
          "metadata": {
            "tags": []
          },
          "execution_count": 48
        }
      ]
    },
    {
      "metadata": {
        "id": "UimSVy5S2Jka",
        "colab_type": "text"
      },
      "cell_type": "markdown",
      "source": [
        "### 問題\n",
        "\n",
        "irisのデータセットの各データを $k$-平均法を用いて3つのクラスターに分けよ．"
      ]
    },
    {
      "metadata": {
        "id": "N2WMKFpD2Jka",
        "colab_type": "code",
        "colab": {}
      },
      "cell_type": "code",
      "source": [
        ""
      ],
      "execution_count": 0,
      "outputs": []
    },
    {
      "metadata": {
        "id": "t753o8X12Jkc",
        "colab_type": "text"
      },
      "cell_type": "markdown",
      "source": [
        "### B.13 主成分分析\n",
        "\n",
        "irisデータセットを用いて主成分分析と可視化の方法を説明する．\n"
      ]
    },
    {
      "metadata": {
        "id": "idj03rsX2Jkc",
        "colab_type": "code",
        "colab": {}
      },
      "cell_type": "code",
      "source": [
        "import pandas as pd\n",
        "iris = pd.read_csv(\"http://logopt.com/data/iris.data\",\n",
        "                   names=['sepal length','sepal width','petal length','petal width', 'class'])\n",
        "X = iris[ ['sepal length','sepal width','petal length','petal width'] ]"
      ],
      "execution_count": 0,
      "outputs": []
    },
    {
      "metadata": {
        "id": "tllyApye2Jke",
        "colab_type": "code",
        "colab": {
          "base_uri": "https://localhost:8080/",
          "height": 52
        },
        "outputId": "5cc0bf6d-382b-410c-fc2e-14a836eef666"
      },
      "cell_type": "code",
      "source": [
        "from sklearn.decomposition import PCA\n",
        "pca = PCA(n_components=2) # 2次元に射影\n",
        "pca.fit(X)\n",
        "pca.components_ #射影行列"
      ],
      "execution_count": 50,
      "outputs": [
        {
          "output_type": "execute_result",
          "data": {
            "text/plain": [
              "array([[ 0.36158968, -0.08226889,  0.85657211,  0.35884393],\n",
              "       [ 0.65653988,  0.72971237, -0.1757674 , -0.07470647]])"
            ]
          },
          "metadata": {
            "tags": []
          },
          "execution_count": 50
        }
      ]
    },
    {
      "metadata": {
        "id": "XhjX1r8t2Jkg",
        "colab_type": "code",
        "colab": {}
      },
      "cell_type": "code",
      "source": [
        "Z = pca.transform(X) # 射影したデータ\n",
        "# 射影した2次元データを元のデータフレームに追加\n",
        "iris['X']=Z[:,0]\n",
        "iris['Y']=Z[:,1]"
      ],
      "execution_count": 0,
      "outputs": []
    },
    {
      "metadata": {
        "id": "W0XVTeHH2Jkh",
        "colab_type": "code",
        "colab": {
          "base_uri": "https://localhost:8080/",
          "height": 369
        },
        "outputId": "e20b178c-3768-4b0b-dbb7-2293be86c0b1"
      },
      "cell_type": "code",
      "source": [
        "#seabornの lmplot で描画（hueは色調指定，fit_reg=Falseは線を描画しない）\n",
        "import seaborn as sns\n",
        "%matplotlib inline\n",
        "sns.lmplot(x='X',y='Y',hue='class',fit_reg=False,data=iris);"
      ],
      "execution_count": 52,
      "outputs": [
        {
          "output_type": "display_data",
          "data": {
            "image/png": "[encoded data removed]",
            "text/plain": [
              "<matplotlib.figure.Figure at 0x7ff23ba07710>"
            ]
          },
          "metadata": {
            "tags": []
          }
        }
      ]
    },
    {
      "metadata": {
        "id": "RfB4Opmk2Jki",
        "colab_type": "text"
      },
      "cell_type": "markdown",
      "source": [
        "### 問題\n",
        "\n",
        "http://logopt.com/data/drinks.csv にある国別のアルコール摂取量データを用いて主成分分析を行え．\n",
        "\n",
        "4次元の数値データを2次元に射影し，2次元座標で表示せよ．その際，色調としては，大陸(continent)列を用いよ．"
      ]
    },
    {
      "metadata": {
        "id": "gDLTNW_z2Jki",
        "colab_type": "code",
        "colab": {}
      },
      "cell_type": "code",
      "source": [
        ""
      ],
      "execution_count": 0,
      "outputs": []
    },
    {
      "metadata": {
        "id": "iqcG5ALP2Jkl",
        "colab_type": "text"
      },
      "cell_type": "markdown",
      "source": [
        "### 問題\n",
        "\n",
        "クラスタリングの例で用いたワインのデータを2次元に射影して，クラスタリングされたラベルを色調として描画せよ．"
      ]
    },
    {
      "metadata": {
        "id": "pux3Sbkc2Jkl",
        "colab_type": "code",
        "colab": {}
      },
      "cell_type": "code",
      "source": [
        ""
      ],
      "execution_count": 0,
      "outputs": []
    }
  ]
}