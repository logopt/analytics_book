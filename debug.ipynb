{
  "nbformat": 4,
  "nbformat_minor": 0,
  "metadata": {
    "colab": {
      "name": "debug.ipynb",
      "version": "0.3.2",
      "provenance": [],
      "collapsed_sections": [],
      "include_colab_link": true
    },
    "kernelspec": {
      "display_name": "Python 3",
      "language": "python",
      "name": "python3"
    }
  },
  "cells": [
    {
      "cell_type": "markdown",
      "metadata": {
        "id": "view-in-github",
        "colab_type": "text"
      },
      "source": [
        "<a href=\"https://colab.research.google.com/github/mickeykubo/analytics_book/blob/master/debug.ipynb\" target=\"_parent\"><img src=\"https://colab.research.google.com/assets/colab-badge.svg\" alt=\"Open In Colab\"/></a>"
      ]
    },
    {
      "metadata": {
        "id": "IgTReaiN4hIQ",
        "colab_type": "text"
      },
      "cell_type": "markdown",
      "source": [
        "# Jupyerでのデバッグのやり方\n",
        "\n",
        "Python Debuggerモジュールを読み込むには，\n",
        "**import pdb** \n",
        "とする．"
      ]
    },
    {
      "metadata": {
        "id": "ZEXffq2-4hIU",
        "colab_type": "code",
        "colab": {}
      },
      "cell_type": "code",
      "source": [
        "import pdb"
      ],
      "execution_count": 0,
      "outputs": []
    },
    {
      "metadata": {
        "id": "Pfp68Xo64hIX",
        "colab_type": "code",
        "colab": {}
      },
      "cell_type": "code",
      "source": [
        "# 呼び出し用の関数を準備する．\n",
        "def f(x):\n",
        "    print(\"x=\",100/(x+5))"
      ],
      "execution_count": 0,
      "outputs": []
    },
    {
      "metadata": {
        "id": "DUvl5sqk4hIa",
        "colab_type": "text"
      },
      "cell_type": "markdown",
      "source": [
        "## プログラムを停止したい行の前に**pdb.set_trace()**と書くとデバッガが起動する．\n",
        "\n",
        "### 重要なコマンド一覧\n",
        "\n",
        "* h (help) でヘルプが出る．（help <コマンド> でコマンドの説明が出る．）\n",
        "* q (quit) でデバッガを終了する．（デバッガをちゃんと終了させないとカーネルが暴走するので注意！）\n",
        "* p (print) でプリント（コマンドと同じ変数でなければ，それを入れるだけでプリントしてくれる．）\n",
        "* n (next) で次の行に進む．\n",
        "* c (continue) で次の停止位置（ブレークポイント）まで進む．\n",
        "* s (step into) で呼び出した先に移動する．\n",
        "* l (list) で現在の近所のプログラムリストを表示する．\n",
        "\n",
        "以下のプログラムを動かして，コマンドを色々試してみよう．\n",
        "\n",
        "* 関数 f(x) 内では，変数 y はどうなっているだろうか？\n",
        "* もとのプログラム内では，変数 x はどうなっているだろうか？"
      ]
    },
    {
      "metadata": {
        "id": "n5BZR6IN4hIb",
        "colab_type": "code",
        "colab": {}
      },
      "cell_type": "code",
      "source": [
        "for i in range(3):\n",
        "    pdb.set_trace()\n",
        "    y = i+2\n",
        "    f(y) "
      ],
      "execution_count": 0,
      "outputs": []
    },
    {
      "metadata": {
        "id": "lKS5by094hId",
        "colab_type": "text"
      },
      "cell_type": "markdown",
      "source": [
        "## 意図的にエラーを起こしてみる．\n",
        "\n",
        "**%debug** とうつと，エラー箇所からデバッグを開始できる．\n",
        "\n",
        "* 変数xを表示させ，何故エラーが起きたかを考えてみよう．"
      ]
    },
    {
      "metadata": {
        "id": "caUKBm1l4hId",
        "colab_type": "code",
        "colab": {}
      },
      "cell_type": "code",
      "source": [
        "for i in range(-10,0):\n",
        "    y = i+2\n",
        "    f(y) "
      ],
      "execution_count": 0,
      "outputs": []
    },
    {
      "metadata": {
        "id": "YpHOb6b-4hIg",
        "colab_type": "code",
        "colab": {}
      },
      "cell_type": "code",
      "source": [
        "%debug"
      ],
      "execution_count": 0,
      "outputs": []
    },
    {
      "metadata": {
        "id": "NwhlxTu84hIj",
        "colab_type": "code",
        "colab": {}
      },
      "cell_type": "code",
      "source": [
        ""
      ],
      "execution_count": 0,
      "outputs": []
    }
  ]
}