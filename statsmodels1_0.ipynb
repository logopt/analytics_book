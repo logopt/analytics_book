{
  "nbformat": 4,
  "nbformat_minor": 0,
  "metadata": {
    "colab": {
      "name": "statsmodels1.0.ipynb",
      "version": "0.3.2",
      "provenance": [],
      "collapsed_sections": [],
      "include_colab_link": true
    },
    "kernelspec": {
      "display_name": "Python [conda root]",
      "language": "python",
      "name": "conda-root-py"
    }
  },
  "cells": [
    {
      "cell_type": "markdown",
      "metadata": {
        "id": "view-in-github",
        "colab_type": "text"
      },
      "source": [
        "<a href=\"https://colab.research.google.com/github/mickeykubo/analytics_book/blob/master/statsmodels1_0.ipynb\" target=\"_parent\"><img src=\"https://colab.research.google.com/assets/colab-badge.svg\" alt=\"Open In Colab\"/></a>"
      ]
    },
    {
      "metadata": {
        "id": "IB0Kmqq7Kulp",
        "colab_type": "text"
      },
      "cell_type": "markdown",
      "source": [
        "# Python言語によるビジネスアナリティクス\n",
        "## 実務家のための最適化，統計分析，機械学習（近代科学社）\n",
        "\n",
        "## statsmodelsを用いた統計の例題と練習問題\n",
        "\n",
        "\n",
        "### 線形回帰\n",
        "\n",
        "http://logopt.com/data/Diamond.csv からダイアモンドの価格データを読み込み，線形回帰を適用する．\n",
        "\n",
        "列は [\"carat\",\"colour\",\"clarity\",\"certification\",\"price\"] であり，他の情報から価格(price)の予測を行う．\n",
        "\n",
        "1. データをpandasのデータフレームとして読み込む．\n",
        "2. statsmodels.formula.apiを **smf** (stats model formula)の名前でインポートする．\n",
        "3. smfの一般化線形モデル**glm**を用いてモデルインスタンスを生成する．\n",
        "このとき，列名を用いた**式(formula)**を文字列で記述し引数**formula**で，データは引数**data**にデータフレームとして入力する．\n",
        "4. モデルインスタンスの**fitメソッド**で学習を行う．\n",
        "5. モデルインスタンスの**summary(2)**メソッドで結果を見る．\n",
        "\n",
        "モデル式の**formula**の書き方については，教科書194ページを参照"
      ]
    },
    {
      "metadata": {
        "id": "LKwvxRd4Kulr",
        "colab_type": "code",
        "colab": {
          "base_uri": "https://localhost:8080/",
          "height": 195
        },
        "outputId": "da1fd906-6829-4dd2-e5bf-8488e58681d7"
      },
      "cell_type": "code",
      "source": [
        "import pandas as pd\n",
        "%matplotlib inline\n",
        "diamond = pd.read_csv('http://logopt.com/data/Diamond.csv', index_col=0)\n",
        "diamond.head()"
      ],
      "execution_count": 1,
      "outputs": [
        {
          "output_type": "execute_result",
          "data": {
            "text/html": [
              "<div>\n",
              "<style scoped>\n",
              "    .dataframe tbody tr th:only-of-type {\n",
              "        vertical-align: middle;\n",
              "    }\n",
              "\n",
              "    .dataframe tbody tr th {\n",
              "        vertical-align: top;\n",
              "    }\n",
              "\n",
              "    .dataframe thead th {\n",
              "        text-align: right;\n",
              "    }\n",
              "</style>\n",
              "<table border=\"1\" class=\"dataframe\">\n",
              "  <thead>\n",
              "    <tr style=\"text-align: right;\">\n",
              "      <th></th>\n",
              "      <th>carat</th>\n",
              "      <th>colour</th>\n",
              "      <th>clarity</th>\n",
              "      <th>certification</th>\n",
              "      <th>price</th>\n",
              "    </tr>\n",
              "  </thead>\n",
              "  <tbody>\n",
              "    <tr>\n",
              "      <th>1</th>\n",
              "      <td>0.30</td>\n",
              "      <td>D</td>\n",
              "      <td>VS2</td>\n",
              "      <td>GIA</td>\n",
              "      <td>1302</td>\n",
              "    </tr>\n",
              "    <tr>\n",
              "      <th>2</th>\n",
              "      <td>0.30</td>\n",
              "      <td>E</td>\n",
              "      <td>VS1</td>\n",
              "      <td>GIA</td>\n",
              "      <td>1510</td>\n",
              "    </tr>\n",
              "    <tr>\n",
              "      <th>3</th>\n",
              "      <td>0.30</td>\n",
              "      <td>G</td>\n",
              "      <td>VVS1</td>\n",
              "      <td>GIA</td>\n",
              "      <td>1510</td>\n",
              "    </tr>\n",
              "    <tr>\n",
              "      <th>4</th>\n",
              "      <td>0.30</td>\n",
              "      <td>G</td>\n",
              "      <td>VS1</td>\n",
              "      <td>GIA</td>\n",
              "      <td>1260</td>\n",
              "    </tr>\n",
              "    <tr>\n",
              "      <th>5</th>\n",
              "      <td>0.31</td>\n",
              "      <td>D</td>\n",
              "      <td>VS1</td>\n",
              "      <td>GIA</td>\n",
              "      <td>1641</td>\n",
              "    </tr>\n",
              "  </tbody>\n",
              "</table>\n",
              "</div>"
            ],
            "text/plain": [
              "   carat colour clarity certification  price\n",
              "1   0.30      D     VS2           GIA   1302\n",
              "2   0.30      E     VS1           GIA   1510\n",
              "3   0.30      G    VVS1           GIA   1510\n",
              "4   0.30      G     VS1           GIA   1260\n",
              "5   0.31      D     VS1           GIA   1641"
            ]
          },
          "metadata": {
            "tags": []
          },
          "execution_count": 1
        }
      ]
    },
    {
      "metadata": {
        "id": "Ujzn1WyOKul2",
        "colab_type": "code",
        "colab": {
          "base_uri": "https://localhost:8080/",
          "height": 510
        },
        "outputId": "f82de469-8deb-4082-f051-0fe9f2842a8c"
      },
      "cell_type": "code",
      "source": [
        "import statsmodels.formula.api as smf\n",
        "model = smf.glm('price ~ carat + colour + clarity +certification', diamond) \n",
        "fit = model.fit()                                \n",
        "print(fit.summary2())    "
      ],
      "execution_count": 2,
      "outputs": [
        {
          "output_type": "stream",
          "text": [
            "                       Results: Generalized linear model\n",
            "==============================================================================\n",
            "Model:                   GLM                 AIC:               4931.3248     \n",
            "Link Function:           identity            BIC:               148870958.0331\n",
            "Dependent Variable:      price               Log-Likelihood:    -2452.7       \n",
            "Date:                    2019-01-11 09:08    LL-Null:           -2941.3       \n",
            "No. Observations:        308                 Deviance:          1.4887e+08    \n",
            "Df Model:                12                  Pearson chi2:      1.49e+08      \n",
            "Df Residuals:            295                 Scale:             5.0465e+05    \n",
            "Method:                  IRLS                                                 \n",
            "------------------------------------------------------------------------------\n",
            "                       Coef.    Std.Err.    z     P>|z|    [0.025     0.975]  \n",
            "------------------------------------------------------------------------------\n",
            "Intercept              169.1760 255.0156   0.6634 0.5071  -330.6454   668.9975\n",
            "colour[T.E]          -1439.0853 207.9816  -6.9193 0.0000 -1846.7217 -1031.4490\n",
            "colour[T.F]          -1841.6905 195.2316  -9.4334 0.0000 -2224.3375 -1459.0436\n",
            "colour[T.G]          -2176.6722 200.3933 -10.8620 0.0000 -2569.4359 -1783.9085\n",
            "colour[T.H]          -2747.1500 202.9140 -13.5385 0.0000 -3144.8541 -2349.4459\n",
            "colour[T.I]          -3313.1024 212.7145 -15.5753 0.0000 -3730.0152 -2896.1896\n",
            "clarity[T.VS1]       -1474.5661 159.6750  -9.2348 0.0000 -1787.5234 -1161.6089\n",
            "clarity[T.VS2]       -1792.0109 171.1855 -10.4682 0.0000 -2127.5283 -1456.4936\n",
            "clarity[T.VVS1]       -689.2904 159.9250  -4.3101 0.0000 -1002.7377  -375.8431\n",
            "clarity[T.VVS2]      -1191.1643 148.7582  -8.0074 0.0000 -1482.7249  -899.6036\n",
            "certification[T.HRD]    15.2267 107.2475   0.1420 0.8871  -194.9745   225.4280\n",
            "certification[T.IGI]   141.2624 128.2585   1.1014 0.2707  -110.1195   392.6444\n",
            "carat                12766.3960 190.0244  67.1829 0.0000 12393.9549 13138.8370\n",
            "==============================================================================\n",
            "\n"
          ],
          "name": "stdout"
        }
      ]
    },
    {
      "metadata": {
        "id": "oToKe-q0Kul8",
        "colab_type": "text"
      },
      "cell_type": "markdown",
      "source": [
        "### サマリーの見方\n",
        "\n",
        "- No. Observations : サンプル数 (=308)\n",
        "- Df Model : 自由度(Degree of Freedom) 変数の数なので $12$   \n",
        "- AIC : [赤池情報量基準(Akaike Information Criterion) ](https://ja.wikipedia.org/wiki/%E8%B5%A4%E6%B1%A0%E6%83%85%E5%A0%B1%E9%87%8F%E8%A6%8F%E6%BA%96)\n",
        "($=4931.3248 = -2 \\times 対数尤度 + 2 \\times (自由度+1) = -2 \\times (-2452.7) +2 \\times (12+1)$ )　(小さいほどモデルの適合度が良い）\n",
        "- Log-Likelihood: 尤度の対数（最大尤度のものを求めている）[最尤推定](https://ja.wikipedia.org/wiki/%E6%9C%80%E5%B0%A4%E6%8E%A8%E5%AE%9A)\n",
        "- Corf. : 係数（一番上のInterceptはy切片）\n",
        "- Std. Err. : 標準誤差\n",
        "- z : 標準偏差．大きいほど係数が信頼できる\n",
        "- P : P値（偶然|z|を超える確率）．小さいほど係数が信頼できる（以下の表参照）\n",
        "- [0.025, 0.975] : 係数の信頼区間\n",
        "\n",
        "| z (標準偏差) | P値 (確率） | 信頼度 |\n",
        "|:-----------|------------:|:------------:|\n",
        "| < -1.65 または > +1.65 | < 0.10 | 90%\n",
        "| < -1.96 または > +1.96 | < 0.05 | 95%\n",
        "| < -2.58 または > +2.58 |  < 0.01 | 99%  \n"
      ]
    },
    {
      "metadata": {
        "id": "9WG_8kvkKul9",
        "colab_type": "code",
        "colab": {
          "base_uri": "https://localhost:8080/",
          "height": 279
        },
        "outputId": "83925b2e-5706-4f32-c10e-ca97d2ab1546"
      },
      "cell_type": "code",
      "source": [
        "diamond['predict'] = fit.predict() #予測を行い，結果を'predict'列に追加\n",
        "diamond.plot.scatter(x='predict',y='price'); #描画"
      ],
      "execution_count": 3,
      "outputs": [
        {
          "output_type": "display_data",
          "data": {
            "image/png": "[encoded data removed]",
            "text/plain": [
              "<matplotlib.figure.Figure at 0x7fbcc51d05d0>"
            ]
          },
          "metadata": {
            "tags": []
          }
        }
      ]
    },
    {
      "metadata": {
        "id": "koCKHVmVKumC",
        "colab_type": "code",
        "colab": {}
      },
      "cell_type": "code",
      "source": [
        ""
      ],
      "execution_count": 0,
      "outputs": []
    },
    {
      "metadata": {
        "id": "UNMl3ex4KumF",
        "colab_type": "text"
      },
      "cell_type": "markdown",
      "source": [
        "### 問題\n",
        "\n",
        "http://logopt.com/data/carprice.csv から車の価格データを読み込み，線形回帰による予測を行え．\n",
        "\n",
        "車種(Type)，100マイル走る際のガロン数（gpm100），都市部での1ガロンあたりの走行距離（MPGcity），高速道路での１ガロン当たりの走行距離（MPGhighway）から，価格(Price)を予測せよ．"
      ]
    },
    {
      "metadata": {
        "id": "6h2Y5NJDKumG",
        "colab_type": "code",
        "colab": {}
      },
      "cell_type": "code",
      "source": [
        ""
      ],
      "execution_count": 0,
      "outputs": []
    },
    {
      "metadata": {
        "id": "YRaH83PkKumJ",
        "colab_type": "text"
      },
      "cell_type": "markdown",
      "source": [
        "### 問題\n",
        "\n",
        "広告のデータ http://logopt.com/data/Advertising.csv を読み込み，線形回帰による予測を行え．\n",
        "\n",
        "テレビ(TV)，ラジオ(Radio)，新聞(Newspaper)への広告から売り上げ(Sales)を予測せよ．"
      ]
    },
    {
      "metadata": {
        "id": "G1ew_8oHKumK",
        "colab_type": "code",
        "colab": {}
      },
      "cell_type": "code",
      "source": [
        ""
      ],
      "execution_count": 0,
      "outputs": []
    },
    {
      "metadata": {
        "id": "mT_qxjrCKumM",
        "colab_type": "text"
      },
      "cell_type": "markdown",
      "source": [
        "### 問題\n",
        "\n",
        "http://logopt.com/data/Boston.csv のBostonの住宅データを用いて回帰分析を行え．\n",
        "\n",
        "データの詳細については，\n",
        "https://archive.ics.uci.edu/ml/datasets/Housing\n",
        "を参照せよ．\n",
        "\n",
        "medvが住宅の価格で，他のデータ（犯罪率や人口など）から予測する．"
      ]
    },
    {
      "metadata": {
        "id": "560H6PecKumN",
        "colab_type": "code",
        "colab": {}
      },
      "cell_type": "code",
      "source": [
        ""
      ],
      "execution_count": 0,
      "outputs": []
    },
    {
      "metadata": {
        "id": "TuNYboENKumR",
        "colab_type": "text"
      },
      "cell_type": "markdown",
      "source": [
        "### 問題\n",
        "\n",
        "http://logopt.com/data/SATGPA.csv データを用いて，2種類のSATの成績からGPAを予測せよ．"
      ]
    },
    {
      "metadata": {
        "id": "v-nBTm8eKumS",
        "colab_type": "code",
        "colab": {}
      },
      "cell_type": "code",
      "source": [
        ""
      ],
      "execution_count": 0,
      "outputs": []
    },
    {
      "metadata": {
        "id": "5h9QOxfhKumW",
        "colab_type": "text"
      },
      "cell_type": "markdown",
      "source": [
        "### 一般化線形モデルについて\n",
        "\n",
        "基本となる線形回帰だと，独立変数 $x^{(i)}$ を用いて従属変数 $y^{(i)}$ を推定する．上付き添え字の$(i)$ はトレーニングデータのインデックスを表す．評価関数は最小自乗誤差であり，それを最小にするような重みベクトル $w$ を求める．\n",
        "\n",
        "通常の線形回帰（最小自乗モデル）は，一般化線形モデル的に見直すと以下のように解釈できる．\n",
        "\n",
        "1. 従属変数 $y^{(i)}$ は平均 $\\mu^{(i)}$，標準偏差 $\\sigma$ の正規分布 $N(\\mu^{(i)},\\sigma^2)$ にしたがう．\n",
        "2. 線形予測子 $z^{(i)}$ を独立変数 $x^{(i)}$ を用いて $z^{(i)} = w x^{(i)} $ と定義する．ここで $w$ は最適化するパラメータ（重み）である．\n",
        "3. リンク関数 $g$ を用いて  $\\mu^{(i)}$ と  $z^{(i)}$ を繋ぐが，線形モデルでは $g(\\mu) =\\mu$ である．"
      ]
    },
    {
      "metadata": {
        "id": "80IxRBOTKumX",
        "colab_type": "text"
      },
      "cell_type": "markdown",
      "source": [
        "### ロジスティック回帰\n",
        "\n",
        "titanicデータを用いる(データの詳細については教科書82ページ参照）．\n",
        "\n",
        "従属変数（予測するもの）は*survived*の列で，生き残ったか($=1$)，否か($=0$)を表す．\n",
        "\n",
        "このように $0$ か $1$ かを予測するのに線形回帰は不適当なので，ロジスティック回帰を用いる．\n",
        "\n",
        "一般化線形モデル(glm)を使えば，ほぼ同じように予測できる（性別sexと客室クラスpclassだけを用いる）．\n",
        "\n",
        "引数の*family* に *sm.families.Binomial()* を指定すれば良い．\n",
        "\n",
        "一般化線形モデルでの仮定は以下のようになる．\n",
        "\n",
        "1. 従属変数 $y^{{i}}$ は平均 $\\mu^{(i)}$ （表が出る確率）のコイン投げの分布(2項分布:binomial distribution)にしたがう．\n",
        "2. 線形予測子 $z^{(i)}$ を独立変数 $x^{(i)}$ を用いて $z^{(i)} = w x^{(i)} $ と定義する．(この部分は全部共通）\n",
        "3. リンク関数 $g$ を用いて  $\\mu^{(i)}$ と  $z^{(i)}$ を繋ぐが，$\\mu$ は確率なので $[0,1]$ の範囲しかとらない，一方， $z$ は線形予測子なので $[-\\infty,+\\infty]$ の定義域をもつ．これを繋ぐために以下のリンク関数 $g$ を用いる．\n",
        "\n",
        "$$z = g(\\mu) = \\log \\left( \\frac{\\mu}{1-\\mu} \\right) $$\n",
        "\n",
        "これをロジット関数とよぶ．\n",
        "歴史的な都合で $g$ は $\\mu$ から $z$ への写像となっているが，逆写像として考えた方がわかりやすい．すなわち，線形予測子 $z$ から分布の平均 $\\mu$ を逆写像 $g^{-1}$ で写すのである．この関数は\n",
        "\n",
        "\n",
        "$$\\mu = \\frac{ \\exp (z) }{ 1+\\exp (z)} $$ となり，いわゆるロジスティック関数である．\n",
        "\n",
        "\n",
        "### 例題\n",
        "\n",
        "titanic号で生存したか否かの[データセット](https://www.kaggle.com/c/titanic/data)にロジスティック回帰を適用してみる．\n"
      ]
    },
    {
      "metadata": {
        "id": "3GTM2Y1rKumZ",
        "colab_type": "code",
        "colab": {
          "base_uri": "https://localhost:8080/",
          "height": 225
        },
        "outputId": "c0c1c454-b9c8-4d0b-92b0-09c8ef154f72"
      },
      "cell_type": "code",
      "source": [
        "titanic = pd.read_csv('http://logopt.com/data/titanic.csv',index_col=0)\n",
        "titanic.head()"
      ],
      "execution_count": 4,
      "outputs": [
        {
          "output_type": "execute_result",
          "data": {
            "text/html": [
              "<div>\n",
              "<style scoped>\n",
              "    .dataframe tbody tr th:only-of-type {\n",
              "        vertical-align: middle;\n",
              "    }\n",
              "\n",
              "    .dataframe tbody tr th {\n",
              "        vertical-align: top;\n",
              "    }\n",
              "\n",
              "    .dataframe thead th {\n",
              "        text-align: right;\n",
              "    }\n",
              "</style>\n",
              "<table border=\"1\" class=\"dataframe\">\n",
              "  <thead>\n",
              "    <tr style=\"text-align: right;\">\n",
              "      <th></th>\n",
              "      <th>Survived</th>\n",
              "      <th>Pclass</th>\n",
              "      <th>Name</th>\n",
              "      <th>Sex</th>\n",
              "      <th>Age</th>\n",
              "      <th>SibSp</th>\n",
              "      <th>Parch</th>\n",
              "      <th>Ticket</th>\n",
              "      <th>Fare</th>\n",
              "      <th>Cabin</th>\n",
              "      <th>Embarked</th>\n",
              "    </tr>\n",
              "    <tr>\n",
              "      <th>PassengerId</th>\n",
              "      <th></th>\n",
              "      <th></th>\n",
              "      <th></th>\n",
              "      <th></th>\n",
              "      <th></th>\n",
              "      <th></th>\n",
              "      <th></th>\n",
              "      <th></th>\n",
              "      <th></th>\n",
              "      <th></th>\n",
              "      <th></th>\n",
              "    </tr>\n",
              "  </thead>\n",
              "  <tbody>\n",
              "    <tr>\n",
              "      <th>1</th>\n",
              "      <td>0</td>\n",
              "      <td>3</td>\n",
              "      <td>Braund, Mr. Owen Harris</td>\n",
              "      <td>male</td>\n",
              "      <td>22.0</td>\n",
              "      <td>1</td>\n",
              "      <td>0</td>\n",
              "      <td>A/5 21171</td>\n",
              "      <td>7.2500</td>\n",
              "      <td>NaN</td>\n",
              "      <td>S</td>\n",
              "    </tr>\n",
              "    <tr>\n",
              "      <th>2</th>\n",
              "      <td>1</td>\n",
              "      <td>1</td>\n",
              "      <td>Cumings, Mrs. John Bradley (Florence Briggs Th...</td>\n",
              "      <td>female</td>\n",
              "      <td>38.0</td>\n",
              "      <td>1</td>\n",
              "      <td>0</td>\n",
              "      <td>PC 17599</td>\n",
              "      <td>71.2833</td>\n",
              "      <td>C85</td>\n",
              "      <td>C</td>\n",
              "    </tr>\n",
              "    <tr>\n",
              "      <th>3</th>\n",
              "      <td>1</td>\n",
              "      <td>3</td>\n",
              "      <td>Heikkinen, Miss. Laina</td>\n",
              "      <td>female</td>\n",
              "      <td>26.0</td>\n",
              "      <td>0</td>\n",
              "      <td>0</td>\n",
              "      <td>STON/O2. 3101282</td>\n",
              "      <td>7.9250</td>\n",
              "      <td>NaN</td>\n",
              "      <td>S</td>\n",
              "    </tr>\n",
              "    <tr>\n",
              "      <th>4</th>\n",
              "      <td>1</td>\n",
              "      <td>1</td>\n",
              "      <td>Futrelle, Mrs. Jacques Heath (Lily May Peel)</td>\n",
              "      <td>female</td>\n",
              "      <td>35.0</td>\n",
              "      <td>1</td>\n",
              "      <td>0</td>\n",
              "      <td>113803</td>\n",
              "      <td>53.1000</td>\n",
              "      <td>C123</td>\n",
              "      <td>S</td>\n",
              "    </tr>\n",
              "    <tr>\n",
              "      <th>5</th>\n",
              "      <td>0</td>\n",
              "      <td>3</td>\n",
              "      <td>Allen, Mr. William Henry</td>\n",
              "      <td>male</td>\n",
              "      <td>35.0</td>\n",
              "      <td>0</td>\n",
              "      <td>0</td>\n",
              "      <td>373450</td>\n",
              "      <td>8.0500</td>\n",
              "      <td>NaN</td>\n",
              "      <td>S</td>\n",
              "    </tr>\n",
              "  </tbody>\n",
              "</table>\n",
              "</div>"
            ],
            "text/plain": [
              "             Survived  Pclass  \\\n",
              "PassengerId                     \n",
              "1                   0       3   \n",
              "2                   1       1   \n",
              "3                   1       3   \n",
              "4                   1       1   \n",
              "5                   0       3   \n",
              "\n",
              "                                                          Name     Sex   Age  \\\n",
              "PassengerId                                                                    \n",
              "1                                      Braund, Mr. Owen Harris    male  22.0   \n",
              "2            Cumings, Mrs. John Bradley (Florence Briggs Th...  female  38.0   \n",
              "3                                       Heikkinen, Miss. Laina  female  26.0   \n",
              "4                 Futrelle, Mrs. Jacques Heath (Lily May Peel)  female  35.0   \n",
              "5                                     Allen, Mr. William Henry    male  35.0   \n",
              "\n",
              "             SibSp  Parch            Ticket     Fare Cabin Embarked  \n",
              "PassengerId                                                          \n",
              "1                1      0         A/5 21171   7.2500   NaN        S  \n",
              "2                1      0          PC 17599  71.2833   C85        C  \n",
              "3                0      0  STON/O2. 3101282   7.9250   NaN        S  \n",
              "4                1      0            113803  53.1000  C123        S  \n",
              "5                0      0            373450   8.0500   NaN        S  "
            ]
          },
          "metadata": {
            "tags": []
          },
          "execution_count": 4
        }
      ]
    },
    {
      "metadata": {
        "id": "UImpYd2eKumb",
        "colab_type": "code",
        "colab": {
          "base_uri": "https://localhost:8080/",
          "height": 442
        },
        "outputId": "37a8d3cc-54f4-48f9-cbe4-a8fd3664f214"
      },
      "cell_type": "code",
      "source": [
        "import statsmodels.api as sm\n",
        "model = smf.glm(formula=\"Survived ~ Sex + Pclass + Fare + SibSp + Parch\", data=titanic, family= sm.families.Binomial() )\n",
        "res = model.fit() #学習\n",
        "print(res.summary2())"
      ],
      "execution_count": 5,
      "outputs": [
        {
          "output_type": "stream",
          "text": [
            "/usr/local/lib/python2.7/dist-packages/statsmodels/compat/pandas.py:56: FutureWarning: The pandas.core.datetools module is deprecated and will be removed in a future version. Please use the pandas.tseries module instead.\n",
            "  from pandas.core import datetools\n"
          ],
          "name": "stderr"
        },
        {
          "output_type": "stream",
          "text": [
            "               Results: Generalized linear model\n",
            "===============================================================\n",
            "Model:              GLM              AIC:            828.7501  \n",
            "Link Function:      logit            BIC:            -5194.4747\n",
            "Dependent Variable: Survived         Log-Likelihood: -408.38   \n",
            "Date:               2019-01-11 09:08 LL-Null:        -593.33   \n",
            "No. Observations:   891              Deviance:       816.75    \n",
            "Df Model:           5                Pearson chi2:   910.      \n",
            "Df Residuals:       885              Scale:          1.0000    \n",
            "Method:             IRLS                                       \n",
            "---------------------------------------------------------------\n",
            "                Coef.  Std.Err.    z     P>|z|   [0.025  0.975]\n",
            "---------------------------------------------------------------\n",
            "Intercept       3.1473   0.3752   8.3895 0.0000  2.4121  3.8826\n",
            "Sex[T.male]    -2.7594   0.1959 -14.0837 0.0000 -3.1434 -2.3754\n",
            "Pclass         -0.8360   0.1268  -6.5905 0.0000 -1.0846 -0.5874\n",
            "Fare            0.0034   0.0024   1.4508 0.1468 -0.0012  0.0080\n",
            "SibSp          -0.2564   0.1008  -2.5435 0.0110 -0.4539 -0.0588\n",
            "Parch          -0.0888   0.1132  -0.7842 0.4329 -0.3106  0.1331\n",
            "===============================================================\n",
            "\n"
          ],
          "name": "stdout"
        }
      ]
    },
    {
      "metadata": {
        "id": "d9zWWzWXKumf",
        "colab_type": "code",
        "colab": {
          "base_uri": "https://localhost:8080/",
          "height": 279
        },
        "outputId": "b07879f9-9848-476c-c341-13e7d25fca18"
      },
      "cell_type": "code",
      "source": [
        "titanic['predict'] = res.predict()  #予測をpredict列に保管\n",
        "titanic.plot.scatter(x='predict',y='Survived'); # 散布図に描画"
      ],
      "execution_count": 6,
      "outputs": [
        {
          "output_type": "display_data",
          "data": {
            "image/png": "[encoded data removed]",
            "text/plain": [
              "<matplotlib.figure.Figure at 0x7fbcc1357490>"
            ]
          },
          "metadata": {
            "tags": []
          }
        }
      ]
    },
    {
      "metadata": {
        "id": "izPno4zAKumi",
        "colab_type": "text"
      },
      "cell_type": "markdown",
      "source": [
        "### 問題\n",
        "\n",
        "\"http://logopt.com/data/cancer.csv\" にある胸部癌か否かを判定するデータセットを用いて分類を行え．\n",
        "\n",
        "最初の列diagnosisが癌か否かを表すものであり，'M'が悪性（malignant），'B'が良性（benign）である．\n",
        "\n",
        "必要なら以下の文字列を切り貼りして用いよ．\n",
        "\n",
        "formula = \"\"\"diagnosis~radius_mean+texture_mean+texture_mean+perimeter_mean+area_mean+smoothness_mean+compactness_mean+\n",
        "concavity_mean+symmetry_mean+radius_worst+texture_worst+perimeter_worst+area_worst+smoothness_worst+\n",
        "compactness_worst+concavity_worst+symmetry_worst+fractal_dimension_worst\"\"\""
      ]
    },
    {
      "metadata": {
        "id": "xDXt2YigKumj",
        "colab_type": "code",
        "colab": {
          "base_uri": "https://localhost:8080/",
          "height": 290
        },
        "outputId": "2bb16ce9-fd26-4923-e660-5975c1802626"
      },
      "cell_type": "code",
      "source": [
        "cancer = pd.read_csv(\"http://logopt.com/data/cancer.csv\", index_col=0)\n",
        "cancer.head()"
      ],
      "execution_count": 7,
      "outputs": [
        {
          "output_type": "execute_result",
          "data": {
            "text/html": [
              "<div>\n",
              "<style scoped>\n",
              "    .dataframe tbody tr th:only-of-type {\n",
              "        vertical-align: middle;\n",
              "    }\n",
              "\n",
              "    .dataframe tbody tr th {\n",
              "        vertical-align: top;\n",
              "    }\n",
              "\n",
              "    .dataframe thead th {\n",
              "        text-align: right;\n",
              "    }\n",
              "</style>\n",
              "<table border=\"1\" class=\"dataframe\">\n",
              "  <thead>\n",
              "    <tr style=\"text-align: right;\">\n",
              "      <th></th>\n",
              "      <th>diagnosis</th>\n",
              "      <th>radius_mean</th>\n",
              "      <th>texture_mean</th>\n",
              "      <th>perimeter_mean</th>\n",
              "      <th>area_mean</th>\n",
              "      <th>smoothness_mean</th>\n",
              "      <th>compactness_mean</th>\n",
              "      <th>concavity_mean</th>\n",
              "      <th>concave points_mean</th>\n",
              "      <th>symmetry_mean</th>\n",
              "      <th>...</th>\n",
              "      <th>radius_worst</th>\n",
              "      <th>texture_worst</th>\n",
              "      <th>perimeter_worst</th>\n",
              "      <th>area_worst</th>\n",
              "      <th>smoothness_worst</th>\n",
              "      <th>compactness_worst</th>\n",
              "      <th>concavity_worst</th>\n",
              "      <th>concave points_worst</th>\n",
              "      <th>symmetry_worst</th>\n",
              "      <th>fractal_dimension_worst</th>\n",
              "    </tr>\n",
              "    <tr>\n",
              "      <th>id</th>\n",
              "      <th></th>\n",
              "      <th></th>\n",
              "      <th></th>\n",
              "      <th></th>\n",
              "      <th></th>\n",
              "      <th></th>\n",
              "      <th></th>\n",
              "      <th></th>\n",
              "      <th></th>\n",
              "      <th></th>\n",
              "      <th></th>\n",
              "      <th></th>\n",
              "      <th></th>\n",
              "      <th></th>\n",
              "      <th></th>\n",
              "      <th></th>\n",
              "      <th></th>\n",
              "      <th></th>\n",
              "      <th></th>\n",
              "      <th></th>\n",
              "      <th></th>\n",
              "    </tr>\n",
              "  </thead>\n",
              "  <tbody>\n",
              "    <tr>\n",
              "      <th>842302</th>\n",
              "      <td>M</td>\n",
              "      <td>17.99</td>\n",
              "      <td>10.38</td>\n",
              "      <td>122.80</td>\n",
              "      <td>1001.0</td>\n",
              "      <td>0.11840</td>\n",
              "      <td>0.27760</td>\n",
              "      <td>0.3001</td>\n",
              "      <td>0.14710</td>\n",
              "      <td>0.2419</td>\n",
              "      <td>...</td>\n",
              "      <td>25.38</td>\n",
              "      <td>17.33</td>\n",
              "      <td>184.60</td>\n",
              "      <td>2019.0</td>\n",
              "      <td>0.1622</td>\n",
              "      <td>0.6656</td>\n",
              "      <td>0.7119</td>\n",
              "      <td>0.2654</td>\n",
              "      <td>0.4601</td>\n",
              "      <td>0.11890</td>\n",
              "    </tr>\n",
              "    <tr>\n",
              "      <th>842517</th>\n",
              "      <td>M</td>\n",
              "      <td>20.57</td>\n",
              "      <td>17.77</td>\n",
              "      <td>132.90</td>\n",
              "      <td>1326.0</td>\n",
              "      <td>0.08474</td>\n",
              "      <td>0.07864</td>\n",
              "      <td>0.0869</td>\n",
              "      <td>0.07017</td>\n",
              "      <td>0.1812</td>\n",
              "      <td>...</td>\n",
              "      <td>24.99</td>\n",
              "      <td>23.41</td>\n",
              "      <td>158.80</td>\n",
              "      <td>1956.0</td>\n",
              "      <td>0.1238</td>\n",
              "      <td>0.1866</td>\n",
              "      <td>0.2416</td>\n",
              "      <td>0.1860</td>\n",
              "      <td>0.2750</td>\n",
              "      <td>0.08902</td>\n",
              "    </tr>\n",
              "    <tr>\n",
              "      <th>84300903</th>\n",
              "      <td>M</td>\n",
              "      <td>19.69</td>\n",
              "      <td>21.25</td>\n",
              "      <td>130.00</td>\n",
              "      <td>1203.0</td>\n",
              "      <td>0.10960</td>\n",
              "      <td>0.15990</td>\n",
              "      <td>0.1974</td>\n",
              "      <td>0.12790</td>\n",
              "      <td>0.2069</td>\n",
              "      <td>...</td>\n",
              "      <td>23.57</td>\n",
              "      <td>25.53</td>\n",
              "      <td>152.50</td>\n",
              "      <td>1709.0</td>\n",
              "      <td>0.1444</td>\n",
              "      <td>0.4245</td>\n",
              "      <td>0.4504</td>\n",
              "      <td>0.2430</td>\n",
              "      <td>0.3613</td>\n",
              "      <td>0.08758</td>\n",
              "    </tr>\n",
              "    <tr>\n",
              "      <th>84348301</th>\n",
              "      <td>M</td>\n",
              "      <td>11.42</td>\n",
              "      <td>20.38</td>\n",
              "      <td>77.58</td>\n",
              "      <td>386.1</td>\n",
              "      <td>0.14250</td>\n",
              "      <td>0.28390</td>\n",
              "      <td>0.2414</td>\n",
              "      <td>0.10520</td>\n",
              "      <td>0.2597</td>\n",
              "      <td>...</td>\n",
              "      <td>14.91</td>\n",
              "      <td>26.50</td>\n",
              "      <td>98.87</td>\n",
              "      <td>567.7</td>\n",
              "      <td>0.2098</td>\n",
              "      <td>0.8663</td>\n",
              "      <td>0.6869</td>\n",
              "      <td>0.2575</td>\n",
              "      <td>0.6638</td>\n",
              "      <td>0.17300</td>\n",
              "    </tr>\n",
              "    <tr>\n",
              "      <th>84358402</th>\n",
              "      <td>M</td>\n",
              "      <td>20.29</td>\n",
              "      <td>14.34</td>\n",
              "      <td>135.10</td>\n",
              "      <td>1297.0</td>\n",
              "      <td>0.10030</td>\n",
              "      <td>0.13280</td>\n",
              "      <td>0.1980</td>\n",
              "      <td>0.10430</td>\n",
              "      <td>0.1809</td>\n",
              "      <td>...</td>\n",
              "      <td>22.54</td>\n",
              "      <td>16.67</td>\n",
              "      <td>152.20</td>\n",
              "      <td>1575.0</td>\n",
              "      <td>0.1374</td>\n",
              "      <td>0.2050</td>\n",
              "      <td>0.4000</td>\n",
              "      <td>0.1625</td>\n",
              "      <td>0.2364</td>\n",
              "      <td>0.07678</td>\n",
              "    </tr>\n",
              "  </tbody>\n",
              "</table>\n",
              "<p>5 rows × 31 columns</p>\n",
              "</div>"
            ],
            "text/plain": [
              "         diagnosis  radius_mean  texture_mean  perimeter_mean  area_mean  \\\n",
              "id                                                                         \n",
              "842302           M        17.99         10.38          122.80     1001.0   \n",
              "842517           M        20.57         17.77          132.90     1326.0   \n",
              "84300903         M        19.69         21.25          130.00     1203.0   \n",
              "84348301         M        11.42         20.38           77.58      386.1   \n",
              "84358402         M        20.29         14.34          135.10     1297.0   \n",
              "\n",
              "          smoothness_mean  compactness_mean  concavity_mean  \\\n",
              "id                                                            \n",
              "842302            0.11840           0.27760          0.3001   \n",
              "842517            0.08474           0.07864          0.0869   \n",
              "84300903          0.10960           0.15990          0.1974   \n",
              "84348301          0.14250           0.28390          0.2414   \n",
              "84358402          0.10030           0.13280          0.1980   \n",
              "\n",
              "          concave points_mean  symmetry_mean           ...             \\\n",
              "id                                                     ...              \n",
              "842302                0.14710         0.2419           ...              \n",
              "842517                0.07017         0.1812           ...              \n",
              "84300903              0.12790         0.2069           ...              \n",
              "84348301              0.10520         0.2597           ...              \n",
              "84358402              0.10430         0.1809           ...              \n",
              "\n",
              "          radius_worst  texture_worst  perimeter_worst  area_worst  \\\n",
              "id                                                                   \n",
              "842302           25.38          17.33           184.60      2019.0   \n",
              "842517           24.99          23.41           158.80      1956.0   \n",
              "84300903         23.57          25.53           152.50      1709.0   \n",
              "84348301         14.91          26.50            98.87       567.7   \n",
              "84358402         22.54          16.67           152.20      1575.0   \n",
              "\n",
              "          smoothness_worst  compactness_worst  concavity_worst  \\\n",
              "id                                                               \n",
              "842302              0.1622             0.6656           0.7119   \n",
              "842517              0.1238             0.1866           0.2416   \n",
              "84300903            0.1444             0.4245           0.4504   \n",
              "84348301            0.2098             0.8663           0.6869   \n",
              "84358402            0.1374             0.2050           0.4000   \n",
              "\n",
              "          concave points_worst  symmetry_worst  fractal_dimension_worst  \n",
              "id                                                                       \n",
              "842302                  0.2654          0.4601                  0.11890  \n",
              "842517                  0.1860          0.2750                  0.08902  \n",
              "84300903                0.2430          0.3613                  0.08758  \n",
              "84348301                0.2575          0.6638                  0.17300  \n",
              "84358402                0.1625          0.2364                  0.07678  \n",
              "\n",
              "[5 rows x 31 columns]"
            ]
          },
          "metadata": {
            "tags": []
          },
          "execution_count": 7
        }
      ]
    },
    {
      "metadata": {
        "id": "M9iyfHjjKumn",
        "colab_type": "code",
        "colab": {}
      },
      "cell_type": "code",
      "source": [
        ""
      ],
      "execution_count": 0,
      "outputs": []
    },
    {
      "metadata": {
        "id": "Ry-qd1yCKumq",
        "colab_type": "text"
      },
      "cell_type": "markdown",
      "source": [
        "### 問題\n",
        "\n",
        "\"http://logopt.com/data/hospital.csv\" にある病院のデータを用いてロジスティック回帰を行え．\n",
        "\n",
        "従属変数*died*は死亡したか否かを表し，これを年齢(age)，施術(procedure)，性別(gender)，救急か否か(type)，入院日数(los: length of stay)から予測する． \n",
        "\n",
        "必要なら以下の文字列を使用しても良い．\n",
        "\n",
        "formula=\"died~procedure+age+gender+los+type\" \n"
      ]
    },
    {
      "metadata": {
        "id": "f5TlOOvIKumr",
        "colab_type": "code",
        "colab": {
          "base_uri": "https://localhost:8080/",
          "height": 195
        },
        "outputId": "c4478e29-2c65-4d00-b6c8-2dd22be077c2"
      },
      "cell_type": "code",
      "source": [
        "hospital = pd.read_csv(\"http://logopt.com/data/hospital.csv\", index_col=0)\n",
        "hospital.head()"
      ],
      "execution_count": 8,
      "outputs": [
        {
          "output_type": "execute_result",
          "data": {
            "text/html": [
              "<div>\n",
              "<style scoped>\n",
              "    .dataframe tbody tr th:only-of-type {\n",
              "        vertical-align: middle;\n",
              "    }\n",
              "\n",
              "    .dataframe tbody tr th {\n",
              "        vertical-align: top;\n",
              "    }\n",
              "\n",
              "    .dataframe thead th {\n",
              "        text-align: right;\n",
              "    }\n",
              "</style>\n",
              "<table border=\"1\" class=\"dataframe\">\n",
              "  <thead>\n",
              "    <tr style=\"text-align: right;\">\n",
              "      <th></th>\n",
              "      <th>died</th>\n",
              "      <th>procedure</th>\n",
              "      <th>age</th>\n",
              "      <th>gender</th>\n",
              "      <th>los</th>\n",
              "      <th>type</th>\n",
              "    </tr>\n",
              "  </thead>\n",
              "  <tbody>\n",
              "    <tr>\n",
              "      <th>1</th>\n",
              "      <td>0</td>\n",
              "      <td>1</td>\n",
              "      <td>73</td>\n",
              "      <td>0</td>\n",
              "      <td>51</td>\n",
              "      <td>0</td>\n",
              "    </tr>\n",
              "    <tr>\n",
              "      <th>2</th>\n",
              "      <td>0</td>\n",
              "      <td>0</td>\n",
              "      <td>67</td>\n",
              "      <td>0</td>\n",
              "      <td>30</td>\n",
              "      <td>1</td>\n",
              "    </tr>\n",
              "    <tr>\n",
              "      <th>3</th>\n",
              "      <td>0</td>\n",
              "      <td>1</td>\n",
              "      <td>69</td>\n",
              "      <td>0</td>\n",
              "      <td>43</td>\n",
              "      <td>0</td>\n",
              "    </tr>\n",
              "    <tr>\n",
              "      <th>4</th>\n",
              "      <td>0</td>\n",
              "      <td>1</td>\n",
              "      <td>65</td>\n",
              "      <td>0</td>\n",
              "      <td>32</td>\n",
              "      <td>0</td>\n",
              "    </tr>\n",
              "    <tr>\n",
              "      <th>5</th>\n",
              "      <td>0</td>\n",
              "      <td>1</td>\n",
              "      <td>79</td>\n",
              "      <td>0</td>\n",
              "      <td>42</td>\n",
              "      <td>1</td>\n",
              "    </tr>\n",
              "  </tbody>\n",
              "</table>\n",
              "</div>"
            ],
            "text/plain": [
              "   died  procedure  age  gender  los  type\n",
              "1     0          1   73       0   51     0\n",
              "2     0          0   67       0   30     1\n",
              "3     0          1   69       0   43     0\n",
              "4     0          1   65       0   32     0\n",
              "5     0          1   79       0   42     1"
            ]
          },
          "metadata": {
            "tags": []
          },
          "execution_count": 8
        }
      ]
    },
    {
      "metadata": {
        "id": "AAdZgg5CKumv",
        "colab_type": "code",
        "colab": {}
      },
      "cell_type": "code",
      "source": [
        ""
      ],
      "execution_count": 0,
      "outputs": []
    },
    {
      "metadata": {
        "collapsed": true,
        "id": "W_tDgEQdKumx",
        "colab_type": "text"
      },
      "cell_type": "markdown",
      "source": [
        "### Poisson回帰\n",
        "\n",
        "Poisson回帰は救急車の出動回数などの負の値をとらない**カウントデータ**もしくはその発生率を予測する際に用いられる．\n",
        "\n",
        "この場合には，従属変数が $0$ 以上の値になるので，一般化線形モデルでの仮定は以下のようになる．\n",
        "\n",
        "1. 従属変数 $y^{{i}}$ は平均 $\\mu^{(i)}$ のPoisson分布にしたがう．\n",
        "2. 線形予測子 $z^{(i)}$ を独立変数 $x^{(i)}$ を用いて $z^{(i)} = w x^{(i)} $ と定義する．(この部分は全部共通）\n",
        "3. リンク関数 $g$ を用いて  $\\mu^{(i)}$ と  $z^{(i)}$ を繋ぐが，$\\mu$ は $0$ 以上で $z$ は $[-\\infty,+\\infty]$ の定義域をもつ．これを繋ぐために以下のリンク関数 $g$ を用いる．\n",
        "\n",
        "$$z = g(\\mu) = \\log (\\mu)$$\n",
        "\n",
        "$g$ の逆写像は指数関数\n",
        "$$ \\mu = \\exp (z) $$ である．\n",
        "\n",
        "一般化線形モデル(glm)を使えば，ほぼ同じように予測できる．\n",
        "\n",
        "引数の*family* に *sm.families.Poisson()* を指定すれば良い．\n",
        "\n",
        "### 例題\n",
        "\n",
        "\"http://logopt.com/data/hospital-stay.csv\" にある病院の入院日数のデータセットを用いてPoisson回帰を解説する．\n",
        "従属変数である*los*（入院日数：length of stay)を，性別(gender)，救急か否か(type1)，75歳以上か(age75)から予測する．\n",
        "\n",
        "入院日数は負の値をとらない，いわゆるカウントデータであるので，Poisson回帰を適用する．"
      ]
    },
    {
      "metadata": {
        "id": "wKsseQtrKumy",
        "colab_type": "code",
        "colab": {}
      },
      "cell_type": "code",
      "source": [
        "import pandas as pd\n",
        "import statsmodels.api as sm\n",
        "import statsmodels.formula.api as smf\n",
        "%matplotlib inline"
      ],
      "execution_count": 0,
      "outputs": []
    },
    {
      "metadata": {
        "id": "h0D8CrtkKum1",
        "colab_type": "code",
        "colab": {
          "base_uri": "https://localhost:8080/",
          "height": 195
        },
        "outputId": "7e4b71be-9829-4cbe-f5bc-d813ff093d40"
      },
      "cell_type": "code",
      "source": [
        "hospital = pd.read_csv(\"http://logopt.com/data/hospital-stay.csv\",index_col=0)\n",
        "hospital.head()"
      ],
      "execution_count": 10,
      "outputs": [
        {
          "output_type": "execute_result",
          "data": {
            "text/html": [
              "<div>\n",
              "<style scoped>\n",
              "    .dataframe tbody tr th:only-of-type {\n",
              "        vertical-align: middle;\n",
              "    }\n",
              "\n",
              "    .dataframe tbody tr th {\n",
              "        vertical-align: top;\n",
              "    }\n",
              "\n",
              "    .dataframe thead th {\n",
              "        text-align: right;\n",
              "    }\n",
              "</style>\n",
              "<table border=\"1\" class=\"dataframe\">\n",
              "  <thead>\n",
              "    <tr style=\"text-align: right;\">\n",
              "      <th></th>\n",
              "      <th>los</th>\n",
              "      <th>gender</th>\n",
              "      <th>type1</th>\n",
              "      <th>age75</th>\n",
              "    </tr>\n",
              "  </thead>\n",
              "  <tbody>\n",
              "    <tr>\n",
              "      <th>1</th>\n",
              "      <td>53</td>\n",
              "      <td>0</td>\n",
              "      <td>1</td>\n",
              "      <td>0</td>\n",
              "    </tr>\n",
              "    <tr>\n",
              "      <th>2</th>\n",
              "      <td>30</td>\n",
              "      <td>0</td>\n",
              "      <td>1</td>\n",
              "      <td>0</td>\n",
              "    </tr>\n",
              "    <tr>\n",
              "      <th>3</th>\n",
              "      <td>28</td>\n",
              "      <td>0</td>\n",
              "      <td>1</td>\n",
              "      <td>1</td>\n",
              "    </tr>\n",
              "    <tr>\n",
              "      <th>4</th>\n",
              "      <td>22</td>\n",
              "      <td>0</td>\n",
              "      <td>1</td>\n",
              "      <td>0</td>\n",
              "    </tr>\n",
              "    <tr>\n",
              "      <th>5</th>\n",
              "      <td>25</td>\n",
              "      <td>0</td>\n",
              "      <td>1</td>\n",
              "      <td>0</td>\n",
              "    </tr>\n",
              "  </tbody>\n",
              "</table>\n",
              "</div>"
            ],
            "text/plain": [
              "   los  gender  type1  age75\n",
              "1   53       0      1      0\n",
              "2   30       0      1      0\n",
              "3   28       0      1      1\n",
              "4   22       0      1      0\n",
              "5   25       0      1      0"
            ]
          },
          "metadata": {
            "tags": []
          },
          "execution_count": 10
        }
      ]
    },
    {
      "metadata": {
        "id": "mBh76Ne1Kum3",
        "colab_type": "code",
        "colab": {
          "base_uri": "https://localhost:8080/",
          "height": 351
        },
        "outputId": "7e822247-b4fd-48bb-8517-c960a42a679c"
      },
      "cell_type": "code",
      "source": [
        "model = smf.glm(formula=\"los ~ gender + type1 + age75 \", data=hospital, family= sm.families.Poisson() )\n",
        "res = model.fit()\n",
        "print(res.summary2())"
      ],
      "execution_count": 11,
      "outputs": [
        {
          "output_type": "stream",
          "text": [
            "                Results: Generalized linear model\n",
            "================================================================\n",
            "Model:              GLM              AIC:            9178.5450  \n",
            "Link Function:      log              BIC:            -10080.9611\n",
            "Dependent Variable: los              Log-Likelihood: -4585.3    \n",
            "Date:               2019-01-11 09:08 LL-Null:        -4975.9    \n",
            "No. Observations:   1798             Deviance:       3364.0     \n",
            "Df Model:           3                Pearson chi2:   4.16e+03   \n",
            "Df Residuals:       1794             Scale:          1.0000     \n",
            "Method:             IRLS                                        \n",
            "-----------------------------------------------------------------\n",
            "              Coef.   Std.Err.     z     P>|z|    [0.025   0.975]\n",
            "-----------------------------------------------------------------\n",
            "Intercept     1.1822    0.0276  42.8441  0.0000   1.1282   1.2363\n",
            "gender       -0.1475    0.0218  -6.7523  0.0000  -0.1903  -0.1047\n",
            "type1         0.6280    0.0258  24.3094  0.0000   0.5774   0.6787\n",
            "age75         0.1298    0.0232   5.6016  0.0000   0.0844   0.1752\n",
            "================================================================\n",
            "\n"
          ],
          "name": "stdout"
        }
      ]
    },
    {
      "metadata": {
        "id": "dsGCO1plKum7",
        "colab_type": "text"
      },
      "cell_type": "markdown",
      "source": [
        "### 問題\n",
        "\"http://logopt.com/data/fishing.csv\" にある魚の数を予測するためのデータセットにPoisson回帰を適用せよ．\n",
        "従属変数は魚の数を表す totabundであり，それを密度(density)，平均深度(meandepth)，年度(year)から予測せよ．\n",
        "\n",
        "必要なら以下の文字列を用いよ．\n",
        "\n",
        "formula=\"totabund ~ density + meandepth + year \"\n"
      ]
    },
    {
      "metadata": {
        "id": "5xrIVz6-Kum7",
        "colab_type": "code",
        "colab": {
          "base_uri": "https://localhost:8080/",
          "height": 195
        },
        "outputId": "1e2f4faa-808b-43ed-ec99-65e4791f7105"
      },
      "cell_type": "code",
      "source": [
        "fish = pd.read_csv(\"http://logopt.com/data/fishing.csv\",index_col=0)\n",
        "fish.head()"
      ],
      "execution_count": 12,
      "outputs": [
        {
          "output_type": "execute_result",
          "data": {
            "text/html": [
              "<div>\n",
              "<style scoped>\n",
              "    .dataframe tbody tr th:only-of-type {\n",
              "        vertical-align: middle;\n",
              "    }\n",
              "\n",
              "    .dataframe tbody tr th {\n",
              "        vertical-align: top;\n",
              "    }\n",
              "\n",
              "    .dataframe thead th {\n",
              "        text-align: right;\n",
              "    }\n",
              "</style>\n",
              "<table border=\"1\" class=\"dataframe\">\n",
              "  <thead>\n",
              "    <tr style=\"text-align: right;\">\n",
              "      <th></th>\n",
              "      <th>site</th>\n",
              "      <th>totabund</th>\n",
              "      <th>density</th>\n",
              "      <th>meandepth</th>\n",
              "      <th>year</th>\n",
              "      <th>period</th>\n",
              "      <th>sweptarea</th>\n",
              "    </tr>\n",
              "  </thead>\n",
              "  <tbody>\n",
              "    <tr>\n",
              "      <th>1</th>\n",
              "      <td>1</td>\n",
              "      <td>76</td>\n",
              "      <td>0.002070</td>\n",
              "      <td>804</td>\n",
              "      <td>1978</td>\n",
              "      <td>1977-1989</td>\n",
              "      <td>36710.000000</td>\n",
              "    </tr>\n",
              "    <tr>\n",
              "      <th>2</th>\n",
              "      <td>2</td>\n",
              "      <td>161</td>\n",
              "      <td>0.003520</td>\n",
              "      <td>808</td>\n",
              "      <td>2001</td>\n",
              "      <td>2000-2002</td>\n",
              "      <td>45741.253906</td>\n",
              "    </tr>\n",
              "    <tr>\n",
              "      <th>3</th>\n",
              "      <td>3</td>\n",
              "      <td>39</td>\n",
              "      <td>0.000981</td>\n",
              "      <td>809</td>\n",
              "      <td>2001</td>\n",
              "      <td>2000-2002</td>\n",
              "      <td>39775.000000</td>\n",
              "    </tr>\n",
              "    <tr>\n",
              "      <th>4</th>\n",
              "      <td>4</td>\n",
              "      <td>410</td>\n",
              "      <td>0.008039</td>\n",
              "      <td>848</td>\n",
              "      <td>1979</td>\n",
              "      <td>1977-1989</td>\n",
              "      <td>51000.000000</td>\n",
              "    </tr>\n",
              "    <tr>\n",
              "      <th>5</th>\n",
              "      <td>5</td>\n",
              "      <td>177</td>\n",
              "      <td>0.005933</td>\n",
              "      <td>853</td>\n",
              "      <td>2002</td>\n",
              "      <td>2000-2002</td>\n",
              "      <td>29831.251953</td>\n",
              "    </tr>\n",
              "  </tbody>\n",
              "</table>\n",
              "</div>"
            ],
            "text/plain": [
              "   site  totabund   density  meandepth  year     period     sweptarea\n",
              "1     1        76  0.002070        804  1978  1977-1989  36710.000000\n",
              "2     2       161  0.003520        808  2001  2000-2002  45741.253906\n",
              "3     3        39  0.000981        809  2001  2000-2002  39775.000000\n",
              "4     4       410  0.008039        848  1979  1977-1989  51000.000000\n",
              "5     5       177  0.005933        853  2002  2000-2002  29831.251953"
            ]
          },
          "metadata": {
            "tags": []
          },
          "execution_count": 12
        }
      ]
    },
    {
      "metadata": {
        "id": "ledyV9K-Kum-",
        "colab_type": "code",
        "colab": {}
      },
      "cell_type": "code",
      "source": [
        ""
      ],
      "execution_count": 0,
      "outputs": []
    }
  ]
}