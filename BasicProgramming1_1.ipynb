{
  "nbformat": 4,
  "nbformat_minor": 0,
  "metadata": {
    "colab": {
      "name": "BasicProgramming1.1.ipynb",
      "version": "0.3.2",
      "provenance": [],
      "collapsed_sections": [
        "W-rHUtc2Z_It"
      ],
      "toc_visible": true,
      "include_colab_link": true
    },
    "kernelspec": {
      "display_name": "Python [default]",
      "language": "python",
      "name": "python3"
    }
  },
  "cells": [
    {
      "cell_type": "markdown",
      "metadata": {
        "id": "view-in-github",
        "colab_type": "text"
      },
      "source": [
        "<a href=\"https://colab.research.google.com/github/mickeykubo/analytics_book/blob/master/BasicProgramming1_1.ipynb\" target=\"_parent\"><img src=\"https://colab.research.google.com/assets/colab-badge.svg\" alt=\"Open In Colab\"/></a>"
      ]
    },
    {
      "metadata": {
        "nbpresent": {
          "id": "34b76949-9443-4d9c-87bd-659ba8d0e226"
        },
        "id": "M18zygW6Z_Hj",
        "colab_type": "text"
      },
      "cell_type": "markdown",
      "source": [
        "# 四則演算とprint()の使い方\n",
        "\n"
      ]
    },
    {
      "metadata": {
        "nbpresent": {
          "id": "22a3c373-ea8a-43ff-972a-f9bacfb310a8"
        },
        "id": "wkMyTMiJZ_Hm",
        "colab_type": "text"
      },
      "cell_type": "markdown",
      "source": [
        "\n",
        "\n",
        "●例題１－１\n",
        "\n",
        "Jupyterでは，電卓みたいに計算できる．$2^4$ （2の4乗）を計算してみよう．\n",
        "\n",
        "（Pythonではべき乗の演算子は $**$ です．Jupyterでプログラムを実行するためには，Shiftlキーを押しながら，Enterキーを押します．すると，最後の文が評価されて画面に表示されます．）\n"
      ]
    },
    {
      "metadata": {
        "nbpresent": {
          "id": "ae67c862-5df6-4679-90c1-7345a019d062"
        },
        "id": "9M3VZz6iZ_Hp",
        "colab_type": "code",
        "outputId": "163205bf-d907-4e2f-8c79-9eef6e254703",
        "colab": {}
      },
      "cell_type": "code",
      "source": [
        "2**4"
      ],
      "execution_count": 0,
      "outputs": [
        {
          "output_type": "execute_result",
          "data": {
            "text/plain": [
              "16"
            ]
          },
          "metadata": {
            "tags": []
          },
          "execution_count": 1
        }
      ]
    },
    {
      "metadata": {
        "nbpresent": {
          "id": "33c3e0e7-4715-4758-812b-98c5e7ab8550"
        },
        "id": "H6ORu1QbZ_H4",
        "colab_type": "text"
      },
      "cell_type": "markdown",
      "source": [
        "●例題１－２\n",
        "\n",
        "べき乗の演算子は $**$ なので，計算結果（16）が画面に表示されるはずです．次の例題を見てみましょう．\n",
        "\n",
        "\n",
        "結果を画面に表示させるためには，print()関数を用います．printの後ろの()の中に表示したいものを入れると，出力が返されます．\n",
        "\n",
        "（このように，何かを入れると何かが返されるものを「関数」と呼びます．詳細については後述します．）\n",
        "\n",
        "たとえば，$2+7$ の結果と文字列 'Hello' （文字列を表示させるためには，' ' で囲むか，\" \" で囲む）を表示させてみましょう．"
      ]
    },
    {
      "metadata": {
        "nbpresent": {
          "id": "552cceaf-4225-4e8c-9398-60c3f43aacf7"
        },
        "id": "83n9QG_-Z_H6",
        "colab_type": "code",
        "outputId": "83b41b24-c502-4dd3-d925-36118aafbc48",
        "colab": {}
      },
      "cell_type": "code",
      "source": [
        "print( 2+7 )\n",
        "print( 'Hello' )"
      ],
      "execution_count": 0,
      "outputs": [
        {
          "output_type": "stream",
          "text": [
            "9\n",
            "Hello\n"
          ],
          "name": "stdout"
        }
      ]
    },
    {
      "metadata": {
        "nbpresent": {
          "id": "75d99967-e0fe-465e-8bf9-2928b967be19"
        },
        "id": "Jm1zSOKeZ_ID",
        "colab_type": "text"
      },
      "cell_type": "markdown",
      "source": [
        "2つの結果を同じ行に表示させるためには，間に *,*（カンマ）を入れて書きます．Python 3 では，日本語も表示できます．\n",
        "\n",
        "●例題１－３\n",
        "\n",
        "画面に \"10を3で割ったときの商は\" に続いて $10 // 3$ の結果を，\"余りは\" に続いて剰余 $10 \\% 3$ を表示せよ．\n",
        "\n",
        "（Python 3では整数除算の演算子は //，剰余の演算子は % です．普通の割り算 $/$ をすると小数（浮動小数点数）が表示されますので，\n",
        "これも試してみてください．）\n"
      ]
    },
    {
      "metadata": {
        "nbpresent": {
          "id": "8746f29a-ff28-447e-822d-1e2211983eec"
        },
        "id": "U41N73jpZ_IE",
        "colab_type": "code",
        "outputId": "89ca711f-9f96-41aa-9d99-b22423214ebd",
        "colab": {}
      },
      "cell_type": "code",
      "source": [
        "print(\"10を3で割ったときの商は\", 10 //3 )\n",
        "print(\"余りは\", 10%3 )\n",
        "print( 10/3 )"
      ],
      "execution_count": 0,
      "outputs": [
        {
          "output_type": "stream",
          "text": [
            "10を3で割ったときの商は 3\n",
            "余りは 1\n",
            "3.3333333333333335\n"
          ],
          "name": "stdout"
        }
      ]
    },
    {
      "metadata": {
        "nbpresent": {
          "id": "d518b9d7-3497-4ac7-8107-417c24642aef"
        },
        "id": "ENXV46DUZ_IM",
        "colab_type": "text"
      },
      "cell_type": "markdown",
      "source": [
        "■問題１－１\n",
        "\n",
        "print関数を用いて\n",
        "\n",
        "1. Hello World\n",
        "2. $4+4*5$の結果\n",
        "\n",
        "を表示させてください．"
      ]
    },
    {
      "metadata": {
        "nbpresent": {
          "id": "0d8a5e96-c7d6-4678-8082-926ecd1a7282"
        },
        "id": "pkVAUL9uZ_IO",
        "colab_type": "code",
        "colab": {}
      },
      "cell_type": "code",
      "source": [
        ""
      ],
      "execution_count": 0,
      "outputs": []
    },
    {
      "metadata": {
        "nbpresent": {
          "id": "ac36f7a8-ae6b-442f-9ea7-7ae43cc138aa"
        },
        "id": "JegX3yxdZ_IV",
        "colab_type": "text"
      },
      "cell_type": "markdown",
      "source": [
        "■問題１－２\n",
        "\n",
        "11211\n",
        "\n",
        "12121\n",
        "\n",
        "21112\n",
        "\n",
        "を一気に表示するようなプログラムを作りなさい．"
      ]
    },
    {
      "metadata": {
        "id": "TAwui-qAZ_IX",
        "colab_type": "code",
        "colab": {}
      },
      "cell_type": "code",
      "source": [
        ""
      ],
      "execution_count": 0,
      "outputs": []
    },
    {
      "metadata": {
        "id": "xIOI0QjmZ_Id",
        "colab_type": "text"
      },
      "cell_type": "markdown",
      "source": [
        "■問題１－３\n",
        "\n",
        "2の10乗と5の100乗を出力するプログラムを作りなさい．"
      ]
    },
    {
      "metadata": {
        "id": "dtTl9fH_Z_If",
        "colab_type": "code",
        "colab": {}
      },
      "cell_type": "code",
      "source": [
        ""
      ],
      "execution_count": 0,
      "outputs": []
    },
    {
      "metadata": {
        "nbpresent": {
          "id": "3c861022-0911-47c1-a494-115fc84e96a6"
        },
        "id": "_NrLIzGFZ_Il",
        "colab_type": "text"
      },
      "cell_type": "markdown",
      "source": [
        "●問題１－４\n",
        "\n",
        "「（33+44）×55」と「2.1+4.3+6.5」と「123+456を78で割った余り」を計算し，表示するプログラムを作ってみましょう．\n",
        "\n",
        "その際に，（33+44）*55＝のように計算式も表示しましょう．\n"
      ]
    },
    {
      "metadata": {
        "id": "beiXNKXKZ_Io",
        "colab_type": "code",
        "colab": {}
      },
      "cell_type": "code",
      "source": [
        ""
      ],
      "execution_count": 0,
      "outputs": []
    },
    {
      "metadata": {
        "nbpresent": {
          "id": "e2392f10-f12a-48f9-a172-f1a61d2e9e9a"
        },
        "id": "W-rHUtc2Z_It",
        "colab_type": "text"
      },
      "cell_type": "markdown",
      "source": [
        "#          \n",
        "\n",
        "\n",
        "■問題１－５\n",
        "\n",
        "(1) $1+2+3+4+5$ の計算結果を表示しましょう．\n",
        "\n",
        "(2) $1*3*5*7*9$ の計算結果を表示しましょう．\n",
        "\n",
        "(3) $98*3+48*4+188+(208-50)*5$ の計算結果を表示しましょう．\n"
      ]
    },
    {
      "metadata": {
        "collapsed": true,
        "id": "PnBnNoaSZ_Iv",
        "colab_type": "code",
        "colab": {}
      },
      "cell_type": "code",
      "source": [
        ""
      ],
      "execution_count": 0,
      "outputs": []
    },
    {
      "metadata": {
        "nbpresent": {
          "id": "eb1f7ec5-a9ee-4f11-8203-7ed05efe8b2d"
        },
        "id": "xvS4N7G7Z_I2",
        "colab_type": "text"
      },
      "cell_type": "markdown",
      "source": [
        "# 変数と計算\n",
        "\n",
        "計算式が長い場合には，途中経過を保存しておく方が分かりやすく書けます．\n",
        "\n",
        "一時保管用の場所は**変数**とよばれます．\n",
        "\n",
        "以下の例では簡単のため，変数は $z,y,z,a,b, c$ などのアルファベットを用いますが，実際のプログラムでは覚えやすいような名前を付けます．\n",
        "\n",
        "たとえば，**temp_variable** や **amount12** など，アルファベット以外の記号も使えますが，数字で始めることはできません．\n"
      ]
    },
    {
      "metadata": {
        "nbpresent": {
          "id": "5a1d9134-4e99-4d77-91ab-0485184ec01d"
        },
        "id": "omS8o0_dZ_I4",
        "colab_type": "text"
      },
      "cell_type": "markdown",
      "source": [
        "●例題２－１\n",
        "\n",
        "変数を使ったプログラムを作りましょう．変数xに123*45を代入した後，xの値を表示します．\n",
        "\n",
        "1. 変数 x に 123*45 の計算結果を代入する\n",
        "\n",
        "2. x の値を表示する\n",
        "\n",
        "という順番で命令を実行すればよいですね．\n"
      ]
    },
    {
      "metadata": {
        "nbpresent": {
          "id": "3b0459b6-e0a0-44dc-85db-2d55787184f2"
        },
        "id": "W1Eb3YVDZ_I6",
        "colab_type": "code",
        "outputId": "33a5f466-7514-4c7f-c41d-81176c1b62e9",
        "colab": {}
      },
      "cell_type": "code",
      "source": [
        "x = 123*45\n",
        "print(x)"
      ],
      "execution_count": 0,
      "outputs": [
        {
          "output_type": "stream",
          "text": [
            "5535\n"
          ],
          "name": "stdout"
        }
      ]
    },
    {
      "metadata": {
        "nbpresent": {
          "id": "5c31c185-8c06-4e2e-b395-fc28b687454c"
        },
        "id": "si1q5EloZ_JE",
        "colab_type": "text"
      },
      "cell_type": "markdown",
      "source": [
        "●例題２－２\n",
        "\n",
        "整数と小数（浮動小数点数）を使ったプログラムを実行してみましょう．\n",
        "\n",
        "このプログラムは，浮動小数点数である $y=9.99$ と整数である $x=50$ をそれぞれ10倍して表示します．\n"
      ]
    },
    {
      "metadata": {
        "nbpresent": {
          "id": "8c738f05-8525-466e-9622-0348b1d45fbb"
        },
        "id": "oJDGdZqXZ_JF",
        "colab_type": "code",
        "outputId": "30405bfc-b8ae-4cba-b94c-c66697c75b54",
        "colab": {}
      },
      "cell_type": "code",
      "source": [
        "y = 99.9\n",
        "x = 50\n",
        "print(y*10,x*10)"
      ],
      "execution_count": 0,
      "outputs": [
        {
          "output_type": "stream",
          "text": [
            "999.0 500\n"
          ],
          "name": "stdout"
        }
      ]
    },
    {
      "metadata": {
        "nbpresent": {
          "id": "5350c59e-1d40-4e3c-8062-6606bb9843e1"
        },
        "id": "T9F2i2nwZ_JO",
        "colab_type": "text"
      },
      "cell_type": "markdown",
      "source": [
        "●例題２－３\n",
        "\n",
        "以下のプログラムは，xとyの値を3回表示するのですが，それぞれ，何と何が表示されると思いますか？\n",
        "\n",
        "プログラムがどのように動いて，変数には何が代入されるかを考えた上で，① 10,10 ② 10,20 ③ 20,20の中から選んで下さい．\n"
      ]
    },
    {
      "metadata": {
        "nbpresent": {
          "id": "7d1a8480-bd02-46d4-ba89-b25e0cd175d0"
        },
        "id": "uJkHYJruZ_JQ",
        "colab_type": "code",
        "outputId": "efcc21e1-a816-4ade-f8f5-a8bd5e4ba0ba",
        "colab": {}
      },
      "cell_type": "code",
      "source": [
        "x = 10\n",
        "y = 10\n",
        "print(x,y)\n",
        "x = y+10\n",
        "y = 20\n",
        "print(x,y)\n",
        "x = x-10\n",
        "y = y-x\n",
        "print(x,y)"
      ],
      "execution_count": 0,
      "outputs": [
        {
          "output_type": "stream",
          "text": [
            "10 10\n",
            "20 20\n",
            "10 10\n"
          ],
          "name": "stdout"
        }
      ]
    },
    {
      "metadata": {
        "nbpresent": {
          "id": "249d05a3-123b-4379-8c6c-e47a5ecd79c5"
        },
        "id": "_xUQsDRrZ_JZ",
        "colab_type": "code",
        "colab": {}
      },
      "cell_type": "code",
      "source": [
        ""
      ],
      "execution_count": 0,
      "outputs": []
    },
    {
      "metadata": {
        "nbpresent": {
          "id": "bf745217-8f6d-4009-88f8-9de3094fef5d"
        },
        "id": "kQiFVY2VZ_Jj",
        "colab_type": "text"
      },
      "cell_type": "markdown",
      "source": [
        "■問題２－１\n",
        "\n",
        "例題２－１のサンプルコードを用いて，\n",
        "\n",
        "(1) 変数xの名前を，自分の好きな名前に変えてみましょう．どのような名前にすると，エラーが出るか，調べましょう．\n",
        "\n",
        "(2) x=の後の計算式を 12+45のようにいろいろと変えてみましょう．\n",
        "\n",
        "(3) 1行目と2行目を入れ替えると何が起きるか試してみましょう．なぜそうなるのか，考えましょう．\n",
        "（ヒント：コンピュータは最初の行から順番に命令を実行していきます．）"
      ]
    },
    {
      "metadata": {
        "nbpresent": {
          "id": "f927a649-e243-43e1-bdb3-e6ac539c5681"
        },
        "id": "2GOOPgMbZ_Jl",
        "colab_type": "code",
        "colab": {}
      },
      "cell_type": "code",
      "source": [
        ""
      ],
      "execution_count": 0,
      "outputs": []
    },
    {
      "metadata": {
        "nbpresent": {
          "id": "fee68e76-15da-4ee9-a201-9eaba30150f3"
        },
        "id": "1v7gCkDYZ_Ju",
        "colab_type": "text"
      },
      "cell_type": "markdown",
      "source": [
        "■問題２－２\n",
        "\n",
        "例題２－３のサンプルコードを用いて，\n",
        "\n",
        "(1) 各行の式に出てくる10や20などの数値を，自分の好きな数，例えば30や5に変更し，実行結果がどう変わるか調べましょう．\n",
        "\n",
        "(2) 4行目と5行目を入れ替えると，実行結果がどう代わるか，予測しましょう．また，7行目と8行目を入れ替えるとどのようになるかも予測しましょう．\n",
        "予測したら，実際に入れ替えて実行し，予測があっているか確かめましょう．"
      ]
    },
    {
      "metadata": {
        "nbpresent": {
          "id": "2449a41d-8161-499f-96f7-1913b386508f"
        },
        "id": "2bYTwCXbZ_Jw",
        "colab_type": "code",
        "colab": {}
      },
      "cell_type": "code",
      "source": [
        ""
      ],
      "execution_count": 0,
      "outputs": []
    },
    {
      "metadata": {
        "nbpresent": {
          "id": "57db372f-ce5f-4a14-82ae-6530c070e18d"
        },
        "id": "Pedwrms6Z_J1",
        "colab_type": "text"
      },
      "cell_type": "markdown",
      "source": [
        "■問題２－３\n",
        "\n",
        "変数xに10*20を，yに30*40を代入し，xとyの値を表示するプログラムを作りなさい．"
      ]
    },
    {
      "metadata": {
        "nbpresent": {
          "id": "6e553bf5-31c5-40d4-8921-6fa77e91ec60"
        },
        "id": "GNXZNtaHZ_J2",
        "colab_type": "code",
        "colab": {}
      },
      "cell_type": "code",
      "source": [
        ""
      ],
      "execution_count": 0,
      "outputs": []
    },
    {
      "metadata": {
        "nbpresent": {
          "id": "88ac7de6-e8b1-413c-918a-31d49425ac88"
        },
        "id": "GrJ7IyMKZ_J6",
        "colab_type": "text"
      },
      "cell_type": "markdown",
      "source": [
        "■問題２－４\n",
        "\n",
        "変数xに1.5を代入し，xの値の1/10を表示するプログラムを作りなさい．"
      ]
    },
    {
      "metadata": {
        "nbpresent": {
          "id": "761bc38a-95cf-4a92-a3b2-26b0696e184b"
        },
        "id": "FaPBoQIxZ_J8",
        "colab_type": "code",
        "colab": {}
      },
      "cell_type": "code",
      "source": [
        ""
      ],
      "execution_count": 0,
      "outputs": []
    },
    {
      "metadata": {
        "nbpresent": {
          "id": "f945a55e-172c-4dcd-bc7c-8f86f68621ee"
        },
        "id": "DIN3UfjSZ_KB",
        "colab_type": "text"
      },
      "cell_type": "markdown",
      "source": [
        "■問題２－５\n",
        "\n",
        "変数xに10を代入してxの値を表示，次に20を代入してxの値を表示，最後に30を代入してxの値を表示する，というプログラムを作りなさい．\n",
        "また，行を適当に入れ替えて，動きがどう変わるか見てみなさい．"
      ]
    },
    {
      "metadata": {
        "nbpresent": {
          "id": "f9dba5ba-fc8a-431f-a9ad-ddb2e9f69558"
        },
        "id": "wSXxdz6KZ_KD",
        "colab_type": "code",
        "colab": {}
      },
      "cell_type": "code",
      "source": [
        ""
      ],
      "execution_count": 0,
      "outputs": []
    },
    {
      "metadata": {
        "nbpresent": {
          "id": "a57e8695-e1f4-4d6b-9345-07c8c9578df0"
        },
        "id": "10uz-fG_Z_KI",
        "colab_type": "text"
      },
      "cell_type": "markdown",
      "source": [
        "  \n",
        "\n",
        "#入力関数 input()\n",
        "\n",
        "\n",
        "ユーザーに入力を促し入力を受け取る関数 input() の構文は以下のようになります．\n",
        "\n",
        "```python\n",
        "  ユーザーが入力した文字列  = input( 画面に表示するメッセージ文字列 )\n",
        "```\n",
        "\n",
        "Python 3ではinput()関数は文字列を返します．\n",
        "\n",
        "整数を入力したい場合には，int()関数で入力された文字列を整数に直す必要があります．\n",
        "\n",
        "```python\n",
        "整数 = int( 文字列など ) \n",
        "```\n",
        "このように関数は，入力を出力に変換します．int( input (メッセージ) ) と書くと，以下のように変換されます．\n",
        "\n",
        "ユーザーの入力  => input関数 => 文字列  => int関数 => 整数\n",
        "\n",
        "\n",
        "●例題３－１\n",
        "\n",
        "整数の入力をうながし，入力した数の 10乗を計算した結果を表示せよ．\n"
      ]
    },
    {
      "metadata": {
        "nbpresent": {
          "id": "6e8a4a3c-a67b-454f-a7a6-6ef7bb778666"
        },
        "id": "SisxG6lPZ_KJ",
        "colab_type": "code",
        "colab": {}
      },
      "cell_type": "code",
      "source": [
        "x = int(input(\"何か整数を入力してね\"))\n",
        "print( x**10 )"
      ],
      "execution_count": 0,
      "outputs": []
    },
    {
      "metadata": {
        "nbpresent": {
          "id": "7114eb3a-2a8c-4b68-a250-483c18b2cc27"
        },
        "id": "ubaKt3RdZ_KQ",
        "colab_type": "text"
      },
      "cell_type": "markdown",
      "source": [
        "●例題３－２\n",
        "\n",
        "名字を名前を英文で入力するようにうながし，フルネームを表示するプログラムを作成せよ．"
      ]
    },
    {
      "metadata": {
        "nbpresent": {
          "id": "17b3642e-d7d1-4109-9016-fc1c5d7079b9"
        },
        "id": "YH4qrNh6Z_KT",
        "colab_type": "code",
        "colab": {}
      },
      "cell_type": "code",
      "source": [
        "first = input(\"名字を英文で入力してね\")\n",
        "given = input(\"名前を英文で入力してね\")\n",
        "print(given,first)"
      ],
      "execution_count": 0,
      "outputs": []
    },
    {
      "metadata": {
        "nbpresent": {
          "id": "c61cca73-9059-4cd7-ba39-5f9d76d551d7"
        },
        "id": "1VWYNdveZ_Kb",
        "colab_type": "text"
      },
      "cell_type": "markdown",
      "source": [
        "■問題３－１\n",
        "inputが入力した数値を変数に代入している，ということを，プログラムを作って確認せよ．\n",
        "代入された変数の値を表示すれば確認できるので，プログラムの基本的な構造は以下のようになる．\n",
        "\n",
        "1. input関数で変数xに整数を入力する\n",
        "\n",
        "2. print関数で変数xの値を表示する\n",
        "\n",
        "\n",
        "（１）上の構造どおりのプログラムを作れ\n",
        "\n",
        "（２）変数xの名前を自分の好きな名前に変えてみよ．\n",
        "\n",
        "（３）数値を入力して表示する，という作業を2回するようにしましょう．\n",
        "\n",
        "（４）入力する前に Integer = ?と表示するようにせよ．\n",
        "\n",
        "（５）小数（正確には浮動小数点数）を入力し，それを表示させるように変えよ．(文字列を浮動小数点数に変換するにはfloat()関数を用います．）\n",
        "\n"
      ]
    },
    {
      "metadata": {
        "nbpresent": {
          "id": "76a94a33-d451-42ed-af60-239dffd375d5"
        },
        "id": "32TLrUibZ_Kc",
        "colab_type": "code",
        "colab": {}
      },
      "cell_type": "code",
      "source": [
        ""
      ],
      "execution_count": 0,
      "outputs": []
    },
    {
      "metadata": {
        "nbpresent": {
          "id": "f0e09f0f-8bd2-4d68-9124-f7bee777057f"
        },
        "id": "x8rDEFb7Z_Kg",
        "colab_type": "text"
      },
      "cell_type": "markdown",
      "source": [
        "■問題３－２\n",
        "\n",
        "入力した数値を使った計算をする．inputを使ってキーボードから2つの整数を入力して，その合計を表示する，というプログラムを作りたい．\n",
        "プログラムの基本的な構造は以下のようになる．\n",
        "\n",
        "1. 整数を2つ入力し，宣言した変数に代入する\n",
        "\n",
        "2. 2つの整数の和を表示する\n",
        "\n",
        "\n",
        "（１）上の構造どおりのプログラムを作れ\n",
        "\n",
        "（２）整数３つを入力して，その合計を表示するようにせよ\n",
        "\n",
        "（３）浮動小数点数２つを入力して，その合計を表示するようにせよ\n",
        "\n",
        "（４）整数２つを入力して，その積を表示するようにせよ"
      ]
    },
    {
      "metadata": {
        "nbpresent": {
          "id": "c59f01a3-0826-4fc7-ba4d-71e898e94df7"
        },
        "id": "j7WNpCyaZ_Ki",
        "colab_type": "code",
        "colab": {}
      },
      "cell_type": "code",
      "source": [
        ""
      ],
      "execution_count": 0,
      "outputs": []
    },
    {
      "metadata": {
        "nbpresent": {
          "id": "d7c9819d-9814-4211-9db5-e3ca87b43b1c"
        },
        "id": "BEcidw4eZ_Ko",
        "colab_type": "text"
      },
      "cell_type": "markdown",
      "source": [
        "■問題３－３【難】\n",
        "\n",
        "1,2,3章で勉強したinput，print，変数の3つだけで\n",
        "借金返済計画を立てるプログラムを作りたい．\n",
        "簡単のため，利子は無しとする．\n",
        "\n",
        "まず，借金の総額と，ひと月に返済する金額を入力すると，返済にかかる年数を表示し，さらに，毎年のボーナスから返済する金額を入力すると，返済完了が何年早まるかを表示し，\n",
        "その次に返済を完了したい年数を入力すると，ボーナスからいくら返せばよいかを表示するプログラムを作成せよ．\n",
        "\n",
        "（ヒント：この問題は記述があやふやで，自分で仕様を決めてあげる部分が残されている．実際問題のプログラムでは，お客さんの要望にしたがって仕様を決めていくが，ここでは解きやすいように自分で仕様を決めてかまわない．たとえば，「年数」というのは小数でもかまわないとし，ボーナスは年始に渡されるものと仮定してもよい．）\n"
      ]
    },
    {
      "metadata": {
        "nbpresent": {
          "id": "8907d7d5-a3ea-46ff-a146-160c641f0a4c"
        },
        "id": "Sy0zWxqQZ_Kp",
        "colab_type": "code",
        "colab": {}
      },
      "cell_type": "code",
      "source": [
        ""
      ],
      "execution_count": 0,
      "outputs": []
    },
    {
      "metadata": {
        "nbpresent": {
          "id": "2d7979d1-e1a7-4be9-bf8f-3661210a5f12"
        },
        "id": "0Ps_rV_lZ_Ku",
        "colab_type": "text"
      },
      "cell_type": "markdown",
      "source": [
        "■問題３－４（▲参考：問題３－１）\n",
        "\n",
        "キーボードから2つの整数と2つの浮動小数点数を入力して，\n",
        "それらを表示するプログラムを作れ．"
      ]
    },
    {
      "metadata": {
        "nbpresent": {
          "id": "c6f6c5a8-eb3d-470f-bae4-6622e8f183b9"
        },
        "id": "gQW_IF6YZ_Kw",
        "colab_type": "code",
        "colab": {}
      },
      "cell_type": "code",
      "source": [
        ""
      ],
      "execution_count": 0,
      "outputs": []
    },
    {
      "metadata": {
        "nbpresent": {
          "id": "a3e395f4-ae5f-4317-96fc-4632298f0b86"
        },
        "id": "FpbR6Zr3Z_K0",
        "colab_type": "text"
      },
      "cell_type": "markdown",
      "source": [
        "■問題３－５（▲参考：問題３－２）\n",
        "\n",
        "整数を4つ入力して，それらの合計を表示するプログラムを作りなさい．\n",
        "\n",
        "例えば，プログラムを実行して，10,20,33,44を入力すると，\n",
        "その合計の107が表示されます．"
      ]
    },
    {
      "metadata": {
        "nbpresent": {
          "id": "a8323bd0-c3da-476f-a343-930129234508"
        },
        "id": "WxmU8xSxZ_K1",
        "colab_type": "code",
        "colab": {}
      },
      "cell_type": "code",
      "source": [
        ""
      ],
      "execution_count": 0,
      "outputs": []
    },
    {
      "metadata": {
        "nbpresent": {
          "id": "eb0d8b0d-b783-4c25-8a96-f76f94637ca1"
        },
        "id": "3kh3x50oZ_K5",
        "colab_type": "text"
      },
      "cell_type": "markdown",
      "source": [
        "■問題３－６\n",
        "\n",
        "整数を2つ入力して，それらの積を表示し，\n",
        "さらに整数を2つ入力してそれらの積を表示し，\n",
        "\n",
        "最後に，今までに表示した2つの数の合計を表示するプログラムを作りなさい．\n",
        "\n",
        "例えば，プログラムを実行して10,20,33,30 を入力すると，\n",
        "実行結果が以下のようになるようにします．\n",
        "\n",
        "10\n",
        "\n",
        "20\n",
        "\n",
        "product = 200\n",
        "\n",
        "33\n",
        "\n",
        "30\n",
        "\n",
        "product = 990\n",
        "\n",
        "total = 1190"
      ]
    },
    {
      "metadata": {
        "nbpresent": {
          "id": "2d770f1f-895a-487e-a8f3-d4418e2c1862"
        },
        "id": "N66zt0KiZ_K6",
        "colab_type": "code",
        "colab": {}
      },
      "cell_type": "code",
      "source": [
        ""
      ],
      "execution_count": 0,
      "outputs": []
    },
    {
      "metadata": {
        "nbpresent": {
          "id": "5d9e65dd-49af-4c38-b42f-6deeb75674ea"
        },
        "id": "KfvIDtLlZ_K-",
        "colab_type": "text"
      },
      "cell_type": "markdown",
      "source": [
        "■問題３－７\n",
        "\n",
        "xとyにキーボードから整数を入力し，\n",
        "その和差積を表示するようなプログラムを作りなさい．　\n",
        "\n",
        "【やや難】\n",
        "\n",
        "（ヒント：差というのは大きい方から小さい方を引いた数なので負にはなりません．aの絶対値は関数abs(a)で求めることができます． ）"
      ]
    },
    {
      "metadata": {
        "nbpresent": {
          "id": "1fab0480-f27d-4d0e-816d-1bf58595ec51"
        },
        "id": "0ZWRMCxAZ_LA",
        "colab_type": "code",
        "colab": {}
      },
      "cell_type": "code",
      "source": [
        ""
      ],
      "execution_count": 0,
      "outputs": []
    },
    {
      "metadata": {
        "nbpresent": {
          "id": "ffc49a3e-1762-4939-9848-f866c6f403ea"
        },
        "id": "TEXkeaPQZ_LG",
        "colab_type": "text"
      },
      "cell_type": "markdown",
      "source": [
        "# 条件if文\n",
        "\n",
        "今までのプログラムは分岐がありませんでした（これを直線的プログラム）と言います）．\n",
        "\n",
        "条件が成立するときだけ，ある文を実行させることによって，もう少し面白いプログラムが書けます．\n",
        "\n",
        "```python\n",
        "if 条件文 :\n",
        "\n",
        "　　条件文が成立する（真：True)のときに実行される文のブロック\n",
        "```   \n",
        "というのが基本文法です．\n",
        "\n",
        "### 注意：\n",
        "###  Python では **字下げ**（インデント）でプログラムの固まり（ブロックとい言います）を定義します．\n",
        "### ：（コロン）を書いた後に改行して，字下げ（インデント）を付けるのを忘れないようにしてください．\n",
        "\n",
        "#  "
      ]
    },
    {
      "metadata": {
        "nbpresent": {
          "id": "478e593d-b23e-4c98-b2aa-605e45717447"
        },
        "id": "2kiJV-RgZ_LH",
        "colab_type": "text"
      },
      "cell_type": "markdown",
      "source": [
        "●例第４－１\n",
        "\n",
        "「0<10という条件が成り立つならOKと表示する」というプログラムを作って，\n",
        "ifの使い方を練習しましょう．\n",
        "\n",
        "0は10より小さいので0<10は必ず成り立ちます．\n",
        "\n",
        "ですから，実行すると，OKが表示されます．"
      ]
    },
    {
      "metadata": {
        "nbpresent": {
          "id": "6334ac6e-30d7-41de-bfc0-61e89cfe9868"
        },
        "id": "d0wNrojQZ_LJ",
        "colab_type": "code",
        "outputId": "67f6f440-7d01-42c4-f5ca-45b1b11f37c5",
        "colab": {}
      },
      "cell_type": "code",
      "source": [
        "if 0<10:\n",
        "    print('OK')"
      ],
      "execution_count": 0,
      "outputs": [
        {
          "output_type": "stream",
          "text": [
            "OK\n"
          ],
          "name": "stdout"
        }
      ]
    },
    {
      "metadata": {
        "nbpresent": {
          "id": "f671b2c7-098b-42f9-87cc-4e81fed9da26"
        },
        "id": "uKqMzMylZ_LP",
        "colab_type": "text"
      },
      "cell_type": "markdown",
      "source": [
        "●例題４－２\n",
        "\n",
        "もう少し難しい条件を判定しましょう．if の後ろの式が成り立たない（偽: False）のときに実行されるのが else: のブロックです． \n",
        "\n",
        "```python\n",
        "if 条件文 :\n",
        "\n",
        "　　条件文が成立する（真：True)のときに実行される文のブロック\n",
        "else: \n",
        "    条件文が成立しない（偽: False)のときに実行される文のブロック\n",
        "\n",
        "```\n",
        "\n",
        "キーボードから入力した数に $25000$ を足したものが，$3500*9$ と等しいかどうかを判定するプログラムを作ります．\n",
        "\n",
        "それには，以下の順で命令を実行すればよいですね．\n",
        "\n",
        "1.　変数xに数値を入力する\n",
        "\n",
        "2.　ifで $x+25000$ と $3500*9$ が等しいかどうか判定する\n",
        "\n",
        "3.　等しいならOKを，そうでなければBoooを表示する\n",
        "\n",
        "条件式では，等号に==を使うことを注意してください．"
      ]
    },
    {
      "metadata": {
        "nbpresent": {
          "id": "298fa251-8e14-45db-9c28-1904b8e430df"
        },
        "id": "GmhUVIgbZ_LQ",
        "colab_type": "code",
        "outputId": "715ca9d1-a8c0-4b9d-c1ca-4aad1d3fcc2a",
        "colab": {}
      },
      "cell_type": "code",
      "source": [
        "x = int(input(\"Please enter an integer:\"))\n",
        "if x+25000 == 3500*9 :\n",
        "    print(\"OK\")\n",
        "else:\n",
        "    print (\"Booo\")"
      ],
      "execution_count": 0,
      "outputs": [
        {
          "output_type": "stream",
          "text": [
            "Please enter an integer:12\n",
            "Booo\n"
          ],
          "name": "stdout"
        }
      ]
    },
    {
      "metadata": {
        "collapsed": true,
        "nbpresent": {
          "id": "752011ee-3333-4e9f-811f-ee149c1377f1"
        },
        "id": "vJjD-LJcZ_LZ",
        "colab_type": "text"
      },
      "cell_type": "markdown",
      "source": [
        "●例題４－３\n",
        "\n",
        "ifの入れ子を使ったプログラムを作りましょう．\n",
        "\n",
        "else の後に if 文を入れたい場合には，elif: とあわせて書くことができます．これを使うと，不必要な字下げ（インデント）をしないで済むようになるので綺麗に書けます．\n",
        "\n",
        "```python\n",
        "if 条件文1:\n",
        "　　条件文1が真のときに実行される文のブロック\n",
        "elif 条件文2: \n",
        "    条件文1が偽で条件文2が真のときに実行される文のブロック\n",
        "else:\n",
        "    条件文1が偽で条件文2も偽のときに実行される文のブロック\n",
        "\n",
        "```\n",
        "\n",
        "入力した数が正の場合はpositiveと表示して，\n",
        "さらに100以上の場合は100以上，100未満の場合は100未満と表示しましょう．\n",
        "\n",
        "また，入力した数が正でない場合，0の場合はzero，負の場合はnegativeと表示しましょう．"
      ]
    },
    {
      "metadata": {
        "nbpresent": {
          "id": "fab92b1e-5de7-4f93-bb14-c6f121154aba"
        },
        "id": "axaTI3fMZ_La",
        "colab_type": "code",
        "outputId": "c8c1095b-b2d6-4df1-d42b-0c72e15e462a",
        "colab": {}
      },
      "cell_type": "code",
      "source": [
        "x = int(input(\"Please enter an integer:\"))\n",
        "if x > 0 :\n",
        "    print(\"positive\")\n",
        "    if x >= 100 :\n",
        "        print(\"100以上\")\n",
        "    else :\n",
        "        print(\"100未満\")\n",
        "elif x == 0 :\n",
        "    print (\"zero\")\n",
        "else :\n",
        "    print (\"negative\")"
      ],
      "execution_count": 0,
      "outputs": [
        {
          "output_type": "stream",
          "text": [
            "Please enter an integer:3\n",
            "positive\n",
            "100未満\n"
          ],
          "name": "stdout"
        }
      ]
    },
    {
      "metadata": {
        "id": "Hsb2XjQ7Z_Lg",
        "colab_type": "text"
      },
      "cell_type": "markdown",
      "source": [
        "\n",
        "\n",
        "条件文には，様々な論理式を入れることができます．\n",
        "\n",
        "論理式とは真(True)か偽(False)に *and*（かつ） や *or*（または） や *not* などの論理演算子を適用した式です．\n",
        "\n",
        "たとえば，「xが 1 または yが6でない」ということは，\n",
        "```python\n",
        "  x==1 or y!=6 \n",
        "```\n",
        "という論理式で書けます．\n",
        "\n",
        "同様に「xが3未満でなく かつyが6未満」は\n",
        "```python\n",
        " not(x<4) and y<6\n",
        "```\n",
        "と書けます．\n",
        "\n",
        "●例題４－４\n",
        "\n",
        "入力した数が負か100以上なら\"範囲外\"と出力し，それ以外なら\"OK\"と出力するプログラムを作成せよ．\n"
      ]
    },
    {
      "metadata": {
        "id": "PVt0X4o8Z_Lh",
        "colab_type": "code",
        "outputId": "01ab3927-11e1-4539-e2ee-0a1ecf005f3f",
        "colab": {}
      },
      "cell_type": "code",
      "source": [
        "x =int( input(\"数を入力してください \"))\n",
        "if x<0 or x>=100:\n",
        "    print(\"範囲外\")\n",
        "else:\n",
        "    print(\"OK\")"
      ],
      "execution_count": 0,
      "outputs": [
        {
          "output_type": "stream",
          "text": [
            "数を入力してください 120\n",
            "範囲外\n"
          ],
          "name": "stdout"
        }
      ]
    },
    {
      "metadata": {
        "collapsed": true,
        "nbpresent": {
          "id": "5a94a7ba-860f-4bab-88c9-2cbf4b9a0e58"
        },
        "id": "M1oL_qwlZ_Lo",
        "colab_type": "text"
      },
      "cell_type": "markdown",
      "source": [
        "#      \n",
        "\n",
        "\n",
        "■問題４－１\n",
        "\n",
        "（1）　入力した数が0ならzeroと表示するプログラムを作りましょう．\n",
        "\n",
        "（2）　入力した数が100以上ならOKと表示するプログラムを作りましょう．\n",
        "\n",
        "（3）　入力した数が0以上ならpositive，そうでなければnegativeと表示するプログラムを作りましょう．\n",
        "\n",
        "（4）　入力した2つの数が等しいならequalと表示するプログラムを作りましょう．"
      ]
    },
    {
      "metadata": {
        "nbpresent": {
          "id": "184a38f1-e00f-4260-921b-4f73142514d6"
        },
        "id": "H_UmJEHEZ_Lp",
        "colab_type": "code",
        "colab": {}
      },
      "cell_type": "code",
      "source": [
        ""
      ],
      "execution_count": 0,
      "outputs": []
    },
    {
      "metadata": {
        "collapsed": true,
        "nbpresent": {
          "id": "20cc427e-4cf1-4086-882a-80a10a288419"
        },
        "id": "H8l6QosNZ_Lv",
        "colab_type": "text"
      },
      "cell_type": "markdown",
      "source": [
        "■問題４－２\n",
        "\n",
        "例題４－３のサンプルコードを用いて，\n",
        "\n",
        "（1）　入力した数が10か10より大きいか10未満かを判定するプログラムを作りましょう．\n",
        "\n",
        "（2）　入力した数が1なら1，2なら2，それ以外ならetcと表示させましょう．\n",
        "\n",
        "（3）　最初のifの条件式を(x<0)とすると，実行結果は元のプログラムと変わってしまいます．\n",
        "\n",
        "そこで，この条件式以外の部分を修正して，元のプログラムと同じ実行結果を出すプログラムに修正しましょう．"
      ]
    },
    {
      "metadata": {
        "nbpresent": {
          "id": "efd546b6-83b9-4e4f-9213-d25135a48dd7"
        },
        "id": "DkoPbrXDZ_Lx",
        "colab_type": "code",
        "colab": {}
      },
      "cell_type": "code",
      "source": [
        ""
      ],
      "execution_count": 0,
      "outputs": []
    },
    {
      "metadata": {
        "collapsed": true,
        "nbpresent": {
          "id": "e7514176-f784-471f-ae1b-44de1221139b"
        },
        "id": "SlLInnMTZ_L0",
        "colab_type": "text"
      },
      "cell_type": "markdown",
      "source": [
        "■問題４－３\n",
        "\n",
        "キーボードから2つの数 $x$ と $y$ を入力し，$y$ が $x$ 以下なら $x-y$ を表示し，\n",
        "$y$ が $x$ より大きければ '負になります' と表示するプログラムを作りなさい．"
      ]
    },
    {
      "metadata": {
        "nbpresent": {
          "id": "2426ce7c-5233-4d5e-aeb9-52b062e2a298"
        },
        "id": "Og8C5nqyZ_L2",
        "colab_type": "code",
        "colab": {}
      },
      "cell_type": "code",
      "source": [
        ""
      ],
      "execution_count": 0,
      "outputs": []
    },
    {
      "metadata": {
        "collapsed": true,
        "nbpresent": {
          "id": "c974e4e9-f12a-41f4-bcdb-3b1b47a85fe7"
        },
        "id": "HHknnwl7Z_L6",
        "colab_type": "text"
      },
      "cell_type": "markdown",
      "source": [
        "■問題４－４\n",
        "\n",
        "まず，文字で絵を3種類作りましょう（例えば '(>_<)'や '⌒▽⌒\"'のような絵）．そして，キーボードから数を入力し，その数が1なら1番目の絵を，2なら2番目の絵を，3なら3番目の絵を表示するプログラムを作りなさい．それ以外の数が入力された場合は，何もしなくてよいです．"
      ]
    },
    {
      "metadata": {
        "nbpresent": {
          "id": "0871b2e1-944b-46d4-a940-0729e64a717e"
        },
        "id": "iUW9eqvbZ_L8",
        "colab_type": "code",
        "colab": {}
      },
      "cell_type": "code",
      "source": [
        ""
      ],
      "execution_count": 0,
      "outputs": []
    },
    {
      "metadata": {
        "collapsed": true,
        "nbpresent": {
          "id": "9132be7b-2dae-4894-9401-ce838c5f93a5"
        },
        "id": "Qsp1CGW3Z_L_",
        "colab_type": "text"
      },
      "cell_type": "markdown",
      "source": [
        "■問題４－５\n",
        "\n",
        "キーボードから数値をxに入力し，ifを使って，xが偶数なら Even，奇数なら Odd と表示させるプログラムを作りなさい．\n",
        "\n",
        "（ヒント：xが偶数なら，xを2で割った余りが0となり，奇数であれば1になるので，xを2で割った余りを調べれば良いですね．\n",
        "余りを計算するには%を使います．）"
      ]
    },
    {
      "metadata": {
        "nbpresent": {
          "id": "d4bbbd83-ca84-442a-9020-243f7ab0eee3"
        },
        "id": "BhCk1skiZ_MC",
        "colab_type": "code",
        "colab": {}
      },
      "cell_type": "code",
      "source": [
        ""
      ],
      "execution_count": 0,
      "outputs": []
    },
    {
      "metadata": {
        "collapsed": true,
        "nbpresent": {
          "id": "e7421b18-c456-40b0-92aa-4c86e4a91234"
        },
        "id": "yNvplEB8Z_MI",
        "colab_type": "text"
      },
      "cell_type": "markdown",
      "source": [
        "■問題４－６\n",
        "\n",
        "キーボードから入力した数が10以上20以下であればOKと表示するプログラムを作りなさい．"
      ]
    },
    {
      "metadata": {
        "nbpresent": {
          "id": "05f988b1-ebf8-4fa5-bfd0-13809c60be0f"
        },
        "id": "i3RbeOQuZ_MI",
        "colab_type": "code",
        "colab": {}
      },
      "cell_type": "code",
      "source": [
        ""
      ],
      "execution_count": 0,
      "outputs": []
    },
    {
      "metadata": {
        "nbpresent": {
          "id": "968a9b1e-cd8b-4d5e-a66c-50c438367a02"
        },
        "id": "b8F5pApYZ_MP",
        "colab_type": "text"
      },
      "cell_type": "markdown",
      "source": [
        "■問題４－７\n",
        "\n",
        "文字で作った絵を2つ作りましょう．\n",
        "\n",
        "そして，キーボードから入力した数が10 以上20 以下なら1つ目の絵を，50以上60以下なら2つ目の絵を表示するプログラムを作りなさい．"
      ]
    },
    {
      "metadata": {
        "nbpresent": {
          "id": "1d4bd536-6fbd-4a93-b0eb-230f99ade32b"
        },
        "id": "wk5wSfKQZ_MR",
        "colab_type": "code",
        "colab": {}
      },
      "cell_type": "code",
      "source": [
        ""
      ],
      "execution_count": 0,
      "outputs": []
    },
    {
      "metadata": {
        "nbpresent": {
          "id": "4332c8e4-7b90-4ee0-9fa3-35f845b9fa86"
        },
        "id": "vkEXdnv7Z_MY",
        "colab_type": "text"
      },
      "cell_type": "markdown",
      "source": [
        "■問題４－８\n",
        "\n",
        "キーボードから数を入力し，その数が正ならその数を表示．そうでなければ，もうひとつ数を入力し，最初の数との積を表示するプログラムを作りなさい．\n",
        "\n",
        "表示結果例\n",
        "\n",
        "```python\n",
        "x = -3\n",
        "y = 2\n",
        "product = -6\n",
        "```"
      ]
    },
    {
      "metadata": {
        "nbpresent": {
          "id": "29698b24-b406-40db-9915-1eeafc09cab7"
        },
        "id": "FF3ovK7eZ_Ma",
        "colab_type": "code",
        "colab": {}
      },
      "cell_type": "code",
      "source": [
        ""
      ],
      "execution_count": 0,
      "outputs": []
    },
    {
      "metadata": {
        "nbpresent": {
          "id": "115cc600-1426-46d7-9ba6-950d07e65f8a"
        },
        "id": "94QE5Nh7Z_Md",
        "colab_type": "text"
      },
      "cell_type": "markdown",
      "source": [
        "# 繰り返し文，while，for\n",
        "\n",
        "プログラム（コンピュータ）は，同じ操作を繰り返すことが得意です．\n",
        "\n",
        "```python\n",
        "while 条件: \n",
        "　　\n",
        "  繰り返したい文\n",
        "```\n",
        " \n",
        "の構文で条件が成立している間（真のとき）に文（複数でも可）が繰り返し実行されます．\n",
        "\n",
        "### 必ずいつかは「条件」が，偽(False)になるように設定してください．そうでないと，無限ループと言ってプログラムが止まらなくなります．\n",
        "\n",
        "\n",
        "#  \n",
        "\n",
        "●例題５－１\n",
        "\n",
        "$5$ から $1$ までの数字を順番に表示するプログラムを作れ．\n",
        "\n",
        "xに最初に5を代入します．while x > 0: とxが正の間は繰り返す while 文を作ります．\n",
        "繰り返したいブロックの中で，xをprintしてから，xをから1を引いた値を再びxに代入します．**（これを忘れると止まらないプログラムになります．）**\n"
      ]
    },
    {
      "metadata": {
        "nbpresent": {
          "id": "0173d4f5-4710-428c-9bc2-6f603fd9412f"
        },
        "id": "UiAxVTS3Z_Mf",
        "colab_type": "code",
        "outputId": "a8357e08-45ad-43b6-c510-928d677ab10e",
        "colab": {}
      },
      "cell_type": "code",
      "source": [
        "x = 5 \n",
        "while x > 0:\n",
        "    print(x)\n",
        "    x= x -1  #x -= 1 と書いても同じ "
      ],
      "execution_count": 0,
      "outputs": [
        {
          "output_type": "stream",
          "text": [
            "5\n",
            "4\n",
            "3\n",
            "2\n",
            "1\n"
          ],
          "name": "stdout"
        }
      ]
    },
    {
      "metadata": {
        "nbpresent": {
          "id": "657d5889-0c2f-460d-a84f-58c2d88f830e"
        },
        "id": "hAqay8M5Z_Mk",
        "colab_type": "text"
      },
      "cell_type": "markdown",
      "source": [
        "●例題５－２\n",
        "\n",
        "while の中で break文を入れると，whileの反復（ループ）から出ることができます．\n",
        "\n",
        "10から1までの数字の2乗を順に出力するプログラムを作成せよ．\n",
        "\n",
        "xに最初に10を代入しておきます．\n",
        "\n",
        "while の後に True と常に真になる式を入れて whileループを作ります．繰り返しブロックの中でxの2乗を出力してから，\n",
        "１を引きます．その後に，if文を入れて，xが0以下になったら breakするようにします．\n"
      ]
    },
    {
      "metadata": {
        "nbpresent": {
          "id": "e34a5f85-c7b6-4e21-9054-d5ea3b15328d"
        },
        "id": "XWVSfnuYZ_Ml",
        "colab_type": "code",
        "outputId": "e7ed549e-2bd8-41d3-ca80-18ea24fe7515",
        "colab": {}
      },
      "cell_type": "code",
      "source": [
        "x=10\n",
        "while True: \n",
        "    print( x**2 )\n",
        "    x =x-1\n",
        "    if x<=0:\n",
        "        break"
      ],
      "execution_count": 0,
      "outputs": [
        {
          "output_type": "stream",
          "text": [
            "100\n",
            "81\n",
            "64\n",
            "49\n",
            "36\n",
            "25\n",
            "16\n",
            "9\n",
            "4\n",
            "1\n"
          ],
          "name": "stdout"
        }
      ]
    },
    {
      "metadata": {
        "nbpresent": {
          "id": "861c4c80-7353-4dd9-b787-2fc2c572595f"
        },
        "id": "GLJpMmvjZ_Mx",
        "colab_type": "text"
      },
      "cell_type": "markdown",
      "source": [
        "●例題５－３\n",
        "\n",
        "簡単な数字の繰り返しなら for 文を使った方が簡単です．\n",
        "\n",
        "```python\n",
        "for x in range(初期値，終了値，ステップ)：\n",
        "\n",
        "　　繰り返したい文\n",
        "```\n",
        " \n",
        "の構文です．ここで繰り返しは range()関数を用いて生成します．\n",
        "\n",
        "たとえば，range(0,10,1) と書くと，0,1,2,...,9 の数字を x に順に代入して繰り返します．終了値の1つ前まで繰り返すことに注意してください．\n",
        "\n",
        "初期値は省略すると 0，ステップは省略すると 1 になりので，range(0,10,1)は range(10) と書いても大丈夫です．\n",
        "\n",
        "ステップを2にすると，1つ飛ばしで数列が生成されます．たとえば range(1,10,2) は 1,3,5,7,9 となります．\n",
        "\n",
        "\n",
        "1から10までの奇数の2乗を順に出力するプログラムを作成せよ．\n"
      ]
    },
    {
      "metadata": {
        "nbpresent": {
          "id": "59574263-90c9-402e-8dac-2d3a29bbb968"
        },
        "id": "PfBncuQnZ_Mz",
        "colab_type": "code",
        "outputId": "8f8decec-5f0e-4ac4-b0aa-7f1942b89b6c",
        "colab": {}
      },
      "cell_type": "code",
      "source": [
        "for x in range(1,10,2):\n",
        "    print(x**2)"
      ],
      "execution_count": 0,
      "outputs": [
        {
          "output_type": "stream",
          "text": [
            "1\n",
            "9\n",
            "25\n",
            "49\n",
            "81\n"
          ],
          "name": "stdout"
        }
      ]
    },
    {
      "metadata": {
        "nbpresent": {
          "id": "a3314f49-0106-40bf-aed3-4c4c1f30d990"
        },
        "id": "u3TV4cEUZ_M3",
        "colab_type": "text"
      },
      "cell_type": "markdown",
      "source": [
        "●例題５－４\n",
        "\n",
        "例題５－２と同じ問題（10から1までの数字の2乗を順に出力するプログラムを作成せよ）をfor文を使って解いてみましょう．\n",
        "\n",
        "\n",
        "\n",
        "10から1までの数列を生成するには，range(10,0,-1)とステップに-1を入れます．\n"
      ]
    },
    {
      "metadata": {
        "nbpresent": {
          "id": "b3c3b67d-3422-42fa-85cd-b6ea9cad28e0"
        },
        "id": "8kMY4OsyZ_M5",
        "colab_type": "code",
        "outputId": "da88b82d-087f-41ee-cea6-991aa002e751",
        "colab": {}
      },
      "cell_type": "code",
      "source": [
        "for x in range(10,0,-1):\n",
        "    print(x**2)"
      ],
      "execution_count": 0,
      "outputs": [
        {
          "output_type": "stream",
          "text": [
            "100\n",
            "81\n",
            "64\n",
            "49\n",
            "36\n",
            "25\n",
            "16\n",
            "9\n",
            "4\n",
            "1\n"
          ],
          "name": "stdout"
        }
      ]
    },
    {
      "metadata": {
        "nbpresent": {
          "id": "46b6c903-5ceb-4705-b6aa-056934dd9752"
        },
        "id": "oYF_yEkoZ_M-",
        "colab_type": "text"
      },
      "cell_type": "markdown",
      "source": [
        "●例題５－５\n",
        "\n",
        "for(while)文の中にfor(while)文を書くこともできます．これは反復（ループ）の入れ子とよばれます．\n",
        "\n",
        "Pythonでは，字下げ（インデント）が重要ですので，構文は以下のようになります．\n",
        "\n",
        "```python\n",
        "for x in range(初期値，終了値，ステップ)：\n",
        "\n",
        "　　for y in range(初期値，終了値，ステップ)：\n",
        "\n",
        "　　　　繰り返したい文\n",
        "```  \n",
        " while文でも同様です．\n",
        " \n",
        " 1から5までの整数 $x$ と 8 から16までの整数 $y$ の和の表を作成せよ．\n",
        " \n",
        "\n",
        " 以下のような出力を得たいのですが， print()関数で出力すると，自動的に改行されてしまいます．\n",
        " \n",
        "  9 10 11 12 13 14 15 16 17 \n",
        " \n",
        "10 11 12 13 14 15 16 17 18 \n",
        "\n",
        "11 12 13 14 15 16 17 18 19 \n",
        "\n",
        "12 13 14 15 16 17 18 19 20 \n",
        "\n",
        "13 14 15 16 17 18 19 20 21 \n",
        " \n",
        "改行しないで（かつ空白を入れて）出力したいときには，print(出力したい数, end=' ') と書きます．\n",
        "これは，end= の後に書いた文字が，改行コードの代わりに，出力に付加されることを表します．\n",
        "\n",
        "すると全部つながって \n",
        "\n",
        "9 10 11 12 13 14 15 16 17 10 11 12 13 14 15 16 17 18 11 12 13 14 15 16 17 18 19 12 13 14 15 16 17 18 19 20 13 14 15 16 17 18 19 20 21\n",
        "\n",
        "と出力されてしまうので，内側の for ループが終わったあとに print() と改行を行うための出力をいれます．"
      ]
    },
    {
      "metadata": {
        "nbpresent": {
          "id": "68ead954-7ffb-4606-8946-e4c373341d05"
        },
        "id": "zYieurDgZ_NA",
        "colab_type": "code",
        "outputId": "99291ccf-806a-4bbf-a07b-5f78ea2f1279",
        "colab": {}
      },
      "cell_type": "code",
      "source": [
        "for x in range(1,6):\n",
        "    for y in range(8,17):\n",
        "        print(x+y, end=' ')\n",
        "    print()"
      ],
      "execution_count": 0,
      "outputs": [
        {
          "output_type": "stream",
          "text": [
            "9 10 11 12 13 14 15 16 17 \n",
            "10 11 12 13 14 15 16 17 18 \n",
            "11 12 13 14 15 16 17 18 19 \n",
            "12 13 14 15 16 17 18 19 20 \n",
            "13 14 15 16 17 18 19 20 21 \n"
          ],
          "name": "stdout"
        }
      ]
    },
    {
      "metadata": {
        "nbpresent": {
          "id": "68f80eb4-48ac-4b5a-b5fc-82c01dd35f33"
        },
        "id": "rbja0cqNZ_NH",
        "colab_type": "text"
      },
      "cell_type": "markdown",
      "source": [
        "■問題５－１\n",
        "\n",
        "（１）「入力した数を表示する」という作業を，3回繰り返すプログラムを作りなさい．\n",
        "\n",
        "（２）「入力した数の和を表示する」という作業を，3回繰り返すプログラムを作りなさい．\n",
        "\n",
        "（３）「入力した定価の税込価格（消費税は8%とする）を表示する」という作業を繰り返すプログラムを作成せよ．\n",
        "\n",
        "（４）０を入力したら，次の反復に移らず，終了するプログラムにせよ．\n",
        "\n",
        "（５）負の数を入力したら，次の反復に移らず，終了するプログラムにせよ"
      ]
    },
    {
      "metadata": {
        "nbpresent": {
          "id": "316a2e42-bb92-4743-bbda-44e81abd7f5d"
        },
        "id": "mSG2VNm9Z_NI",
        "colab_type": "code",
        "colab": {}
      },
      "cell_type": "code",
      "source": [
        ""
      ],
      "execution_count": 0,
      "outputs": []
    },
    {
      "metadata": {
        "nbpresent": {
          "id": "a2c68fbf-b326-49cf-aa63-d28e91c27215"
        },
        "id": "M-rWsRtGZ_NP",
        "colab_type": "text"
      },
      "cell_type": "markdown",
      "source": [
        "■問題５－２\n",
        "\n",
        "（１）「入力した数が7の倍数かどうかを判定する」という作業を2回繰り返すプログラムを作りなさい．\n",
        "\n",
        "（２）３の倍数かどうかの判定を繰り返すようにせよ．\n",
        "\n",
        "（３）負かどうかの判定を繰り返すようにせよ．"
      ]
    },
    {
      "metadata": {
        "nbpresent": {
          "id": "59e7d3f6-8301-4188-b863-b46b4b6201e4"
        },
        "id": "yw16ecbpZ_NQ",
        "colab_type": "code",
        "colab": {}
      },
      "cell_type": "code",
      "source": [
        ""
      ],
      "execution_count": 0,
      "outputs": []
    },
    {
      "metadata": {
        "nbpresent": {
          "id": "0db6b397-312e-4647-a2ab-d4830fa9518d"
        },
        "id": "0qIv4X59Z_NW",
        "colab_type": "text"
      },
      "cell_type": "markdown",
      "source": [
        "■問題５－３\n",
        "\n",
        "（１）Hello!を10回表示するプログラムを作りなさい．\n",
        "\n",
        "（２）20回表示するプログラムにしなさい．"
      ]
    },
    {
      "metadata": {
        "nbpresent": {
          "id": "bb8fb69b-f7c1-487f-97ff-44cc9a802a90"
        },
        "id": "zmUgRa3wZ_NY",
        "colab_type": "code",
        "colab": {}
      },
      "cell_type": "code",
      "source": [
        ""
      ],
      "execution_count": 0,
      "outputs": []
    },
    {
      "metadata": {
        "nbpresent": {
          "id": "5facd15a-b695-45b0-8860-c66a3c074156"
        },
        "id": "bioCfQrkZ_Ne",
        "colab_type": "text"
      },
      "cell_type": "markdown",
      "source": [
        "■問題５－４\n",
        "\n",
        "（１）1から10までの整数を表示するプログラムを作りなさい．\n",
        "\n",
        "（２）1から20までの整数を表示するように書き換えよ．\n",
        "\n",
        "（３）-10から10までの整数を表示するように書き換えよ．\n",
        "\n",
        "（４）2,4,6,8,10 を表示するように書き換えよ．\n",
        "\n",
        "（ヒント：xを2つずつ大きくすると…）\n"
      ]
    },
    {
      "metadata": {
        "nbpresent": {
          "id": "dd7149b2-456e-48b5-ba3d-97335d137911"
        },
        "id": "FG8kJ2mdZ_Nf",
        "colab_type": "code",
        "colab": {}
      },
      "cell_type": "code",
      "source": [
        ""
      ],
      "execution_count": 0,
      "outputs": []
    },
    {
      "metadata": {
        "nbpresent": {
          "id": "d91a3b88-8409-42a1-8487-805e9d57aba2"
        },
        "id": "pIK5v1J1Z_Nk",
        "colab_type": "text"
      },
      "cell_type": "markdown",
      "source": [
        "■問題５－５\n",
        "\n",
        "（１）10から1までの整数を大きい順で（10,9,8,… ）表示せよ．\n",
        "\n",
        "（２）1から100までの偶数を表示せよ．"
      ]
    },
    {
      "metadata": {
        "nbpresent": {
          "id": "2d35e655-bb62-42e7-bada-cf69d2fc60c8"
        },
        "id": "d6aX4GRWZ_Nm",
        "colab_type": "code",
        "colab": {}
      },
      "cell_type": "code",
      "source": [
        ""
      ],
      "execution_count": 0,
      "outputs": []
    },
    {
      "metadata": {
        "nbpresent": {
          "id": "f8ebbbe6-66bd-4a74-b2ee-3e2ff7abd0c2"
        },
        "id": "K6lZtokLZ_Nq",
        "colab_type": "text"
      },
      "cell_type": "markdown",
      "source": [
        "■問題５－６\n",
        "\n",
        "（１）forの2重ループを使って，九九の表を書くプログラムを作成せよ．\n",
        "ただし，表の罫線を書くのは大変なので，中身の数字だけを書く．\n",
        "\n",
        "（２）9×9 の足し算の答えを表にせよ．\n",
        "\n",
        "（３）12×12 の掛け算の答えを表にせよ．"
      ]
    },
    {
      "metadata": {
        "nbpresent": {
          "id": "26f7afe5-b36c-4560-834e-38fb7099aa98"
        },
        "id": "i3vTrQqtZ_Ns",
        "colab_type": "code",
        "colab": {}
      },
      "cell_type": "code",
      "source": [
        ""
      ],
      "execution_count": 0,
      "outputs": []
    },
    {
      "metadata": {
        "nbpresent": {
          "id": "fb2dad07-9010-46ad-8d51-a60826d01e80"
        },
        "id": "F5SWRA8fZ_Nv",
        "colab_type": "text"
      },
      "cell_type": "markdown",
      "source": [
        "■問題５－７\n",
        "\n",
        "　＃＃＃＃＃＃＃＃＃＃　1個の空白と10個の#を表示\n",
        "\n",
        "　　＃＃＃＃＃＃＃＃　　2個の空白と8個の#を表示\n",
        "\n",
        "　　　＃＃＃＃＃＃　　　3個の空白と6個の#を表示\n",
        "\n",
        "　　　　＃＃＃＃　　　　4個の空白と4個の#を表示\n",
        "\n",
        "　　　　　＃＃　　　　　5個の空白と2個の#を表示 \n",
        "  \n",
        "上のような#で作った三角形を表示するプログラムを作成せよ．　\n",
        "\n",
        "【やや難】"
      ]
    },
    {
      "metadata": {
        "nbpresent": {
          "id": "24b9b07e-679b-4992-863a-202870fc4dd0"
        },
        "id": "QKWQyLJ_Z_Nw",
        "colab_type": "code",
        "colab": {}
      },
      "cell_type": "code",
      "source": [
        ""
      ],
      "execution_count": 0,
      "outputs": []
    },
    {
      "metadata": {
        "nbpresent": {
          "id": "639d49cd-7b45-406a-8a07-b01bcb10039c"
        },
        "id": "AMhvRHbAZ_Nz",
        "colab_type": "text"
      },
      "cell_type": "markdown",
      "source": [
        "■問題５－１１（whileとif文の練習）\n",
        "\n",
        "数当てゲームを作りたい．\n",
        "\n",
        "１から100までの適当な整数を用意し，\n",
        "キーボードから入力した数がその数と同じならば\n",
        "終了するプログラムを作成する．\n",
        "\n",
        "ただし，はずれたときは，\n",
        "正解よりも大きかったか小さかったかを表示して\n",
        "ヒントを出すようにすること．　\n",
        "\n",
        "【やや難】"
      ]
    },
    {
      "metadata": {
        "nbpresent": {
          "id": "dc46f1d0-4682-4072-8d0f-400a3caaa909"
        },
        "id": "eRDy7RmVZ_N0",
        "colab_type": "code",
        "colab": {}
      },
      "cell_type": "code",
      "source": [
        ""
      ],
      "execution_count": 0,
      "outputs": []
    },
    {
      "metadata": {
        "nbpresent": {
          "id": "56b5add6-b8bf-4575-af9c-eaed340316ae"
        },
        "id": "BWm23wNEZ_N4",
        "colab_type": "text"
      },
      "cell_type": "markdown",
      "source": [
        "■問題５－１２（for，whileの使い分け）\n",
        "\n",
        "２つの整数aとbをキーボードから入力させ，\n",
        "\n",
        "a以上b以下の整数をすべて表示させるプログラムを作れ\n",
        "\n",
        "（１）for文を使って作れ（whileは使わない）\n",
        "\n",
        "（２）while文を使って作れ（forは使わない）"
      ]
    },
    {
      "metadata": {
        "nbpresent": {
          "id": "30ee6ccc-d6d9-464b-b253-480a8423c564"
        },
        "id": "JJoH-dH6Z_N4",
        "colab_type": "code",
        "colab": {}
      },
      "cell_type": "code",
      "source": [
        ""
      ],
      "execution_count": 0,
      "outputs": []
    },
    {
      "metadata": {
        "nbpresent": {
          "id": "9b7e908a-e2ee-4509-ab4c-6033f64da07e"
        },
        "id": "hFYie4JJZ_OB",
        "colab_type": "text"
      },
      "cell_type": "markdown",
      "source": [
        "■問題５－１３\n",
        "\n",
        "２つの整数a,bをキーボードから入力し，\n",
        "\n",
        "縦がa文字，横がb文字の$*$で出来た四角を描くプログラムを作りなさい．\n",
        "\n",
        "たとえば，a=2,b=5なら，\n",
        "\n",
        "$*****$\n",
        "\n",
        "$*****$\n",
        "\n",
        "と表示される．\n",
        "\n",
        "（１）forを１回だけ使用して作れ\n",
        "\n",
        "（２）２重のforループを使用して作れ　\n",
        "\n",
        "【やや難】"
      ]
    },
    {
      "metadata": {
        "nbpresent": {
          "id": "ee059d42-0504-4cdd-a538-5e80d12be75b"
        },
        "id": "R_INuOLAZ_OC",
        "colab_type": "code",
        "colab": {}
      },
      "cell_type": "code",
      "source": [
        ""
      ],
      "execution_count": 0,
      "outputs": []
    },
    {
      "metadata": {
        "nbpresent": {
          "id": "021ce133-49f0-4a8b-8d12-a4ec8b1051d9"
        },
        "id": "eVIVdxitZ_OJ",
        "colab_type": "text"
      },
      "cell_type": "markdown",
      "source": [
        "■問題５－１４\n",
        "\n",
        "九九の表を作るプログラムを，掛け算の答えだけでなく，\n",
        "\n",
        "それぞれが何と何の掛け算なのか，つまり $3*5=15$ のように表示するプログラムを作りなさい．\n",
        "\n",
        "表が大きすぎるならば5×5で構いません．"
      ]
    },
    {
      "metadata": {
        "nbpresent": {
          "id": "a03309a7-3ccb-466a-ad2f-6b00d5617990"
        },
        "id": "T-wjHJKiZ_OK",
        "colab_type": "code",
        "colab": {}
      },
      "cell_type": "code",
      "source": [
        ""
      ],
      "execution_count": 0,
      "outputs": []
    },
    {
      "metadata": {
        "nbpresent": {
          "id": "58fc96e9-b580-46ad-bc3d-adcbac5c9c3b"
        },
        "id": "-M7EAuj5Z_OO",
        "colab_type": "text"
      },
      "cell_type": "markdown",
      "source": [
        "■問題５－１５\n",
        "\n",
        "3×3×3のかけ算の表を表示するプログラムを作りなさい．\n",
        "\n",
        "1×1×1，1×1×2，1×1×3，1×2×1，．．．の順で表示するようにしなさい．"
      ]
    },
    {
      "metadata": {
        "nbpresent": {
          "id": "f0bf3262-3a1d-49a6-bf51-753d48d5dadc"
        },
        "id": "jOZpau24Z_OQ",
        "colab_type": "code",
        "colab": {}
      },
      "cell_type": "code",
      "source": [
        ""
      ],
      "execution_count": 0,
      "outputs": []
    },
    {
      "metadata": {
        "nbpresent": {
          "id": "1b773690-83cb-4db3-b563-17ddf5f34838"
        },
        "id": "yycAwUD_Z_OS",
        "colab_type": "text"
      },
      "cell_type": "markdown",
      "source": [
        "■問題５－１６\n",
        "\n",
        "キーボードから数xを入力し，xの数だけ#を横に並べて表示する，という作業を繰り返すプログラムを作りなさい．\n",
        "\n",
        "ただし，入力した数が0なら終了するようにします．例えば，5,3,15,0と入力した場合にはこのようになります．\n",
        "\n",
        "5\n",
        "\n",
        "＃＃＃＃＃\n",
        "\n",
        "3\n",
        "\n",
        "＃＃＃\n",
        "\n",
        "15\n",
        "\n",
        "＃＃＃＃＃＃＃＃＃＃＃＃＃＃＃\n",
        "\n",
        "0"
      ]
    },
    {
      "metadata": {
        "nbpresent": {
          "id": "12f9cc35-c684-4503-8248-21d1586042f4"
        },
        "id": "JtPwiD4kZ_OT",
        "colab_type": "code",
        "colab": {}
      },
      "cell_type": "code",
      "source": [
        ""
      ],
      "execution_count": 0,
      "outputs": []
    },
    {
      "metadata": {
        "nbpresent": {
          "id": "1438e04e-dc87-49fd-8375-62d34a59964f"
        },
        "id": "qy6nCTEpZ_OY",
        "colab_type": "text"
      },
      "cell_type": "markdown",
      "source": [
        "  \n",
        "\n",
        "# 繰り返し文の応用，補助変数・カウント・フラグ\n",
        "\n"
      ]
    },
    {
      "metadata": {
        "nbpresent": {
          "id": "f343add7-e490-48cb-a7b0-1291d0ea306d"
        },
        "id": "YVT8rih2Z_OZ",
        "colab_type": "text"
      },
      "cell_type": "markdown",
      "source": [
        "●例題６－１（補助変数）\n",
        "\n",
        "「数を繰り返し入力し，前回と同じ数が入力されたら終了する」プログラムを，補助変数を使って作ってみましょう．\n",
        "\n",
        "前回入力された数を記録するために，補助変数 $y$ を用意します．そして，ループ内で新たに $x$ に数を入力する前に，$y$ に $x$ を代入して，\n",
        "\n",
        "前回入力された値をyに保存するようにします．数の比較には $x==y$ や $x!=y$ などの表現を用います．\n"
      ]
    },
    {
      "metadata": {
        "nbpresent": {
          "id": "f3373762-b15e-44b6-a806-108ad1ddc3b0"
        },
        "id": "b7vilIGkZ_Oc",
        "colab_type": "code",
        "outputId": "9436e94b-d4f9-4045-a0e3-32fb5db23a2a",
        "colab": {}
      },
      "cell_type": "code",
      "source": [
        "y = int(input(\"x=\"))\n",
        "x = int(input(\"x=\"))\n",
        "while y != x :\n",
        "    y = x\n",
        "    x = input(\"x=\")"
      ],
      "execution_count": 0,
      "outputs": [
        {
          "output_type": "stream",
          "text": [
            "x=2\n",
            "x=1\n",
            "x=3\n",
            "x=4\n",
            "x=4\n"
          ],
          "name": "stdout"
        }
      ]
    },
    {
      "metadata": {
        "collapsed": true,
        "nbpresent": {
          "id": "7d6e989a-80fa-4411-90b4-fe292794904a"
        },
        "id": "BJilv1V2Z_Oh",
        "colab_type": "text"
      },
      "cell_type": "markdown",
      "source": [
        "●例題６－２\n",
        "\n",
        "10個の数を入力して，その中で最大のものを表示する，というプログラムを作りましょう．\n",
        "\n",
        "補助変数 $m$ を準備して，十分に小さな数を代入しておきます．\n",
        "\n",
        "次にfor文による反復の中で，入力した数が $m$ より大きいならば，その数を $m$ に代入します．\n",
        "\n",
        "反復から抜けたときの $m$ の値が最大値になります．\n"
      ]
    },
    {
      "metadata": {
        "nbpresent": {
          "id": "3a1ee7b9-37ae-4e86-b0ce-658bcfcf7efc"
        },
        "id": "M4yspW-3Z_Oi",
        "colab_type": "code",
        "outputId": "155287b1-65f7-4f59-bc5b-6276f288d8e6",
        "colab": {}
      },
      "cell_type": "code",
      "source": [
        "m = -9999\n",
        "for i in range(10) :\n",
        "    j = int(input(\"Please enter an integer:\"))\n",
        "    if m < j :\n",
        "        m=j\n",
        "print (m)"
      ],
      "execution_count": 0,
      "outputs": [
        {
          "output_type": "stream",
          "text": [
            "Please enter an integer:2\n",
            "Please enter an integer:43\n",
            "Please enter an integer:99\n",
            "Please enter an integer:65\n",
            "Please enter an integer:4\n",
            "Please enter an integer:3\n",
            "Please enter an integer:65\n",
            "Please enter an integer:7\n",
            "Please enter an integer:5\n",
            "Please enter an integer:3\n",
            "99\n"
          ],
          "name": "stdout"
        }
      ]
    },
    {
      "metadata": {
        "collapsed": true,
        "nbpresent": {
          "id": "3cfc5633-90b0-4862-a30e-472cc250943e"
        },
        "id": "sWbOWEoRZ_Oq",
        "colab_type": "text"
      },
      "cell_type": "markdown",
      "source": [
        "●例題６－３（カウント）\n",
        "\n",
        "「入力した10個の数の中に10以上のものはいくつあるか」というプログラムを作りましょう．\n",
        "\n",
        "最初に補助変数 c に0を入れておきます．\n",
        "\n",
        "for文による反復（ループ）の中で，10以上の数字が出てきたときに c に1を加えます．\n",
        "\n",
        "ループから出てきたときには，c に10以上の数をカウントした数が入っています．\n"
      ]
    },
    {
      "metadata": {
        "nbpresent": {
          "id": "95cc38cd-7bab-45d3-bfb5-c007198f66aa"
        },
        "id": "bqADCql_Z_Or",
        "colab_type": "code",
        "outputId": "92094db7-7209-4d18-ea5a-c8ca92461808",
        "colab": {}
      },
      "cell_type": "code",
      "source": [
        "c = 0\n",
        "for i in range(10) :\n",
        "    j =  int(input(\"Please enter an integer:\"))\n",
        "    if j >=10 :\n",
        "        c += 1\n",
        "print(c) "
      ],
      "execution_count": 0,
      "outputs": [
        {
          "output_type": "stream",
          "text": [
            "Please enter an integer:2\n",
            "Please enter an integer:4\n",
            "Please enter an integer:5\n",
            "Please enter an integer:6\n",
            "Please enter an integer:4\n",
            "Please enter an integer:43\n",
            "Please enter an integer:5\n",
            "Please enter an integer:4\n",
            "Please enter an integer:34\n",
            "Please enter an integer:54\n",
            "3\n"
          ],
          "name": "stdout"
        }
      ]
    },
    {
      "metadata": {
        "collapsed": true,
        "nbpresent": {
          "id": "f34a507e-0dee-48e7-a166-38adb8b19c86"
        },
        "id": "wvWqMUmIZ_Ov",
        "colab_type": "text"
      },
      "cell_type": "markdown",
      "source": [
        " ●例題６－４（フラグ）\n",
        "\n",
        "「入力した5個の数の中に5があるかどうか」を調べるプログラムを作りましょう．\n",
        "\n",
        "これには，フラグ（旗のこと）とよばれる補助変数を用います．\n",
        "\n",
        "以下のプログラムでは，f をフラグにしています．\n",
        "\n",
        "フラグ f は反復（ループ）に入る前には $0$ に設定されています．これはまだ $5$ が見つかっていないことを表します．\n",
        "\n",
        "ループの中で $5$ が入力されたら，フラグ f は $1$ に変更されます．\n",
        "\n",
        "最後にループを出た後で f が $1$ になっていれば，5があった，f が $0$ のままなら5がなかったことになります．\n"
      ]
    },
    {
      "metadata": {
        "nbpresent": {
          "id": "1f0393c4-9736-4cd1-ab72-c23768b4f9af"
        },
        "id": "N2ohYI4AZ_Ow",
        "colab_type": "code",
        "outputId": "668fa380-d944-4a55-f05f-0f573e358d60",
        "colab": {}
      },
      "cell_type": "code",
      "source": [
        "f = 0\n",
        "for i in range(5) :\n",
        "    j = int(input(\"Please enter an integer:\"))\n",
        "    if j == 5 :\n",
        "        f = 1\n",
        "if f == 1 :\n",
        "    print (\"5があった\") "
      ],
      "execution_count": 0,
      "outputs": [
        {
          "output_type": "stream",
          "text": [
            "Please enter an integer:4\n",
            "Please enter an integer:3\n",
            "Please enter an integer:5\n",
            "Please enter an integer:5\n",
            "Please enter an integer:1\n",
            "5があった\n"
          ],
          "name": "stdout"
        }
      ]
    },
    {
      "metadata": {
        "collapsed": true,
        "nbpresent": {
          "id": "ab19d124-d54e-4391-aa55-e61979a92ab6"
        },
        "id": "iSk68fRZZ_O8",
        "colab_type": "text"
      },
      "cell_type": "markdown",
      "source": [
        "#    \n",
        "\n",
        "\n",
        "■問題６－１\n",
        "\n",
        "(1)　10個の数字を入力する反復の中で，前回入力した数より倍以上大きな数を入力したら終了するようなプログラムを作りなさい．\n",
        "\n",
        "(2)　10個の数字を入力する反復の中で，前回入力した負の数と同じ数を入力したら終了するようにしましょう（1,-1,4,-4,5 と入力した時点では，前回入力した負の数は-4です）．\n",
        "\n",
        "（ヒント：xが負のときだけ，yにxを代入しましょう．）\n",
        "\n",
        "(3)　2回前に入力した数と同じ数を入力したら終了するようにしましょう．\n"
      ]
    },
    {
      "metadata": {
        "nbpresent": {
          "id": "6800c109-d35f-4081-8104-1ca785cb2359"
        },
        "id": "shrW1KFEZ_O9",
        "colab_type": "code",
        "colab": {}
      },
      "cell_type": "code",
      "source": [
        ""
      ],
      "execution_count": 0,
      "outputs": []
    },
    {
      "metadata": {
        "nbpresent": {
          "id": "eb18522c-4d3b-4e42-a12e-06cff0aec12e"
        },
        "id": "cpNNAyTSZ_PD",
        "colab_type": "text"
      },
      "cell_type": "markdown",
      "source": [
        "■問題６－２\n",
        "\n",
        "(1)　「入力した5個の数の最小」を表示するプログラムを作りなさい．\n",
        "\n",
        "(2)　入力した5個の数の中で「10以下の数の中での最大」を表示するようなプログラムを作りなさい．ただし，10以下の数は必ず1つは入力される，とみなして良いとします．\n"
      ]
    },
    {
      "metadata": {
        "nbpresent": {
          "id": "ac98c3b2-23c2-4f6d-8be9-41f137c4c779"
        },
        "id": "C9EtdQNNZ_PJ",
        "colab_type": "code",
        "colab": {}
      },
      "cell_type": "code",
      "source": [
        ""
      ],
      "execution_count": 0,
      "outputs": []
    },
    {
      "metadata": {
        "nbpresent": {
          "id": "683254d7-fe71-43dd-97a2-57255899e2a6"
        },
        "id": "wFuGjFsiZ_PM",
        "colab_type": "text"
      },
      "cell_type": "markdown",
      "source": [
        "■問題６－３\n",
        "\n",
        "キーボードから5個の数字を入力し，\n",
        "\n",
        "(1)　負の数がいくつ入力されたかを表示するプログラムを作りなさい．\n",
        "\n",
        "(2)　偶数がいくつ入力されたかを表示するプログラムを作りなさい．\n"
      ]
    },
    {
      "metadata": {
        "nbpresent": {
          "id": "cdbf9d2f-97ff-4abc-ad99-a0017b50d708"
        },
        "id": "1EzLXfZ8Z_PQ",
        "colab_type": "code",
        "colab": {}
      },
      "cell_type": "code",
      "source": [
        ""
      ],
      "execution_count": 0,
      "outputs": []
    },
    {
      "metadata": {
        "nbpresent": {
          "id": "4056215c-c29f-4860-bf0d-879fd4ae8516"
        },
        "id": "QV_1jPx-Z_PS",
        "colab_type": "text"
      },
      "cell_type": "markdown",
      "source": [
        "■問題６－４\n",
        "\n",
        "(1)　キーボードから入力した5個の整数の中に1がなければ\"1がありません\"と表示するようにしましょう．\n",
        "\n",
        "(2)　入力した5個の数の中に負の数があるかどうかを表示するようにしましょう．\n"
      ]
    },
    {
      "metadata": {
        "nbpresent": {
          "id": "e74eed6e-31f3-41ee-a600-4209f5630a7c"
        },
        "id": "vW4ujXQYZ_PT",
        "colab_type": "code",
        "colab": {}
      },
      "cell_type": "code",
      "source": [
        ""
      ],
      "execution_count": 0,
      "outputs": []
    },
    {
      "metadata": {
        "nbpresent": {
          "id": "1817909f-e61d-499c-b871-91c21028d9dd"
        },
        "id": "Sbyq64N4Z_PW",
        "colab_type": "text"
      },
      "cell_type": "markdown",
      "source": [
        "\n",
        "■問題６－５\n",
        "\n",
        "数を5個入力してその合計を表示するプログラムを作りなさい．\n"
      ]
    },
    {
      "metadata": {
        "nbpresent": {
          "id": "f44cfa6a-f767-44b4-b9b6-335b4ed3e09b"
        },
        "id": "ZsVulOGJZ_PW",
        "colab_type": "code",
        "colab": {}
      },
      "cell_type": "code",
      "source": [
        ""
      ],
      "execution_count": 0,
      "outputs": []
    },
    {
      "metadata": {
        "nbpresent": {
          "id": "8e5bee16-8434-4ea4-a2ec-213fed94a1c2"
        },
        "id": "JjG-Ed4aZ_PZ",
        "colab_type": "text"
      },
      "cell_type": "markdown",
      "source": [
        "\n",
        "■問題６－６\n",
        "\n",
        "足し算だけの電卓を作りなさい．数を入力し，今まで入力した数の合計を表示する，という作業を繰り返すプログラムです．\n",
        "\n",
        "さらに，0 を入力したときは終了するようにしなさい．\n",
        "\n",
        "例えば，10,20,63,0 と入力すると，このように表示されます．\n",
        "\n",
        "「10 30 93 」\n"
      ]
    },
    {
      "metadata": {
        "nbpresent": {
          "id": "7107d807-2a64-4b99-9e9e-78635f3e9747"
        },
        "id": "cvaWb7LhZ_PZ",
        "colab_type": "code",
        "colab": {}
      },
      "cell_type": "code",
      "source": [
        ""
      ],
      "execution_count": 0,
      "outputs": []
    },
    {
      "metadata": {
        "nbpresent": {
          "id": "1b593979-3ad8-440e-bd2a-87fbe41a3ece"
        },
        "id": "rxKBKulIZ_Pc",
        "colab_type": "text"
      },
      "cell_type": "markdown",
      "source": [
        "\n",
        "■問題６－７\n",
        "\n",
        "入力した5個の0か1の数の中に1と0，どちらが多いかを判定するプログラムを作りなさい．\n"
      ]
    },
    {
      "metadata": {
        "nbpresent": {
          "id": "7eb971b3-5886-4a98-9c81-5c0706674bfc"
        },
        "id": "Lnb38NdFZ_Pd",
        "colab_type": "code",
        "colab": {}
      },
      "cell_type": "code",
      "source": [
        ""
      ],
      "execution_count": 0,
      "outputs": []
    },
    {
      "metadata": {
        "nbpresent": {
          "id": "74cf6ea6-7dfb-4229-aad3-b93fef0080bb"
        },
        "id": "4RFveXZaZ_Pe",
        "colab_type": "text"
      },
      "cell_type": "markdown",
      "source": [
        "\n",
        "■問題６－８\n",
        "\n",
        "入力した数が素数かどうかを判定するプログラムを作りなさい．\n",
        "\n",
        "(ヒント：ある数 $x$ が素数ならば，$2$ 以上 $x$ 未満の数で，$x$ を割り切るものがありません．\n",
        "\n",
        "そこで，$2$ から $x-1$ までのループを作り，それぞれで $x$ を割った余りが $0$ になるかどうか判定し，$0$ になったらフラグ変数にそのことを記録しましょう)\n",
        "\n"
      ]
    },
    {
      "metadata": {
        "nbpresent": {
          "id": "da50aa6e-103e-43bf-b480-c6f1ada90e67"
        },
        "id": "cu5J9mqCZ_Pg",
        "colab_type": "code",
        "colab": {}
      },
      "cell_type": "code",
      "source": [
        ""
      ],
      "execution_count": 0,
      "outputs": []
    },
    {
      "metadata": {
        "nbpresent": {
          "id": "f9846560-632a-414d-8497-5d65a145cb4f"
        },
        "id": "7W0zcvyTZ_Pk",
        "colab_type": "text"
      },
      "cell_type": "markdown",
      "source": [
        "\n",
        "■問題６－９\n",
        "\n",
        "問題６－８のプログラムを使って，1 から入力した数 $n$ までの素数を表示するプログラムを作りなさい．"
      ]
    },
    {
      "metadata": {
        "nbpresent": {
          "id": "157d0006-cbfe-47a9-b940-7a932069bc92"
        },
        "id": "oCglk0GhZ_Pm",
        "colab_type": "code",
        "colab": {}
      },
      "cell_type": "code",
      "source": [
        ""
      ],
      "execution_count": 0,
      "outputs": []
    },
    {
      "metadata": {
        "nbpresent": {
          "id": "8371d680-e9f4-4f96-a516-9f7d47c24225"
        },
        "id": "wU_6ZC1cZ_Po",
        "colab_type": "text"
      },
      "cell_type": "markdown",
      "source": [
        "\n",
        "■問題６－１０\n",
        "\n",
        "5個の数を入力し，「前回と同じ数を入力した回数」を勘定するプログラムを作りなさい．例えば，2,2,4,4,4と入力すると，3回と表示します．\n"
      ]
    },
    {
      "metadata": {
        "nbpresent": {
          "id": "7f29f384-7016-4aaf-bd32-d64933910c24"
        },
        "id": "ekJbPnzZZ_Pp",
        "colab_type": "code",
        "colab": {}
      },
      "cell_type": "code",
      "source": [
        ""
      ],
      "execution_count": 0,
      "outputs": []
    }
  ]
}