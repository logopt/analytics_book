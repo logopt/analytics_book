{
 "cells": [
  {
   "cell_type": "markdown",
   "metadata": {
    "slideshow": {
     "slide_type": "slide"
    }
   },
   "source": [
    "## PuLPとGurobi/Pythonによる線形最適化問題のモデリング\n",
    "\n",
    "\n",
    "久保幹雄　(東京海洋大学）\n",
    "\n",
    "* 線形最適化ラッパー mypulp\n",
    "* 例題と双対最適解\n",
    "* 輸送問題，多品種輸送問題\n",
    "* 栄養問題\n",
    "* 定式化のコツ\n",
    "* Gurobiのパラメータ\n",
    "* ベンチマーク比較\n",
    "\n"
   ]
  },
  {
   "cell_type": "markdown",
   "metadata": {
    "slideshow": {
     "slide_type": "slide"
    }
   },
   "source": [
    "### 線形最適化ソルバー(モデラー）\n",
    "-----------\n",
    "\n",
    "\n",
    "* ### Gurobi（商用，アカデミックフリー）のソルバー\n",
    "  * 独自のPythonインターフェイス（「あたらしい数理最適化」（近代科学社）で採用）\n",
    " * 凸2次（制約）整数，2次錐最適化\n",
    "* ### PuLP （MITライセンス）のモデラー\n",
    "  * メインソルバーはCBC(COIN Branch & Cut; EPLライセンス），その他様々なソルバーと連携(MPSフォーマット経由）\n",
    "\n",
    "\n"
   ]
  },
  {
   "cell_type": "markdown",
   "metadata": {
    "slideshow": {
     "slide_type": "slide"
    }
   },
   "source": [
    "\n",
    "### 共通Model $\\Rightarrow$ Wrapper $\\Rightarrow$ Modeler  $\\Rightarrow$ Solver\n",
    "\n",
    " <div align=\"center\">\n",
    "<img src=\"wrapper.jpg\" alt=\"Drawing\" style=\"width: 700px;\"/>\n",
    "\n",
    "\n",
    "\n"
   ]
  },
  {
   "cell_type": "markdown",
   "metadata": {},
   "source": [
    "     \n"
   ]
  },
  {
   "cell_type": "markdown",
   "metadata": {},
   "source": [
    "     "
   ]
  },
  {
   "cell_type": "markdown",
   "metadata": {
    "slideshow": {
     "slide_type": "slide"
    }
   },
   "source": [
    "## 例題　\n",
    "\n",
    "* トンコケ，コケトン，ミックスの丼を販売\n",
    "* 資源制約の下で，利益を最大化\n",
    "\n",
    " <div align=\"center\">\n",
    "<img src=\"LP.jpg\" alt=\"Drawing\" style=\"width: 600px;\"/>\n"
   ]
  },
  {
   "cell_type": "markdown",
   "metadata": {},
   "source": [
    "\n",
    "\n"
   ]
  },
  {
   "cell_type": "markdown",
   "metadata": {
    "slideshow": {
     "slide_type": "slide"
    }
   },
   "source": [
    "変数\n",
    "\n",
    "* トンコケ丼 $x_1$，コケトン丼 $x_2$，ミックス丼 $x_3$\n",
    "\n",
    "* 定式化\n",
    "\n",
    "\\begin{array}{l c c c c c}\n",
    " \\mbox{maximize} & 15 x_1  & + 18 x_2 & +30 x_3 &      & \\\\\n",
    " \\mbox{subject to}   & 2x_1   & + x_2   & + x_3   & \\leq & 60 \\\\\n",
    "               &  x_1   & + 2 x_2 & + x_3  &\\leq  & 60 \\\\\n",
    "               &        &         &   x_3  &\\leq  & 30 \\\\\n",
    "               &        &         & x_1,x_2,x_3 & \\geq & 0 \n",
    " \\end{array}"
   ]
  },
  {
   "cell_type": "code",
   "execution_count": 18,
   "metadata": {
    "slideshow": {
     "slide_type": "slide"
    }
   },
   "outputs": [
    {
     "name": "stdout",
     "output_type": "stream",
     "text": [
      "Opt. Value= 1230.0\n",
      "x1 10.0\n",
      "x2 10.0\n",
      "x3 30.0\n"
     ]
    }
   ],
   "source": [
    "#from gurobipy import *\n",
    "from mypulp import *\n",
    "model = Model('lo1')\n",
    "\n",
    "x1 = model.addVar(name='x1')\n",
    "x2 = model.addVar(name='x2')\n",
    "x3 = model.addVar(ub=30.0, name='x3')\n",
    "\n",
    "model.update() #Gurobiの怠惰な更新(lazy update)という仕様（忘れずに！）\n",
    "    \n",
    "model.addConstr(2*x1 + x2 + x3 <= 60)\n",
    "# 別の定義方法 1\n",
    "#L1 = LinExpr([2,1,1],[x1,x2,x3]) #線形表現(式）\n",
    "# 別の定義方法 2\n",
    "#L1 = LinExpr()     #線形表現(式）\n",
    "#L1.addTerms(2,x1)  #項を追加\n",
    "#L1.addTerms(1,x2)\n",
    "#L1.addTerms(1,x3)\n",
    "#model.addConstr(lhs=L1,sense='<',rhs=60)  #制約を追加\n",
    "\n",
    "model.addConstr(x1 + 2*x2 + x3 <= 60)\n",
    "\n",
    "model.setObjective(15*x1 + 18*x2 + 30*x3, GRB.MAXIMIZE)\n",
    "\n",
    "model.optimize()\n",
    "\n",
    "if model.Status == GRB.Status.OPTIMAL:\n",
    "    print('Opt. Value=',model.ObjVal)\n",
    "    for v in model.getVars():\n",
    "        print(v.VarName,v.X)"
   ]
  },
  {
   "cell_type": "markdown",
   "metadata": {
    "slideshow": {
     "slide_type": "slide"
    }
   },
   "source": [
    "## 基本クラスと主要メソッド\n",
    "\n",
    " <div align=\"center\">\n",
    "<img src=\"solver.jpg\" alt=\"Drawing\" style=\"width: 500px;\"/>\n"
   ]
  },
  {
   "cell_type": "markdown",
   "metadata": {},
   "source": [
    "      "
   ]
  },
  {
   "cell_type": "markdown",
   "metadata": {
    "slideshow": {
     "slide_type": "slide"
    }
   },
   "source": [
    "### モデルファイルの出力\n",
    "------------\n",
    "* model.write('ファイル名.lp')で **LPフォーマット**(Linear Programming (LP) format)で保存\n",
    "\n",
    "* model.write('ファイル名.mps')で**MPSフォーマット** (Mathematical Programming System (MPS) format) で保存\n",
    "  * 可読性はないが，ほとんどの最適化ソルバーが対応している古典的な書式\n",
    "  \n",
    "* 注意：Gurobiの場合にはmodel.update()を直前にするのを忘れずに\n",
    "\n",
    "* PuLPだと print(model) でも画面にLPフォーマットを出力\n"
   ]
  },
  {
   "cell_type": "code",
   "execution_count": 2,
   "metadata": {
    "slideshow": {
     "slide_type": "slide"
    }
   },
   "outputs": [
    {
     "name": "stdout",
     "output_type": "stream",
     "text": [
      "lo1:\n",
      "MAXIMIZE\n",
      "15*x1 + 18*x2 + 30*x3 + 0\n",
      "SUBJECT TO\n",
      "c_1: 2 x1 + x2 + x3 <= 60\n",
      "\n",
      "c_2: x1 + 2 x2 + x3 <= 60\n",
      "\n",
      "VARIABLES\n",
      "x1 <= 1e+100 Continuous\n",
      "x2 <= 1e+100 Continuous\n",
      "x3 <= 30 Continuous\n",
      "\n",
      "MPS file =========================\n",
      "*SENSE:Maximize\n",
      "NAME          lo1\n",
      "ROWS\n",
      " N  OBJ\n",
      " L  c_1\n",
      " L  c_2\n",
      "COLUMNS\n",
      "    x1        c_1        2.000000000000e+00\n",
      "    x1        c_2        1.000000000000e+00\n",
      "    x1        OBJ        1.500000000000e+01\n",
      "    x2        c_1        1.000000000000e+00\n",
      "    x2        c_2        2.000000000000e+00\n",
      "    x2        OBJ        1.800000000000e+01\n",
      "    x3        c_1        1.000000000000e+00\n",
      "    x3        c_2        1.000000000000e+00\n",
      "    x3        OBJ        3.000000000000e+01\n",
      "RHS\n",
      "    RHS       c_1        6.000000000000e+01\n",
      "    RHS       c_2        6.000000000000e+01\n",
      "BOUNDS\n",
      " UP BND       x1         1.000000000000e+100\n",
      " UP BND       x2         1.000000000000e+100\n",
      " UP BND       x3         3.000000000000e+01\n",
      "ENDATA\n"
     ]
    }
   ],
   "source": [
    "model.write('lo1.lp')\n",
    "print(model)\n",
    "model.write('lo1.mps')\n",
    "print('MPS file =========================')\n",
    "!type lo1.mps"
   ]
  },
  {
   "cell_type": "markdown",
   "metadata": {},
   "source": [
    "\n"
   ]
  },
  {
   "cell_type": "markdown",
   "metadata": {
    "slideshow": {
     "slide_type": "slide"
    }
   },
   "source": [
    "## 双対問題\n",
    "-----------\n",
    "\n",
    "### 資源（豚肉，鶏肉，牛肉）100グラムの価値を推定\n",
    "\n",
    "主問題\n",
    "------------\n",
    "\n",
    "\\begin{array}{l c c c c c}\n",
    " \\mbox{maximize} & 15 x_1  & + 18 x_2 & +30 x_3 &      & \\\\\n",
    " \\mbox{subject to}   & 2x_1   & + x_2   & + x_3   & \\leq & 60 \\\\\n",
    "               &  x_1   & + 2 x_2 & + x_3  &\\leq  & 60 \\\\\n",
    "               &        &         &   x_3  &\\leq  & 30 \\\\\n",
    "               &        &         &x_1,x_2,x_3  & \\geq & 0 \n",
    " \\end{array}\n",
    "\n"
   ]
  },
  {
   "cell_type": "markdown",
   "metadata": {
    "slideshow": {
     "slide_type": "slide"
    }
   },
   "source": [
    "双対問題\n",
    "--------------\n",
    "\n",
    "\\begin{array}{l c c c c c}\n",
    " \\mbox{minimize} & 60 \\pi_1 & + 60 \\pi_2& +30 \\pi_3 &      & \\\\\n",
    " \\mbox{subject to}   & 2\\pi_1   & + \\pi_2   &         & \\geq & 15 \\\\\n",
    "               &  \\pi_1   & + 2\\pi_2  &         &\\geq  & 18 \\\\\n",
    "               &  \\pi_1   & +\\pi_2    &  +\\pi_3   &\\geq  & 30 \\\\\n",
    "               &          &           & \\pi_1,\\pi_2,\\pi_3  & \\geq & 0 \n",
    " \\end{array}\n",
    " \n",
    "最適双対変数は 4, 7, 19 \n",
    "\n",
    "豚肉は百グラム$400$ 円，鶏肉は百グラム $700$ 円， 牛肉は百グラム\n",
    "$1900$ 円の価値をもつ"
   ]
  },
  {
   "cell_type": "code",
   "execution_count": 3,
   "metadata": {
    "slideshow": {
     "slide_type": "slide"
    }
   },
   "outputs": [
    {
     "name": "stdout",
     "output_type": "stream",
     "text": [
      "c_1 4.0\n",
      "c_2 7.0\n"
     ]
    }
   ],
   "source": [
    "for c in model.getConstrs():\n",
    "    print( c.ConstrName, c.Pi )"
   ]
  },
  {
   "cell_type": "markdown",
   "metadata": {
    "slideshow": {
     "slide_type": "slide"
    }
   },
   "source": [
    "## 輸送問題\n",
    "---------------\n",
    "\n",
    "**quicksum**と**multidict**を用いた一般的な記述法\n",
    "\n",
    "|顧客 $i$ | 1  |  2  | 3  | 4 | 5 | \n",
    "|--:|----:|----:|---:|---:|---:|\n",
    "|需要量 $d_i$  |80 | 270 | 250 | 160 | 180 |   \n",
    "|工場 $j$|  輸送費用 | $c_{ij}$ |   |  |   | 容量 $M_j$  |\n",
    "|1      | 4 | 5 | 6 | 8 | 10 |  500 |\n",
    "|2      | 6  |4 | 3 | 5 | 8 |  500 |\n",
    "|3      | 9  | 7 | 4 | 3 | 4 |  500 |\n",
    "\n",
    "\n"
   ]
  },
  {
   "cell_type": "markdown",
   "metadata": {
    "slideshow": {
     "slide_type": "slide"
    }
   },
   "source": [
    "$x_{ij}= \\mbox{工場 $j$ から顧客 $i$ に輸送される量} $\n",
    "\n",
    "定式化\n",
    "\n",
    "\\begin{array}{l l l} \n",
    "\\nonumber\n",
    " \\mbox{ minimize } & \\displaystyle\\sum_{i \\in I} \\displaystyle\\sum_{j \\in J} c_{ij} x_{ij}  &     \\\\\n",
    " \\mbox{ subject to   } &\n",
    "\\nonumber\n",
    " \\displaystyle\\sum_{j \\in J} x_{ij} =d_i &  \\forall  i \\in I  \\\\\n",
    "\\nonumber\n",
    "   & \\displaystyle\\sum_{i \\in I} x_{ij} \\leq M_j &  \\forall  j \\in J \\\\   \n",
    "\\nonumber\n",
    "                 & x_{ij} \\geq 0 & \\forall  i \\in I; j \\in J  \n",
    "\\end{array}"
   ]
  },
  {
   "cell_type": "code",
   "execution_count": 4,
   "metadata": {
    "slideshow": {
     "slide_type": "slide"
    }
   },
   "outputs": [
    {
     "name": "stdout",
     "output_type": "stream",
     "text": [
      "['Taro', 'Simon', 'Hanako']\n",
      "{'Taro': 145, 'Simon': 150, 'Hanako': 138}\n",
      "{'Taro': 30, 'Simon': 45, 'Hanako': 34}\n"
     ]
    }
   ],
   "source": [
    "# multidict の使用法\n",
    "from mypulp import *\n",
    "name, height, weight=multidict({'Taro':[145,30],'Hanako':[138,34],'Simon':[150,45]})\n",
    "print(name)\n",
    "print(height)\n",
    "print(weight)"
   ]
  },
  {
   "cell_type": "code",
   "execution_count": 5,
   "metadata": {
    "slideshow": {
     "slide_type": "slide"
    }
   },
   "outputs": [
    {
     "name": "stdout",
     "output_type": "stream",
     "text": [
      "5*x_1 + 4*x_2 + 2*x_3\n"
     ]
    }
   ],
   "source": [
    "# quicksum の使用法\n",
    "from mypulp import *\n",
    "model=Model()\n",
    "a=[5,4,2]\n",
    "x=[model.addVar() for i in range(3)]\n",
    "L = quicksum(a[i]*x[i] for i in range(3))\n",
    "print(L)"
   ]
  },
  {
   "cell_type": "code",
   "execution_count": 6,
   "metadata": {
    "slideshow": {
     "slide_type": "slide"
    }
   },
   "outputs": [
    {
     "name": "stdout",
     "output_type": "stream",
     "text": [
      "Optimal value: 3370.0\n",
      "230.0 from factory  2 to customer  3\n",
      " 20.0 from factory  3 to customer  3\n",
      "160.0 from factory  3 to customer  4\n",
      "270.0 from factory  2 to customer  2\n",
      " 80.0 from factory  1 to customer  1\n",
      "180.0 from factory  3 to customer  5\n",
      "    Const. Name:    Slack , Dual\n",
      "      Demand(1):     -0.0 ,  4.0\n",
      "      Demand(2):     -0.0 ,  5.0\n",
      "      Demand(3):     -0.0 ,  4.0\n",
      "      Demand(4):     -0.0 ,  3.0\n",
      "      Demand(5):     -0.0 ,  4.0\n",
      "    Capacity(1):    420.0 ,  0.0\n",
      "    Capacity(2):     -0.0 , -1.0\n",
      "    Capacity(3):    140.0 ,  0.0\n"
     ]
    }
   ],
   "source": [
    "#from gurobipy import *\n",
    "from mypulp import *\n",
    "I,d = multidict({1:80, 2:270, 3:250 , 4:160, 5:180}) # demand\n",
    "J,M = multidict({1:500, 2:500, 3:500})               # capacity\n",
    "c = {(1,1):4,    (1,2):6,    (1,3):9,  # cost\n",
    "     (2,1):5,    (2,2):4,    (2,3):7,\n",
    "     (3,1):6,    (3,2):3,    (3,3):4,\n",
    "     (4,1):8,    (4,2):5,    (4,3):3,\n",
    "     (5,1):10,   (5,2):8,    (5,3):4,\n",
    "     }\n",
    "\n",
    "model = Model('transportation')\n",
    "x = {}\n",
    "for i in I:\n",
    "    for j in J:\n",
    "        x[i,j] = model.addVar(vtype='C', name='x({0},{1})'.format(i,j))\n",
    "model.update()\n",
    "\n",
    "for i in I:\n",
    "    model.addConstr(quicksum(x[i,j] for j in J if (i,j) in x) == d[i],\n",
    "                    name='Demand({0})'.format(i))\n",
    "for j in J:\n",
    "    model.addConstr(quicksum(x[i,j] for i in I if (i,j) in x) <= M[j], \n",
    "                    name='Capacity({0})'.format(j))\n",
    "model.setObjective(quicksum(c[i,j]*x[i,j]  for (i,j) in x), GRB.MINIMIZE)\n",
    "\n",
    "model.optimize()\n",
    "print( 'Optimal value:', model.ObjVal)\n",
    "\n",
    "EPS = 1.e-6\n",
    "for (i,j) in x:\n",
    "    if x[i,j].X > EPS:\n",
    "        print('{0:>5} from factory {1:>2} to customer {2:>2}'.format(x[i,j].X,j,i) )\n",
    "        \n",
    "print ('{0:>15}: {1:>8} , {2:>4}'.format('Const. Name', 'Slack', 'Dual'))\n",
    "for c in model.getConstrs():\n",
    "    print ('{0:>15}: {1:>8} , {2:>4}'.format(c.ConstrName,c.Slack,c.Pi))"
   ]
  },
  {
   "cell_type": "markdown",
   "metadata": {
    "slideshow": {
     "slide_type": "slide"
    }
   },
   "source": [
    "## 多品種輸送問題\n",
    "---------------\n",
    " 疎な問題の扱い方と ** tuplelist **\n",
    "\n",
    "$\n",
    "  x_{ijk}= \\mbox{工場 $j$ から顧客 $i$ に製品 $k$ が輸送される量}\n",
    "$\n",
    "\n",
    " 工場1では製品2,4を，工場2では製品1,2,3を，工場3では製品2,3,4を製造可能\n",
    "\n",
    "`produce = {1:[2,4], 2:[1,2,3], 3:[2,3,4]}`  \n"
   ]
  },
  {
   "cell_type": "markdown",
   "metadata": {
    "slideshow": {
     "slide_type": "slide"
    }
   },
   "source": [
    "定式化\n",
    "\n",
    "\\begin{array}{l l l} \n",
    "\\nonumber\n",
    " \\mbox{ minimize } & \\displaystyle\\sum_{i \\in I} \\displaystyle\\sum_{j \\in J} \n",
    " \\displaystyle\\sum_{k \\in K} c_{ijk} x_{ijk}  &     \\\\\n",
    " \\mbox{ subject to   } &\n",
    "\\nonumber\n",
    " \\displaystyle\\sum_{j \\in J} x_{ijk} =d_{ik} &  \\forall  i \\in I; k \\in K  \\\\\n",
    "\\nonumber\n",
    "   & \\displaystyle\\sum_{i \\in I} \\displaystyle\\sum_{k \\in K} x_{ijk} \\leq M_j &  \\forall  j \\in J  \\\\   \n",
    "\\nonumber\n",
    "                 & x_{ijk} \\geq 0 & \\forall  i \\in I; j \\in J; k \\in K  \n",
    "\\end{array}"
   ]
  },
  {
   "cell_type": "code",
   "execution_count": 7,
   "metadata": {
    "slideshow": {
     "slide_type": "slide"
    }
   },
   "outputs": [
    {
     "name": "stdout",
     "output_type": "stream",
     "text": [
      "[('Sara', 'Apple'), ('Simon', 'Apple')]\n"
     ]
    }
   ],
   "source": [
    "# tuplelist の使用法\n",
    "from mypulp import *\n",
    "T = tuplelist([('Sara','Apple'),('Taro','Pear'),('Jiro','Orange'),('Simon','Apple')])\n",
    "print( T.select('*','Apple') )               "
   ]
  },
  {
   "cell_type": "code",
   "execution_count": 8,
   "metadata": {
    "slideshow": {
     "slide_type": "slide"
    }
   },
   "outputs": [
    {
     "name": "stdout",
     "output_type": "stream",
     "text": [
      "Optimal value: 43536.0\n",
      "  3.0s units  4 from  3 to  4\n",
      " 80.0s units  1 from  2 to  1\n",
      "250.0s units  1 from  2 to  3\n",
      "  7.0s units  4 from  1 to  2\n",
      " 60.0s units  2 from  3 to  4\n",
      "300.0s units  3 from  2 to  1\n",
      "150.0s units  3 from  3 to  5\n",
      "200.0s units  3 from  3 to  4\n",
      " 40.0s units  2 from  3 to  5\n",
      "400.0s units  3 from  2 to  2\n",
      "160.0s units  2 from  2 to  2\n",
      "270.0s units  1 from  2 to  2\n",
      "130.0s units  2 from  2 to  3\n",
      "160.0s units  1 from  2 to  4\n",
      " 85.0s units  2 from  1 to  1\n",
      "  5.0s units  4 from  3 to  5\n",
      "  4.0s units  4 from  3 to  3\n",
      "350.0s units  3 from  2 to  3\n",
      "  6.0s units  4 from  1 to  1\n",
      "180.0s units  1 from  2 to  5\n"
     ]
    }
   ],
   "source": [
    "from mypulp import *\n",
    "d = {(1,1):80,   (1,2):85,   (1,3):300,  (1,4):6,\n",
    "     (2,1):270,  (2,2):160,  (2,3):400,  (2,4):7,\n",
    "     (3,1):250,  (3,2):130,  (3,3):350,  (3,4):4,\n",
    "     (4,1):160,  (4,2):60,   (4,3):200,  (4,4):3,\n",
    "     (5,1):180,  (5,2):40,   (5,3):150,  (5,4):5\n",
    "     }\n",
    "\n",
    "I = set([i for (i,k) in d])\n",
    "K = set([k for (i,k) in d])\n",
    "J,M = multidict({1:3000, 2:3000, 3:3000})  # capacity\n",
    "produce = {1:[2,4], 2:[1,2,3], 3:[2,3,4]}  # products that can be produced in each facility\n",
    "weight = {1:5, 2:2, 3:3, 4:4}              # {commodity: weight<float>}\n",
    "\n",
    "cost = {(1,1):4,  (1,2):6, (1,3):9,        # {(customer,factory): cost<float>}\n",
    "        (2,1):5,  (2,2):4, (2,3):7,\n",
    "        (3,1):6,  (3,2):3, (3,3):4,\n",
    "        (4,1):8,  (4,2):5, (4,3):3,\n",
    "        (5,1):10, (5,2):8, (5,3):4\n",
    "        }\n",
    "\n",
    "c = {}\n",
    "for i in I:\n",
    "    for j in J:\n",
    "        for k in produce[j]:\n",
    "            c[i,j,k] = cost[i,j] * weight[k]            \n",
    "model = Model('multi-commodity transportation')\n",
    "\n",
    "x = {}\n",
    "for (i,j,k) in c:\n",
    "    x[i,j,k] = model.addVar(vtype='C', name='x({0},{1},{2})'.format(i,j,k))\n",
    "model.update()\n",
    "arcs = tuplelist([(i,j,k) for (i,j,k) in x])\n",
    "for i in I:\n",
    "    for k in K:\n",
    "        model.addConstr(quicksum(x[i,j,k] for (i,j,k) in arcs.select(i,'*',k)) == d[i,k],\n",
    "                        'Demand({0},{1})'.format(i,k))\n",
    "for j in J:\n",
    "    model.addConstr(quicksum(x[i,j,k] for (i,j,k) in arcs.select('*',j,'*')) <= M[j],\n",
    "                    'Capacity({0})'.format(j))\n",
    "\n",
    "model.setObjective(quicksum(c[i,j,k]*x[i,j,k]  for (i,j,k) in x), GRB.MINIMIZE)\n",
    "model.optimize()\n",
    "print ('Optimal value:',model.ObjVal)\n",
    "\n",
    "EPS = 1.e-6\n",
    "for (i,j,k) in x:\n",
    "    if x[i,j,k].X > EPS:\n",
    "        print ('{0:>5}s units {1:>2} from {2:>2} to {3:>2}'.format(x[i,j,k].X,k,j,i))"
   ]
  },
  {
   "cell_type": "markdown",
   "metadata": {
    "slideshow": {
     "slide_type": "slide"
    }
   },
   "source": [
    "### 栄養問題（実行不可能性の取り扱い）\n",
    "----------------\n",
    "\n",
    "|栄養素 $N$ | Cal | Carbo | Protein | VitA | VitC | Calc | Iron |価格　|\n",
    "|--:|----:|----:|---:|---:|---:|---:|---:|---:|\n",
    "|商品名 $F$ | |  | $n_{ij}$  |  |  | |  |$c_j$　\n",
    "| CQPounder | 556| 39| 30| 147| 10| 221| 2.4| 360|\n",
    "|Big M | 556| 46| 26| 97 | 9 | 142| 2.4| 320|\n",
    "|FFilet | 356| 42| 14| 28 | 1 | 76 | 0.7| 270|\n",
    "|Chicken | 431| 45| 20| 9 | 2 | 37 | 0.9| 290|\n",
    "|Fries| 249| 30| 3 | 0 | 5 | 7 | 0.6| 190|\n",
    "|Milk | 138| 10| 7 | 80 | 2 | 227| 0 | 170|\n",
    "|VegJuice | 69 | 17| 1 | 750| 2 | 18 | 0 | 100|\n",
    "|上限 $a_i$ | 3000| 375| 60| 750| 100| 900| 7.5|\n",
    "|下限 $b_i$ | 2000| 300| 50| 500| 85| 660| 6.0|\n",
    "\n",
    "\n"
   ]
  },
  {
   "cell_type": "markdown",
   "metadata": {
    "slideshow": {
     "slide_type": "slide"
    }
   },
   "source": [
    "定式化 \n",
    "\n",
    "$x_j$ は商品 $j$ の購入量(実数）\n",
    "\n",
    "\\begin{array}{l l l}\n",
    "   \\mbox{minimize}    & \\displaystyle\\sum_{j \\in F} c_j x_j          &  \\\\\n",
    "   \\mbox{subject to}  & a_i \\leq \\displaystyle\\sum_{j \\in F} n_{ij} x_j \\leq b_i &  i \\in N    \\\\\n",
    "                      & x_j \\geq 0  &     j \\in F\n",
    "\\end{array}\n",
    "\n",
    "$d_i$: 不足変数\n",
    "\n",
    "$s_i$: 超過変数\n"
   ]
  },
  {
   "cell_type": "markdown",
   "metadata": {},
   "source": [
    "     "
   ]
  },
  {
   "cell_type": "markdown",
   "metadata": {
    "slideshow": {
     "slide_type": "slide"
    }
   },
   "source": [
    "\n",
    "改良した制約\n",
    "\n",
    "$$a_i - d_i \\leq \\displaystyle\\sum_{j \\in F} n_{ij} x_j \\leq b_i +s_i  \\ \\   i \\in N$$\n",
    "\n",
    "変更した目的関数（Mは大きな数）\n",
    "\n",
    "\\begin{array}{l l l}\n",
    "   \\mbox{minimize}    & \\displaystyle\\sum_{j \\in F} c_j x_j  + \\displaystyle\\sum_{i \\in N} M (d_i+s_i)  &  \n",
    "\\end{array}"
   ]
  },
  {
   "cell_type": "code",
   "execution_count": 39,
   "metadata": {
    "slideshow": {
     "slide_type": "slide"
    }
   },
   "outputs": [
    {
     "name": "stdout",
     "output_type": "stream",
     "text": [
      "Optimal value: None\n",
      "deficit of Cal =2000.0\n",
      "deficit of Calc =660.0\n",
      "deficit of VitC =85.0\n",
      "deficit of Iron =6.0\n",
      "deficit of VitA =500.0\n",
      "deficit of Carbo =300.0\n",
      "deficit of Protein =50.0\n"
     ]
    }
   ],
   "source": [
    "F, c, n = multidict({      \n",
    "    'CQPounder':  [ 360, {'Cal':556, 'Carbo':39, 'Protein':30, 'VitA':147,\n",
    "                          'VitC': 10, 'Calc':221, 'Iron':2.4}], \n",
    "    'Big M'    :  [ 320, {'Cal':556, 'Carbo':46, 'Protein':26, 'VitA':97,\n",
    "                          'VitC':  9, 'Calc':142, 'Iron':2.4}], \n",
    "    'FFilet'   :  [ 270, {'Cal':356, 'Carbo':42, 'Protein':14, 'VitA':28, \n",
    "                          'VitC':  1, 'Calc': 76, 'Iron':0.7}], \n",
    "    'Chicken'  :  [ 290, {'Cal':431, 'Carbo':45, 'Protein':20, 'VitA': 9, \n",
    "                          'VitC':  2, 'Calc': 37, 'Iron':0.9}], \n",
    "    'Fries'    :  [ 190, {'Cal':249, 'Carbo':30, 'Protein': 3, 'VitA': 0, \n",
    "                          'VitC':  5, 'Calc':  7, 'Iron':0.6}], \n",
    "    'Milk'     :  [ 170, {'Cal':138, 'Carbo':10, 'Protein': 7, 'VitA':80,\n",
    "                          'VitC':  2, 'Calc':227, 'Iron': 0}], \n",
    "    'VegJuice' :  [ 100, {'Cal': 69, 'Carbo':17, 'Protein': 1, 'VitA':750,\n",
    "                          'VitC':  2, 'Calc':18,  'Iron': 0}] })\n",
    "N, a, b = multidict({       \n",
    "    'Cal'     : [ 2000,  3000],\n",
    "    'Carbo'   : [  300,  375 ],\n",
    "    'Protein' : [   50,   60 ],\n",
    "    'VitA'    : [  500,  750 ],\n",
    "    'VitC'    : [   85,  100 ],\n",
    "    'Calc'    : [  660,  900 ],\n",
    "    'Iron'    : [  6.0,  7.5 ]})\n",
    "model = Model('modern diet')\n",
    "x,s,d = {},{},{}\n",
    "for j in F:\n",
    "    x[j] = model.addVar(vtype='C', name='x({0})'.format(j))\n",
    "for i in N:\n",
    "    s[i] = model.addVar(vtype='C', name='surplus({0})'.format(i))\n",
    "    d[i] = model.addVar(vtype='C', name='deficit({0})'.format(i))\n",
    "model.update()\n",
    "for i in N:\n",
    "    model.addConstr(quicksum(n[j][i]*x[j] for j in F) >= a[i]-d[i],'NutrLB({0})'.format(i))\n",
    "    model.addConstr(quicksum(n[j][i]*x[j] for j in F) <= b[i]+s[i],'NutrUB({0})'.format(i))\n",
    "model.setObjective(quicksum(c[j]*x[j]  for j in F)+\n",
    "                   quicksum(9999*d[i]+9999*s[i] for i in N), GRB.MINIMIZE )\n",
    "model.optimize()\n",
    "status = model.Status\n",
    "if status == GRB.Status.OPTIMAL:\n",
    "    print (\"Optimal value:\",model.ObjVal)\n",
    "    for j in F:\n",
    "        if x[j].X > 0:\n",
    "            print (j,x[j].X)\n",
    "    for i in N:\n",
    "        if d[i].X > 0:\n",
    "            print ('deficit of {0} ={1}'.format(i,d[i].X))\n",
    "        if s[i].X > 0:\n",
    "            print ('surplus of {0} ={1}'.format(i,s[i].X))"
   ]
  },
  {
   "cell_type": "markdown",
   "metadata": {},
   "source": [
    "     "
   ]
  },
  {
   "cell_type": "markdown",
   "metadata": {},
   "source": [
    "      "
   ]
  },
  {
   "cell_type": "markdown",
   "metadata": {
    "slideshow": {
     "slide_type": "slide"
    }
   },
   "source": [
    "## 定式化のコツ\n",
    "------------ \n",
    "\n",
    "* ### 疎性の考慮\n",
    "  * データ構造としては「辞書」がおすすめ\n",
    "  * 例：大規模輸送問題\n",
    "    * 緯度・経度からx,y座標を計算（Basemapモジュールなど）\n",
    "    * SciPyの計算幾何モジュール spatial で近い点のみ距離行列計算\n",
    "    * 使用する変数を近い点同士に限定して求解"
   ]
  },
  {
   "cell_type": "markdown",
   "metadata": {
    "slideshow": {
     "slide_type": "slide"
    }
   },
   "source": [
    "\n",
    "* ### 実行不可能性に注意\n",
    "  * 幾つかの制約をソフトに（逸脱を許すように）しておく\n",
    "    "
   ]
  },
  {
   "cell_type": "markdown",
   "metadata": {
    "slideshow": {
     "slide_type": "slide"
    }
   },
   "source": [
    "* ### 最大値の最小化\n",
    "  * $3x_1+4x_2$ と $2x_1+7x_2$ の大きい方を小さくしたい \n",
    "    * 変数 $z$ を導入し，$3x_1 + 4x_2  \\leq z, 2x_1 + 7x_2  \\leq z$ 加えた後で， $z$ を最小化\n",
    "    * 最小値の最大化も同様\n",
    "  * 注意 1：最小値の最小化（最大値の最大化）は難しい（0-1変数が必要；整数最適化で解説）\n",
    "  * 注意 2: 整数が入るとこの方法は効率が悪い; 例：最大完了時刻の最小化（2分探索などを推奨）\n",
    "    \n"
   ]
  },
  {
   "cell_type": "markdown",
   "metadata": {
    "slideshow": {
     "slide_type": "slide"
    }
   },
   "source": [
    "* ### 絶対値の最小化\n",
    "  * 例：実数変数 $x$ の絶対値 $|x|$ を最小化したい\n",
    "    * 2 つの新しい非負の実数変数 $y$ と $z$ を導入\n",
    "    * $x=y-z$ を追加\n",
    "    * $|x|$ をすべて $y+z$ で置き換え\n",
    "\n",
    "  * 別の方法：\n",
    "    * $|x|$ を新しい変数 $z$ で置き換え\n",
    "    * $z \\geq x$ と $z \\geq -x$ の制約を追加\n",
    "   \n",
    "  * 注意 ：絶対値の最大化は難しい（0-1変数が必要）"
   ]
  },
  {
   "cell_type": "code",
   "execution_count": 5,
   "metadata": {},
   "outputs": [
    {
     "name": "stdout",
     "output_type": "stream",
     "text": [
      "Opt. Value= 250.0\n",
      "xA 50.0\n",
      "xB 25.0\n"
     ]
    }
   ],
   "source": [
    "#ジュースの販売\n",
    "#from gurobipy import *\n",
    "from mypulp import *\n",
    "model = Model()\n",
    "xA = model.addVar(name='xA')\n",
    "xB = model.addVar(name='xB')\n",
    "model.update() \n",
    "\n",
    "model.addConstr(3*xA + 2*xB  <= 200)  #grape upper bound\n",
    "model.addConstr(  xA + 2*xB  <= 100)  #apple upper bound\n",
    "\n",
    "model.setObjective(3*xA + 4*xB, GRB.MAXIMIZE)\n",
    "\n",
    "model.optimize()\n",
    "\n",
    "if model.Status == GRB.Status.OPTIMAL:\n",
    "    print('Opt. Value=',model.ObjVal)\n",
    "    for v in model.getVars():\n",
    "        print(v.VarName,v.X)"
   ]
  },
  {
   "cell_type": "code",
   "execution_count": 8,
   "metadata": {},
   "outputs": [
    {
     "name": "stdout",
     "output_type": "stream",
     "text": [
      "Opt. Value= 1400.0\n",
      "xA 800.0\n",
      "xB 600.0\n",
      "xC 0.0\n"
     ]
    }
   ],
   "source": [
    "# Easy Puzzle \n",
    "#from gurobipy import *\n",
    "from mypulp import *\n",
    "model = Model()\n",
    "xA = model.addVar(name='xA')\n",
    "xB = model.addVar(name='xB')\n",
    "xC = model.addVar(name='xC')\n",
    "model.update() \n",
    "\n",
    "model.addConstr(xA == xB +200 ) \n",
    "model.addConstr(xB == xC +600 )  \n",
    "\n",
    "model.setObjective(xA +xB +xC, GRB.MINIMIZE)\n",
    "\n",
    "model.optimize()\n",
    "\n",
    "if model.Status == GRB.Status.OPTIMAL:\n",
    "    print('Opt. Value=',model.ObjVal)\n",
    "    for v in model.getVars():\n",
    "        print(v.VarName,v.X)"
   ]
  },
  {
   "cell_type": "code",
   "execution_count": 13,
   "metadata": {},
   "outputs": [
    {
     "name": "stdout",
     "output_type": "stream",
     "text": [
      "Opt. Value= 131.85938\n",
      "x1 131.85938\n",
      "x2 263.71875\n",
      "x3 4.421875\n"
     ]
    }
   ],
   "source": [
    "#裕一郎君\n",
    "#from gurobipy import *\n",
    "from mypulp import *\n",
    "model = Model()\n",
    "x1 = model.addVar(name='x1') #run\n",
    "x2 = model.addVar(name='x2') #walk\n",
    "x3 = model.addVar(name='x3') #rest\n",
    "model.update() \n",
    "\n",
    "model.addConstr( x1+x2+x3== 360+40)\n",
    "model.addConstr( 180*x1+ 70*x2 == 42.195*1000)\n",
    "model.addConstr( x2 ==2*x1)\n",
    "model.setObjective(x1, GRB.MAXIMIZE)\n",
    "\n",
    "model.optimize()\n",
    "\n",
    "if model.Status == GRB.Status.OPTIMAL:\n",
    "    print('Opt. Value=',model.ObjVal)\n",
    "    for v in model.getVars():\n",
    "        print(v.VarName,v.X)"
   ]
  },
  {
   "cell_type": "code",
   "execution_count": 21,
   "metadata": {},
   "outputs": [
    {
     "name": "stdout",
     "output_type": "stream",
     "text": [
      "Opt. Value= 2130.0\n",
      "x1 10.0\n",
      "x2 10.0\n",
      "x3 60.0\n",
      "x4 0.0\n",
      "Dual Price\n",
      "7.0\n",
      "4.0\n",
      "19.0\n"
     ]
    }
   ],
   "source": [
    "#丼チェーン店長の悩み（改）\n",
    "#from gurobipy import *\n",
    "from mypulp import *\n",
    "model = Model('lo1')\n",
    "\n",
    "x1 = model.addVar(name='x1')\n",
    "x2 = model.addVar(name='x2')\n",
    "x3 = model.addVar(name='x3')\n",
    "x4 = model.addVar(ub=10.0, name='x4')\n",
    "model.update() \n",
    "\n",
    "model.addConstr(x1 + 2*x2 + x3 <= 90)\n",
    "model.addConstr(2*x1 + x2 + x3 <= 90)\n",
    "model.addConstr(x3 + 300*x4 <= 60)\n",
    "\n",
    "model.setObjective(15*x1 + 18*x2 + 30*x3 +50*x4, GRB.MAXIMIZE)\n",
    "\n",
    "model.optimize()\n",
    "\n",
    "if model.Status == GRB.Status.OPTIMAL:\n",
    "    print('Opt. Value=',model.ObjVal)\n",
    "    for v in model.getVars():\n",
    "        print(v.VarName,v.X)\n",
    "    print('Dual Price')    \n",
    "    for c in model.getConstrs():\n",
    "        print (c.Pi)\n",
    "    "
   ]
  },
  {
   "cell_type": "code",
   "execution_count": 44,
   "metadata": {},
   "outputs": [
    {
     "name": "stdout",
     "output_type": "stream",
     "text": [
      "Optimal value: 5690.0\n",
      "250.0 from warehouse  2 to customer  3\n",
      "180.0 from warehouse  2 to customer  5\n",
      "160.0 from warehouse  2 to customer  4\n",
      " 80.0 from warehouse  1 to customer  1\n",
      "270.0 from warehouse  1 to customer  2\n",
      " 90.0 from factory  3 to warehouse  2\n",
      "500.0 from factory  2 to warehouse  2\n",
      "350.0 from factory  1 to warehouse  1\n",
      "    Const. Name:    Slack , Dual\n",
      "      Demand(1):     -0.0 ,  5.0\n",
      "      Demand(2):     -0.0 ,  6.0\n",
      "      Demand(3):     -0.0 ,  5.0\n",
      "      Demand(4):     -0.0 ,  7.0\n",
      "      Demand(5):     -0.0 , 10.0\n",
      "    Capacity(1):    150.0 ,  0.0\n",
      "    Capacity(2):     -0.0 , -1.0\n",
      "    Capacity(3):    410.0 ,  0.0\n",
      "FlowConserve(1):     -0.0 ,  1.0\n",
      "FlowConserve(2): -2.8421709e-14 ,  2.0\n"
     ]
    }
   ],
   "source": [
    "#倉庫経由の輸送問題\n",
    "from mypulp import *\n",
    "Customer,d = multidict({1:80, 2:270, 3:250 , 4:160, 5:180}) # demand\n",
    "Plant,M = multidict({1:500, 2:500, 3:500})                 # capacity\n",
    "C = {(1,1):1,    (1,2):6,  (1,3):3,  # C[j,k] : Transportation cost from plant k to warehouse j   \n",
    "     (2,1):3,    (2,2):1,  (2,3):2  \n",
    "     }\n",
    "c = {(1,1):4,    (1,2):6,    #c[i,j] : Transportation cost from warehouse j to customer i \n",
    "     (2,1):5,    (2,2):4,  \n",
    "     (3,1):6,    (3,2):3,    \n",
    "     (4,1):8,    (4,2):5,   \n",
    "     (5,1):10,   (5,2):8\n",
    "     }\n",
    "Warehouse =list(range(1,3))\n",
    "\n",
    "model = Model('transshipment')\n",
    "x, X = {}, {} \n",
    "for i in Customer:\n",
    "    for j in Warehouse:\n",
    "        x[i,j] = model.addVar(vtype='C', name='x({0},{1})'.format(i,j))\n",
    "for j in Warehouse:\n",
    "    for k in Plant:\n",
    "        X[j,k] = model.addVar(vtype='C', name='X({0},{1})'.format(j,k))\n",
    "model.update()\n",
    "\n",
    "for i in Customer:\n",
    "    model.addConstr(quicksum(x[i,j] for j in Warehouse ) == d[i],\n",
    "                    name='Demand({0})'.format(i))\n",
    "for k in Plant:\n",
    "    model.addConstr(quicksum(X[j,k] for j in Warehouse )<= M[k], \n",
    "                    name='Capacity({0})'.format(k))\n",
    "\n",
    "for j in Warehouse:\n",
    "    model.addConstr( quicksum(X[j,k] for k in Plant) ==\n",
    "                     quicksum(x[i,j] for i in Customer ),\n",
    "                   name='FlowConserve({0})'.format(j))\n",
    "                            \n",
    "model.setObjective(quicksum(C[j,k]*X[j,k]  for (j,k) in X) +quicksum(c[i,j]*x[i,j]  for (i,j) in x), GRB.MINIMIZE)\n",
    "\n",
    "model.optimize()\n",
    "print( 'Optimal value:', model.ObjVal)\n",
    "\n",
    "EPS = 1.e-6\n",
    "for (i,j) in x:\n",
    "    if x[i,j].X > EPS:\n",
    "        print('{0:>5} from warehouse {1:>2} to customer {2:>2}'.format(x[i,j].X,j,i) )\n",
    "\n",
    "for (j,k) in X:\n",
    "    if X[j,k].X > EPS:\n",
    "        print('{0:>5} from factory {1:>2} to warehouse {2:>2}'.format(X[j,k].X,k,j) )\n",
    "        \n",
    "print ('{0:>15}: {1:>8} , {2:>4}'.format('Const. Name', 'Slack', 'Dual'))\n",
    "for c in model.getConstrs():\n",
    "    print ('{0:>15}: {1:>8} , {2:>4}'.format(c.ConstrName,c.Slack,c.Pi))"
   ]
  },
  {
   "cell_type": "code",
   "execution_count": 51,
   "metadata": {},
   "outputs": [
    {
     "name": "stdout",
     "output_type": "stream",
     "text": [
      "Optimal value: 380011120.0\n",
      "Surplus Variables\n",
      "0.0\n",
      "380.0\n",
      "0.0\n",
      "Flow Variable\n",
      "500.0 from warehouse  2 to customer  3\n",
      "360.0 from warehouse  2 to customer  5\n",
      "200.0 from warehouse  2 to customer  2\n",
      "320.0 from warehouse  2 to customer  4\n",
      "160.0 from warehouse  1 to customer  1\n",
      "340.0 from warehouse  1 to customer  2\n",
      "500.0 from factory  3 to warehouse  2\n",
      "880.0 from factory  2 to warehouse  2\n",
      "500.0 from factory  1 to warehouse  1\n",
      "    Const. Name:    Slack , Dual\n",
      "      Demand(1):     -0.0 , 1000003.0\n",
      "      Demand(2):     -0.0 , 1000004.0\n",
      "      Demand(3):     -0.0 , 1000003.0\n",
      "      Demand(4):     -0.0 , 1000005.0\n",
      "      Demand(5):     -0.0 , 1000008.0\n",
      "    Capacity(1):     -0.0 , -999998.0\n",
      "    Capacity(2):     -0.0 , -999999.0\n",
      "    Capacity(3):     -0.0 , -999998.0\n",
      "FlowConserve(1):     -0.0 , 999999.0\n",
      "FlowConserve(2):     -0.0 , 1000000.0\n"
     ]
    }
   ],
   "source": [
    "#実行不可能性\n",
    "from mypulp import *\n",
    "Customer,d = multidict({1:80, 2:270, 3:250 , 4:160, 5:180}) # demand\n",
    "for i in Customer:\n",
    "    d[i] *=2\n",
    "Plant,M = multidict({1:500, 2:500, 3:500})                 # capacity\n",
    "C = {(1,1):1,    (1,2):6,  (1,3):3,  # C[j,k] : Transportation cost from plant k to warehouse j   \n",
    "     (2,1):3,    (2,2):1,  (2,3):2  \n",
    "     }\n",
    "c = {(1,1):4,    (1,2):6,    #c[i,j] : Transportation cost from warehouse j to customer i \n",
    "     (2,1):5,    (2,2):4,  \n",
    "     (3,1):6,    (3,2):3,    \n",
    "     (4,1):8,    (4,2):5,   \n",
    "     (5,1):10,   (5,2):8\n",
    "     }\n",
    "Warehouse =list(range(1,3))\n",
    "\n",
    "model = Model('transshipment')\n",
    "x, X = {}, {} \n",
    "S ={}\n",
    "for i in Customer:\n",
    "    for j in Warehouse:\n",
    "        x[i,j] = model.addVar(vtype='C', name='x({0},{1})'.format(i,j))\n",
    "for j in Warehouse:\n",
    "    for k in Plant:\n",
    "        X[j,k] = model.addVar(vtype='C', name='X({0},{1})'.format(j,k))\n",
    "for k in Plant:\n",
    "    S[k] =  model.addVar(vtype='C', name='S({0})'.format(k))\n",
    "model.update()\n",
    "\n",
    "for i in Customer:\n",
    "    model.addConstr(quicksum(x[i,j] for j in Warehouse ) == d[i],\n",
    "                    name='Demand({0})'.format(i))\n",
    "for k in Plant:\n",
    "    model.addConstr(quicksum(X[j,k] for j in Warehouse )<= M[k]+S[k] ,\n",
    "                    name='Capacity({0})'.format(k))\n",
    "\n",
    "for j in Warehouse:\n",
    "    model.addConstr( quicksum(X[j,k] for k in Plant) ==\n",
    "                     quicksum(x[i,j] for i in Customer ),\n",
    "                   name='FlowConserve({0})'.format(j))\n",
    "                            \n",
    "model.setObjective(quicksum(C[j,k]*X[j,k]  for (j,k) in X) +quicksum(c[i,j]*x[i,j]  for (i,j) in x) +\n",
    "                   quicksum(999999*S[k] for k in Plant), GRB.MINIMIZE)\n",
    "\n",
    "model.optimize()\n",
    "\n",
    "print( 'Optimal value:', model.ObjVal)\n",
    "\n",
    "EPS = 1.e-6\n",
    "print('Surplus Variables')\n",
    "for k in Plant:\n",
    "    print(S[k].X)\n",
    "print('Flow Variable')\n",
    "for (i,j) in x:\n",
    "    if x[i,j].X > EPS:\n",
    "        print('{0:>5} from warehouse {1:>2} to customer {2:>2}'.format(x[i,j].X,j,i) )\n",
    "\n",
    "for (j,k) in X:\n",
    "    if X[j,k].X > EPS:\n",
    "        print('{0:>5} from factory {1:>2} to warehouse {2:>2}'.format(X[j,k].X,k,j) )\n",
    "        \n",
    "print ('{0:>15}: {1:>8} , {2:>4}'.format('Const. Name', 'Slack', 'Dual'))\n",
    "for c in model.getConstrs():\n",
    "    print ('{0:>15}: {1:>8} , {2:>4}'.format(c.ConstrName,c.Slack,c.Pi))"
   ]
  },
  {
   "cell_type": "code",
   "execution_count": 2,
   "metadata": {},
   "outputs": [
    {
     "name": "stdout",
     "output_type": "stream",
     "text": [
      "Obj= 0.7\n",
      "0.33333333\n",
      "0.66666667\n",
      "Dual Variable= 0.5 0.5\n",
      "Obj= 0.7\n",
      "0.5\n",
      "0.5\n",
      "Dual Variable= 0.5 0.5\n"
     ]
    }
   ],
   "source": [
    "# Goal keeper's problem\n",
    "# 混合戦略\n",
    "from mypulp import *\n",
    "m=Model()\n",
    "x ={}\n",
    "n=2\n",
    "for i in range(n):\n",
    "    x[i]=m.addVar(name=\"x({0})\".format(i), vtype=\"C\" )\n",
    "v=m.addVar(name=\"value\")\n",
    "m.update()\n",
    "\n",
    "m.setObjective(v, GRB.MAXIMIZE)\n",
    "c1=m.addConstr( v<=0.9*x[0]+0.6*x[1])\n",
    "c2=m.addConstr( v<=0.5*x[0]+0.8*x[1])\n",
    "m.addConstr( quicksum( x[i] for i in range(n) )==1 )\n",
    "\n",
    "m.optimize()\n",
    "print(\"Obj=\",m.ObjVal)\n",
    "for i in range(n):\n",
    "    print(x[i].X)\n",
    "print(\"Dual Variable=\",c1.Pi, c2.Pi)    \n",
    "    \n",
    "#Dual Problem (kicker's problem)\n",
    "m=Model()\n",
    "x ={}\n",
    "n=2\n",
    "for i in range(n):\n",
    "    x[i]=m.addVar(name=\"x({0})\".format(i), vtype=\"C\" )\n",
    "v=m.addVar(name=\"value\")\n",
    "m.update()\n",
    "\n",
    "m.setObjective(v, GRB.MAXIMIZE)\n",
    "m.addConstr( v<=0.9*x[0]+0.5*x[1])\n",
    "m.addConstr( v<=0.6*x[0]+0.8*x[1])\n",
    "m.addConstr( quicksum( x[i] for i in range(n) )==1 )\n",
    "\n",
    "m.optimize()\n",
    "print(\"Obj=\",m.ObjVal)\n",
    "for i in range(n):\n",
    "    print(x[i].X)\n",
    "    \n",
    "print(\"Dual Variable=\",c1.Pi, c2.Pi)   "
   ]
  },
  {
   "cell_type": "code",
   "execution_count": 3,
   "metadata": {},
   "outputs": [
    {
     "name": "stdout",
     "output_type": "stream",
     "text": [
      "Obj= 0.7\n",
      "0.5\n",
      "0.5\n"
     ]
    }
   ],
   "source": [
    "#Dual Problem (kicker's problem)\n",
    "m=Model()\n",
    "x ={}\n",
    "n=2\n",
    "for i in range(n):\n",
    "    x[i]=m.addVar(name=\"x({0})\".format(i), vtype=\"C\" )\n",
    "v=m.addVar(name=\"value\")\n",
    "m.update()\n",
    "\n",
    "m.setObjective(v, GRB.MAXIMIZE)\n",
    "m.addConstr( v<=0.9*x[0]+0.5*x[1])\n",
    "m.addConstr( v<=0.6*x[0]+0.8*x[1])\n",
    "m.addConstr( quicksum( x[i] for i in range(n) )==1 )\n",
    "\n",
    "m.optimize()\n",
    "print(\"Obj=\",m.ObjVal)\n",
    "for i in range(n):\n",
    "    print(x[i].X)"
   ]
  },
  {
   "cell_type": "code",
   "execution_count": 9,
   "metadata": {},
   "outputs": [
    {
     "name": "stdout",
     "output_type": "stream",
     "text": [
      "1.0 1.0\n",
      "9.0\n",
      "1.0 0.0\n",
      "1.0 1.0\n",
      "2.0 2.0\n",
      "0.0 2.0\n"
     ]
    }
   ],
   "source": [
    "#   スーパー配置問題\n",
    "from mypulp import *\n",
    "model=Model()\n",
    "\n",
    "x = [0,2,3,1]\n",
    "y = [1,0,3,3]\n",
    "\n",
    "n=len(x)\n",
    "\n",
    "X=model.addVar(ub=3.0, name =\"X\")\n",
    "Y=model.addVar(ub=3.0, name =\"Y\")\n",
    "    \n",
    "a,b={},{}\n",
    "for i in range(n):\n",
    "    a[i] =model.addVar(name=\"a({0})\".format(i))\n",
    "    b[i] =model.addVar(name=\"b({0})\".format(i))\n",
    "model.update()\n",
    "\n",
    "for i in range(n):\n",
    "    model.addConstr( a[i] >= x[i] -X )\n",
    "    model.addConstr( a[i] >= X-x[i] )\n",
    "    model.addConstr( b[i] >= y[i] -Y )\n",
    "    model.addConstr( b[i] >= Y-y[i] )\n",
    "    \n",
    "model.setObjective( quicksum( a[i]+b[i] for i in range(n)), GRB.MINIMIZE )\n",
    "\n",
    "model.optimize()\n",
    "\n",
    "print(X.X,Y.X)\n",
    "print(model.ObjVal)\n",
    "for i in range(n):\n",
    "    print(a[i].X,b[i].X)"
   ]
  },
  {
   "cell_type": "code",
   "execution_count": 8,
   "metadata": {},
   "outputs": [
    {
     "name": "stdout",
     "output_type": "stream",
     "text": [
      "1.5 2.0\n",
      "2.5\n",
      "1.5 1.0\n",
      "0.5 2.0\n",
      "1.5 1.0\n",
      "1.5 1.0\n"
     ]
    }
   ],
   "source": [
    "#   消防署配置問題\n",
    "from mypulp import *\n",
    "model=Model()\n",
    "\n",
    "x = [0,2,3,1]\n",
    "y = [1,0,3,3]\n",
    "\n",
    "n=len(x)\n",
    "\n",
    "X=model.addVar(ub=3.0, name=\"X\")\n",
    "Y=model.addVar(ub=3.0, name =\"Y\")   \n",
    "Z=model.addVar(name =\"Z\")\n",
    "\n",
    "a,b={},{}\n",
    "for i in range(n):\n",
    "    a[i] =model.addVar(name=\"a({0})\".format(i))\n",
    "    b[i] =model.addVar(name=\"b({0})\".format(i))\n",
    "model.update()\n",
    "\n",
    "for i in range(n):\n",
    "    model.addConstr( a[i] >= x[i] -X )\n",
    "    model.addConstr( a[i] >= X-x[i] )\n",
    "    model.addConstr( b[i] >= y[i] -Y )\n",
    "    model.addConstr( b[i] >= Y-y[i] )\n",
    "    model.addConstr( Z>=a[i]+b[i] )\n",
    "\n",
    "model.setObjective(Z, GRB.MINIMIZE)\n",
    "\n",
    "model.optimize()\n",
    "\n",
    "print(X.X,Y.X)\n",
    "print(model.ObjVal)\n",
    "for i in range(n):\n",
    "    print(a[i].X,b[i].X)"
   ]
  },
  {
   "cell_type": "markdown",
   "metadata": {
    "slideshow": {
     "slide_type": "slide"
    }
   },
   "source": [
    "### 線形最適化のためのGurobiのパラメータ\n",
    "--------\n",
    "\n",
    "> パラメータの変更方法\n",
    ">*  setParam(“パラメータ名”,値 )\n",
    ">*  model.Params.パラメータ名 =値\n",
    "\n"
   ]
  },
  {
   "cell_type": "markdown",
   "metadata": {},
   "source": [
    "     "
   ]
  },
  {
   "cell_type": "markdown",
   "metadata": {
    "slideshow": {
     "slide_type": "slide"
    }
   },
   "source": [
    "*  **Method** 最適化手法の選択\n",
    "  * -1 ：自動選択 (既定値）\n",
    "  * 0  ：主単体法\n",
    "  * 1  ：双対単体法（分枝ノードの中での既定値）\n",
    "  * 2　：内点法（2次，2次錐での既定値）\n",
    "  * 3  ：非決定性並流（線形最適化での既定値）\n",
    "  * 4  ：決定性並流\n",
    "  \n",
    "*  **Threads** 使用するスレッド数の決定\n",
    "\n",
    "並流最適化：1つのスレッドで双対単体法，残りのスレッドで並列内点法"
   ]
  },
  {
   "cell_type": "markdown",
   "metadata": {
    "slideshow": {
     "slide_type": "slide"
    }
   },
   "source": [
    "*  **Crossover** (線形最適化のための）内点法から単体法への移行方法\n",
    "  * -1 ：自動設定\n",
    "  * 0 ： クロスオーバーを行わない\n",
    "  * 1 ：双対変数の固定 => 主変数の固定 => 主単体法\n",
    "  * 2 ：双対 => 主 =>双対\n",
    "  * 3 ：主 => 双対 => 主 \n",
    "  * 4 ：主 => 双対 => 双対 \n",
    "  "
   ]
  },
  {
   "cell_type": "markdown",
   "metadata": {
    "slideshow": {
     "slide_type": "slide"
    }
   },
   "source": [
    "*  **BarHomogenuous**　同次自己双対内点法の選択\n",
    "  * -1 ：自動選択（分枝限定法のノードで使われたときのみ使用）\n",
    "  * 0  ：使用しない\n",
    "  * 1  ：使用する（実行不可能性や非有界の判定をしたいとき）\n",
    "  \n",
    "*  **InfUnbInfo** 実行不可能性や非有界の情報を得たいとき\n",
    "  * 0  ：使用しない(既定値）\n",
    "  * 1  ：使用する（端線情報 UnbdRayや実行不可能性の証拠 FarkasDual, FarkasProodを得ることができる）\n"
   ]
  },
  {
   "cell_type": "markdown",
   "metadata": {},
   "source": [
    "    "
   ]
  },
  {
   "cell_type": "markdown",
   "metadata": {
    "slideshow": {
     "slide_type": "slide"
    }
   },
   "source": [
    "### ベンチマーク比較\n",
    "http://plato.la.asu.edu/bench.html\n",
    "\n",
    "* CPLEX-12.6.1  CPLEX\n",
    "* GUROBI-6.0.0    www.gurobi.com\n",
    "* MOSEK-7.1.0.9 www.mosek.com\n",
    "* XPRESS-7.8.0:   XPRESS\n",
    "\n",
    "アルゴリズム\n",
    "* S は単体法 (Simplex)\n",
    "* B は内点法 (Barrier)\n",
    "* A は自動選択 (Automatic)"
   ]
  },
  {
   "cell_type": "markdown",
   "metadata": {},
   "source": [
    "     "
   ]
  },
  {
   "cell_type": "markdown",
   "metadata": {},
   "source": [
    "      "
   ]
  },
  {
   "cell_type": "markdown",
   "metadata": {
    "slideshow": {
     "slide_type": "slide"
    }
   },
   "source": [
    "### 比較\n",
    "\n",
    "|幾何平均 |  4.65 | 3.07 | 6.15 | 3.84| 1.43 | 1 |  1.45| \n",
    "|--:|----:|----:|----:|----:|----:|----:|----:|\n",
    "|         | CPXS |  GRBS | MSKS | XPRS | CPXB |  GRBB |  MSKB | \n",
    " \n",
    "\n",
    "\n",
    "|幾何平均 |  1.10 |  1.93 | 1.05 |  1.73 | 1.38|\n",
    "|----:|----:|----:|----:|----:|----:|\n",
    "|     |  XPRB |   CPXA | GRBA | MSKA |  XPRA |\n",
    " "
   ]
  },
  {
   "cell_type": "markdown",
   "metadata": {
    "slideshow": {
     "slide_type": "slide"
    }
   },
   "source": [
    "## 単体法の比較\n",
    "\n",
    "* CPLEX-12.6.1    CPLEX\n",
    "* GUROBI-6.0.0    www.gurobi.com\n",
    "* MOSEK-7.1.0.24  www.mosek.com\n",
    "* XPRESS-7.8.0    XPRESS\n",
    "* CLP-1.16.3      projects.coin-or.org/Clp (with openblas)\n",
    "* Google-GLOP     LP with Glop\n",
    "* SOPLEX-2.0.0    soplex.zib.de/\n",
    "* LP_SOLVE-5.5.2  lpsolve.sourceforge.net/\n",
    "* GLPK-4.55       www.gnu.org/software/glpk/glpk.html\n",
    "* MATLAB-R2014b   mathworks.com (dual-simplex)\n"
   ]
  },
  {
   "cell_type": "markdown",
   "metadata": {
    "slideshow": {
     "slide_type": "slide"
    }
   },
   "source": [
    "比較\n",
    "\n",
    "|   | CPXS|   GRBS |  MSKS |  XPRS |   CLP |  GLOP | SOPLX |  LPSLV |  GLPK |  MATL|\n",
    "|--:|----:|----:|----:|----:|----:|----:|----:|----:|----:|----:|\n",
    "| 幾何平均 | 1.72 |  1.12 |  2.27 |  1.41 |    1  |  10.8 | 12.3 |  89.8   | 38.9 |  14.1 |"
   ]
  },
  {
   "cell_type": "markdown",
   "metadata": {
    "slideshow": {
     "slide_type": "slide"
    }
   },
   "source": [
    "## Questions, Comments, Suggestions?"
   ]
  }
 ],
 "metadata": {
  "celltoolbar": "Slideshow",
  "kernelspec": {
   "display_name": "Python 3",
   "language": "python",
   "name": "python3"
  },
  "language_info": {
   "codemirror_mode": {
    "name": "ipython",
    "version": 3
   },
   "file_extension": ".py",
   "mimetype": "text/x-python",
   "name": "python",
   "nbconvert_exporter": "python",
   "pygments_lexer": "ipython3",
   "version": "3.6.7"
  },
  "latex_envs": {
   "bibliofile": "biblio.bib",
   "cite_by": "apalike",
   "current_citInitial": 1,
   "eqLabelWithNumbers": true,
   "eqNumInitial": 0
  },
  "nav_menu": {},
  "toc": {
   "navigate_menu": true,
   "number_sections": true,
   "sideBar": true,
   "threshold": 6,
   "toc_cell": false,
   "toc_section_display": "block",
   "toc_window_display": false
  }
 },
 "nbformat": 4,
 "nbformat_minor": 1
}
