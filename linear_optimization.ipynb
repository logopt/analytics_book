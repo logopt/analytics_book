{
  "nbformat": 4,
  "nbformat_minor": 0,
  "metadata": {
    "colab": {
      "name": "linear_optimization.ipynb",
      "version": "0.3.2",
      "provenance": [],
      "collapsed_sections": [],
      "include_colab_link": true
    },
    "kernelspec": {
      "display_name": "Python 3",
      "language": "python",
      "name": "python3"
    }
  },
  "cells": [
    {
      "cell_type": "markdown",
      "metadata": {
        "id": "view-in-github",
        "colab_type": "text"
      },
      "source": [
        "<a href=\"https://colab.research.google.com/github/mickeykubo/analytics_book/blob/master/linear_optimization.ipynb\" target=\"_parent\"><img src=\"https://colab.research.google.com/assets/colab-badge.svg\" alt=\"Open In Colab\"/></a>"
      ]
    },
    {
      "metadata": {
        "id": "YEZqU_UXy6BE",
        "colab_type": "text"
      },
      "cell_type": "markdown",
      "source": [
        "# Python言語によるビジネスアナリティクス\n",
        "\n",
        "## 実務家のための最適化，統計分析，機械学習（近代科学社）\n",
        " \n",
        "## PuLPとGurobi/Pythonによる線形最適化問題のモデリング\n",
        "\n",
        "\n",
        "* 線形最適化ラッパー mypulp\n",
        "* 簡単な例題と双対最適解\n",
        "* 輸送問題，多品種輸送問題\n",
        "* 栄養問題\n",
        "\n",
        "まずはpipでmypulpモジュールをインストールしておく。"
      ]
    },
    {
      "metadata": {
        "id": "tWHERcN6y8B3",
        "colab_type": "code",
        "outputId": "b85eb9d9-71f0-4ffa-a2d2-39aab116bd44",
        "colab": {
          "base_uri": "https://localhost:8080/",
          "height": 255
        }
      },
      "cell_type": "code",
      "source": [
        "!pip install mypulp"
      ],
      "execution_count": 2,
      "outputs": [
        {
          "output_type": "stream",
          "text": [
            "Collecting mypulp\n",
            "  Downloading https://files.pythonhosted.org/packages/2b/0e/debda11a5dd39181428e3cb5b6d350e7838f8f72f3efdacf46093bc1cec5/mypulp-0.0.9.zip\n",
            "Collecting pulp (from mypulp)\n",
            "\u001b[?25l  Downloading https://files.pythonhosted.org/packages/91/cd/8ed5d788973f6632cc44d0e95c486646c090c427c90667c901b75e544bc1/PuLP-1.6.9.zip (13.6MB)\n",
            "\u001b[K    100% |████████████████████████████████| 13.6MB 2.2MB/s \n",
            "\u001b[?25hRequirement already satisfied: pyparsing>=2.0.1 in /usr/local/lib/python3.6/dist-packages (from pulp->mypulp) (2.3.1)\n",
            "Building wheels for collected packages: mypulp, pulp\n",
            "  Running setup.py bdist_wheel for mypulp ... \u001b[?25l-\b \bdone\n",
            "\u001b[?25h  Stored in directory: /root/.cache/pip/wheels/f3/57/90/17b22caa69d04beb2965bfbb8133c57b58800feae034858822\n",
            "  Running setup.py bdist_wheel for pulp ... \u001b[?25l-\b \b\\\b \b|\b \b/\b \b-\b \b\\\b \b|\b \bdone\n",
            "\u001b[?25h  Stored in directory: /root/.cache/pip/wheels/3b/f1/f5/f6d0aac56dd154c2593d3fa5e901aa9bc32a51bd8594b4bf8e\n",
            "Successfully built mypulp pulp\n",
            "Installing collected packages: pulp, mypulp\n",
            "Successfully installed mypulp-0.0.9 pulp-1.6.9\n"
          ],
          "name": "stdout"
        }
      ]
    },
    {
      "metadata": {
        "id": "l9jN4unoy6BG",
        "colab_type": "text"
      },
      "cell_type": "markdown",
      "source": [
        "### 線形最適化ソルバー(モデラー）\n",
        "-----------\n",
        "\n",
        "\n",
        "* Gurobi（商用，アカデミックフリー）のソルバー\n",
        "  * 独自のPythonインターフェイス（「あたらしい数理最適化」（近代科学社）で採用）\n",
        " * 凸2次（制約）整数，2次錐最適化\n",
        "* PuLP （MITライセンス）のモデラー\n",
        "  * メインソルバーはCBC(COIN Branch & Cut; EPLライセンス），その他様々なソルバーと連携(MPSフォーマット経由）\n",
        "  * Gurobiと同じインターフェイスをもつ**mypulp**モジュールを使う\n",
        "\n",
        "\n"
      ]
    },
    {
      "metadata": {
        "id": "V2w9Ptwey6BH",
        "colab_type": "text"
      },
      "cell_type": "markdown",
      "source": [
        "## 例題　\n",
        "\n",
        "* トンコケ，コケトン，ミックスの丼を販売\n",
        "* 資源制約の下で，利益を最大化\n"
      ]
    },
    {
      "metadata": {
        "id": "oNrg4pFky6BJ",
        "colab_type": "text"
      },
      "cell_type": "markdown",
      "source": [
        "変数\n",
        "\n",
        "* トンコケ丼 $x_1$，コケトン丼 $x_2$，ミックス丼 $x_3$\n",
        "\n",
        "* 定式化\n",
        "\n",
        "\\begin{array}{l c c c c c}\n",
        " \\mbox{maximize} & 15 x_1  & + 18 x_2 & +30 x_3 &      & \\\\\n",
        " \\mbox{subject to}   & 2x_1   & + x_2   & + x_3   & \\leq & 60 \\\\\n",
        "               &  x_1   & + 2 x_2 & + x_3  &\\leq  & 60 \\\\\n",
        "               &        &         &   x_3  &\\leq  & 30 \\\\\n",
        "               &        &         & x_1,x_2,x_3 & \\geq & 0 \n",
        " \\end{array}"
      ]
    },
    {
      "metadata": {
        "id": "Qx9RzARJy6BK",
        "colab_type": "code",
        "outputId": "1622216c-fba4-4528-b78b-01ec902696fa",
        "colab": {
          "base_uri": "https://localhost:8080/",
          "height": 85
        }
      },
      "cell_type": "code",
      "source": [
        "#from gurobipy import *\n",
        "from mypulp import *\n",
        "model = Model('lo1')\n",
        "\n",
        "x1 = model.addVar(name='x1')\n",
        "x2 = model.addVar(name='x2')\n",
        "x3 = model.addVar(ub=30., name='x3')\n",
        "\n",
        "model.update() #Gurobiの怠惰な更新(lazy update)という仕様（忘れずに！）\n",
        "    \n",
        "model.addConstr(2*x1 + x2 + x3 <= 60)\n",
        "# 別の定義方法 1\n",
        "#L1 = LinExpr([2,1,1],[x1,x2,x3]) #線形表現(式）\n",
        "# 別の定義方法 2\n",
        "#L1 = LinExpr()     #線形表現(式）\n",
        "#L1.addTerms(2,x1)  #項を追加\n",
        "#L1.addTerms(1,x2)\n",
        "#L1.addTerms(1,x3)\n",
        "#model.addConstr(lhs=L1,sense='<',rhs=60)  #制約を追加\n",
        "\n",
        "model.addConstr(x1 + 2*x2 + x3 <= 60)\n",
        "\n",
        "model.setObjective(15*x1 + 18*x2 + 30*x3, GRB.MAXIMIZE)\n",
        "\n",
        "model.optimize()\n",
        "\n",
        "if model.Status == GRB.Status.OPTIMAL:\n",
        "    print('Opt. Value=',model.ObjVal)\n",
        "    for v in model.getVars():\n",
        "        print(v.VarName,v.X)"
      ],
      "execution_count": 3,
      "outputs": [
        {
          "output_type": "stream",
          "text": [
            "Opt. Value= 1230.0\n",
            "x1 10.0\n",
            "x2 10.0\n",
            "x3 30.0\n"
          ],
          "name": "stdout"
        }
      ]
    },
    {
      "metadata": {
        "id": "rQKgBa6Wy6BR",
        "colab_type": "text"
      },
      "cell_type": "markdown",
      "source": [
        "### モデルファイルの出力\n",
        "------------\n",
        "* model.write('ファイル名.lp')で **LPフォーマット**(Linear Programming (LP) format)で保存\n",
        "\n",
        "* model.write('ファイル名.mps')で**MPSフォーマット** (Mathematical Programming System (MPS) format) で保存\n",
        "  * 可読性はないが，ほとんどの最適化ソルバーが対応している古典的な書式\n",
        "  \n",
        "* 注意：Gurobiの場合にはmodel.update()を直前にするのを忘れずに\n",
        "\n",
        "* PuLPだと print(model) でも画面にLPフォーマットを出力\n"
      ]
    },
    {
      "metadata": {
        "id": "Ci5z1hVAy6BS",
        "colab_type": "code",
        "outputId": "ba74bfe4-e0fb-4584-ac3c-81dd8e510c75",
        "colab": {
          "base_uri": "https://localhost:8080/",
          "height": 221
        }
      },
      "cell_type": "code",
      "source": [
        "model.write('lo1.lp')\n",
        "model.write('lo1.mps')\n",
        "print('MPS file =========================')\n",
        "!cat lo1.lp"
      ],
      "execution_count": 4,
      "outputs": [
        {
          "output_type": "stream",
          "text": [
            "MPS file =========================\n",
            "\\* lo1 *\\\n",
            "Maximize\n",
            "OBJ: 15 x1 + 18 x2 + 30 x3\n",
            "Subject To\n",
            "c_1: 2 x1 + x2 + x3 <= 60\n",
            "c_2: x1 + 2 x2 + x3 <= 60\n",
            "Bounds\n",
            "x1 <= 1e+100\n",
            "x2 <= 1e+100\n",
            "x3 <= 30\n",
            "End\n"
          ],
          "name": "stdout"
        }
      ]
    },
    {
      "metadata": {
        "id": "ofmctZBmy6BY",
        "colab_type": "text"
      },
      "cell_type": "markdown",
      "source": [
        "## 双対問題\n",
        "-----------\n",
        "\n",
        "### 資源（豚肉，鶏肉，牛肉）100グラムの価値を推定\n",
        "\n",
        "主問題\n",
        "------------\n",
        "\n",
        "\\begin{array}{l c c c c c}\n",
        " \\mbox{maximize} & 15 x_1  & + 18 x_2 & +30 x_3 &      & \\\\\n",
        " \\mbox{subject to}   & 2x_1   & + x_2   & + x_3   & \\leq & 60 \\\\\n",
        "               &  x_1   & + 2 x_2 & + x_3  &\\leq  & 60 \\\\\n",
        "               &        &         &   x_3  &\\leq  & 30 \\\\\n",
        "               &        &         &x_1,x_2,x_3  & \\geq & 0 \n",
        " \\end{array}\n",
        "\n"
      ]
    },
    {
      "metadata": {
        "id": "DLJZHXxBy6BZ",
        "colab_type": "text"
      },
      "cell_type": "markdown",
      "source": [
        "双対問題\n",
        "--------------\n",
        "\n",
        "\\begin{array}{l c c c c c}\n",
        " \\mbox{minimize} & 60 \\pi_1 & + 60 \\pi_2& +30 \\pi_3 &      & \\\\\n",
        " \\mbox{subject to}   & 2\\pi_1   & + \\pi_2   &         & \\geq & 15 \\\\\n",
        "               &  \\pi_1   & + 2\\pi_2  &         &\\geq  & 18 \\\\\n",
        "               &  \\pi_1   & +\\pi_2    &  +\\pi_3   &\\geq  & 30 \\\\\n",
        "               &          &           & \\pi_1,\\pi_2,\\pi_3  & \\geq & 0 \n",
        " \\end{array}\n",
        " \n",
        "最適双対変数は 4, 7, 19 \n",
        "\n",
        "豚肉は百グラム$400$ 円，鶏肉は百グラム $700$ 円， 牛肉は百グラム\n",
        "$1900$ 円の価値をもつ"
      ]
    },
    {
      "metadata": {
        "id": "J7SSdDjay6Ba",
        "colab_type": "code",
        "outputId": "a4bf7237-3b0c-4272-8298-ed7bc1af4582",
        "colab": {
          "base_uri": "https://localhost:8080/",
          "height": 51
        }
      },
      "cell_type": "code",
      "source": [
        "for c in model.getConstrs():\n",
        "    print( c.ConstrName, c.Pi )"
      ],
      "execution_count": 5,
      "outputs": [
        {
          "output_type": "stream",
          "text": [
            "c_1 4.0\n",
            "c_2 7.0\n"
          ],
          "name": "stdout"
        }
      ]
    },
    {
      "metadata": {
        "id": "CYT4WLc_y6Bd",
        "colab_type": "text"
      },
      "cell_type": "markdown",
      "source": [
        "## 輸送問題\n",
        "---------------\n",
        "\n",
        "**quicksum**と**multidict**を用いた一般的な記述法\n",
        "\n",
        "|顧客 $i$ | 1  |  2  | 3  | 4 | 5 | \n",
        "|--:|----:|----:|---:|---:|---:|\n",
        "|需要量 $d_i$  |80 | 270 | 250 | 160 | 180 |   \n",
        "|工場 $j$|  輸送費用 | $c_{ij}$ |   |  |   | 容量 $M_j$  |\n",
        "|1      | 4 | 5 | 6 | 8 | 10 |  500 |\n",
        "|2      | 6  |4 | 3 | 5 | 8 |  500 |\n",
        "|3      | 9  | 7 | 4 | 3 | 4 |  500 |\n",
        "\n",
        "\n"
      ]
    },
    {
      "metadata": {
        "id": "uO64pIfsy6Bg",
        "colab_type": "text"
      },
      "cell_type": "markdown",
      "source": [
        "$x_{ij}= \\mbox{工場 $j$ から顧客 $i$ に輸送される量} $\n",
        "\n",
        "定式化\n",
        "\n",
        "\\begin{array}{l l l} \n",
        "\\nonumber\n",
        " \\mbox{ minimize } & \\displaystyle\\sum_{i \\in I} \\displaystyle\\sum_{j \\in J} c_{ij} x_{ij}  &     \\\\\n",
        " \\mbox{ subject to   } &\n",
        "\\nonumber\n",
        " \\displaystyle\\sum_{j \\in J} x_{ij} =d_i &  \\forall  i \\in I  \\\\\n",
        "\\nonumber\n",
        "   & \\displaystyle\\sum_{i \\in I} x_{ij} \\leq M_j &  \\forall  j \\in J \\\\   \n",
        "\\nonumber\n",
        "                 & x_{ij} \\geq 0 & \\forall  i \\in I; j \\in J  \n",
        "\\end{array}"
      ]
    },
    {
      "metadata": {
        "id": "rYorKfgXy6Bh",
        "colab_type": "code",
        "outputId": "bd717e89-5d78-4ec1-e9f3-38a2c39ebd9d",
        "colab": {
          "base_uri": "https://localhost:8080/",
          "height": 70
        }
      },
      "cell_type": "code",
      "source": [
        "# multidict の使用法\n",
        "from mypulp import *\n",
        "name, height, weight=multidict({'Taro':[145,30],'Hanako':[138,34],'Simon':[150,45]})\n",
        "print(name)\n",
        "print(height)\n",
        "print(weight)"
      ],
      "execution_count": 0,
      "outputs": [
        {
          "output_type": "stream",
          "text": [
            "['Taro', 'Hanako', 'Simon']\n",
            "{'Taro': 145, 'Hanako': 138, 'Simon': 150}\n",
            "{'Taro': 30, 'Hanako': 34, 'Simon': 45}\n"
          ],
          "name": "stdout"
        }
      ]
    },
    {
      "metadata": {
        "id": "7xkbBOVfy6Bj",
        "colab_type": "code",
        "outputId": "5b1114e4-77b9-4a00-c25e-d50cbb8ef47f",
        "colab": {
          "base_uri": "https://localhost:8080/",
          "height": 34
        }
      },
      "cell_type": "code",
      "source": [
        "# quicksum の使用法\n",
        "from mypulp import *\n",
        "model=Model()\n",
        "a=[5,4,2]\n",
        "x=[model.addVar() for i in range(3)]\n",
        "L = quicksum(a[i]*x[i] for i in range(3))\n",
        "print(L)"
      ],
      "execution_count": 0,
      "outputs": [
        {
          "output_type": "stream",
          "text": [
            "5*x_1 + 4*x_2 + 2*x_3\n"
          ],
          "name": "stdout"
        }
      ]
    },
    {
      "metadata": {
        "id": "Uj79EaDuy6Bl",
        "colab_type": "code",
        "outputId": "787b6770-129f-4244-b242-8dc7f2a84e50",
        "colab": {
          "base_uri": "https://localhost:8080/",
          "height": 289
        }
      },
      "cell_type": "code",
      "source": [
        "#from gurobipy import *\n",
        "from mypulp import *\n",
        "I,d = multidict({1:80, 2:270, 3:250 , 4:160, 5:180}) # demand\n",
        "J,M = multidict({1:500, 2:500, 3:500})               # capacity\n",
        "c = {(1,1):4,    (1,2):6,    (1,3):9,  # cost\n",
        "     (2,1):5,    (2,2):4,    (2,3):7,\n",
        "     (3,1):6,    (3,2):3,    (3,3):4,\n",
        "     (4,1):8,    (4,2):5,    (4,3):3,\n",
        "     (5,1):10,   (5,2):8,    (5,3):4,\n",
        "     }\n",
        "\n",
        "model = Model('transportation')\n",
        "x = {}\n",
        "for i in I:\n",
        "    for j in J:\n",
        "        x[i,j] = model.addVar(vtype='C', name=f'x({i},{j})')\n",
        "model.update()\n",
        "\n",
        "for i in I:\n",
        "    model.addConstr(quicksum(x[i,j] for j in J if (i,j) in x) == d[i],\n",
        "                    name=f'Demand({i})')\n",
        "for j in J:\n",
        "    model.addConstr(quicksum(x[i,j] for i in I if (i,j) in x) <= M[j], \n",
        "                    name=f'Capacity({j})')\n",
        "model.setObjective(quicksum(c[i,j]*x[i,j]  for (i,j) in x), GRB.MINIMIZE)\n",
        "\n",
        "model.optimize()\n",
        "print( 'Optimal value:', model.ObjVal)\n",
        "\n",
        "EPS = 1.e-6\n",
        "for (i,j) in x:\n",
        "    if x[i,j].X > EPS:\n",
        "        #print('{0:>5} from factory {1:>2} to customer {2:>2}'.format(x[i,j].X,j,i) )\n",
        "        print(f'{x[i,j].X:>5} from factory {j:>2} to customer {i:>2}' )\n",
        "        \n",
        "print (f'{\"Constr.Name\":>15}: {\"Slack\":>8} , {\"Dual\":>4}')\n",
        "for c in model.getConstrs():\n",
        "    print (f'{c.ConstrName:>15}: {c.Slack:>8} , {c.Pi:>4}')"
      ],
      "execution_count": 12,
      "outputs": [
        {
          "output_type": "stream",
          "text": [
            "Optimal value: 3370.0\n",
            " 80.0 from factory  1 to customer  1\n",
            "270.0 from factory  2 to customer  2\n",
            "230.0 from factory  2 to customer  3\n",
            " 20.0 from factory  3 to customer  3\n",
            "160.0 from factory  3 to customer  4\n",
            "180.0 from factory  3 to customer  5\n",
            "    Constr.Name:    Slack , Dual\n",
            "      Demand(1):     -0.0 ,  4.0\n",
            "      Demand(2):     -0.0 ,  5.0\n",
            "      Demand(3):     -0.0 ,  4.0\n",
            "      Demand(4):     -0.0 ,  3.0\n",
            "      Demand(5):     -0.0 ,  4.0\n",
            "    Capacity(1):    420.0 ,  0.0\n",
            "    Capacity(2):     -0.0 , -1.0\n",
            "    Capacity(3):    140.0 ,  0.0\n"
          ],
          "name": "stdout"
        }
      ]
    },
    {
      "metadata": {
        "id": "rg-0CuE4y6Bo",
        "colab_type": "text"
      },
      "cell_type": "markdown",
      "source": [
        "## 多品種輸送問題\n",
        "---------------\n",
        " 疎な問題の扱い方と ** tuplelist **\n",
        "\n",
        "$\n",
        "  x_{ijk}= \\mbox{工場 $j$ から顧客 $i$ に製品 $k$ が輸送される量}\n",
        "$\n",
        "\n",
        " 工場1では製品2,4を，工場2では製品1,2,3を，工場3では製品2,3,4を製造可能\n",
        "\n",
        "`produce = {1:[2,4], 2:[1,2,3], 3:[2,3,4]}`  \n"
      ]
    },
    {
      "metadata": {
        "id": "dcRtEO5Ky6Bp",
        "colab_type": "text"
      },
      "cell_type": "markdown",
      "source": [
        "定式化\n",
        "\n",
        "\\begin{array}{l l l} \n",
        "\\nonumber\n",
        " \\mbox{ minimize } & \\displaystyle\\sum_{i \\in I} \\displaystyle\\sum_{j \\in J} \n",
        " \\displaystyle\\sum_{k \\in K} c_{ijk} x_{ijk}  &     \\\\\n",
        " \\mbox{ subject to   } &\n",
        "\\nonumber\n",
        " \\displaystyle\\sum_{j \\in J} x_{ijk} =d_{ik} &  \\forall  i \\in I; k \\in K  \\\\\n",
        "\\nonumber\n",
        "   & \\displaystyle\\sum_{i \\in I} \\displaystyle\\sum_{k \\in K} x_{ijk} \\leq M_j &  \\forall  j \\in J  \\\\   \n",
        "\\nonumber\n",
        "                 & x_{ijk} \\geq 0 & \\forall  i \\in I; j \\in J; k \\in K  \n",
        "\\end{array}"
      ]
    },
    {
      "metadata": {
        "id": "w9twD17uy6Bp",
        "colab_type": "code",
        "outputId": "b70d7c7f-f7bf-4ad3-c828-064210cfb72f",
        "colab": {}
      },
      "cell_type": "code",
      "source": [
        "# tuplelist の使用法\n",
        "from mypulp import *\n",
        "T = tuplelist([('Sara','Apple'),('Taro','Pear'),('Jiro','Orange'),('Simon','Apple')])\n",
        "print( T.select('*','Apple') )               "
      ],
      "execution_count": 0,
      "outputs": [
        {
          "output_type": "stream",
          "text": [
            "[('Sara', 'Apple'), ('Simon', 'Apple')]\n"
          ],
          "name": "stdout"
        }
      ]
    },
    {
      "metadata": {
        "id": "Aegl6Hh0y6Bs",
        "colab_type": "code",
        "outputId": "b916d4c1-7cee-4549-f245-c5da8ed1e68a",
        "colab": {
          "base_uri": "https://localhost:8080/",
          "height": 374
        }
      },
      "cell_type": "code",
      "source": [
        "from mypulp import *\n",
        "d = {(1,1):80,   (1,2):85,   (1,3):300,  (1,4):6,\n",
        "     (2,1):270,  (2,2):160,  (2,3):400,  (2,4):7,\n",
        "     (3,1):250,  (3,2):130,  (3,3):350,  (3,4):4,\n",
        "     (4,1):160,  (4,2):60,   (4,3):200,  (4,4):3,\n",
        "     (5,1):180,  (5,2):40,   (5,3):150,  (5,4):5\n",
        "     }\n",
        "\n",
        "I = set([i for (i,k) in d])\n",
        "K = set([k for (i,k) in d])\n",
        "J,M = multidict({1:3000, 2:3000, 3:3000})  # capacity\n",
        "produce = {1:[2,4], 2:[1,2,3], 3:[2,3,4]}  # products that can be produced in each facility\n",
        "weight = {1:5, 2:2, 3:3, 4:4}              # {commodity: weight<float>}\n",
        "\n",
        "cost = {(1,1):4,  (1,2):6, (1,3):9,        # {(customer,factory): cost<float>}\n",
        "        (2,1):5,  (2,2):4, (2,3):7,\n",
        "        (3,1):6,  (3,2):3, (3,3):4,\n",
        "        (4,1):8,  (4,2):5, (4,3):3,\n",
        "        (5,1):10, (5,2):8, (5,3):4\n",
        "        }\n",
        "\n",
        "c = {}\n",
        "for i in I:\n",
        "    for j in J:\n",
        "        for k in produce[j]:\n",
        "            c[i,j,k] = cost[i,j] * weight[k]            \n",
        "model = Model('multi-commodity transportation')\n",
        "\n",
        "x = {}\n",
        "for (i,j,k) in c:\n",
        "    x[i,j,k] = model.addVar(vtype='C', name= f'x({i},{j},{k})')\n",
        "model.update()\n",
        "arcs = tuplelist([(i,j,k) for (i,j,k) in x])\n",
        "for i in I:\n",
        "    for k in K:\n",
        "        model.addConstr(quicksum(x[i,j,k] for (i,j,k) in arcs.select(i,'*',k)) == d[i,k],\n",
        "                        f'Demand({i},{k})')\n",
        "for j in J:\n",
        "    model.addConstr(quicksum(x[i,j,k] for (i,j,k) in arcs.select('*',j,'*')) <= M[j],\n",
        "                    f'Capacity({j})')\n",
        "\n",
        "model.setObjective(quicksum(c[i,j,k]*x[i,j,k]  for (i,j,k) in x), GRB.MINIMIZE)\n",
        "model.optimize()\n",
        "print ('Optimal value:',model.ObjVal)\n",
        "\n",
        "EPS = 1.e-6\n",
        "for (i,j,k) in x:\n",
        "    if x[i,j,k].X > EPS:\n",
        "        print ( f'{x[i,j,k].X} units of commodity {k} from {j} to {i}')"
      ],
      "execution_count": 18,
      "outputs": [
        {
          "output_type": "stream",
          "text": [
            "Optimal value: 43536.0\n",
            "85.0 units of commodity 2 from 1 to 1\n",
            "6.0 units of commodity 4 from 1 to 1\n",
            "80.0 units of commodity 1 from 2 to 1\n",
            "300.0 units of commodity 3 from 2 to 1\n",
            "7.0 units of commodity 4 from 1 to 2\n",
            "270.0 units of commodity 1 from 2 to 2\n",
            "160.0 units of commodity 2 from 2 to 2\n",
            "400.0 units of commodity 3 from 2 to 2\n",
            "250.0 units of commodity 1 from 2 to 3\n",
            "130.0 units of commodity 2 from 2 to 3\n",
            "350.0 units of commodity 3 from 2 to 3\n",
            "4.0 units of commodity 4 from 3 to 3\n",
            "160.0 units of commodity 1 from 2 to 4\n",
            "60.0 units of commodity 2 from 3 to 4\n",
            "200.0 units of commodity 3 from 3 to 4\n",
            "3.0 units of commodity 4 from 3 to 4\n",
            "180.0 units of commodity 1 from 2 to 5\n",
            "40.0 units of commodity 2 from 3 to 5\n",
            "150.0 units of commodity 3 from 3 to 5\n",
            "5.0 units of commodity 4 from 3 to 5\n"
          ],
          "name": "stdout"
        }
      ]
    },
    {
      "metadata": {
        "id": "PN25c6vxy6Bv",
        "colab_type": "text"
      },
      "cell_type": "markdown",
      "source": [
        "### 栄養問題（実行不可能性の取り扱い）\n",
        "----------------\n",
        "\n",
        "|栄養素 $N$ | Cal | Carbo | Protein | VitA | VitC | Calc | Iron |価格　|\n",
        "|--:|----:|----:|---:|---:|---:|---:|---:|---:|\n",
        "|商品名 $F$ | |  | $n_{ij}$  |  |  | |  |$c_j$　\n",
        "| CQPounder | 556| 39| 30| 147| 10| 221| 2.4| 360|\n",
        "|Big M | 556| 46| 26| 97 | 9 | 142| 2.4| 320|\n",
        "|FFilet | 356| 42| 14| 28 | 1 | 76 | 0.7| 270|\n",
        "|Chicken | 431| 45| 20| 9 | 2 | 37 | 0.9| 290|\n",
        "|Fries| 249| 30| 3 | 0 | 5 | 7 | 0.6| 190|\n",
        "|Milk | 138| 10| 7 | 80 | 2 | 227| 0 | 170|\n",
        "|VegJuice | 69 | 17| 1 | 750| 2 | 18 | 0 | 100|\n",
        "|上限 $a_i$ | 3000| 375| 60| 750| 100| 900| 7.5|\n",
        "|下限 $b_i$ | 2000| 300| 50| 500| 85| 660| 6.0|\n",
        "\n",
        "\n"
      ]
    },
    {
      "metadata": {
        "id": "HRzBbYmMy6Bx",
        "colab_type": "text"
      },
      "cell_type": "markdown",
      "source": [
        "定式化 \n",
        "\n",
        "$x_j$ は商品 $j$ の購入量(実数）\n",
        "\n",
        "\\begin{array}{l l l}\n",
        "   \\mbox{minimize}    & \\displaystyle\\sum_{j \\in F} c_j x_j          &  \\\\\n",
        "   \\mbox{subject to}  & a_i \\leq \\displaystyle\\sum_{j \\in F} n_{ij} x_j \\leq b_i &  i \\in N    \\\\\n",
        "                      & x_j \\geq 0  &     j \\in F\n",
        "\\end{array}\n",
        "\n",
        "$d_i$: 不足変数\n",
        "\n",
        "$s_i$: 超過変数\n"
      ]
    },
    {
      "metadata": {
        "id": "OjKMoNuHy6By",
        "colab_type": "text"
      },
      "cell_type": "markdown",
      "source": [
        "     "
      ]
    },
    {
      "metadata": {
        "id": "bG3v1PLhy6By",
        "colab_type": "text"
      },
      "cell_type": "markdown",
      "source": [
        "\n",
        "改良した制約\n",
        "\n",
        "$$a_i - d_i \\leq \\displaystyle\\sum_{j \\in F} n_{ij} x_j \\leq b_i +s_i  \\ \\   i \\in N$$\n",
        "\n",
        "変更した目的関数（Mは大きな数）\n",
        "\n",
        "\\begin{array}{l l l}\n",
        "   \\mbox{minimize}    & \\displaystyle\\sum_{j \\in F} c_j x_j  + \\displaystyle\\sum_{i \\in N} M (d_i+s_i)  &  \n",
        "\\end{array}"
      ]
    },
    {
      "metadata": {
        "id": "PtrNA1Fby6B0",
        "colab_type": "code",
        "outputId": "043e580d-6cc5-4864-ab9e-4d86c789db77",
        "colab": {
          "base_uri": "https://localhost:8080/",
          "height": 119
        }
      },
      "cell_type": "code",
      "source": [
        "F, c, n = multidict({      \n",
        "    'CQPounder':  [ 360, {'Cal':556, 'Carbo':39, 'Protein':30, 'VitA':147,\n",
        "                          'VitC': 10, 'Calc':221, 'Iron':2.4}], \n",
        "    'Big M'    :  [ 320, {'Cal':556, 'Carbo':46, 'Protein':26, 'VitA':97,\n",
        "                          'VitC':  9, 'Calc':142, 'Iron':2.4}], \n",
        "    'FFilet'   :  [ 270, {'Cal':356, 'Carbo':42, 'Protein':14, 'VitA':28, \n",
        "                          'VitC':  1, 'Calc': 76, 'Iron':0.7}], \n",
        "    'Chicken'  :  [ 290, {'Cal':431, 'Carbo':45, 'Protein':20, 'VitA': 9, \n",
        "                          'VitC':  2, 'Calc': 37, 'Iron':0.9}], \n",
        "    'Fries'    :  [ 190, {'Cal':249, 'Carbo':30, 'Protein': 3, 'VitA': 0, \n",
        "                          'VitC':  5, 'Calc':  7, 'Iron':0.6}], \n",
        "    'Milk'     :  [ 170, {'Cal':138, 'Carbo':10, 'Protein': 7, 'VitA':80,\n",
        "                          'VitC':  2, 'Calc':227, 'Iron': 0}], \n",
        "    'VegJuice' :  [ 100, {'Cal': 69, 'Carbo':17, 'Protein': 1, 'VitA':750,\n",
        "                          'VitC':  2, 'Calc':18,  'Iron': 0}] })\n",
        "N, a, b = multidict({       \n",
        "    'Cal'     : [ 2000,  3000],\n",
        "    'Carbo'   : [  300,  375 ],\n",
        "    'Protein' : [   50,   60 ],\n",
        "    'VitA'    : [  500,  750 ],\n",
        "    'VitC'    : [   85,  100 ],\n",
        "    'Calc'    : [  660,  900 ],\n",
        "    'Iron'    : [  6.0,  7.5 ]})\n",
        "model = Model('modern diet')\n",
        "x,s,d = {},{},{}\n",
        "for j in F:\n",
        "    x[j] = model.addVar(vtype='C', name= f'x({j})')\n",
        "for i in N:\n",
        "    s[i] = model.addVar(vtype='C', name= f'surplus({i})')\n",
        "    d[i] = model.addVar(vtype='C', name=f'deficit({i})')\n",
        "model.update()\n",
        "for i in N:\n",
        "    model.addConstr(quicksum(n[j][i]*x[j] for j in F) >= a[i]-d[i], f'NutrLB({i})')\n",
        "    model.addConstr(quicksum(n[j][i]*x[j] for j in F) <= b[i]+s[i], f'NutrUB({i})')\n",
        "model.setObjective(quicksum(c[j]*x[j]  for j in F)+\n",
        "                   quicksum(9999*d[i]+9999*s[i] for i in N), GRB.MINIMIZE )\n",
        "model.optimize()\n",
        "status = model.Status\n",
        "if status == GRB.Status.OPTIMAL:\n",
        "    print (\"Optimal value:\",model.ObjVal)\n",
        "    for j in F:\n",
        "        if x[j].X > 0:\n",
        "            print (j,x[j].X)\n",
        "    for i in N:\n",
        "        if d[i].X > 0:\n",
        "            print (f'deficit of {i} ={d[i].X}')\n",
        "        if s[i].X > 0:\n",
        "            print (f'surplus of {i} ={s[i].X}')"
      ],
      "execution_count": 24,
      "outputs": [
        {
          "output_type": "stream",
          "text": [
            "Optimal value: 265119.18554951996\n",
            "CQPounder 0.013155307\n",
            "Fries 10.422665\n",
            "Milk 2.5154631\n",
            "VegJuice 0.72910549\n",
            "deficit of VitC =26.265987\n"
          ],
          "name": "stdout"
        }
      ]
    },
    {
      "metadata": {
        "id": "R5BRC5Z_vKtu",
        "colab_type": "code",
        "colab": {}
      },
      "cell_type": "code",
      "source": [
        ""
      ],
      "execution_count": 0,
      "outputs": []
    }
  ]
}